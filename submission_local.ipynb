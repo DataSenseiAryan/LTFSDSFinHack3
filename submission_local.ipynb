{
 "cells": [
  {
   "cell_type": "markdown",
   "metadata": {
    "colab_type": "text",
    "id": "view-in-github"
   },
   "source": [
    "<a href=\"https://colab.research.google.com/github/aryanc55/LTFSDSFinHack3/blob/main/Copy_of_FeatureEngineering.ipynb\" target=\"_parent\"><img src=\"https://colab.research.google.com/assets/colab-badge.svg\" alt=\"Open In Colab\"/></a>"
   ]
  },
  {
   "cell_type": "code",
   "execution_count": null,
   "metadata": {
    "id": "RC4Z0qg9Lrmz"
   },
   "outputs": [],
   "source": [
    "import pandas as pd\n",
    "import numpy as np\n",
    "import seaborn as sns\n",
    "import matplotlib.pyplot as plt\n",
    "from sklearn.preprocessing import KBinsDiscretizer\n",
    "from sklearn.cluster import KMeans\n",
    "from scipy.spatial.distance import cdist\n",
    "from functools import reduce\n",
    "from datetime import datetime, timedelta\n",
    "from pycaret.classification import *"
   ]
  },
  {
   "cell_type": "code",
   "execution_count": 2,
   "metadata": {
    "id": "mxbSm_-qNwE0"
   },
   "outputs": [],
   "source": []
  },
  {
   "cell_type": "code",
   "execution_count": null,
   "metadata": {
    "id": "GsC3kwoIKe-i"
   },
   "outputs": [],
   "source": [
    "train_b = pd.read_excel('Train/train_bureau.xlsx')"
   ]
  },
  {
   "cell_type": "code",
   "execution_count": null,
   "metadata": {
    "id": "hlmQim9xKe-j"
   },
   "outputs": [],
   "source": [
    "train_d = pd.read_excel('Train/train_Data.xlsx')"
   ]
  },
  {
   "cell_type": "code",
   "execution_count": null,
   "metadata": {
    "id": "itHAMhiVM1rq"
   },
   "outputs": [],
   "source": [
    "train_b.head()"
   ]
  },
  {
   "cell_type": "code",
   "execution_count": null,
   "metadata": {
    "id": "jo2T4hESKe-k"
   },
   "outputs": [],
   "source": [
    "test_d = pd.read_excel('Test/test_Data.xlsx')"
   ]
  },
  {
   "cell_type": "code",
   "execution_count": null,
   "metadata": {
    "id": "yJlUKcxrTLFE"
   },
   "outputs": [],
   "source": []
  },
  {
   "cell_type": "code",
   "execution_count": null,
   "metadata": {
    "id": "ehOC9H5cKe-l"
   },
   "outputs": [],
   "source": [
    "test_b = pd.read_excel('Test/test_bureau.xlsx')"
   ]
  },
  {
   "cell_type": "code",
   "execution_count": 153,
   "metadata": {
    "colab": {
     "base_uri": "https://localhost:8080/",
     "height": 377
    },
    "id": "ozjM_dHKTgk5",
    "outputId": "4fecbde7-0f18-4907-d4ac-eb6865c35ab6"
   },
   "outputs": [
    {
     "data": {
      "text/html": [
       "<div>\n",
       "<style scoped>\n",
       "    .dataframe tbody tr th:only-of-type {\n",
       "        vertical-align: middle;\n",
       "    }\n",
       "\n",
       "    .dataframe tbody tr th {\n",
       "        vertical-align: top;\n",
       "    }\n",
       "\n",
       "    .dataframe thead th {\n",
       "        text-align: right;\n",
       "    }\n",
       "</style>\n",
       "<table border=\"1\" class=\"dataframe\">\n",
       "  <thead>\n",
       "    <tr style=\"text-align: right;\">\n",
       "      <th></th>\n",
       "      <th>ID</th>\n",
       "      <th>SELF-INDICATOR</th>\n",
       "      <th>MATCH-TYPE</th>\n",
       "      <th>ACCT-TYPE</th>\n",
       "      <th>CONTRIBUTOR-TYPE</th>\n",
       "      <th>DATE-REPORTED</th>\n",
       "      <th>OWNERSHIP-IND</th>\n",
       "      <th>ACCOUNT-STATUS</th>\n",
       "      <th>DISBURSED-DT</th>\n",
       "      <th>CLOSE-DT</th>\n",
       "      <th>LAST-PAYMENT-DATE</th>\n",
       "      <th>CREDIT-LIMIT/SANC AMT</th>\n",
       "      <th>DISBURSED-AMT/HIGH CREDIT</th>\n",
       "      <th>INSTALLMENT-AMT</th>\n",
       "      <th>CURRENT-BAL</th>\n",
       "      <th>INSTALLMENT-FREQUENCY</th>\n",
       "      <th>OVERDUE-AMT</th>\n",
       "      <th>WRITE-OFF-AMT</th>\n",
       "      <th>ASSET_CLASS</th>\n",
       "      <th>REPORTED DATE - HIST</th>\n",
       "      <th>DPD - HIST</th>\n",
       "      <th>CUR BAL - HIST</th>\n",
       "      <th>AMT OVERDUE - HIST</th>\n",
       "      <th>AMT PAID - HIST</th>\n",
       "      <th>TENURE</th>\n",
       "    </tr>\n",
       "  </thead>\n",
       "  <tbody>\n",
       "    <tr>\n",
       "      <th>0</th>\n",
       "      <td>4</td>\n",
       "      <td>False</td>\n",
       "      <td>PRIMARY</td>\n",
       "      <td>Credit Card</td>\n",
       "      <td>CCC</td>\n",
       "      <td>2019-11-17</td>\n",
       "      <td>Individual</td>\n",
       "      <td>Active</td>\n",
       "      <td>2019-09-26</td>\n",
       "      <td>NaN</td>\n",
       "      <td>NaT</td>\n",
       "      <td>10,000</td>\n",
       "      <td>588</td>\n",
       "      <td>NaN</td>\n",
       "      <td>589</td>\n",
       "      <td>NaN</td>\n",
       "      <td>0</td>\n",
       "      <td>0.0</td>\n",
       "      <td>NaN</td>\n",
       "      <td>20191117,</td>\n",
       "      <td>000</td>\n",
       "      <td>589,</td>\n",
       "      <td>0,</td>\n",
       "      <td>0,</td>\n",
       "      <td>NaN</td>\n",
       "    </tr>\n",
       "    <tr>\n",
       "      <th>1</th>\n",
       "      <td>4</td>\n",
       "      <td>False</td>\n",
       "      <td>PRIMARY</td>\n",
       "      <td>Housing Loan</td>\n",
       "      <td>HFC</td>\n",
       "      <td>2019-10-31</td>\n",
       "      <td>Joint</td>\n",
       "      <td>Active</td>\n",
       "      <td>2017-06-21</td>\n",
       "      <td>NaN</td>\n",
       "      <td>2019-10-15</td>\n",
       "      <td>NaN</td>\n",
       "      <td>25,00,000</td>\n",
       "      <td>30,797/Monthly</td>\n",
       "      <td>21,07,227</td>\n",
       "      <td>F03</td>\n",
       "      <td>0</td>\n",
       "      <td>0.0</td>\n",
       "      <td>NaN</td>\n",
       "      <td>20191031,20190930,20190831,20190731,20190630,2...</td>\n",
       "      <td>0000000000000000000000000000000000000000000000...</td>\n",
       "      <td>2107227,2122196,2136877,2151448,2165910,218026...</td>\n",
       "      <td>0,0,0,0,0,0,0,0,0,0,0,0,0,0,0,0,0,0,0,0,0,0,0,...</td>\n",
       "      <td>,,,,,,,,,,,,,,,,,,,,,,,,,,,,,</td>\n",
       "      <td>120.0</td>\n",
       "    </tr>\n",
       "    <tr>\n",
       "      <th>2</th>\n",
       "      <td>4</td>\n",
       "      <td>False</td>\n",
       "      <td>PRIMARY</td>\n",
       "      <td>Property Loan</td>\n",
       "      <td>HFC</td>\n",
       "      <td>2019-10-31</td>\n",
       "      <td>Joint</td>\n",
       "      <td>Active</td>\n",
       "      <td>2017-06-27</td>\n",
       "      <td>NaN</td>\n",
       "      <td>2019-10-15</td>\n",
       "      <td>NaN</td>\n",
       "      <td>99,000</td>\n",
       "      <td>1,223/Monthly</td>\n",
       "      <td>83,458</td>\n",
       "      <td>F03</td>\n",
       "      <td>0</td>\n",
       "      <td>0.0</td>\n",
       "      <td>NaN</td>\n",
       "      <td>20191031,20190930,20190831,20190731,20190630,2...</td>\n",
       "      <td>0000000000000000000000000000000000000000000000...</td>\n",
       "      <td>83458,84051,84632,85209,85781,86349,86913,8747...</td>\n",
       "      <td>0,0,0,0,0,0,0,0,0,0,0,0,0,0,0,0,0,0,0,0,0,0,0,...</td>\n",
       "      <td>,,,,,,,,,,,,,,,,,,,,,,,,,,,,,</td>\n",
       "      <td>120.0</td>\n",
       "    </tr>\n",
       "    <tr>\n",
       "      <th>3</th>\n",
       "      <td>4</td>\n",
       "      <td>True</td>\n",
       "      <td>PRIMARY</td>\n",
       "      <td>Tractor Loan</td>\n",
       "      <td>NBF</td>\n",
       "      <td>2015-10-31</td>\n",
       "      <td>Individual</td>\n",
       "      <td>Closed</td>\n",
       "      <td>2011-12-29</td>\n",
       "      <td>2015-10-13 00:00:00</td>\n",
       "      <td>NaT</td>\n",
       "      <td>NaN</td>\n",
       "      <td>3,65,000</td>\n",
       "      <td>NaN</td>\n",
       "      <td>0</td>\n",
       "      <td>NaN</td>\n",
       "      <td>0</td>\n",
       "      <td>0.0</td>\n",
       "      <td>NaN</td>\n",
       "      <td>20151031,20150901,20150831,20150731,20150630,2...</td>\n",
       "      <td>000DDD0270000000000000000000000000000000000000...</td>\n",
       "      <td>0,,21548,32097,42500,52758,62874,72850,82688,9...</td>\n",
       "      <td>0,,11000,0,0,0,0,0,0,0,0,0,0,0,0,0,0,0,0,0,0,0...</td>\n",
       "      <td>,,,,,,,,,,,,,,,,,,,,,,,,,,,,,,,,,,,,,</td>\n",
       "      <td>NaN</td>\n",
       "    </tr>\n",
       "    <tr>\n",
       "      <th>4</th>\n",
       "      <td>5</td>\n",
       "      <td>False</td>\n",
       "      <td>PRIMARY</td>\n",
       "      <td>Gold Loan</td>\n",
       "      <td>PRB</td>\n",
       "      <td>2017-08-31</td>\n",
       "      <td>Individual</td>\n",
       "      <td>Closed</td>\n",
       "      <td>2016-05-04</td>\n",
       "      <td>2017-06-15 00:00:00</td>\n",
       "      <td>2017-06-15</td>\n",
       "      <td>NaN</td>\n",
       "      <td>25,801</td>\n",
       "      <td>NaN</td>\n",
       "      <td>0</td>\n",
       "      <td>NaN</td>\n",
       "      <td>0</td>\n",
       "      <td>0.0</td>\n",
       "      <td>NaN</td>\n",
       "      <td>20170630,20170501,20170401,20170331,20170201,2...</td>\n",
       "      <td>000DDDDDD000DDDDDD000DDDDDD000DDDDDD000</td>\n",
       "      <td>0,,,25846,,,25846,,,25846,,,25846,</td>\n",
       "      <td>0,,,0,,,0,,,0,,,0</td>\n",
       "      <td>,,,,,,,,,,,,,,</td>\n",
       "      <td>NaN</td>\n",
       "    </tr>\n",
       "  </tbody>\n",
       "</table>\n",
       "</div>"
      ],
      "text/plain": [
       "   ID  SELF-INDICATOR  ...                        AMT PAID - HIST TENURE\n",
       "0   4           False  ...                                     0,    NaN\n",
       "1   4           False  ...          ,,,,,,,,,,,,,,,,,,,,,,,,,,,,,  120.0\n",
       "2   4           False  ...          ,,,,,,,,,,,,,,,,,,,,,,,,,,,,,  120.0\n",
       "3   4            True  ...  ,,,,,,,,,,,,,,,,,,,,,,,,,,,,,,,,,,,,,    NaN\n",
       "4   5           False  ...                         ,,,,,,,,,,,,,,    NaN\n",
       "\n",
       "[5 rows x 25 columns]"
      ]
     },
     "execution_count": 153,
     "metadata": {
      "tags": []
     },
     "output_type": "execute_result"
    }
   ],
   "source": [
    "test_b.head()"
   ]
  },
  {
   "cell_type": "code",
   "execution_count": 154,
   "metadata": {
    "id": "tvFpyPjwKe-l"
   },
   "outputs": [],
   "source": [
    "train_bb = train_b.copy()"
   ]
  },
  {
   "cell_type": "code",
   "execution_count": 155,
   "metadata": {
    "id": "wfyNbMkeKe-m"
   },
   "outputs": [],
   "source": [
    "test_bb = test_b.copy()"
   ]
  },
  {
   "cell_type": "code",
   "execution_count": 156,
   "metadata": {
    "id": "deS98dYBKe-n"
   },
   "outputs": [],
   "source": [
    "# Data Treatment:\n",
    "#     -categorical vars"
   ]
  },
  {
   "cell_type": "code",
   "execution_count": 157,
   "metadata": {
    "id": "vMpmrn9dKe-n"
   },
   "outputs": [],
   "source": [
    "# id -dont do it\n",
    "# self indiactor -nochange\n",
    "# match type- not req\n",
    "# acct type -required 3 columns chosen for remaning crosstab then combine cols\n",
    "    \n",
    " #contributor type ARC is not ptesent in test so crosstab and then delete arc   \n",
    "# ownership indicator no rpoblem\n",
    "# account status not present in test Sold/Purchased ,Cancelled cross tab then delete                            \n",
    "# credit limit CREDIT-LIMIT/SANC AMT  DISBURSED-AMT/HIGH CREDIT kbindiscretization\n",
    "# installment not present in test data F04 F07  F08 crosstab then delete it\n",
    "# asset class 2 not ptresent in test crosstab and remove it"
   ]
  },
  {
   "cell_type": "code",
   "execution_count": 158,
   "metadata": {
    "colab": {
     "base_uri": "https://localhost:8080/"
    },
    "id": "DI1glhuESvJv",
    "outputId": "a3cfd49c-4d1f-4e7c-874d-2240aa7dab7c"
   },
   "outputs": [
    {
     "data": {
      "text/plain": [
       "0              1\n",
       "1              1\n",
       "2              1\n",
       "3              1\n",
       "4              1\n",
       "           ...  \n",
       "560839    143393\n",
       "560840    143393\n",
       "560841    143393\n",
       "560842    143394\n",
       "560843    143395\n",
       "Name: ID, Length: 560844, dtype: int64"
      ]
     },
     "execution_count": 158,
     "metadata": {
      "tags": []
     },
     "output_type": "execute_result"
    }
   ],
   "source": [
    "train_b.ID"
   ]
  },
  {
   "cell_type": "code",
   "execution_count": 159,
   "metadata": {
    "id": "4Bxb30sUKe-p"
   },
   "outputs": [],
   "source": [
    "train_SELF_INDICATOR=pd.crosstab(train_b.ID,train_b['SELF-INDICATOR'],dropna= True).reset_index()\n",
    "test_SELF_INDICATOR=pd.crosstab(test_b.ID,test_b['SELF-INDICATOR'],dropna= True).reset_index()"
   ]
  },
  {
   "cell_type": "code",
   "execution_count": 160,
   "metadata": {
    "id": "QoIApJX5Ke-p"
   },
   "outputs": [],
   "source": [
    "train_MATCH_TYPE=pd.crosstab(train_b.ID,train_b['MATCH-TYPE'],dropna= True).reset_index()\n",
    "test_MATCH_TYPE=pd.crosstab(test_b.ID,test_b['MATCH-TYPE'],dropna= True).reset_index()"
   ]
  },
  {
   "cell_type": "code",
   "execution_count": 161,
   "metadata": {
    "colab": {
     "base_uri": "https://localhost:8080/"
    },
    "id": "7CMmOx4jKe-p",
    "outputId": "a975bd6e-49a8-4fdc-ca0b-d183fc29897c"
   },
   "outputs": [
    {
     "name": "stdout",
     "output_type": "stream",
     "text": [
      "['Microfinance Business Loan', 'Education Loan', 'Credit Card', 'Housing Loan', 'Commercial Vehicle Loan', 'Loan Against Shares / Securities', 'Commercial Equipment Loan', 'Mudra Loans   Shishu / Kishor / Tarun', 'SHG Individual', 'Business Loan Priority Sector  Others', 'Non-Funded Credit Facility', 'Construction Equipment Loan', 'Property Loan', 'Gold Loan', 'Microfinance Personal Loan', 'Overdraft', 'Microfinance Others', 'Individual', 'Corporate Credit Card', 'Loan to Professional', 'Used Car Loan', 'Fleet Card', 'Kisan Credit Card', 'Pradhan Mantri Awas Yojana - CLSS', 'Auto Loan (Personal)', 'Business Loan General', 'Loan Against Bank Deposits', 'Business Loan Against Bank Deposits', 'Business Non-Funded Credit Facility-Priority Sector-Agriculture', 'Business Non-Funded Credit Facility-Priority Sector- Small Business', 'Personal Loan', 'Consumer Loan', 'Two-Wheeler Loan', 'Business Loan Priority Sector  Agriculture', 'Secured Credit Card', 'Prime Minister Jaan Dhan Yojana - Overdraft', 'Other', 'Microfinance Housing Loan', 'Business Loan Unsecured', 'Business Loan - Secured', 'JLG Individual', 'Business Loan Priority Sector  Small Business', 'Business Non-Funded Credit Facility General', 'Tractor Loan']\n"
     ]
    }
   ],
   "source": [
    "x = set(train_bb['ACCT-TYPE'].unique())  \n",
    "y = set(test_bb['ACCT-TYPE'].unique()) \n",
    "common = x.intersection(y)\n",
    "print(list(common)) #now decide cols to keep "
   ]
  },
  {
   "cell_type": "code",
   "execution_count": 162,
   "metadata": {
    "id": "wAAakmzvKe-q"
   },
   "outputs": [],
   "source": [
    "train_ACCT_TYPE=pd.crosstab(train_b.ID,train_b['ACCT-TYPE'],dropna= True).reset_index()\n",
    "test_ACCT_TYPE=pd.crosstab(test_b.ID,test_b['ACCT-TYPE'],dropna= True).reset_index()\n",
    "\n",
    "cols_to_keep =['Tractor Loan','Gold Loan','Business Loan Priority Sector  Agriculture']\n",
    "\n",
    "train_ACCT_TYPE[\"Others\"] = pd.DataFrame(train_ACCT_TYPE.drop(columns=cols_to_keep).sum(axis=1))\n",
    "test_ACCT_TYPE[\"Others\"] = pd.DataFrame(test_ACCT_TYPE.drop(columns=cols_to_keep).sum(axis=1))\n",
    "filter_cols =cols_to_keep + ['Others','ID'] \n",
    "train_ACCT_TYPE = train_ACCT_TYPE.filter(filter_cols)\n",
    "test_ACCT_TYPE = test_ACCT_TYPE.filter(filter_cols)"
   ]
  },
  {
   "cell_type": "code",
   "execution_count": 163,
   "metadata": {
    "id": "Sh67auIEKe-r"
   },
   "outputs": [],
   "source": [
    "train_CONTRIBUTOR_TYPE=pd.crosstab(train_b.ID,train_b['CONTRIBUTOR-TYPE'],dropna= True).drop(columns = ['ARC']).reset_index()\n",
    "test_CONTRIBUTOR_TYPE=pd.crosstab(test_b.ID,test_b['CONTRIBUTOR-TYPE'],dropna= True).reset_index()\n"
   ]
  },
  {
   "cell_type": "code",
   "execution_count": 164,
   "metadata": {
    "id": "gNzNgU45Ke-r"
   },
   "outputs": [],
   "source": [
    "train_OWNERSHIP_IND=pd.crosstab(train_b.ID,train_b['OWNERSHIP-IND'],dropna= True).reset_index()\n",
    "test_OWNERSHIP_IND=pd.crosstab(test_b.ID,test_b['OWNERSHIP-IND'],dropna= True).reset_index()\n"
   ]
  },
  {
   "cell_type": "code",
   "execution_count": 165,
   "metadata": {
    "id": "yU0l8ivWKe-r"
   },
   "outputs": [],
   "source": [
    "train_ACCOUNT_STATUS=pd.crosstab(train_b.ID,train_b['ACCOUNT-STATUS'],dropna= True).drop(columns=['Sold/Purchased','Cancelled']).reset_index()\n",
    "test_ACCOUNT_STATUS=pd.crosstab(test_b.ID,test_b['ACCOUNT-STATUS'],dropna= True).reset_index()\n"
   ]
  },
  {
   "cell_type": "code",
   "execution_count": 166,
   "metadata": {
    "id": "ppRjO7M5Ke-s"
   },
   "outputs": [],
   "source": [
    "train_INSTALLMENT_FREQUENCY=pd.crosstab(train_b.ID,train_b['INSTALLMENT-FREQUENCY'],dropna= True).drop(columns=['F04','F07','F08']).reset_index()\n",
    "test_INSTALLMENT_FREQUENCY=pd.crosstab(test_b.ID,test_b['INSTALLMENT-FREQUENCY'],dropna= True).reset_index()"
   ]
  },
  {
   "cell_type": "code",
   "execution_count": 167,
   "metadata": {
    "id": "pgF2Vch6Ke-s"
   },
   "outputs": [],
   "source": [
    "train_ASSET_CLASS=pd.crosstab(train_b.ID,train_b['ASSET_CLASS'],dropna= True).drop(columns=['2']).reset_index()\n",
    "test_ASSET_CLASS=pd.crosstab(test_b.ID,test_b['ASSET_CLASS'],dropna= True).reset_index()"
   ]
  },
  {
   "cell_type": "code",
   "execution_count": 168,
   "metadata": {
    "id": "1teJ7t4RKe-t"
   },
   "outputs": [],
   "source": [
    "def onehotencoder(train,test,cols=[]):\n",
    "    \n",
    "    from sklearn.preprocessing import OneHotEncoder\n",
    "    #object_cols = catVar1(train) #catVar1 gives desired categorical column and not all object columns\n",
    "    object_cols=cols\n",
    "    print(object_cols)\n",
    "    \n",
    "    OH_encoder = OneHotEncoder(handle_unknown='ignore', sparse=False)\n",
    "    OH_cols_train = pd.DataFrame(OH_encoder.fit_transform(train[object_cols]))\n",
    "    OH_cols_test = pd.DataFrame(OH_encoder.transform(test[object_cols]))\n",
    "\n",
    "    # One-hot encoding removed index; put it back\n",
    "    OH_cols_train.index = train.index\n",
    "    OH_cols_test.index = test.index\n",
    "\n",
    "    ##hack for restoring columns names just like get dummies\n",
    "    column_name = OH_encoder.get_feature_names(object_cols)\n",
    "    OH_cols_train.columns = column_name\n",
    "    OH_cols_test.columns = column_name\n",
    "    \n",
    "\n",
    "    # Remove desired categorical columns (will replace with one-hot encoding)\n",
    "    num_train = train.drop(object_cols, axis=1)\n",
    "    num_test = test.drop(object_cols, axis=1)\n",
    "\n",
    "    # Add one-hot encoded columns to numerical/remaining features\n",
    "    OH_train = pd.concat([num_train, OH_cols_train], axis=1)\n",
    "    OH_test = pd.concat([num_test, OH_cols_test], axis=1)\n",
    "    \n",
    "\n",
    "    \n",
    "    print(OH_train.shape,OH_test.shape)\n",
    "    \n",
    "    \n",
    "    return OH_train,OH_test\n",
    "\n",
    "def targetencoding(train,test,y_train,drop=False,cols=[]):\n",
    "    import category_encoders as ce\n",
    "    # Create the encoder itself\n",
    "    cat_features = cols\n",
    "    print(f'targest emcoding for features {cat_features}')\n",
    "    target_enc = ce.TargetEncoder(cols=cat_features)\n",
    "\n",
    "    \n",
    "\n",
    "    # Fit the encoder using the categorical features and target\n",
    "    target_enc.fit(train[cat_features], y_train)\n",
    "    \n",
    "\n",
    "    # Transform the features, rename the columns with _target suffix, and join to dataframe\n",
    "    traintrgtenc = train.join(target_enc.transform(train[cat_features]).add_suffix('_target'))\n",
    "    testtrgtenc = test.join(target_enc.transform(test[cat_features]).add_suffix('_target'))\n",
    "\n",
    "    if drop :\n",
    "        traintrgtenc = traintrgtenc.drop(cat_features, axis =1)\n",
    "        testtrgtenc = testtrgtenc.drop(cat_features, axis =1)\n",
    "\n",
    "    \n",
    "    print(traintrgtenc.shape,testtrgtenc.shape)\n",
    "    \n",
    "    return traintrgtenc,testtrgtenc\n",
    "\n",
    "\n",
    "def ordinalencoding(train,test,y_train,mapping,drop=False,cols=[]):\n",
    "    import category_encoders as ce\n",
    "    # Create the encoder itself\n",
    "    cat_features = cols\n",
    "    print(f'ordinal encoding for features {cat_features}')\n",
    "    target_enc = ce.OrdinalEncoder(cols=cat_features,mapping = mapping)\n",
    "\n",
    "    \n",
    "\n",
    "    # Fit the encoder using the categorical features and target\n",
    "    target_enc.fit(train[cat_features], y_train)\n",
    "    \n",
    "\n",
    "    # Transform the features, rename the columns with _target suffix, and join to dataframe\n",
    "    traintrgtenc = train.join(target_enc.transform(train[cat_features]).add_suffix('_ordinal'))\n",
    "    testtrgtenc = test.join(target_enc.transform(test[cat_features]).add_suffix('_ordinal'))\n",
    "\n",
    "    if drop :\n",
    "        traintrgtenc = traintrgtenc.drop(cat_features, axis =1)\n",
    "        testtrgtenc = testtrgtenc.drop(cat_features, axis =1)\n",
    "\n",
    "    \n",
    "    print(traintrgtenc.shape,testtrgtenc.shape)\n",
    "    \n",
    "    return traintrgtenc,testtrgtenc"
   ]
  },
  {
   "cell_type": "code",
   "execution_count": 169,
   "metadata": {
    "id": "LaqkZpKTKe-t"
   },
   "outputs": [],
   "source": [
    "train_bb['DISBURSED-AMT/HIGH CREDIT'] = train_b['DISBURSED-AMT/HIGH CREDIT'].str.replace(',', '').astype('float')\n",
    "test_bb['DISBURSED-AMT/HIGH CREDIT'] = test_b['DISBURSED-AMT/HIGH CREDIT'].str.replace(',', '').astype('float')"
   ]
  },
  {
   "cell_type": "code",
   "execution_count": 170,
   "metadata": {
    "id": "PEXzwbLKKe-u"
   },
   "outputs": [],
   "source": [
    "train_bb['CURRENT-BAL'] = train_b['CURRENT-BAL'].fillna(0)\n",
    "test_bb['CURRENT-BAL'] = test_b['CURRENT-BAL'].fillna(0)\n",
    "train_bb['CURRENT-BAL'] = train_b['CURRENT-BAL'].str.replace(',', '').astype('float')\n",
    "test_bb['CURRENT-BAL'] = test_b['CURRENT-BAL'].str.replace(',', '').astype('float')"
   ]
  },
  {
   "cell_type": "code",
   "execution_count": 171,
   "metadata": {
    "id": "xWQx0YMiKe-u"
   },
   "outputs": [],
   "source": [
    "\n",
    "train_CURRENT = train_bb[['CURRENT-BAL','ID']].dropna()\n",
    "test_CURRENT = test_bb[['CURRENT-BAL','ID']].dropna()\n",
    "\n",
    "enc = KBinsDiscretizer(n_bins=4, encode='ordinal', strategy='kmeans')\n",
    "enc.fit(train_bb['CURRENT-BAL'].dropna().values.reshape(-1,1))\n",
    "\n",
    "train_CURRENT['CURRENT-BAL'] = enc.transform(train_CURRENT['CURRENT-BAL'].values.reshape(-1,1))\n",
    "test_CURRENT['CURRENT-BAL']= enc.transform(test_CURRENT['CURRENT-BAL'].values.reshape(-1,1))"
   ]
  },
  {
   "cell_type": "code",
   "execution_count": 172,
   "metadata": {
    "id": "c7Pg3gYgKe-v"
   },
   "outputs": [],
   "source": [
    "train_CURRENT=pd.crosstab(train_CURRENT.ID,train_CURRENT['CURRENT-BAL'],dropna= True).reset_index()\n",
    "test_CURRENT=pd.crosstab(test_CURRENT.ID,test_CURRENT['CURRENT-BAL'],dropna= True).reset_index()\n",
    "test_CURRENT['3.0']=0"
   ]
  },
  {
   "cell_type": "code",
   "execution_count": 173,
   "metadata": {
    "id": "YDh9-VGQKe-v"
   },
   "outputs": [],
   "source": [
    "\n",
    "train_DISBURSED = train_bb[['DISBURSED-AMT/HIGH CREDIT','ID']].dropna()\n",
    "test_DISBURSED = test_bb[['DISBURSED-AMT/HIGH CREDIT','ID']].dropna()\n",
    "\n",
    "enc = KBinsDiscretizer(n_bins=4, encode='ordinal', strategy='kmeans')\n",
    "enc.fit(train_bb['DISBURSED-AMT/HIGH CREDIT'].dropna().values.reshape(-1,1))\n",
    "\n",
    "train_DISBURSED['DISBURSED-AMT/HIGH CREDIT'] = enc.transform(train_DISBURSED['DISBURSED-AMT/HIGH CREDIT'].values.reshape(-1,1))\n",
    "test_DISBURSED['DISBURSED-AMT/HIGH CREDIT']= enc.transform(test_DISBURSED['DISBURSED-AMT/HIGH CREDIT'].values.reshape(-1,1))"
   ]
  },
  {
   "cell_type": "code",
   "execution_count": 174,
   "metadata": {
    "id": "kUohhpDgKe-w"
   },
   "outputs": [],
   "source": [
    "train_DISBURSED=pd.crosstab(train_DISBURSED.ID,train_DISBURSED['DISBURSED-AMT/HIGH CREDIT'],dropna= True).reset_index()\n",
    "test_DISBURSED=pd.crosstab(test_DISBURSED.ID,test_DISBURSED['DISBURSED-AMT/HIGH CREDIT'],dropna= True).reset_index()\n",
    "test_DISBURSED['2.0']=0"
   ]
  },
  {
   "cell_type": "code",
   "execution_count": 175,
   "metadata": {
    "id": "HeA0qp7bKe-x"
   },
   "outputs": [],
   "source": [
    "# #discretisation baes on clusters\n",
    "\n",
    "# train_tenure = train_bb[['TENURE','ID']].dropna()\n",
    "# test_tenure = test_bb[['TENURE','ID']].dropna()\n",
    "\n",
    "# enc = KBinsDiscretizer(n_bins=4, encode='ordinal', strategy='kmeans')\n",
    "# enc.fit(train_bb['TENURE'].dropna().values.reshape(-1,1))\n",
    "\n",
    "# train_tenure['TENURE'] = enc.transform(train_tenure['TENURE'].values.reshape(-1,1))\n",
    "# test_tenure['TENURE']= enc.transform(test_tenure['TENURE'].values.reshape(-1,1))"
   ]
  },
  {
   "cell_type": "code",
   "execution_count": 176,
   "metadata": {
    "id": "fbQ4TLNMKe-x"
   },
   "outputs": [],
   "source": [
    "# train_tenure=pd.crosstab(train_tenure.ID,train_tenure['TENURE'],dropna= True).reset_index()\n",
    "# test_tenure=pd.crosstab(test_tenure.ID,test_tenure['TENURE'],dropna= True).reset_index()\n"
   ]
  },
  {
   "cell_type": "code",
   "execution_count": 177,
   "metadata": {
    "id": "tNcQc5_qUiBK"
   },
   "outputs": [],
   "source": [
    "# train_SELF_INDICATOR\n",
    "# train_INSTALLMENT_FREQUENCY\n",
    "# train_ACCOUNT_STATUS\n",
    "# train_OWNERSHIP_IND\n",
    "# train_CONTRIBUTOR_TYPE\n",
    "# train_ACCT_TYPE"
   ]
  },
  {
   "cell_type": "code",
   "execution_count": 178,
   "metadata": {
    "id": "PzhwHb01Ke-y"
   },
   "outputs": [],
   "source": [
    "dataframes = [train_b.ID,train_SELF_INDICATOR,train_INSTALLMENT_FREQUENCY,train_ACCOUNT_STATUS,train_OWNERSHIP_IND,\n",
    "              train_CONTRIBUTOR_TYPE,train_ACCT_TYPE,train_MATCH_TYPE,train_ASSET_CLASS,train_CURRENT,train_DISBURSED]\n",
    "final_df_train_beauro = reduce(lambda left, right: pd.merge(left, right, on='ID', how='left'), dataframes)\n",
    "\n",
    "final_df_train_beauro = final_df_train_beauro.fillna(0)"
   ]
  },
  {
   "cell_type": "code",
   "execution_count": 179,
   "metadata": {
    "id": "Avyb_HHKKe-z"
   },
   "outputs": [],
   "source": [
    "dataframes = [test_b.ID,test_SELF_INDICATOR,test_INSTALLMENT_FREQUENCY,test_ACCOUNT_STATUS,test_OWNERSHIP_IND,\n",
    "              test_CONTRIBUTOR_TYPE,test_ACCT_TYPE,test_MATCH_TYPE,test_ASSET_CLASS,test_CURRENT,test_DISBURSED]\n",
    "final_df_test_beauro = reduce(lambda left, right: pd.merge(left, right, on='ID', how='left'), dataframes)\n",
    "final_df_test_beauro = final_df_test_beauro.fillna(0)"
   ]
  },
  {
   "cell_type": "code",
   "execution_count": 180,
   "metadata": {
    "id": "HXIOeJ3VKe-z"
   },
   "outputs": [],
   "source": [
    "###### now train data "
   ]
  },
  {
   "cell_type": "code",
   "execution_count": 181,
   "metadata": {
    "id": "AffnBjLvKe-0"
   },
   "outputs": [],
   "source": [
    "train_dd = train_d.copy()\n",
    "test_dd = test_d.copy()"
   ]
  },
  {
   "cell_type": "code",
   "execution_count": 182,
   "metadata": {
    "colab": {
     "base_uri": "https://localhost:8080/",
     "height": 343
    },
    "id": "1F4mQ7-wKe-0",
    "outputId": "4d39bc78-10b0-4427-cb34-1655631e8182"
   },
   "outputs": [
    {
     "data": {
      "text/html": [
       "<div>\n",
       "<style scoped>\n",
       "    .dataframe tbody tr th:only-of-type {\n",
       "        vertical-align: middle;\n",
       "    }\n",
       "\n",
       "    .dataframe tbody tr th {\n",
       "        vertical-align: top;\n",
       "    }\n",
       "\n",
       "    .dataframe thead th {\n",
       "        text-align: right;\n",
       "    }\n",
       "</style>\n",
       "<table border=\"1\" class=\"dataframe\">\n",
       "  <thead>\n",
       "    <tr style=\"text-align: right;\">\n",
       "      <th></th>\n",
       "      <th>ID</th>\n",
       "      <th>Frequency</th>\n",
       "      <th>InstlmentMode</th>\n",
       "      <th>LoanStatus</th>\n",
       "      <th>PaymentMode</th>\n",
       "      <th>BranchID</th>\n",
       "      <th>Area</th>\n",
       "      <th>Tenure</th>\n",
       "      <th>AssetCost</th>\n",
       "      <th>AmountFinance</th>\n",
       "      <th>DisbursalAmount</th>\n",
       "      <th>EMI</th>\n",
       "      <th>DisbursalDate</th>\n",
       "      <th>MaturityDAte</th>\n",
       "      <th>AuthDate</th>\n",
       "      <th>AssetID</th>\n",
       "      <th>ManufacturerID</th>\n",
       "      <th>SupplierID</th>\n",
       "      <th>LTV</th>\n",
       "      <th>SEX</th>\n",
       "      <th>AGE</th>\n",
       "      <th>MonthlyIncome</th>\n",
       "      <th>City</th>\n",
       "      <th>State</th>\n",
       "      <th>ZiPCODE</th>\n",
       "      <th>Top-up Month</th>\n",
       "    </tr>\n",
       "  </thead>\n",
       "  <tbody>\n",
       "    <tr>\n",
       "      <th>0</th>\n",
       "      <td>1</td>\n",
       "      <td>Monthly</td>\n",
       "      <td>Arrear</td>\n",
       "      <td>Closed</td>\n",
       "      <td>PDC_E</td>\n",
       "      <td>1</td>\n",
       "      <td>NaN</td>\n",
       "      <td>48</td>\n",
       "      <td>450000</td>\n",
       "      <td>275000.0</td>\n",
       "      <td>275000.0</td>\n",
       "      <td>24000.0</td>\n",
       "      <td>2012-02-10</td>\n",
       "      <td>2016-01-15</td>\n",
       "      <td>2012-02-10</td>\n",
       "      <td>4022465</td>\n",
       "      <td>1568</td>\n",
       "      <td>21946</td>\n",
       "      <td>61.11</td>\n",
       "      <td>M</td>\n",
       "      <td>49.0</td>\n",
       "      <td>35833.33</td>\n",
       "      <td>RAISEN</td>\n",
       "      <td>MADHYA PRADESH</td>\n",
       "      <td>464993.0</td>\n",
       "      <td>&gt; 48 Months</td>\n",
       "    </tr>\n",
       "    <tr>\n",
       "      <th>1</th>\n",
       "      <td>2</td>\n",
       "      <td>Monthly</td>\n",
       "      <td>Advance</td>\n",
       "      <td>Closed</td>\n",
       "      <td>PDC</td>\n",
       "      <td>333</td>\n",
       "      <td>BHOPAL</td>\n",
       "      <td>47</td>\n",
       "      <td>485000</td>\n",
       "      <td>350000.0</td>\n",
       "      <td>350000.0</td>\n",
       "      <td>10500.0</td>\n",
       "      <td>2012-03-31</td>\n",
       "      <td>2016-02-15</td>\n",
       "      <td>2012-03-31</td>\n",
       "      <td>4681175</td>\n",
       "      <td>1062</td>\n",
       "      <td>34802</td>\n",
       "      <td>70.00</td>\n",
       "      <td>M</td>\n",
       "      <td>23.0</td>\n",
       "      <td>666.67</td>\n",
       "      <td>SEHORE</td>\n",
       "      <td>MADHYA PRADESH</td>\n",
       "      <td>466001.0</td>\n",
       "      <td>No Top-up Service</td>\n",
       "    </tr>\n",
       "    <tr>\n",
       "      <th>2</th>\n",
       "      <td>3</td>\n",
       "      <td>Quatrly</td>\n",
       "      <td>Arrear</td>\n",
       "      <td>Active</td>\n",
       "      <td>Direct Debit</td>\n",
       "      <td>1</td>\n",
       "      <td>NaN</td>\n",
       "      <td>68</td>\n",
       "      <td>690000</td>\n",
       "      <td>519728.0</td>\n",
       "      <td>519728.0</td>\n",
       "      <td>38300.0</td>\n",
       "      <td>2017-06-17</td>\n",
       "      <td>2023-02-10</td>\n",
       "      <td>2017-06-17</td>\n",
       "      <td>25328146</td>\n",
       "      <td>1060</td>\n",
       "      <td>127335</td>\n",
       "      <td>69.77</td>\n",
       "      <td>M</td>\n",
       "      <td>39.0</td>\n",
       "      <td>45257.00</td>\n",
       "      <td>BHOPAL</td>\n",
       "      <td>MADHYA PRADESH</td>\n",
       "      <td>462030.0</td>\n",
       "      <td>12-18 Months</td>\n",
       "    </tr>\n",
       "    <tr>\n",
       "      <th>3</th>\n",
       "      <td>7</td>\n",
       "      <td>Monthly</td>\n",
       "      <td>Advance</td>\n",
       "      <td>Closed</td>\n",
       "      <td>Billed</td>\n",
       "      <td>125</td>\n",
       "      <td>GUNA</td>\n",
       "      <td>48</td>\n",
       "      <td>480000</td>\n",
       "      <td>400000.0</td>\n",
       "      <td>400000.0</td>\n",
       "      <td>11600.0</td>\n",
       "      <td>2013-11-29</td>\n",
       "      <td>2017-11-10</td>\n",
       "      <td>2013-11-29</td>\n",
       "      <td>13021591</td>\n",
       "      <td>1060</td>\n",
       "      <td>25094</td>\n",
       "      <td>80.92</td>\n",
       "      <td>M</td>\n",
       "      <td>24.0</td>\n",
       "      <td>20833.33</td>\n",
       "      <td>ASHOK NAGAR</td>\n",
       "      <td>MADHYA PRADESH</td>\n",
       "      <td>473335.0</td>\n",
       "      <td>&gt; 48 Months</td>\n",
       "    </tr>\n",
       "    <tr>\n",
       "      <th>4</th>\n",
       "      <td>8</td>\n",
       "      <td>Monthly</td>\n",
       "      <td>Arrear</td>\n",
       "      <td>Closed</td>\n",
       "      <td>Billed</td>\n",
       "      <td>152</td>\n",
       "      <td>BILASPUR</td>\n",
       "      <td>44</td>\n",
       "      <td>619265</td>\n",
       "      <td>440000.0</td>\n",
       "      <td>440000.0</td>\n",
       "      <td>15000.0</td>\n",
       "      <td>2011-12-08</td>\n",
       "      <td>2015-07-05</td>\n",
       "      <td>2011-12-08</td>\n",
       "      <td>3291320</td>\n",
       "      <td>1046</td>\n",
       "      <td>21853</td>\n",
       "      <td>71.05</td>\n",
       "      <td>M</td>\n",
       "      <td>56.0</td>\n",
       "      <td>27313.67</td>\n",
       "      <td>BILASPUR</td>\n",
       "      <td>CHATTISGARH</td>\n",
       "      <td>495442.0</td>\n",
       "      <td>36-48 Months</td>\n",
       "    </tr>\n",
       "  </tbody>\n",
       "</table>\n",
       "</div>"
      ],
      "text/plain": [
       "   ID Frequency InstlmentMode  ...           State   ZiPCODE       Top-up Month\n",
       "0   1   Monthly        Arrear  ...  MADHYA PRADESH  464993.0        > 48 Months\n",
       "1   2   Monthly       Advance  ...  MADHYA PRADESH  466001.0  No Top-up Service\n",
       "2   3   Quatrly        Arrear  ...  MADHYA PRADESH  462030.0       12-18 Months\n",
       "3   7   Monthly       Advance  ...  MADHYA PRADESH  473335.0        > 48 Months\n",
       "4   8   Monthly        Arrear  ...     CHATTISGARH  495442.0       36-48 Months\n",
       "\n",
       "[5 rows x 26 columns]"
      ]
     },
     "execution_count": 182,
     "metadata": {
      "tags": []
     },
     "output_type": "execute_result"
    }
   ],
   "source": [
    "train_dd.head()"
   ]
  },
  {
   "cell_type": "code",
   "execution_count": 183,
   "metadata": {
    "id": "GE8xZ2ssKe-1"
   },
   "outputs": [],
   "source": [
    "train_dd['SEX'] = train_dd['SEX'].fillna(train_dd['SEX'].mode()[0])\n",
    "test_dd['SEX'] = test_dd['SEX'].fillna(test_dd['SEX'].mode()[0])\n",
    "\n",
    "train_dd['AGE'] = train_dd['AGE'].fillna(train_dd['AGE'].mode()[0])\n",
    "test_dd['AGE'] = test_dd['AGE'].fillna(test_dd['AGE'].mode()[0])\n",
    "\n",
    "train_dd['MonthlyIncome'] = train_dd['MonthlyIncome'].fillna(train_dd['MonthlyIncome'].mode()[0])\n",
    "test_dd['MonthlyIncome'] = test_dd['MonthlyIncome'].fillna(test_dd['MonthlyIncome'].mode()[0])\n",
    "\n",
    "train_dd['ZiPCODE']  =train_dd['ZiPCODE'].fillna(method = 'ffill').astype('int') \n",
    "test_dd['ZiPCODE']  =test_dd['ZiPCODE'].fillna(method = 'ffill').astype('int') \n",
    "\n",
    "\n",
    "train_dd =train_dd.fillna(method ='ffill') \n",
    "test_dd =test_dd.fillna(method = 'ffill') "
   ]
  },
  {
   "cell_type": "code",
   "execution_count": 184,
   "metadata": {
    "id": "7qyyI0u6Ke-1"
   },
   "outputs": [],
   "source": [
    "train_dd['AuthDate'] = pd.to_datetime(train_d['AuthDate'] ,errors='coerce')\n",
    "test_dd['AuthDate'] = pd.to_datetime(test_d['AuthDate'] ,errors='coerce')\n",
    "\n",
    "train_dd['DisbursalDate'] = pd.to_datetime(train_d['DisbursalDate'] ,errors='coerce')\n",
    "test_dd['DisbursalDate'] = pd.to_datetime(test_d['DisbursalDate'] ,errors='coerce')\n",
    "\n",
    "train_dd['MaturityDAte'] = pd.to_datetime(train_d['MaturityDAte'] ,errors='coerce')\n",
    "test_dd['MaturityDAte'] = pd.to_datetime(test_d['MaturityDAte'] ,errors='coerce')\n",
    "\n",
    "train_dd = train_d.dropna()\n",
    "#test_dd['MaturityDAte'] = test_d['MaturityDAte'].fillna(method='ffill')"
   ]
  },
  {
   "cell_type": "code",
   "execution_count": 185,
   "metadata": {
    "id": "3h_GDgrNKe-2"
   },
   "outputs": [],
   "source": [
    "train_dd['AuthtoMatureDays'] = (train_dd['AuthDate'] - train_dd['MaturityDAte']).astype('int')\n",
    "test_dd['AuthtoMatureDays'] = (test_dd['AuthDate'] - test_dd['MaturityDAte']).astype('int')\n",
    "\n",
    "train_dd['AuthtoDisDays'] = (train_dd['AuthDate'] - train_dd['DisbursalDate']).astype('int')\n",
    "test_dd['AuthtoDisDays'] = (test_dd['AuthDate'] - test_dd['DisbursalDate']).astype('int')"
   ]
  },
  {
   "cell_type": "code",
   "execution_count": 186,
   "metadata": {
    "colab": {
     "base_uri": "https://localhost:8080/"
    },
    "id": "IcICZSOgEAJL",
    "outputId": "37599f80-f892-4444-a2b2-d685dcbb89ae"
   },
   "outputs": [
    {
     "name": "stdout",
     "output_type": "stream",
     "text": [
      "<class 'pandas.core.frame.DataFrame'>\n",
      "Int64Index: 107126 entries, 1 to 128654\n",
      "Data columns (total 28 columns):\n",
      " #   Column            Non-Null Count   Dtype         \n",
      "---  ------            --------------   -----         \n",
      " 0   ID                107126 non-null  int64         \n",
      " 1   Frequency         107126 non-null  object        \n",
      " 2   InstlmentMode     107126 non-null  object        \n",
      " 3   LoanStatus        107126 non-null  object        \n",
      " 4   PaymentMode       107126 non-null  object        \n",
      " 5   BranchID          107126 non-null  int64         \n",
      " 6   Area              107126 non-null  object        \n",
      " 7   Tenure            107126 non-null  int64         \n",
      " 8   AssetCost         107126 non-null  int64         \n",
      " 9   AmountFinance     107126 non-null  float64       \n",
      " 10  DisbursalAmount   107126 non-null  float64       \n",
      " 11  EMI               107126 non-null  float64       \n",
      " 12  DisbursalDate     107126 non-null  datetime64[ns]\n",
      " 13  MaturityDAte      107126 non-null  datetime64[ns]\n",
      " 14  AuthDate          107126 non-null  datetime64[ns]\n",
      " 15  AssetID           107126 non-null  int64         \n",
      " 16  ManufacturerID    107126 non-null  int64         \n",
      " 17  SupplierID        107126 non-null  int64         \n",
      " 18  LTV               107126 non-null  float64       \n",
      " 19  SEX               107126 non-null  object        \n",
      " 20  AGE               107126 non-null  float64       \n",
      " 21  MonthlyIncome     107126 non-null  float64       \n",
      " 22  City              107126 non-null  object        \n",
      " 23  State             107126 non-null  object        \n",
      " 24  ZiPCODE           107126 non-null  float64       \n",
      " 25  Top-up Month      107126 non-null  object        \n",
      " 26  AuthtoMatureDays  107126 non-null  int64         \n",
      " 27  AuthtoDisDays     107126 non-null  int64         \n",
      "dtypes: datetime64[ns](3), float64(7), int64(9), object(9)\n",
      "memory usage: 23.7+ MB\n"
     ]
    }
   ],
   "source": [
    "train_dd.info()"
   ]
  },
  {
   "cell_type": "code",
   "execution_count": 187,
   "metadata": {
    "id": "RVh0yg5TKe-2"
   },
   "outputs": [],
   "source": [
    "train_dd['AuthYear'] = train_dd['AuthDate'].dt.year\n",
    "test_dd['AuthtYear'] = test_dd['AuthDate'].dt.year \n",
    "train_dd['AuthMonth'] = train_dd['AuthDate'].dt.month \n",
    "test_dd['AuthtMonth'] = test_dd['AuthDate'].dt.month  \n",
    "\n",
    "\n",
    "train_dd['MaturityYear'] = train_d['MaturityDAte'].dt.year  \n",
    "test_dd['MaturityYear'] = test_d['MaturityDAte'].dt.year  \n",
    "\n",
    "train_dd['MaturityMonth'] = train_d['MaturityDAte'].dt.month  \n",
    "test_dd['MaturityMonth'] = test_d['MaturityDAte'].dt.month  "
   ]
  },
  {
   "cell_type": "code",
   "execution_count": 188,
   "metadata": {
    "colab": {
     "base_uri": "https://localhost:8080/"
    },
    "id": "vQqUX_Ph_eO8",
    "outputId": "7a3abc24-8331-47ca-fb73-a8ffe2270c6e"
   },
   "outputs": [
    {
     "data": {
      "text/plain": [
       "ID                  0\n",
       "Frequency           0\n",
       "InstlmentMode       0\n",
       "LoanStatus          0\n",
       "PaymentMode         0\n",
       "BranchID            0\n",
       "Area                0\n",
       "Tenure              0\n",
       "AssetCost           0\n",
       "AmountFinance       0\n",
       "DisbursalAmount     0\n",
       "EMI                 0\n",
       "DisbursalDate       0\n",
       "MaturityDAte        0\n",
       "AuthDate            0\n",
       "AssetID             0\n",
       "ManufacturerID      0\n",
       "SupplierID          0\n",
       "LTV                 0\n",
       "SEX                 0\n",
       "AGE                 0\n",
       "MonthlyIncome       0\n",
       "City                0\n",
       "State               0\n",
       "ZiPCODE             0\n",
       "Top-up Month        0\n",
       "AuthtoMatureDays    0\n",
       "AuthtoDisDays       0\n",
       "AuthYear            0\n",
       "AuthMonth           0\n",
       "MaturityYear        0\n",
       "MaturityMonth       0\n",
       "dtype: int64"
      ]
     },
     "execution_count": 188,
     "metadata": {
      "tags": []
     },
     "output_type": "execute_result"
    }
   ],
   "source": [
    "train_dd.isna().sum()\n",
    "#test_dd.isna().sum()"
   ]
  },
  {
   "cell_type": "code",
   "execution_count": 189,
   "metadata": {
    "id": "LMGDDtfRKe-2"
   },
   "outputs": [],
   "source": [
    "train_dd = train_dd.drop(columns=['City','Area','AuthDate','DisbursalDate','MaturityDAte'])\n",
    "test_dd = test_dd.drop(columns=['City','Area','AuthDate','DisbursalDate','MaturityDAte'])"
   ]
  },
  {
   "cell_type": "code",
   "execution_count": 190,
   "metadata": {
    "id": "tmATWizQKe-3"
   },
   "outputs": [],
   "source": [
    "mapping_dict = {'No Top-up Service':0, '12-18 Months':1,'18-24 Months':2, '24-30 Months':3, \n",
    "                '30-36 Months':4,'36-48 Months':5,' > 48 Months':6}"
   ]
  },
  {
   "cell_type": "code",
   "execution_count": 191,
   "metadata": {
    "id": "ia7SwdWFKe-3"
   },
   "outputs": [],
   "source": [
    "train_dd['Top-up Month'] = train_dd['Top-up Month'].replace(mapping_dict) "
   ]
  },
  {
   "cell_type": "code",
   "execution_count": 192,
   "metadata": {
    "id": "ndT494UQKe-4"
   },
   "outputs": [],
   "source": [
    "mapping_dict_f= [\n",
    "{'col': 'Frequency', 'mapping': {'BI-Monthly':0, 'Monthly': 1, 'Quatrly': 2,  'Half Yearly': 3}}\n",
    "]"
   ]
  },
  {
   "cell_type": "code",
   "execution_count": 193,
   "metadata": {
    "colab": {
     "base_uri": "https://localhost:8080/"
    },
    "id": "RyW5j3obKe-4",
    "outputId": "a3d1e540-53e4-42c9-c95e-ce6a3e0f6eaa"
   },
   "outputs": [
    {
     "name": "stdout",
     "output_type": "stream",
     "text": [
      "ordinal encoding for features ['Frequency']\n",
      "(107126, 27) (14745, 26)\n"
     ]
    }
   ],
   "source": [
    "f1,f2 = ordinalencoding(train_dd,test_dd,train_dd['Top-up Month'],drop =True,cols=['Frequency'],mapping= mapping_dict_f)"
   ]
  },
  {
   "cell_type": "code",
   "execution_count": 194,
   "metadata": {
    "colab": {
     "base_uri": "https://localhost:8080/"
    },
    "id": "XB2ZTQohKe-5",
    "outputId": "619b2a9b-41a9-42c0-8abd-aa41dc1f5bdf"
   },
   "outputs": [
    {
     "name": "stdout",
     "output_type": "stream",
     "text": [
      "['InstlmentMode', 'LoanStatus', 'SEX']\n",
      "(107126, 30) (14745, 29)\n"
     ]
    }
   ],
   "source": [
    "f11,f22 = onehotencoder(f1,f2,cols=['InstlmentMode','LoanStatus','SEX'])"
   ]
  },
  {
   "cell_type": "code",
   "execution_count": 195,
   "metadata": {
    "colab": {
     "base_uri": "https://localhost:8080/"
    },
    "id": "EuftKAArKe-5",
    "outputId": "f9c62ec7-bc19-4c15-d755-83bb1cfde797"
   },
   "outputs": [
    {
     "name": "stdout",
     "output_type": "stream",
     "text": [
      "targest emcoding for features ['PaymentMode', 'State', 'BranchID', 'ZiPCODE', 'ManufacturerID']\n",
      "(107126, 30) (14745, 29)\n"
     ]
    }
   ],
   "source": [
    "f111,f222 = targetencoding(f11,f22,f11['Top-up Month'],drop=True,cols=['PaymentMode','State','BranchID','ZiPCODE','ManufacturerID']) #because branch id and area same"
   ]
  },
  {
   "cell_type": "code",
   "execution_count": 197,
   "metadata": {
    "id": "OK-koE8MgRyA"
   },
   "outputs": [],
   "source": []
  },
  {
   "cell_type": "code",
   "execution_count": 198,
   "metadata": {
    "id": "XAjd2e_1FYlT"
   },
   "outputs": [],
   "source": [
    "\n",
    "# final_df_train_beauro.rename(columns={2.0: '2.0', 3.0: '3.0'}, inplace=True)\n",
    "\n",
    "# final_df_test_beauro.rename(columns={2.0: '2.0', 3.0: '3.0'}, inplace=True)"
   ]
  },
  {
   "cell_type": "code",
   "execution_count": 199,
   "metadata": {
    "id": "Ci7j4yn8Ke-6"
   },
   "outputs": [],
   "source": [
    "dataframes = [f111,final_df_train_beauro]\n",
    "final_df_train = reduce(lambda left, right: pd.merge(left, right, on='ID', how='left'), dataframes)"
   ]
  },
  {
   "cell_type": "code",
   "execution_count": 200,
   "metadata": {
    "id": "EEvjHoMtKe-6"
   },
   "outputs": [],
   "source": [
    "dataframes = [f222,final_df_test_beauro]\n",
    "final_df_test = reduce(lambda left, right: pd.merge(left, right, on='ID', how='left'), dataframes)"
   ]
  },
  {
   "cell_type": "code",
   "execution_count": 201,
   "metadata": {
    "colab": {
     "base_uri": "https://localhost:8080/"
    },
    "id": "e3n9tARbB6OV",
    "outputId": "fc5d31c3-bb39-4a82-eae0-4da48cc8eb31"
   },
   "outputs": [
    {
     "data": {
      "text/plain": [
       "ID                 0\n",
       "Tenure             0\n",
       "AssetCost          0\n",
       "AmountFinance      0\n",
       "DisbursalAmount    0\n",
       "                  ..\n",
       "3.0                0\n",
       "0.0                0\n",
       "1.0                0\n",
       "3.0                0\n",
       "2.0                0\n",
       "Length: 83, dtype: int64"
      ]
     },
     "execution_count": 201,
     "metadata": {
      "tags": []
     },
     "output_type": "execute_result"
    }
   ],
   "source": [
    "final_df_test.isna().sum()"
   ]
  },
  {
   "cell_type": "code",
   "execution_count": 115,
   "metadata": {
    "id": "_2jtljXcKe-7"
   },
   "outputs": [],
   "source": [
    "# final_df_train = final_df_train.fillna(0)\n",
    "# final_df_test = final_df_test.fillna(0)"
   ]
  },
  {
   "cell_type": "code",
   "execution_count": 202,
   "metadata": {
    "colab": {
     "base_uri": "https://localhost:8080/"
    },
    "id": "0vtLNLM8DX1U",
    "outputId": "15c4ee79-b0b6-48d2-efa5-a55b251494fe"
   },
   "outputs": [
    {
     "name": "stdout",
     "output_type": "stream",
     "text": [
      "<class 'pandas.core.frame.DataFrame'>\n",
      "Int64Index: 471743 entries, 0 to 471742\n",
      "Data columns (total 84 columns):\n",
      " #   Column                                      Non-Null Count   Dtype  \n",
      "---  ------                                      --------------   -----  \n",
      " 0   ID                                          471743 non-null  int64  \n",
      " 1   Tenure                                      471743 non-null  int64  \n",
      " 2   AssetCost                                   471743 non-null  int64  \n",
      " 3   AmountFinance                               471743 non-null  float64\n",
      " 4   DisbursalAmount                             471743 non-null  float64\n",
      " 5   EMI                                         471743 non-null  float64\n",
      " 6   AssetID                                     471743 non-null  int64  \n",
      " 7   SupplierID                                  471743 non-null  int64  \n",
      " 8   LTV                                         471743 non-null  float64\n",
      " 9   AGE                                         471743 non-null  float64\n",
      " 10  MonthlyIncome                               471743 non-null  float64\n",
      " 11  Top-up Month                                471743 non-null  int64  \n",
      " 12  AuthtoMatureDays                            471743 non-null  int64  \n",
      " 13  AuthtoDisDays                               471743 non-null  int64  \n",
      " 14  AuthYear                                    471743 non-null  int64  \n",
      " 15  AuthMonth                                   471743 non-null  int64  \n",
      " 16  MaturityYear                                471743 non-null  float64\n",
      " 17  MaturityMonth                               471743 non-null  float64\n",
      " 18  Frequency_ordinal                           471743 non-null  int64  \n",
      " 19  InstlmentMode_Advance                       471743 non-null  float64\n",
      " 20  InstlmentMode_Arrear                        471743 non-null  float64\n",
      " 21  LoanStatus_Active                           471743 non-null  float64\n",
      " 22  LoanStatus_Closed                           471743 non-null  float64\n",
      " 23  SEX_F                                       471743 non-null  float64\n",
      " 24  SEX_M                                       471743 non-null  float64\n",
      " 25  PaymentMode_target                          471743 non-null  float64\n",
      " 26  State_target                                471743 non-null  float64\n",
      " 27  BranchID_target                             471743 non-null  float64\n",
      " 28  ZiPCODE_target                              471743 non-null  float64\n",
      " 29  ManufacturerID_target                       471743 non-null  float64\n",
      " 30  False_x                                     471743 non-null  int64  \n",
      " 31  True_x                                      471743 non-null  int64  \n",
      " 32  F01                                         471743 non-null  float64\n",
      " 33  F02                                         471743 non-null  float64\n",
      " 34  F03                                         471743 non-null  float64\n",
      " 35  F05                                         471743 non-null  float64\n",
      " 36  F06                                         471743 non-null  float64\n",
      " 37  F10                                         471743 non-null  float64\n",
      " 38  Active                                      471743 non-null  int64  \n",
      " 39  Closed                                      471743 non-null  int64  \n",
      " 40  Delinquent                                  471743 non-null  int64  \n",
      " 41  Restructured                                471743 non-null  int64  \n",
      " 42  SUIT FILED (WILFUL DEFAULT)                 471743 non-null  int64  \n",
      " 43  Settled                                     471743 non-null  int64  \n",
      " 44  Suit Filed                                  471743 non-null  int64  \n",
      " 45  WILFUL DEFAULT                              471743 non-null  int64  \n",
      " 46  Written Off                                 471743 non-null  int64  \n",
      " 47  Guarantor                                   471743 non-null  int64  \n",
      " 48  Individual                                  471743 non-null  int64  \n",
      " 49  Joint                                       471743 non-null  int64  \n",
      " 50  Primary                                     471743 non-null  int64  \n",
      " 51  Supl Card Holder                            471743 non-null  int64  \n",
      " 52  CCC                                         471743 non-null  int64  \n",
      " 53  COP                                         471743 non-null  int64  \n",
      " 54  FRB                                         471743 non-null  int64  \n",
      " 55  HFC                                         471743 non-null  int64  \n",
      " 56  MFI                                         471743 non-null  int64  \n",
      " 57  NAB                                         471743 non-null  int64  \n",
      " 58  NBF                                         471743 non-null  int64  \n",
      " 59  OFI                                         471743 non-null  int64  \n",
      " 60  PRB                                         471743 non-null  int64  \n",
      " 61  RRB                                         471743 non-null  int64  \n",
      " 62  SFB                                         471743 non-null  int64  \n",
      " 63  Tractor Loan                                471743 non-null  int64  \n",
      " 64  Gold Loan                                   471743 non-null  int64  \n",
      " 65  Business Loan Priority Sector  Agriculture  471743 non-null  int64  \n",
      " 66  Others                                      471743 non-null  int64  \n",
      " 67  PRIMARY                                     471743 non-null  int64  \n",
      " 68  SECONDARY                                   471743 non-null  int64  \n",
      " 69  01                                          471743 non-null  float64\n",
      " 70  1                                           471743 non-null  float64\n",
      " 71  Doubtful                                    471743 non-null  float64\n",
      " 72  Loss                                        471743 non-null  float64\n",
      " 73  Special Mention Account                     471743 non-null  float64\n",
      " 74  Standard                                    471743 non-null  float64\n",
      " 75  SubStandard                                 471743 non-null  float64\n",
      " 76  0.0_y                                       471743 non-null  int64  \n",
      " 77  1.0_y                                       471743 non-null  int64  \n",
      " 78  2.0_x                                       471743 non-null  int64  \n",
      " 79  3.0_x                                       471743 non-null  int64  \n",
      " 80  0.0                                         471743 non-null  int64  \n",
      " 81  1.0                                         471743 non-null  int64  \n",
      " 82  2.0_y                                       471743 non-null  int64  \n",
      " 83  3.0_y                                       471743 non-null  int64  \n",
      "dtypes: float64(32), int64(52)\n",
      "memory usage: 305.9 MB\n"
     ]
    }
   ],
   "source": [
    "final_df_train.info()"
   ]
  },
  {
   "cell_type": "code",
   "execution_count": 143,
   "metadata": {
    "id": "GGCnIdb-FHc0"
   },
   "outputs": [],
   "source": []
  },
  {
   "cell_type": "code",
   "execution_count": 202,
   "metadata": {
    "id": "8erJ5XUaJIrD"
   },
   "outputs": [],
   "source": []
  },
  {
   "cell_type": "code",
   "execution_count": 205,
   "metadata": {
    "colab": {
     "base_uri": "https://localhost:8080/"
    },
    "id": "tGkkuFjJOT5V",
    "outputId": "cb2ec999-bea0-4b03-a265-c8e4eddc52f0"
   },
   "outputs": [
    {
     "data": {
      "text/plain": [
       "Index([                                        'ID',\n",
       "                                           'Tenure',\n",
       "                                        'AssetCost',\n",
       "                                    'AmountFinance',\n",
       "                                  'DisbursalAmount',\n",
       "                                              'EMI',\n",
       "                                          'AssetID',\n",
       "                                       'SupplierID',\n",
       "                                              'LTV',\n",
       "                                              'AGE',\n",
       "                                    'MonthlyIncome',\n",
       "                                     'Top-up Month',\n",
       "                                 'AuthtoMatureDays',\n",
       "                                    'AuthtoDisDays',\n",
       "                                         'AuthYear',\n",
       "                                        'AuthMonth',\n",
       "                                     'MaturityYear',\n",
       "                                    'MaturityMonth',\n",
       "                                'Frequency_ordinal',\n",
       "                            'InstlmentMode_Advance',\n",
       "                             'InstlmentMode_Arrear',\n",
       "                                'LoanStatus_Active',\n",
       "                                'LoanStatus_Closed',\n",
       "                                            'SEX_F',\n",
       "                                            'SEX_M',\n",
       "                               'PaymentMode_target',\n",
       "                                     'State_target',\n",
       "                                  'BranchID_target',\n",
       "                                   'ZiPCODE_target',\n",
       "                            'ManufacturerID_target',\n",
       "                                          'False_x',\n",
       "                                           'True_x',\n",
       "                                              'F01',\n",
       "                                              'F02',\n",
       "                                              'F03',\n",
       "                                              'F05',\n",
       "                                              'F06',\n",
       "                                              'F10',\n",
       "                                           'Active',\n",
       "                                           'Closed',\n",
       "                                       'Delinquent',\n",
       "                                     'Restructured',\n",
       "                      'SUIT FILED (WILFUL DEFAULT)',\n",
       "                                          'Settled',\n",
       "                                       'Suit Filed',\n",
       "                                   'WILFUL DEFAULT',\n",
       "                                      'Written Off',\n",
       "                                        'Guarantor',\n",
       "                                       'Individual',\n",
       "                                            'Joint',\n",
       "                                          'Primary',\n",
       "                                 'Supl Card Holder',\n",
       "                                              'CCC',\n",
       "                                              'COP',\n",
       "                                              'FRB',\n",
       "                                              'HFC',\n",
       "                                              'MFI',\n",
       "                                              'NAB',\n",
       "                                              'NBF',\n",
       "                                              'OFI',\n",
       "                                              'PRB',\n",
       "                                              'RRB',\n",
       "                                              'SFB',\n",
       "                                     'Tractor Loan',\n",
       "                                        'Gold Loan',\n",
       "       'Business Loan Priority Sector  Agriculture',\n",
       "                                           'Others',\n",
       "                                          'PRIMARY',\n",
       "                                        'SECONDARY',\n",
       "                                               '01',\n",
       "                                                '1',\n",
       "                                         'Doubtful',\n",
       "                                             'Loss',\n",
       "                          'Special Mention Account',\n",
       "                                         'Standard',\n",
       "                                      'SubStandard',\n",
       "                                            '0.0_y',\n",
       "                                            '1.0_y',\n",
       "                                            '2.0_x',\n",
       "                                            '3.0_x',\n",
       "                                                0.0,\n",
       "                                                1.0,\n",
       "                                            '2.0_y',\n",
       "                                            '3.0_y'],\n",
       "      dtype='object')"
      ]
     },
     "execution_count": 205,
     "metadata": {
      "tags": []
     },
     "output_type": "execute_result"
    }
   ],
   "source": [
    "final_df_train.columns"
   ]
  },
  {
   "cell_type": "code",
   "execution_count": 209,
   "metadata": {
    "colab": {
     "base_uri": "https://localhost:8080/"
    },
    "id": "cvCBcZ5Lg5fY",
    "outputId": "75d30bbb-d690-4935-bb96-ad77a6097281"
   },
   "outputs": [
    {
     "data": {
      "text/plain": [
       "0    320802\n",
       "6     62978\n",
       "5     23968\n",
       "3     21152\n",
       "4     17931\n",
       "2     16338\n",
       "1      8574\n",
       "Name: Top-up Month, dtype: int64"
      ]
     },
     "execution_count": 209,
     "metadata": {
      "tags": []
     },
     "output_type": "execute_result"
    }
   ],
   "source": [
    "final_df_train['Top-up Month'].value_counts()"
   ]
  },
  {
   "cell_type": "code",
   "execution_count": 206,
   "metadata": {
    "id": "V7ageXUEWS1J"
   },
   "outputs": [],
   "source": [
    "cols = ['Tenure', 'AssetID','SupplierID', 'AGE',  'AuthYear', 'AuthMonth','MaturityYear','MaturityMonth', 'Frequency_ordinal','InstlmentMode_Advance','InstlmentMode_Arrear',\n",
    "                                'LoanStatus_Active',\n",
    "                                'LoanStatus_Closed', 'SEX_F','SEX_M','PaymentMode_target','State_target','BranchID_target','ZiPCODE_target','ManufacturerID_target',\n",
    "                                          'False_x', 'True_x',\n",
    "                                              'F01', 'F02','F03','F05','F06', 'F10',\n",
    "                                           'Active', 'Closed','Delinquent', 'Restructured', 'SUIT FILED (WILFUL DEFAULT)','Settled', 'Suit Filed','WILFUL DEFAULT',\n",
    "                                      'Written Off', 'Guarantor', 'Individual','Joint','Primary', 'Supl Card Holder',\n",
    "                                              'CCC', 'COP', 'FRB', 'HFC', 'MFI', 'NAB',  'NBF', 'OFI', 'PRB', 'RRB', 'SFB',\n",
    "                                     'Tractor Loan',\n",
    "                                        'Gold Loan',\n",
    "       'Business Loan Priority Sector  Agriculture',\n",
    "                                           'Others',\n",
    "                                          'PRIMARY',\n",
    "                                        'SECONDARY',\n",
    "                                               '01',\n",
    "                                                '1',\n",
    "                                         'Doubtful',\n",
    "                                             'Loss',\n",
    "                          'Special Mention Account',\n",
    "                                         'Standard',\n",
    "                                      'SubStandard',\n",
    "                                            '0.0_y',\n",
    "                                            '1.0_y',\n",
    "                                            '2.0_x',\n",
    "                                            '3.0_x',\n",
    "                                            '0.0_x',\n",
    "                                            '1.0_x',\n",
    "                                            '2.0_y',\n",
    "                                            '3.0_y'  ]"
   ]
  },
  {
   "cell_type": "code",
   "execution_count": 211,
   "metadata": {
    "colab": {
     "base_uri": "https://localhost:8080/",
     "height": 1000,
     "referenced_widgets": [
      "45310282386847718863a188b55204b5",
      "69cd85be6ca6473680514f20af30e69f",
      "7a2c95e038544618a75e0b7d944740ab",
      "dd1810cc2c01483383d65cb882e871fe",
      "1ca128d235d04f7dba69b97f27e40fdf",
      "8cc70aac58594e10a4629fa8f4f6da22"
     ]
    },
    "id": "tQlKUbs5DRlT",
    "outputId": "31c5eb0d-0056-456d-8d18-f50fa86b8088"
   },
   "outputs": [
    {
     "data": {
      "text/html": [
       "<div>\n",
       "<style scoped>\n",
       "    .dataframe tbody tr th:only-of-type {\n",
       "        vertical-align: middle;\n",
       "    }\n",
       "\n",
       "    .dataframe tbody tr th {\n",
       "        vertical-align: top;\n",
       "    }\n",
       "\n",
       "    .dataframe thead th {\n",
       "        text-align: right;\n",
       "    }\n",
       "</style>\n",
       "<table border=\"1\" class=\"dataframe\">\n",
       "  <thead>\n",
       "    <tr style=\"text-align: right;\">\n",
       "      <th></th>\n",
       "      <th>Description</th>\n",
       "      <th>Value</th>\n",
       "    </tr>\n",
       "  </thead>\n",
       "  <tbody>\n",
       "    <tr>\n",
       "      <th>0</th>\n",
       "      <td>session_id</td>\n",
       "      <td>123</td>\n",
       "    </tr>\n",
       "    <tr>\n",
       "      <th>1</th>\n",
       "      <td>Target</td>\n",
       "      <td>Top-up Month</td>\n",
       "    </tr>\n",
       "    <tr>\n",
       "      <th>2</th>\n",
       "      <td>Target Type</td>\n",
       "      <td>Multiclass</td>\n",
       "    </tr>\n",
       "    <tr>\n",
       "      <th>3</th>\n",
       "      <td>Label Encoded</td>\n",
       "      <td>0: 0, 1: 1, 2: 2, 3: 3, 4: 4, 5: 5, 6: 6</td>\n",
       "    </tr>\n",
       "    <tr>\n",
       "      <th>4</th>\n",
       "      <td>Original Data</td>\n",
       "      <td>(471743, 84)</td>\n",
       "    </tr>\n",
       "    <tr>\n",
       "      <th>5</th>\n",
       "      <td>Missing Values</td>\n",
       "      <td>False</td>\n",
       "    </tr>\n",
       "    <tr>\n",
       "      <th>6</th>\n",
       "      <td>Numeric Features</td>\n",
       "      <td>52</td>\n",
       "    </tr>\n",
       "    <tr>\n",
       "      <th>7</th>\n",
       "      <td>Categorical Features</td>\n",
       "      <td>31</td>\n",
       "    </tr>\n",
       "    <tr>\n",
       "      <th>8</th>\n",
       "      <td>Ordinal Features</td>\n",
       "      <td>False</td>\n",
       "    </tr>\n",
       "    <tr>\n",
       "      <th>9</th>\n",
       "      <td>High Cardinality Features</td>\n",
       "      <td>False</td>\n",
       "    </tr>\n",
       "    <tr>\n",
       "      <th>10</th>\n",
       "      <td>High Cardinality Method</td>\n",
       "      <td>None</td>\n",
       "    </tr>\n",
       "    <tr>\n",
       "      <th>11</th>\n",
       "      <td>Transformed Train Set</td>\n",
       "      <td>(330220, 213)</td>\n",
       "    </tr>\n",
       "    <tr>\n",
       "      <th>12</th>\n",
       "      <td>Transformed Test Set</td>\n",
       "      <td>(141523, 213)</td>\n",
       "    </tr>\n",
       "    <tr>\n",
       "      <th>13</th>\n",
       "      <td>Shuffle Train-Test</td>\n",
       "      <td>True</td>\n",
       "    </tr>\n",
       "    <tr>\n",
       "      <th>14</th>\n",
       "      <td>Stratify Train-Test</td>\n",
       "      <td>False</td>\n",
       "    </tr>\n",
       "    <tr>\n",
       "      <th>15</th>\n",
       "      <td>Fold Generator</td>\n",
       "      <td>StratifiedKFold</td>\n",
       "    </tr>\n",
       "    <tr>\n",
       "      <th>16</th>\n",
       "      <td>Fold Number</td>\n",
       "      <td>10</td>\n",
       "    </tr>\n",
       "    <tr>\n",
       "      <th>17</th>\n",
       "      <td>CPU Jobs</td>\n",
       "      <td>-1</td>\n",
       "    </tr>\n",
       "    <tr>\n",
       "      <th>18</th>\n",
       "      <td>Use GPU</td>\n",
       "      <td>False</td>\n",
       "    </tr>\n",
       "    <tr>\n",
       "      <th>19</th>\n",
       "      <td>Log Experiment</td>\n",
       "      <td>False</td>\n",
       "    </tr>\n",
       "    <tr>\n",
       "      <th>20</th>\n",
       "      <td>Experiment Name</td>\n",
       "      <td>clf-default-name</td>\n",
       "    </tr>\n",
       "    <tr>\n",
       "      <th>21</th>\n",
       "      <td>USI</td>\n",
       "      <td>c112</td>\n",
       "    </tr>\n",
       "    <tr>\n",
       "      <th>22</th>\n",
       "      <td>Imputation Type</td>\n",
       "      <td>simple</td>\n",
       "    </tr>\n",
       "    <tr>\n",
       "      <th>23</th>\n",
       "      <td>Iterative Imputation Iteration</td>\n",
       "      <td>None</td>\n",
       "    </tr>\n",
       "    <tr>\n",
       "      <th>24</th>\n",
       "      <td>Numeric Imputer</td>\n",
       "      <td>mean</td>\n",
       "    </tr>\n",
       "    <tr>\n",
       "      <th>25</th>\n",
       "      <td>Iterative Imputation Numeric Model</td>\n",
       "      <td>None</td>\n",
       "    </tr>\n",
       "    <tr>\n",
       "      <th>26</th>\n",
       "      <td>Categorical Imputer</td>\n",
       "      <td>constant</td>\n",
       "    </tr>\n",
       "    <tr>\n",
       "      <th>27</th>\n",
       "      <td>Iterative Imputation Categorical Model</td>\n",
       "      <td>None</td>\n",
       "    </tr>\n",
       "    <tr>\n",
       "      <th>28</th>\n",
       "      <td>Unknown Categoricals Handling</td>\n",
       "      <td>least_frequent</td>\n",
       "    </tr>\n",
       "    <tr>\n",
       "      <th>29</th>\n",
       "      <td>Normalize</td>\n",
       "      <td>False</td>\n",
       "    </tr>\n",
       "    <tr>\n",
       "      <th>30</th>\n",
       "      <td>Normalize Method</td>\n",
       "      <td>None</td>\n",
       "    </tr>\n",
       "    <tr>\n",
       "      <th>31</th>\n",
       "      <td>Transformation</td>\n",
       "      <td>False</td>\n",
       "    </tr>\n",
       "    <tr>\n",
       "      <th>32</th>\n",
       "      <td>Transformation Method</td>\n",
       "      <td>None</td>\n",
       "    </tr>\n",
       "    <tr>\n",
       "      <th>33</th>\n",
       "      <td>PCA</td>\n",
       "      <td>False</td>\n",
       "    </tr>\n",
       "    <tr>\n",
       "      <th>34</th>\n",
       "      <td>PCA Method</td>\n",
       "      <td>None</td>\n",
       "    </tr>\n",
       "    <tr>\n",
       "      <th>35</th>\n",
       "      <td>PCA Components</td>\n",
       "      <td>None</td>\n",
       "    </tr>\n",
       "    <tr>\n",
       "      <th>36</th>\n",
       "      <td>Ignore Low Variance</td>\n",
       "      <td>False</td>\n",
       "    </tr>\n",
       "    <tr>\n",
       "      <th>37</th>\n",
       "      <td>Combine Rare Levels</td>\n",
       "      <td>False</td>\n",
       "    </tr>\n",
       "    <tr>\n",
       "      <th>38</th>\n",
       "      <td>Rare Level Threshold</td>\n",
       "      <td>None</td>\n",
       "    </tr>\n",
       "    <tr>\n",
       "      <th>39</th>\n",
       "      <td>Numeric Binning</td>\n",
       "      <td>False</td>\n",
       "    </tr>\n",
       "    <tr>\n",
       "      <th>40</th>\n",
       "      <td>Remove Outliers</td>\n",
       "      <td>False</td>\n",
       "    </tr>\n",
       "    <tr>\n",
       "      <th>41</th>\n",
       "      <td>Outliers Threshold</td>\n",
       "      <td>None</td>\n",
       "    </tr>\n",
       "    <tr>\n",
       "      <th>42</th>\n",
       "      <td>Remove Multicollinearity</td>\n",
       "      <td>False</td>\n",
       "    </tr>\n",
       "    <tr>\n",
       "      <th>43</th>\n",
       "      <td>Multicollinearity Threshold</td>\n",
       "      <td>None</td>\n",
       "    </tr>\n",
       "    <tr>\n",
       "      <th>44</th>\n",
       "      <td>Clustering</td>\n",
       "      <td>False</td>\n",
       "    </tr>\n",
       "    <tr>\n",
       "      <th>45</th>\n",
       "      <td>Clustering Iteration</td>\n",
       "      <td>None</td>\n",
       "    </tr>\n",
       "    <tr>\n",
       "      <th>46</th>\n",
       "      <td>Polynomial Features</td>\n",
       "      <td>False</td>\n",
       "    </tr>\n",
       "    <tr>\n",
       "      <th>47</th>\n",
       "      <td>Polynomial Degree</td>\n",
       "      <td>None</td>\n",
       "    </tr>\n",
       "    <tr>\n",
       "      <th>48</th>\n",
       "      <td>Trignometry Features</td>\n",
       "      <td>False</td>\n",
       "    </tr>\n",
       "    <tr>\n",
       "      <th>49</th>\n",
       "      <td>Polynomial Threshold</td>\n",
       "      <td>None</td>\n",
       "    </tr>\n",
       "    <tr>\n",
       "      <th>50</th>\n",
       "      <td>Group Features</td>\n",
       "      <td>False</td>\n",
       "    </tr>\n",
       "    <tr>\n",
       "      <th>51</th>\n",
       "      <td>Feature Selection</td>\n",
       "      <td>False</td>\n",
       "    </tr>\n",
       "    <tr>\n",
       "      <th>52</th>\n",
       "      <td>Features Selection Threshold</td>\n",
       "      <td>None</td>\n",
       "    </tr>\n",
       "    <tr>\n",
       "      <th>53</th>\n",
       "      <td>Feature Interaction</td>\n",
       "      <td>False</td>\n",
       "    </tr>\n",
       "    <tr>\n",
       "      <th>54</th>\n",
       "      <td>Feature Ratio</td>\n",
       "      <td>False</td>\n",
       "    </tr>\n",
       "    <tr>\n",
       "      <th>55</th>\n",
       "      <td>Interaction Threshold</td>\n",
       "      <td>None</td>\n",
       "    </tr>\n",
       "    <tr>\n",
       "      <th>56</th>\n",
       "      <td>Fix Imbalance</td>\n",
       "      <td>False</td>\n",
       "    </tr>\n",
       "    <tr>\n",
       "      <th>57</th>\n",
       "      <td>Fix Imbalance Method</td>\n",
       "      <td>SMOTE</td>\n",
       "    </tr>\n",
       "  </tbody>\n",
       "</table>\n",
       "</div>"
      ],
      "text/plain": [
       "                               Description                                     Value\n",
       "0                               session_id                                       123\n",
       "1                                   Target                              Top-up Month\n",
       "2                              Target Type                                Multiclass\n",
       "3                            Label Encoded  0: 0, 1: 1, 2: 2, 3: 3, 4: 4, 5: 5, 6: 6\n",
       "4                            Original Data                              (471743, 84)\n",
       "5                           Missing Values                                     False\n",
       "6                         Numeric Features                                        52\n",
       "7                     Categorical Features                                        31\n",
       "8                         Ordinal Features                                     False\n",
       "9                High Cardinality Features                                     False\n",
       "10                 High Cardinality Method                                      None\n",
       "11                   Transformed Train Set                             (330220, 213)\n",
       "12                    Transformed Test Set                             (141523, 213)\n",
       "13                      Shuffle Train-Test                                      True\n",
       "14                     Stratify Train-Test                                     False\n",
       "15                          Fold Generator                           StratifiedKFold\n",
       "16                             Fold Number                                        10\n",
       "17                                CPU Jobs                                        -1\n",
       "18                                 Use GPU                                     False\n",
       "19                          Log Experiment                                     False\n",
       "20                         Experiment Name                          clf-default-name\n",
       "21                                     USI                                      c112\n",
       "22                         Imputation Type                                    simple\n",
       "23          Iterative Imputation Iteration                                      None\n",
       "24                         Numeric Imputer                                      mean\n",
       "25      Iterative Imputation Numeric Model                                      None\n",
       "26                     Categorical Imputer                                  constant\n",
       "27  Iterative Imputation Categorical Model                                      None\n",
       "28           Unknown Categoricals Handling                            least_frequent\n",
       "29                               Normalize                                     False\n",
       "30                        Normalize Method                                      None\n",
       "31                          Transformation                                     False\n",
       "32                   Transformation Method                                      None\n",
       "33                                     PCA                                     False\n",
       "34                              PCA Method                                      None\n",
       "35                          PCA Components                                      None\n",
       "36                     Ignore Low Variance                                     False\n",
       "37                     Combine Rare Levels                                     False\n",
       "38                    Rare Level Threshold                                      None\n",
       "39                         Numeric Binning                                     False\n",
       "40                         Remove Outliers                                     False\n",
       "41                      Outliers Threshold                                      None\n",
       "42                Remove Multicollinearity                                     False\n",
       "43             Multicollinearity Threshold                                      None\n",
       "44                              Clustering                                     False\n",
       "45                    Clustering Iteration                                      None\n",
       "46                     Polynomial Features                                     False\n",
       "47                       Polynomial Degree                                      None\n",
       "48                    Trignometry Features                                     False\n",
       "49                    Polynomial Threshold                                      None\n",
       "50                          Group Features                                     False\n",
       "51                       Feature Selection                                     False\n",
       "52            Features Selection Threshold                                      None\n",
       "53                     Feature Interaction                                     False\n",
       "54                           Feature Ratio                                     False\n",
       "55                   Interaction Threshold                                      None\n",
       "56                           Fix Imbalance                                     False\n",
       "57                    Fix Imbalance Method                                     SMOTE"
      ]
     },
     "metadata": {
      "tags": []
     },
     "output_type": "display_data"
    }
   ],
   "source": [
    "pycaret = setup(data =final_df_train , target ='Top-up Month',session_id=123 )"
   ]
  },
  {
   "cell_type": "code",
   "execution_count": null,
   "metadata": {
    "id": "YY3oYBicb9CJ"
   },
   "outputs": [],
   "source": [
    "compare_models(blacklist = ['svm'], sort = 'F1')   #"
   ]
  },
  {
   "cell_type": "code",
   "execution_count": 1,
   "metadata": {
    "colab": {
     "base_uri": "https://localhost:8080/",
     "height": 163
    },
    "id": "W8d7BhjBb9GF",
    "outputId": "1535810d-d7dc-4c08-f82a-13df3c49ac7f"
   },
   "outputs": [
    {
     "ename": "NameError",
     "evalue": "ignored",
     "output_type": "error",
     "traceback": [
      "\u001b[0;31m---------------------------------------------------------------------------\u001b[0m",
      "\u001b[0;31mNameError\u001b[0m                                 Traceback (most recent call last)",
      "\u001b[0;32m<ipython-input-1-242af58fc2e6>\u001b[0m in \u001b[0;36m<module>\u001b[0;34m()\u001b[0m\n\u001b[0;32m----> 1\u001b[0;31m \u001b[0mrf\u001b[0m \u001b[0;34m=\u001b[0m \u001b[0mcreate_model\u001b[0m\u001b[0;34m(\u001b[0m\u001b[0mestimator\u001b[0m \u001b[0;34m=\u001b[0m \u001b[0;34m'rf'\u001b[0m\u001b[0;34m)\u001b[0m\u001b[0;34m\u001b[0m\u001b[0;34m\u001b[0m\u001b[0m\n\u001b[0m",
      "\u001b[0;31mNameError\u001b[0m: name 'create_model' is not defined"
     ]
    }
   ],
   "source": [
    "rf = create_model(estimator = 'rf')"
   ]
  },
  {
   "cell_type": "code",
   "execution_count": null,
   "metadata": {
    "id": "LXyupJDidgNd"
   },
   "outputs": [],
   "source": [
    "dt = create_model(estimator = 'dt')"
   ]
  },
  {
   "cell_type": "code",
   "execution_count": null,
   "metadata": {
    "id": "lZ2qwN8kdgQq"
   },
   "outputs": [],
   "source": [
    "lgb = create_model(estimator = 'lightgbm')"
   ]
  },
  {
   "cell_type": "code",
   "execution_count": null,
   "metadata": {
    "id": "guI6Z04YdgTO"
   },
   "outputs": [],
   "source": [
    "ridge = create_model(estimator = 'ridge')"
   ]
  },
  {
   "cell_type": "code",
   "execution_count": null,
   "metadata": {
    "id": "v_vg-2L5f2Hp"
   },
   "outputs": [],
   "source": [
    "catboost = create_model(estimator = 'catboost')"
   ]
  },
  {
   "cell_type": "code",
   "execution_count": null,
   "metadata": {
    "id": "IuQia2IGdgWX"
   },
   "outputs": [],
   "source": [
    "tune_rf = tune_model(estimator = 'rf',  optimize = 'F1',  verbose = True)\n"
   ]
  },
  {
   "cell_type": "code",
   "execution_count": null,
   "metadata": {
    "id": "659fWbfPdgY0"
   },
   "outputs": [],
   "source": [
    "tune_dt = tune_model(estimator = 'dt',  optimize = 'F1',  verbose = True)\n"
   ]
  },
  {
   "cell_type": "code",
   "execution_count": null,
   "metadata": {
    "id": "xk1jqOkjdgbD"
   },
   "outputs": [],
   "source": [
    "tune_lda = tune_model(estimator = 'lda',  optimize = 'F1',  verbose = True)\n"
   ]
  },
  {
   "cell_type": "code",
   "execution_count": null,
   "metadata": {
    "id": "wMKU9KBZfd88"
   },
   "outputs": [],
   "source": [
    "tune_lgb = tune_model(estimator = 'lightgbm',  optimize = 'F1',  verbose = True)\n"
   ]
  },
  {
   "cell_type": "code",
   "execution_count": null,
   "metadata": {
    "id": "gjh7EooJfqrT"
   },
   "outputs": [],
   "source": [
    "tune_ridge = tune_model(estimator = 'ridge',  optimize = 'F1',  verbose = True)\n"
   ]
  },
  {
   "cell_type": "code",
   "execution_count": null,
   "metadata": {
    "id": "JEsE1q4alkI5"
   },
   "outputs": [],
   "source": [
    "tune_ridge = tune_model(estimator = 'catboost',  optimize = 'F1',  verbose = True)\n"
   ]
  },
  {
   "cell_type": "code",
   "execution_count": null,
   "metadata": {
    "id": "PAbpOTpEm6a5"
   },
   "outputs": [],
   "source": []
  },
  {
   "cell_type": "code",
   "execution_count": null,
   "metadata": {
    "id": "znIiytGifquc"
   },
   "outputs": [],
   "source": [
    "blend_specific_hard = blend_models(estimator_list = [tune_rf,tune_ridge,tune_lgb], method = 'hard') "
   ]
  },
  {
   "cell_type": "code",
   "execution_count": null,
   "metadata": {
    "id": "czfMS8-Qfqwx"
   },
   "outputs": [],
   "source": [
    "blend_specific_soft = blend_models(estimator_list = [tune_rf,tune_et,tune_lgb], method = 'soft') #those who support predict prob "
   ]
  },
  {
   "cell_type": "code",
   "execution_count": null,
   "metadata": {
    "id": "NO4-8BfZQnVU"
   },
   "outputs": [],
   "source": [
    "plot_model(estimator=tune_et, plot='feature')"
   ]
  },
  {
   "cell_type": "code",
   "execution_count": null,
   "metadata": {
    "id": "CSwHgIUSQoGl"
   },
   "outputs": [],
   "source": [
    "plot_model(tune_et, plot = 'confusion_matrix')"
   ]
  },
  {
   "cell_type": "code",
   "execution_count": null,
   "metadata": {
    "id": "BxtN_yLwQoJ4"
   },
   "outputs": [],
   "source": [
    "final_tune_rf = finalize_model(tune_rf)"
   ]
  },
  {
   "cell_type": "code",
   "execution_count": null,
   "metadata": {
    "id": "5UL6u_5Bm1T1"
   },
   "outputs": [],
   "source": [
    "final_tune_rf = finalize_model(tune_rf)"
   ]
  },
  {
   "cell_type": "code",
   "execution_count": null,
   "metadata": {
    "id": "cvsHUMsQm1ZJ"
   },
   "outputs": [],
   "source": [
    "final_tune_rf = finalize_model(tune_rf)"
   ]
  },
  {
   "cell_type": "code",
   "execution_count": null,
   "metadata": {
    "id": "4akZz3vDm1fC"
   },
   "outputs": [],
   "source": [
    "final_tune_rf = finalize_model(tune_rf)"
   ]
  },
  {
   "cell_type": "code",
   "execution_count": null,
   "metadata": {
    "id": "LGxSHrsdm1kM"
   },
   "outputs": [],
   "source": [
    "final_tune_rf = finalize_model(tune_rf)"
   ]
  },
  {
   "cell_type": "code",
   "execution_count": null,
   "metadata": {
    "id": "vZQyO3PXQoMa"
   },
   "outputs": [],
   "source": [
    "prediction_ = predict_model(estimator, data=final_df_test,verbose=True)"
   ]
  },
  {
   "cell_type": "code",
   "execution_count": null,
   "metadata": {
    "id": "GZhzCwkBQyq5"
   },
   "outputs": [],
   "source": []
  },
  {
   "cell_type": "code",
   "execution_count": null,
   "metadata": {
    "id": "W13Fla6rQyt7"
   },
   "outputs": [],
   "source": []
  },
  {
   "cell_type": "code",
   "execution_count": null,
   "metadata": {
    "id": "b4V04BN9Qywx"
   },
   "outputs": [],
   "source": [
    "submisson = pd.read_csv('/content/drive/MyDrive/LTFSDSFinHack3/sample_submission_ejm25Dc.csv')"
   ]
  },
  {
   "cell_type": "code",
   "execution_count": null,
   "metadata": {
    "id": "Zv_JA7uGl417"
   },
   "outputs": [],
   "source": []
  },
  {
   "cell_type": "code",
   "execution_count": null,
   "metadata": {
    "id": "j0PgvSNrl46Q"
   },
   "outputs": [],
   "source": [
    "submission['Top-up Month'] = predict_tune...['Top-up Month']"
   ]
  },
  {
   "cell_type": "code",
   "execution_count": null,
   "metadata": {
    "id": "6kMV2b7Hl5A8"
   },
   "outputs": [],
   "source": [
    "mapping_dict = {'No Top-up Service':0, '12-18 Months':1,'18-24 Months':2, '24-30 Months':3, \n",
    "                '30-36 Months':4,'36-48 Months':5,' > 48 Months':6}"
   ]
  },
  {
   "cell_type": "code",
   "execution_count": null,
   "metadata": {
    "id": "g24TuL7Wl5GJ"
   },
   "outputs": [],
   "source": [
    "submission['Top-up Month'] = submission['Top-up Month'].replace(mapping_dict) "
   ]
  },
  {
   "cell_type": "code",
   "execution_count": null,
   "metadata": {
    "id": "1sZGX2h6nLdL"
   },
   "outputs": [],
   "source": [
    "submission.to_csv('model.csv', index =False)"
   ]
  },
  {
   "cell_type": "code",
   "execution_count": null,
   "metadata": {
    "id": "WmgDvU2tnLhc"
   },
   "outputs": [],
   "source": []
  },
  {
   "cell_type": "code",
   "execution_count": null,
   "metadata": {
    "id": "reTPj9FmnLow"
   },
   "outputs": [],
   "source": []
  },
  {
   "cell_type": "code",
   "execution_count": null,
   "metadata": {
    "id": "5UXGYWc5nLt1"
   },
   "outputs": [],
   "source": []
  }
 ],
 "metadata": {
  "colab": {
   "collapsed_sections": [],
   "include_colab_link": true,
   "name": "Copy of FeatureEngineering.ipynb",
   "provenance": []
  },
  "kernelspec": {
   "display_name": "Python 3",
   "language": "python",
   "name": "python3"
  },
  "language_info": {
   "codemirror_mode": {
    "name": "ipython",
    "version": 3
   },
   "file_extension": ".py",
   "mimetype": "text/x-python",
   "name": "python",
   "nbconvert_exporter": "python",
   "pygments_lexer": "ipython3",
   "version": "3.8.3"
  },
  "widgets": {
   "application/vnd.jupyter.widget-state+json": {
    "1ca128d235d04f7dba69b97f27e40fdf": {
     "model_module": "@jupyter-widgets/controls",
     "model_name": "DescriptionStyleModel",
     "state": {
      "_model_module": "@jupyter-widgets/controls",
      "_model_module_version": "1.5.0",
      "_model_name": "DescriptionStyleModel",
      "_view_count": null,
      "_view_module": "@jupyter-widgets/base",
      "_view_module_version": "1.2.0",
      "_view_name": "StyleView",
      "description_width": ""
     }
    },
    "45310282386847718863a188b55204b5": {
     "model_module": "@jupyter-widgets/controls",
     "model_name": "IntProgressModel",
     "state": {
      "_dom_classes": [],
      "_model_module": "@jupyter-widgets/controls",
      "_model_module_version": "1.5.0",
      "_model_name": "IntProgressModel",
      "_view_count": null,
      "_view_module": "@jupyter-widgets/controls",
      "_view_module_version": "1.5.0",
      "_view_name": "ProgressView",
      "bar_style": "",
      "description": "Processing: ",
      "description_tooltip": null,
      "layout": "IPY_MODEL_7a2c95e038544618a75e0b7d944740ab",
      "max": 3,
      "min": 0,
      "orientation": "horizontal",
      "style": "IPY_MODEL_69cd85be6ca6473680514f20af30e69f",
      "value": 3
     }
    },
    "69cd85be6ca6473680514f20af30e69f": {
     "model_module": "@jupyter-widgets/controls",
     "model_name": "ProgressStyleModel",
     "state": {
      "_model_module": "@jupyter-widgets/controls",
      "_model_module_version": "1.5.0",
      "_model_name": "ProgressStyleModel",
      "_view_count": null,
      "_view_module": "@jupyter-widgets/base",
      "_view_module_version": "1.2.0",
      "_view_name": "StyleView",
      "bar_color": null,
      "description_width": ""
     }
    },
    "7a2c95e038544618a75e0b7d944740ab": {
     "model_module": "@jupyter-widgets/base",
     "model_name": "LayoutModel",
     "state": {
      "_model_module": "@jupyter-widgets/base",
      "_model_module_version": "1.2.0",
      "_model_name": "LayoutModel",
      "_view_count": null,
      "_view_module": "@jupyter-widgets/base",
      "_view_module_version": "1.2.0",
      "_view_name": "LayoutView",
      "align_content": null,
      "align_items": null,
      "align_self": null,
      "border": null,
      "bottom": null,
      "display": null,
      "flex": null,
      "flex_flow": null,
      "grid_area": null,
      "grid_auto_columns": null,
      "grid_auto_flow": null,
      "grid_auto_rows": null,
      "grid_column": null,
      "grid_gap": null,
      "grid_row": null,
      "grid_template_areas": null,
      "grid_template_columns": null,
      "grid_template_rows": null,
      "height": null,
      "justify_content": null,
      "justify_items": null,
      "left": null,
      "margin": null,
      "max_height": null,
      "max_width": null,
      "min_height": null,
      "min_width": null,
      "object_fit": null,
      "object_position": null,
      "order": null,
      "overflow": null,
      "overflow_x": null,
      "overflow_y": null,
      "padding": null,
      "right": null,
      "top": null,
      "visibility": null,
      "width": null
     }
    },
    "8cc70aac58594e10a4629fa8f4f6da22": {
     "model_module": "@jupyter-widgets/base",
     "model_name": "LayoutModel",
     "state": {
      "_model_module": "@jupyter-widgets/base",
      "_model_module_version": "1.2.0",
      "_model_name": "LayoutModel",
      "_view_count": null,
      "_view_module": "@jupyter-widgets/base",
      "_view_module_version": "1.2.0",
      "_view_name": "LayoutView",
      "align_content": null,
      "align_items": null,
      "align_self": null,
      "border": null,
      "bottom": null,
      "display": null,
      "flex": null,
      "flex_flow": null,
      "grid_area": null,
      "grid_auto_columns": null,
      "grid_auto_flow": null,
      "grid_auto_rows": null,
      "grid_column": null,
      "grid_gap": null,
      "grid_row": null,
      "grid_template_areas": null,
      "grid_template_columns": null,
      "grid_template_rows": null,
      "height": null,
      "justify_content": null,
      "justify_items": null,
      "left": null,
      "margin": null,
      "max_height": null,
      "max_width": null,
      "min_height": null,
      "min_width": null,
      "object_fit": null,
      "object_position": null,
      "order": null,
      "overflow": null,
      "overflow_x": null,
      "overflow_y": null,
      "padding": null,
      "right": null,
      "top": null,
      "visibility": null,
      "width": "100%"
     }
    },
    "dd1810cc2c01483383d65cb882e871fe": {
     "model_module": "@jupyter-widgets/controls",
     "model_name": "TextModel",
     "state": {
      "_dom_classes": [],
      "_model_module": "@jupyter-widgets/controls",
      "_model_module_version": "1.5.0",
      "_model_name": "TextModel",
      "_view_count": null,
      "_view_module": "@jupyter-widgets/controls",
      "_view_module_version": "1.5.0",
      "_view_name": "TextView",
      "continuous_update": true,
      "description": "",
      "description_tooltip": null,
      "disabled": false,
      "layout": "IPY_MODEL_8cc70aac58594e10a4629fa8f4f6da22",
      "placeholder": "​",
      "style": "IPY_MODEL_1ca128d235d04f7dba69b97f27e40fdf",
      "value": "Following data types have been inferred automatically, if they are correct press enter to continue or type 'quit' otherwise."
     }
    }
   }
  }
 },
 "nbformat": 4,
 "nbformat_minor": 1
}
