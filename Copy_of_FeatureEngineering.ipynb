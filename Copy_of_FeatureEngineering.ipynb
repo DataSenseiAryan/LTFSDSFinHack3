{
  "nbformat": 4,
  "nbformat_minor": 0,
  "metadata": {
    "kernelspec": {
      "display_name": "Python 3",
      "language": "python",
      "name": "python3"
    },
    "language_info": {
      "codemirror_mode": {
        "name": "ipython",
        "version": 3
      },
      "file_extension": ".py",
      "mimetype": "text/x-python",
      "name": "python",
      "nbconvert_exporter": "python",
      "pygments_lexer": "ipython3",
      "version": "3.8.3"
    },
    "colab": {
      "name": "Copy of FeatureEngineering.ipynb",
      "provenance": [],
      "collapsed_sections": [],
      "include_colab_link": true
    }
  },
  "cells": [
    {
      "cell_type": "markdown",
      "metadata": {
        "id": "view-in-github",
        "colab_type": "text"
      },
      "source": [
        "<a href=\"https://colab.research.google.com/github/aryanc55/LTFSDSFinHack3/blob/main/Copy_of_FeatureEngineering.ipynb\" target=\"_parent\"><img src=\"https://colab.research.google.com/assets/colab-badge.svg\" alt=\"Open In Colab\"/></a>"
      ]
    },
    {
      "cell_type": "code",
      "metadata": {
        "id": "5gkZ4wJCKe-N",
        "colab": {
          "base_uri": "https://localhost:8080/",
          "height": 1000
        },
        "outputId": "b2fa6549-3d00-43e5-e98f-2dfe77df2fb0"
      },
      "source": [
        "!pip install pycaret\r\n",
        "!pip install category_encoders"
      ],
      "execution_count": 97,
      "outputs": [
        {
          "output_type": "stream",
          "text": [
            "Requirement already satisfied: pycaret in /usr/local/lib/python3.6/dist-packages (2.2.3)\n",
            "Requirement already satisfied: joblib in /usr/local/lib/python3.6/dist-packages (from pycaret) (1.0.0)\n",
            "Requirement already satisfied: scikit-learn==0.23.2 in /usr/local/lib/python3.6/dist-packages (from pycaret) (0.23.2)\n",
            "Requirement already satisfied: pandas-profiling>=2.8.0 in /usr/local/lib/python3.6/dist-packages (from pycaret) (2.10.0)\n",
            "Requirement already satisfied: pyLDAvis in /usr/local/lib/python3.6/dist-packages (from pycaret) (3.0.0)\n",
            "Requirement already satisfied: catboost>=0.23.2 in /usr/local/lib/python3.6/dist-packages (from pycaret) (0.24.4)\n",
            "Requirement already satisfied: ipywidgets in /usr/local/lib/python3.6/dist-packages (from pycaret) (7.6.3)\n",
            "Requirement already satisfied: imbalanced-learn>=0.7.0 in /usr/local/lib/python3.6/dist-packages (from pycaret) (0.7.0)\n",
            "Requirement already satisfied: numpy>=1.17 in /usr/local/lib/python3.6/dist-packages (from pycaret) (1.19.5)\n",
            "Requirement already satisfied: nltk in /usr/local/lib/python3.6/dist-packages (from pycaret) (3.2.5)\n",
            "Requirement already satisfied: textblob in /usr/local/lib/python3.6/dist-packages (from pycaret) (0.15.3)\n",
            "Requirement already satisfied: kmodes>=0.10.1 in /usr/local/lib/python3.6/dist-packages (from pycaret) (0.10.2)\n",
            "Requirement already satisfied: pyod in /usr/local/lib/python3.6/dist-packages (from pycaret) (0.8.6)\n",
            "Requirement already satisfied: IPython in /usr/local/lib/python3.6/dist-packages (from pycaret) (5.5.0)\n",
            "Requirement already satisfied: cufflinks>=0.17.0 in /usr/local/lib/python3.6/dist-packages (from pycaret) (0.17.3)\n",
            "Requirement already satisfied: umap-learn in /usr/local/lib/python3.6/dist-packages (from pycaret) (0.5.0)\n",
            "Requirement already satisfied: gensim in /usr/local/lib/python3.6/dist-packages (from pycaret) (3.6.0)\n",
            "Requirement already satisfied: spacy in /usr/local/lib/python3.6/dist-packages (from pycaret) (2.2.4)\n",
            "Requirement already satisfied: xgboost>=1.1.0 in /usr/local/lib/python3.6/dist-packages (from pycaret) (1.3.3)\n",
            "Requirement already satisfied: matplotlib in /usr/local/lib/python3.6/dist-packages (from pycaret) (3.2.2)\n",
            "Requirement already satisfied: yellowbrick>=1.0.1 in /usr/local/lib/python3.6/dist-packages (from pycaret) (1.2.1)\n",
            "Requirement already satisfied: wordcloud in /usr/local/lib/python3.6/dist-packages (from pycaret) (1.5.0)\n",
            "Requirement already satisfied: plotly>=4.4.1 in /usr/local/lib/python3.6/dist-packages (from pycaret) (4.4.1)\n",
            "Requirement already satisfied: lightgbm>=2.3.1 in /usr/local/lib/python3.6/dist-packages (from pycaret) (3.1.1)\n",
            "Requirement already satisfied: pandas in /usr/local/lib/python3.6/dist-packages (from pycaret) (1.1.5)\n",
            "Requirement already satisfied: seaborn in /usr/local/lib/python3.6/dist-packages (from pycaret) (0.11.1)\n",
            "Requirement already satisfied: scikit-plot in /usr/local/lib/python3.6/dist-packages (from pycaret) (0.3.7)\n",
            "Requirement already satisfied: mlxtend in /usr/local/lib/python3.6/dist-packages (from pycaret) (0.14.0)\n",
            "Requirement already satisfied: mlflow in /usr/local/lib/python3.6/dist-packages (from pycaret) (1.13.1)\n",
            "Requirement already satisfied: scipy>=0.19.1 in /usr/local/lib/python3.6/dist-packages (from scikit-learn==0.23.2->pycaret) (1.4.1)\n",
            "Requirement already satisfied: threadpoolctl>=2.0.0 in /usr/local/lib/python3.6/dist-packages (from scikit-learn==0.23.2->pycaret) (2.1.0)\n",
            "Collecting requests>=2.24.0\n",
            "\u001b[?25l  Downloading https://files.pythonhosted.org/packages/29/c1/24814557f1d22c56d50280771a17307e6bf87b70727d975fd6b2ce6b014a/requests-2.25.1-py2.py3-none-any.whl (61kB)\n",
            "\u001b[K     |████████████████████████████████| 61kB 4.6MB/s \n",
            "\u001b[?25hRequirement already satisfied: visions[type_image_path]==0.6.0 in /usr/local/lib/python3.6/dist-packages (from pandas-profiling>=2.8.0->pycaret) (0.6.0)\n",
            "Requirement already satisfied: attrs>=19.3.0 in /usr/local/lib/python3.6/dist-packages (from pandas-profiling>=2.8.0->pycaret) (20.3.0)\n",
            "Requirement already satisfied: jinja2>=2.11.1 in /usr/local/lib/python3.6/dist-packages (from pandas-profiling>=2.8.0->pycaret) (2.11.3)\n",
            "Requirement already satisfied: htmlmin>=0.1.12 in /usr/local/lib/python3.6/dist-packages (from pandas-profiling>=2.8.0->pycaret) (0.1.12)\n",
            "Requirement already satisfied: phik>=0.10.0 in /usr/local/lib/python3.6/dist-packages (from pandas-profiling>=2.8.0->pycaret) (0.11.0)\n",
            "Collecting tqdm>=4.48.2\n",
            "\u001b[?25l  Downloading https://files.pythonhosted.org/packages/80/02/8f8880a4fd6625461833abcf679d4c12a44c76f9925f92bf212bb6cefaad/tqdm-4.56.0-py2.py3-none-any.whl (72kB)\n",
            "\u001b[K     |████████████████████████████████| 81kB 5.4MB/s \n",
            "\u001b[?25hRequirement already satisfied: confuse>=1.0.0 in /usr/local/lib/python3.6/dist-packages (from pandas-profiling>=2.8.0->pycaret) (1.4.0)\n",
            "Requirement already satisfied: tangled-up-in-unicode>=0.0.6 in /usr/local/lib/python3.6/dist-packages (from pandas-profiling>=2.8.0->pycaret) (0.0.6)\n",
            "Requirement already satisfied: missingno>=0.4.2 in /usr/local/lib/python3.6/dist-packages (from pandas-profiling>=2.8.0->pycaret) (0.4.2)\n",
            "Requirement already satisfied: funcy in /usr/local/lib/python3.6/dist-packages (from pyLDAvis->pycaret) (1.15)\n",
            "Requirement already satisfied: future in /usr/local/lib/python3.6/dist-packages (from pyLDAvis->pycaret) (0.16.0)\n",
            "Requirement already satisfied: numexpr in /usr/local/lib/python3.6/dist-packages (from pyLDAvis->pycaret) (2.7.2)\n",
            "Requirement already satisfied: wheel>=0.23.0 in /usr/local/lib/python3.6/dist-packages (from pyLDAvis->pycaret) (0.36.2)\n",
            "Requirement already satisfied: six in /usr/local/lib/python3.6/dist-packages (from catboost>=0.23.2->pycaret) (1.15.0)\n",
            "Requirement already satisfied: graphviz in /usr/local/lib/python3.6/dist-packages (from catboost>=0.23.2->pycaret) (0.10.1)\n",
            "Requirement already satisfied: jupyterlab-widgets>=1.0.0; python_version >= \"3.6\" in /usr/local/lib/python3.6/dist-packages (from ipywidgets->pycaret) (1.0.0)\n",
            "Requirement already satisfied: traitlets>=4.3.1 in /usr/local/lib/python3.6/dist-packages (from ipywidgets->pycaret) (4.3.3)\n",
            "Requirement already satisfied: ipykernel>=4.5.1 in /usr/local/lib/python3.6/dist-packages (from ipywidgets->pycaret) (4.10.1)\n",
            "Requirement already satisfied: widgetsnbextension~=3.5.0 in /usr/local/lib/python3.6/dist-packages (from ipywidgets->pycaret) (3.5.1)\n",
            "Requirement already satisfied: nbformat>=4.2.0 in /usr/local/lib/python3.6/dist-packages (from ipywidgets->pycaret) (5.1.2)\n",
            "Requirement already satisfied: combo in /usr/local/lib/python3.6/dist-packages (from pyod->pycaret) (0.1.2)\n",
            "Requirement already satisfied: suod in /usr/local/lib/python3.6/dist-packages (from pyod->pycaret) (0.0.6)\n",
            "Requirement already satisfied: numba>=0.35 in /usr/local/lib/python3.6/dist-packages (from pyod->pycaret) (0.51.2)\n",
            "Requirement already satisfied: statsmodels in /usr/local/lib/python3.6/dist-packages (from pyod->pycaret) (0.10.2)\n",
            "Requirement already satisfied: pickleshare in /usr/local/lib/python3.6/dist-packages (from IPython->pycaret) (0.7.5)\n",
            "Requirement already satisfied: simplegeneric>0.8 in /usr/local/lib/python3.6/dist-packages (from IPython->pycaret) (0.8.1)\n",
            "Requirement already satisfied: pygments in /usr/local/lib/python3.6/dist-packages (from IPython->pycaret) (2.6.1)\n",
            "Requirement already satisfied: pexpect; sys_platform != \"win32\" in /usr/local/lib/python3.6/dist-packages (from IPython->pycaret) (4.8.0)\n",
            "Requirement already satisfied: decorator in /usr/local/lib/python3.6/dist-packages (from IPython->pycaret) (4.4.2)\n",
            "Requirement already satisfied: prompt-toolkit<2.0.0,>=1.0.4 in /usr/local/lib/python3.6/dist-packages (from IPython->pycaret) (1.0.18)\n",
            "Requirement already satisfied: setuptools>=18.5 in /usr/local/lib/python3.6/dist-packages (from IPython->pycaret) (53.0.0)\n",
            "Requirement already satisfied: colorlover>=0.2.1 in /usr/local/lib/python3.6/dist-packages (from cufflinks>=0.17.0->pycaret) (0.3.0)\n",
            "Requirement already satisfied: pynndescent>=0.5 in /usr/local/lib/python3.6/dist-packages (from umap-learn->pycaret) (0.5.1)\n",
            "Requirement already satisfied: smart-open>=1.2.1 in /usr/local/lib/python3.6/dist-packages (from gensim->pycaret) (4.1.2)\n",
            "Requirement already satisfied: murmurhash<1.1.0,>=0.28.0 in /usr/local/lib/python3.6/dist-packages (from spacy->pycaret) (1.0.5)\n",
            "Requirement already satisfied: catalogue<1.1.0,>=0.0.7 in /usr/local/lib/python3.6/dist-packages (from spacy->pycaret) (1.0.0)\n",
            "Requirement already satisfied: plac<1.2.0,>=0.9.6 in /usr/local/lib/python3.6/dist-packages (from spacy->pycaret) (1.1.3)\n",
            "Requirement already satisfied: wasabi<1.1.0,>=0.4.0 in /usr/local/lib/python3.6/dist-packages (from spacy->pycaret) (0.8.2)\n",
            "Requirement already satisfied: preshed<3.1.0,>=3.0.2 in /usr/local/lib/python3.6/dist-packages (from spacy->pycaret) (3.0.5)\n",
            "Requirement already satisfied: thinc==7.4.0 in /usr/local/lib/python3.6/dist-packages (from spacy->pycaret) (7.4.0)\n",
            "Requirement already satisfied: srsly<1.1.0,>=1.0.2 in /usr/local/lib/python3.6/dist-packages (from spacy->pycaret) (1.0.5)\n",
            "Requirement already satisfied: cymem<2.1.0,>=2.0.2 in /usr/local/lib/python3.6/dist-packages (from spacy->pycaret) (2.0.5)\n",
            "Requirement already satisfied: blis<0.5.0,>=0.4.0 in /usr/local/lib/python3.6/dist-packages (from spacy->pycaret) (0.4.1)\n",
            "Requirement already satisfied: pyparsing!=2.0.4,!=2.1.2,!=2.1.6,>=2.0.1 in /usr/local/lib/python3.6/dist-packages (from matplotlib->pycaret) (2.4.7)\n",
            "Requirement already satisfied: cycler>=0.10 in /usr/local/lib/python3.6/dist-packages (from matplotlib->pycaret) (0.10.0)\n",
            "Requirement already satisfied: kiwisolver>=1.0.1 in /usr/local/lib/python3.6/dist-packages (from matplotlib->pycaret) (1.3.1)\n",
            "Requirement already satisfied: python-dateutil>=2.1 in /usr/local/lib/python3.6/dist-packages (from matplotlib->pycaret) (2.8.1)\n",
            "Requirement already satisfied: pillow in /usr/local/lib/python3.6/dist-packages (from wordcloud->pycaret) (7.0.0)\n",
            "Requirement already satisfied: retrying>=1.3.3 in /usr/local/lib/python3.6/dist-packages (from plotly>=4.4.1->pycaret) (1.3.3)\n",
            "Requirement already satisfied: pytz>=2017.2 in /usr/local/lib/python3.6/dist-packages (from pandas->pycaret) (2018.9)\n",
            "Requirement already satisfied: Flask in /usr/local/lib/python3.6/dist-packages (from mlflow->pycaret) (1.1.2)\n",
            "Requirement already satisfied: gunicorn; platform_system != \"Windows\" in /usr/local/lib/python3.6/dist-packages (from mlflow->pycaret) (20.0.4)\n",
            "Requirement already satisfied: click>=7.0 in /usr/local/lib/python3.6/dist-packages (from mlflow->pycaret) (7.1.2)\n",
            "Requirement already satisfied: cloudpickle in /usr/local/lib/python3.6/dist-packages (from mlflow->pycaret) (1.3.0)\n",
            "Requirement already satisfied: pyyaml in /usr/local/lib/python3.6/dist-packages (from mlflow->pycaret) (3.13)\n",
            "Requirement already satisfied: entrypoints in /usr/local/lib/python3.6/dist-packages (from mlflow->pycaret) (0.3)\n",
            "Requirement already satisfied: databricks-cli>=0.8.7 in /usr/local/lib/python3.6/dist-packages (from mlflow->pycaret) (0.14.1)\n",
            "Requirement already satisfied: protobuf>=3.6.0 in /usr/local/lib/python3.6/dist-packages (from mlflow->pycaret) (3.12.4)\n",
            "Requirement already satisfied: gitpython>=2.1.0 in /usr/local/lib/python3.6/dist-packages (from mlflow->pycaret) (3.1.12)\n",
            "Requirement already satisfied: prometheus-flask-exporter in /usr/local/lib/python3.6/dist-packages (from mlflow->pycaret) (0.18.1)\n",
            "Requirement already satisfied: alembic<=1.4.1 in /usr/local/lib/python3.6/dist-packages (from mlflow->pycaret) (1.4.1)\n",
            "Requirement already satisfied: docker>=4.0.0 in /usr/local/lib/python3.6/dist-packages (from mlflow->pycaret) (4.4.1)\n",
            "Requirement already satisfied: sqlparse>=0.3.1 in /usr/local/lib/python3.6/dist-packages (from mlflow->pycaret) (0.4.1)\n",
            "Requirement already satisfied: azure-storage-blob>=12.0.0 in /usr/local/lib/python3.6/dist-packages (from mlflow->pycaret) (12.7.1)\n",
            "Requirement already satisfied: querystring-parser in /usr/local/lib/python3.6/dist-packages (from mlflow->pycaret) (1.2.4)\n",
            "Requirement already satisfied: sqlalchemy in /usr/local/lib/python3.6/dist-packages (from mlflow->pycaret) (1.3.23)\n",
            "Requirement already satisfied: urllib3<1.27,>=1.21.1 in /usr/local/lib/python3.6/dist-packages (from requests>=2.24.0->pandas-profiling>=2.8.0->pycaret) (1.24.3)\n",
            "Requirement already satisfied: certifi>=2017.4.17 in /usr/local/lib/python3.6/dist-packages (from requests>=2.24.0->pandas-profiling>=2.8.0->pycaret) (2020.12.5)\n",
            "Requirement already satisfied: chardet<5,>=3.0.2 in /usr/local/lib/python3.6/dist-packages (from requests>=2.24.0->pandas-profiling>=2.8.0->pycaret) (3.0.4)\n",
            "Requirement already satisfied: idna<3,>=2.5 in /usr/local/lib/python3.6/dist-packages (from requests>=2.24.0->pandas-profiling>=2.8.0->pycaret) (2.10)\n",
            "Requirement already satisfied: networkx>=2.4 in /usr/local/lib/python3.6/dist-packages (from visions[type_image_path]==0.6.0->pandas-profiling>=2.8.0->pycaret) (2.5)\n",
            "Requirement already satisfied: imagehash; extra == \"type_image_path\" in /usr/local/lib/python3.6/dist-packages (from visions[type_image_path]==0.6.0->pandas-profiling>=2.8.0->pycaret) (4.2.0)\n",
            "Requirement already satisfied: MarkupSafe>=0.23 in /usr/local/lib/python3.6/dist-packages (from jinja2>=2.11.1->pandas-profiling>=2.8.0->pycaret) (1.1.1)\n",
            "Requirement already satisfied: ipython-genutils in /usr/local/lib/python3.6/dist-packages (from traitlets>=4.3.1->ipywidgets->pycaret) (0.2.0)\n",
            "Requirement already satisfied: jupyter-client in /usr/local/lib/python3.6/dist-packages (from ipykernel>=4.5.1->ipywidgets->pycaret) (5.3.5)\n",
            "Requirement already satisfied: tornado>=4.0 in /usr/local/lib/python3.6/dist-packages (from ipykernel>=4.5.1->ipywidgets->pycaret) (5.1.1)\n",
            "Requirement already satisfied: notebook>=4.4.1 in /usr/local/lib/python3.6/dist-packages (from widgetsnbextension~=3.5.0->ipywidgets->pycaret) (5.3.1)\n",
            "Requirement already satisfied: jsonschema!=2.5.0,>=2.4 in /usr/local/lib/python3.6/dist-packages (from nbformat>=4.2.0->ipywidgets->pycaret) (2.6.0)\n",
            "Requirement already satisfied: jupyter-core in /usr/local/lib/python3.6/dist-packages (from nbformat>=4.2.0->ipywidgets->pycaret) (4.7.1)\n",
            "Requirement already satisfied: psutil in /usr/local/lib/python3.6/dist-packages (from suod->pyod->pycaret) (5.4.8)\n",
            "Requirement already satisfied: llvmlite<0.35,>=0.34.0.dev0 in /usr/local/lib/python3.6/dist-packages (from numba>=0.35->pyod->pycaret) (0.34.0)\n",
            "Requirement already satisfied: patsy>=0.4.0 in /usr/local/lib/python3.6/dist-packages (from statsmodels->pyod->pycaret) (0.5.1)\n",
            "Requirement already satisfied: ptyprocess>=0.5 in /usr/local/lib/python3.6/dist-packages (from pexpect; sys_platform != \"win32\"->IPython->pycaret) (0.7.0)\n",
            "Requirement already satisfied: wcwidth in /usr/local/lib/python3.6/dist-packages (from prompt-toolkit<2.0.0,>=1.0.4->IPython->pycaret) (0.2.5)\n",
            "Requirement already satisfied: importlib-metadata>=0.20; python_version < \"3.8\" in /usr/local/lib/python3.6/dist-packages (from catalogue<1.1.0,>=0.0.7->spacy->pycaret) (3.4.0)\n",
            "Requirement already satisfied: itsdangerous>=0.24 in /usr/local/lib/python3.6/dist-packages (from Flask->mlflow->pycaret) (1.1.0)\n",
            "Requirement already satisfied: Werkzeug>=0.15 in /usr/local/lib/python3.6/dist-packages (from Flask->mlflow->pycaret) (1.0.1)\n",
            "Requirement already satisfied: tabulate>=0.7.7 in /usr/local/lib/python3.6/dist-packages (from databricks-cli>=0.8.7->mlflow->pycaret) (0.8.7)\n",
            "Requirement already satisfied: gitdb<5,>=4.0.1 in /usr/local/lib/python3.6/dist-packages (from gitpython>=2.1.0->mlflow->pycaret) (4.0.5)\n",
            "Requirement already satisfied: prometheus-client in /usr/local/lib/python3.6/dist-packages (from prometheus-flask-exporter->mlflow->pycaret) (0.9.0)\n",
            "Requirement already satisfied: python-editor>=0.3 in /usr/local/lib/python3.6/dist-packages (from alembic<=1.4.1->mlflow->pycaret) (1.0.4)\n",
            "Requirement already satisfied: Mako in /usr/local/lib/python3.6/dist-packages (from alembic<=1.4.1->mlflow->pycaret) (1.1.4)\n",
            "Requirement already satisfied: websocket-client>=0.32.0 in /usr/local/lib/python3.6/dist-packages (from docker>=4.0.0->mlflow->pycaret) (0.57.0)\n",
            "Requirement already satisfied: msrest>=0.6.18 in /usr/local/lib/python3.6/dist-packages (from azure-storage-blob>=12.0.0->mlflow->pycaret) (0.6.21)\n",
            "Requirement already satisfied: azure-core<2.0.0,>=1.10.0 in /usr/local/lib/python3.6/dist-packages (from azure-storage-blob>=12.0.0->mlflow->pycaret) (1.10.0)\n",
            "Requirement already satisfied: cryptography>=2.1.4 in /usr/local/lib/python3.6/dist-packages (from azure-storage-blob>=12.0.0->mlflow->pycaret) (3.3.1)\n",
            "Requirement already satisfied: PyWavelets in /usr/local/lib/python3.6/dist-packages (from imagehash; extra == \"type_image_path\"->visions[type_image_path]==0.6.0->pandas-profiling>=2.8.0->pycaret) (1.1.1)\n",
            "Requirement already satisfied: pyzmq>=13 in /usr/local/lib/python3.6/dist-packages (from jupyter-client->ipykernel>=4.5.1->ipywidgets->pycaret) (22.0.2)\n",
            "Requirement already satisfied: nbconvert in /usr/local/lib/python3.6/dist-packages (from notebook>=4.4.1->widgetsnbextension~=3.5.0->ipywidgets->pycaret) (5.6.1)\n",
            "Requirement already satisfied: terminado>=0.8.1 in /usr/local/lib/python3.6/dist-packages (from notebook>=4.4.1->widgetsnbextension~=3.5.0->ipywidgets->pycaret) (0.9.2)\n",
            "Requirement already satisfied: Send2Trash in /usr/local/lib/python3.6/dist-packages (from notebook>=4.4.1->widgetsnbextension~=3.5.0->ipywidgets->pycaret) (1.5.0)\n",
            "Requirement already satisfied: typing-extensions>=3.6.4; python_version < \"3.8\" in /usr/local/lib/python3.6/dist-packages (from importlib-metadata>=0.20; python_version < \"3.8\"->catalogue<1.1.0,>=0.0.7->spacy->pycaret) (3.7.4.3)\n",
            "Requirement already satisfied: zipp>=0.5 in /usr/local/lib/python3.6/dist-packages (from importlib-metadata>=0.20; python_version < \"3.8\"->catalogue<1.1.0,>=0.0.7->spacy->pycaret) (3.4.0)\n",
            "Requirement already satisfied: smmap<4,>=3.0.1 in /usr/local/lib/python3.6/dist-packages (from gitdb<5,>=4.0.1->gitpython>=2.1.0->mlflow->pycaret) (3.0.5)\n",
            "Requirement already satisfied: requests-oauthlib>=0.5.0 in /usr/local/lib/python3.6/dist-packages (from msrest>=0.6.18->azure-storage-blob>=12.0.0->mlflow->pycaret) (1.3.0)\n",
            "Requirement already satisfied: isodate>=0.6.0 in /usr/local/lib/python3.6/dist-packages (from msrest>=0.6.18->azure-storage-blob>=12.0.0->mlflow->pycaret) (0.6.0)\n",
            "Requirement already satisfied: cffi>=1.12 in /usr/local/lib/python3.6/dist-packages (from cryptography>=2.1.4->azure-storage-blob>=12.0.0->mlflow->pycaret) (1.14.4)\n",
            "Requirement already satisfied: defusedxml in /usr/local/lib/python3.6/dist-packages (from nbconvert->notebook>=4.4.1->widgetsnbextension~=3.5.0->ipywidgets->pycaret) (0.6.0)\n",
            "Requirement already satisfied: testpath in /usr/local/lib/python3.6/dist-packages (from nbconvert->notebook>=4.4.1->widgetsnbextension~=3.5.0->ipywidgets->pycaret) (0.4.4)\n",
            "Requirement already satisfied: pandocfilters>=1.4.1 in /usr/local/lib/python3.6/dist-packages (from nbconvert->notebook>=4.4.1->widgetsnbextension~=3.5.0->ipywidgets->pycaret) (1.4.3)\n",
            "Requirement already satisfied: mistune<2,>=0.8.1 in /usr/local/lib/python3.6/dist-packages (from nbconvert->notebook>=4.4.1->widgetsnbextension~=3.5.0->ipywidgets->pycaret) (0.8.4)\n",
            "Requirement already satisfied: bleach in /usr/local/lib/python3.6/dist-packages (from nbconvert->notebook>=4.4.1->widgetsnbextension~=3.5.0->ipywidgets->pycaret) (3.3.0)\n",
            "Requirement already satisfied: oauthlib>=3.0.0 in /usr/local/lib/python3.6/dist-packages (from requests-oauthlib>=0.5.0->msrest>=0.6.18->azure-storage-blob>=12.0.0->mlflow->pycaret) (3.1.0)\n",
            "Requirement already satisfied: pycparser in /usr/local/lib/python3.6/dist-packages (from cffi>=1.12->cryptography>=2.1.4->azure-storage-blob>=12.0.0->mlflow->pycaret) (2.20)\n",
            "Requirement already satisfied: webencodings in /usr/local/lib/python3.6/dist-packages (from bleach->nbconvert->notebook>=4.4.1->widgetsnbextension~=3.5.0->ipywidgets->pycaret) (0.5.1)\n",
            "Requirement already satisfied: packaging in /usr/local/lib/python3.6/dist-packages (from bleach->nbconvert->notebook>=4.4.1->widgetsnbextension~=3.5.0->ipywidgets->pycaret) (20.9)\n",
            "\u001b[31mERROR: google-colab 1.0.0 has requirement requests~=2.23.0, but you'll have requests 2.25.1 which is incompatible.\u001b[0m\n",
            "\u001b[31mERROR: datascience 0.10.6 has requirement folium==0.2.1, but you'll have folium 0.8.3 which is incompatible.\u001b[0m\n",
            "Installing collected packages: requests, tqdm\n",
            "  Found existing installation: requests 2.23.0\n",
            "    Uninstalling requests-2.23.0:\n",
            "      Successfully uninstalled requests-2.23.0\n",
            "  Found existing installation: tqdm 4.41.1\n",
            "    Uninstalling tqdm-4.41.1:\n",
            "      Successfully uninstalled tqdm-4.41.1\n",
            "Successfully installed requests-2.25.1 tqdm-4.56.0\n"
          ],
          "name": "stdout"
        },
        {
          "output_type": "display_data",
          "data": {
            "application/vnd.colab-display-data+json": {
              "pip_warning": {
                "packages": [
                  "requests",
                  "tqdm"
                ]
              }
            }
          },
          "metadata": {
            "tags": []
          }
        },
        {
          "output_type": "stream",
          "text": [
            "Collecting category_encoders\n",
            "\u001b[?25l  Downloading https://files.pythonhosted.org/packages/44/57/fcef41c248701ee62e8325026b90c432adea35555cbc870aff9cfba23727/category_encoders-2.2.2-py2.py3-none-any.whl (80kB)\n",
            "\r\u001b[K     |████                            | 10kB 19.4MB/s eta 0:00:01\r\u001b[K     |████████▏                       | 20kB 20.8MB/s eta 0:00:01\r\u001b[K     |████████████▏                   | 30kB 15.1MB/s eta 0:00:01\r\u001b[K     |████████████████▎               | 40kB 14.4MB/s eta 0:00:01\r\u001b[K     |████████████████████▎           | 51kB 16.5MB/s eta 0:00:01\r\u001b[K     |████████████████████████▍       | 61kB 16.1MB/s eta 0:00:01\r\u001b[K     |████████████████████████████▍   | 71kB 12.3MB/s eta 0:00:01\r\u001b[K     |████████████████████████████████| 81kB 5.1MB/s \n",
            "\u001b[?25hRequirement already satisfied: scipy>=1.0.0 in /usr/local/lib/python3.6/dist-packages (from category_encoders) (1.4.1)\n",
            "Requirement already satisfied: statsmodels>=0.9.0 in /usr/local/lib/python3.6/dist-packages (from category_encoders) (0.10.2)\n",
            "Requirement already satisfied: patsy>=0.5.1 in /usr/local/lib/python3.6/dist-packages (from category_encoders) (0.5.1)\n",
            "Requirement already satisfied: pandas>=0.21.1 in /usr/local/lib/python3.6/dist-packages (from category_encoders) (1.1.5)\n",
            "Requirement already satisfied: scikit-learn>=0.20.0 in /usr/local/lib/python3.6/dist-packages (from category_encoders) (0.23.2)\n",
            "Requirement already satisfied: numpy>=1.14.0 in /usr/local/lib/python3.6/dist-packages (from category_encoders) (1.19.5)\n",
            "Requirement already satisfied: six in /usr/local/lib/python3.6/dist-packages (from patsy>=0.5.1->category_encoders) (1.15.0)\n",
            "Requirement already satisfied: pytz>=2017.2 in /usr/local/lib/python3.6/dist-packages (from pandas>=0.21.1->category_encoders) (2018.9)\n",
            "Requirement already satisfied: python-dateutil>=2.7.3 in /usr/local/lib/python3.6/dist-packages (from pandas>=0.21.1->category_encoders) (2.8.1)\n",
            "Requirement already satisfied: joblib>=0.11 in /usr/local/lib/python3.6/dist-packages (from scikit-learn>=0.20.0->category_encoders) (1.0.0)\n",
            "Requirement already satisfied: threadpoolctl>=2.0.0 in /usr/local/lib/python3.6/dist-packages (from scikit-learn>=0.20.0->category_encoders) (2.1.0)\n",
            "Installing collected packages: category-encoders\n",
            "Successfully installed category-encoders-2.2.2\n"
          ],
          "name": "stdout"
        }
      ]
    },
    {
      "cell_type": "code",
      "metadata": {
        "id": "RC4Z0qg9Lrmz"
      },
      "source": [
        "import pandas as pd\r\n",
        "import numpy as np\r\n",
        "import seaborn as sns\r\n",
        "import matplotlib.pyplot as plt\r\n",
        "from sklearn.preprocessing import KBinsDiscretizer\r\n",
        "from sklearn.cluster import KMeans\r\n",
        "from scipy.spatial.distance import cdist\r\n",
        "from functools import reduce\r\n",
        "from datetime import datetime, timedelta\r\n",
        "from pycaret.classification import *"
      ],
      "execution_count": 1,
      "outputs": []
    },
    {
      "cell_type": "code",
      "metadata": {
        "id": "mxbSm_-qNwE0"
      },
      "source": [
        ""
      ],
      "execution_count": 1,
      "outputs": []
    },
    {
      "cell_type": "code",
      "metadata": {
        "id": "PPvjIHa_Nwvi",
        "colab": {
          "base_uri": "https://localhost:8080/"
        },
        "outputId": "f89d5fb4-28d8-4468-c799-9a47a39ff700"
      },
      "source": [
        "from google.colab import drive\n",
        "drive.mount('/content/drive')"
      ],
      "execution_count": 2,
      "outputs": [
        {
          "output_type": "stream",
          "text": [
            "Drive already mounted at /content/drive; to attempt to forcibly remount, call drive.mount(\"/content/drive\", force_remount=True).\n"
          ],
          "name": "stdout"
        }
      ]
    },
    {
      "cell_type": "code",
      "metadata": {
        "id": "GsC3kwoIKe-i"
      },
      "source": [
        "train_b = pd.read_excel('/content/drive/MyDrive/LTFSDSFinHack3/Train/train_bureau.xlsx')"
      ],
      "execution_count": 4,
      "outputs": []
    },
    {
      "cell_type": "code",
      "metadata": {
        "id": "hlmQim9xKe-j"
      },
      "source": [
        "train_d = pd.read_excel('/content/drive/MyDrive/LTFSDSFinHack3/Train/train_Data.xlsx')"
      ],
      "execution_count": 5,
      "outputs": []
    },
    {
      "cell_type": "code",
      "metadata": {
        "id": "itHAMhiVM1rq",
        "colab": {
          "base_uri": "https://localhost:8080/",
          "height": 377
        },
        "outputId": "703499bc-8abc-4b9d-9ca5-c362af34dc4f"
      },
      "source": [
        "train_b.head()"
      ],
      "execution_count": 39,
      "outputs": [
        {
          "output_type": "execute_result",
          "data": {
            "text/html": [
              "<div>\n",
              "<style scoped>\n",
              "    .dataframe tbody tr th:only-of-type {\n",
              "        vertical-align: middle;\n",
              "    }\n",
              "\n",
              "    .dataframe tbody tr th {\n",
              "        vertical-align: top;\n",
              "    }\n",
              "\n",
              "    .dataframe thead th {\n",
              "        text-align: right;\n",
              "    }\n",
              "</style>\n",
              "<table border=\"1\" class=\"dataframe\">\n",
              "  <thead>\n",
              "    <tr style=\"text-align: right;\">\n",
              "      <th></th>\n",
              "      <th>ID</th>\n",
              "      <th>SELF-INDICATOR</th>\n",
              "      <th>MATCH-TYPE</th>\n",
              "      <th>ACCT-TYPE</th>\n",
              "      <th>CONTRIBUTOR-TYPE</th>\n",
              "      <th>DATE-REPORTED</th>\n",
              "      <th>OWNERSHIP-IND</th>\n",
              "      <th>ACCOUNT-STATUS</th>\n",
              "      <th>DISBURSED-DT</th>\n",
              "      <th>CLOSE-DT</th>\n",
              "      <th>LAST-PAYMENT-DATE</th>\n",
              "      <th>CREDIT-LIMIT/SANC AMT</th>\n",
              "      <th>DISBURSED-AMT/HIGH CREDIT</th>\n",
              "      <th>INSTALLMENT-AMT</th>\n",
              "      <th>CURRENT-BAL</th>\n",
              "      <th>INSTALLMENT-FREQUENCY</th>\n",
              "      <th>OVERDUE-AMT</th>\n",
              "      <th>WRITE-OFF-AMT</th>\n",
              "      <th>ASSET_CLASS</th>\n",
              "      <th>REPORTED DATE - HIST</th>\n",
              "      <th>DPD - HIST</th>\n",
              "      <th>CUR BAL - HIST</th>\n",
              "      <th>AMT OVERDUE - HIST</th>\n",
              "      <th>AMT PAID - HIST</th>\n",
              "      <th>TENURE</th>\n",
              "    </tr>\n",
              "  </thead>\n",
              "  <tbody>\n",
              "    <tr>\n",
              "      <th>0</th>\n",
              "      <td>1</td>\n",
              "      <td>False</td>\n",
              "      <td>PRIMARY</td>\n",
              "      <td>Overdraft</td>\n",
              "      <td>NAB</td>\n",
              "      <td>2018-04-30</td>\n",
              "      <td>Individual</td>\n",
              "      <td>Delinquent</td>\n",
              "      <td>2015-10-05</td>\n",
              "      <td>NaN</td>\n",
              "      <td>2018-02-27</td>\n",
              "      <td>NaN</td>\n",
              "      <td>37,352</td>\n",
              "      <td>NaN</td>\n",
              "      <td>37,873</td>\n",
              "      <td>NaN</td>\n",
              "      <td>37,873</td>\n",
              "      <td>0.0</td>\n",
              "      <td>Standard</td>\n",
              "      <td>20180430,20180331,</td>\n",
              "      <td>030000</td>\n",
              "      <td>37873,12820,</td>\n",
              "      <td>37873,,</td>\n",
              "      <td>,,</td>\n",
              "      <td>NaN</td>\n",
              "    </tr>\n",
              "    <tr>\n",
              "      <th>1</th>\n",
              "      <td>1</td>\n",
              "      <td>False</td>\n",
              "      <td>PRIMARY</td>\n",
              "      <td>Auto Loan (Personal)</td>\n",
              "      <td>NAB</td>\n",
              "      <td>2019-12-31</td>\n",
              "      <td>Individual</td>\n",
              "      <td>Active</td>\n",
              "      <td>2018-03-19</td>\n",
              "      <td>NaN</td>\n",
              "      <td>2019-12-19</td>\n",
              "      <td>NaN</td>\n",
              "      <td>44,000</td>\n",
              "      <td>1,405/Monthly</td>\n",
              "      <td>20,797</td>\n",
              "      <td>F03</td>\n",
              "      <td>NaN</td>\n",
              "      <td>0.0</td>\n",
              "      <td>Standard</td>\n",
              "      <td>20191231,20191130,20191031,20190930,20190831,2...</td>\n",
              "      <td>0000000000000000000000000000000000000000000000...</td>\n",
              "      <td>20797,21988,23174,24341,25504,26648,27780,2891...</td>\n",
              "      <td>,,,,,,,,,,,,,,,,,,,,1452,,</td>\n",
              "      <td>,,,,,,,,,,,,,,,,,,,,,,</td>\n",
              "      <td>36.0</td>\n",
              "    </tr>\n",
              "    <tr>\n",
              "      <th>2</th>\n",
              "      <td>1</td>\n",
              "      <td>True</td>\n",
              "      <td>PRIMARY</td>\n",
              "      <td>Tractor Loan</td>\n",
              "      <td>NBF</td>\n",
              "      <td>2020-01-31</td>\n",
              "      <td>Individual</td>\n",
              "      <td>Active</td>\n",
              "      <td>2019-08-30</td>\n",
              "      <td>NaN</td>\n",
              "      <td>NaT</td>\n",
              "      <td>NaN</td>\n",
              "      <td>1,45,000</td>\n",
              "      <td>NaN</td>\n",
              "      <td>1,16,087</td>\n",
              "      <td>NaN</td>\n",
              "      <td>0</td>\n",
              "      <td>0.0</td>\n",
              "      <td>NaN</td>\n",
              "      <td>20200131,20191231,20191130,20191031,20190930,2...</td>\n",
              "      <td>000000000000000000</td>\n",
              "      <td>116087,116087,145000,145000,145000,145000,</td>\n",
              "      <td>0,0,0,0,0,0,</td>\n",
              "      <td>,,,,,,</td>\n",
              "      <td>NaN</td>\n",
              "    </tr>\n",
              "    <tr>\n",
              "      <th>3</th>\n",
              "      <td>1</td>\n",
              "      <td>True</td>\n",
              "      <td>PRIMARY</td>\n",
              "      <td>Auto Loan (Personal)</td>\n",
              "      <td>NBF</td>\n",
              "      <td>2017-09-30</td>\n",
              "      <td>Individual</td>\n",
              "      <td>Closed</td>\n",
              "      <td>2013-09-27</td>\n",
              "      <td>2017-09-21 00:00:00</td>\n",
              "      <td>NaT</td>\n",
              "      <td>NaN</td>\n",
              "      <td>3,00,000</td>\n",
              "      <td>NaN</td>\n",
              "      <td>0</td>\n",
              "      <td>NaN</td>\n",
              "      <td>0</td>\n",
              "      <td>0.0</td>\n",
              "      <td>NaN</td>\n",
              "      <td>20170930,20170801,20170731,20170630,20170531,2...</td>\n",
              "      <td>000DDD0270260270260270240270270000320000000000...</td>\n",
              "      <td>0,,15925,23754,31494,39147,46713,54194,61590,6...</td>\n",
              "      <td>0,,1014,1014,1014,1014,1014,1014,1014,983,0,92...</td>\n",
              "      <td>,,,,,,,,,,,,,,,,,,,,,,,,,,,,,,,,,,,,,</td>\n",
              "      <td>NaN</td>\n",
              "    </tr>\n",
              "    <tr>\n",
              "      <th>4</th>\n",
              "      <td>1</td>\n",
              "      <td>True</td>\n",
              "      <td>PRIMARY</td>\n",
              "      <td>Tractor Loan</td>\n",
              "      <td>NBF</td>\n",
              "      <td>2016-02-29</td>\n",
              "      <td>Individual</td>\n",
              "      <td>Closed</td>\n",
              "      <td>2012-02-10</td>\n",
              "      <td>2016-02-01 00:00:00</td>\n",
              "      <td>NaT</td>\n",
              "      <td>NaN</td>\n",
              "      <td>2,75,000</td>\n",
              "      <td>NaN</td>\n",
              "      <td>0</td>\n",
              "      <td>NaN</td>\n",
              "      <td>0</td>\n",
              "      <td>0.0</td>\n",
              "      <td>NaN</td>\n",
              "      <td>20160229,20160131,20151231,20151130,20151031,2...</td>\n",
              "      <td>0000000000000000000000000000000000000000000000...</td>\n",
              "      <td>0,0,23658,23321,22989,46321,45662,45012,68030,...</td>\n",
              "      <td>0,0,0,0,0,0,0,0,0,0,0,0,0,0,0,0,0,0,0,0,0,0,0,...</td>\n",
              "      <td>,,,,,,,,,,,,,,,,,,,,,,,,,,,,,,,,,,,,,</td>\n",
              "      <td>NaN</td>\n",
              "    </tr>\n",
              "  </tbody>\n",
              "</table>\n",
              "</div>"
            ],
            "text/plain": [
              "   ID  SELF-INDICATOR MATCH-TYPE             ACCT-TYPE CONTRIBUTOR-TYPE  \\\n",
              "0   1           False    PRIMARY             Overdraft              NAB   \n",
              "1   1           False    PRIMARY  Auto Loan (Personal)              NAB   \n",
              "2   1            True    PRIMARY          Tractor Loan              NBF   \n",
              "3   1            True    PRIMARY  Auto Loan (Personal)              NBF   \n",
              "4   1            True    PRIMARY          Tractor Loan              NBF   \n",
              "\n",
              "  DATE-REPORTED OWNERSHIP-IND ACCOUNT-STATUS DISBURSED-DT  \\\n",
              "0    2018-04-30    Individual     Delinquent   2015-10-05   \n",
              "1    2019-12-31    Individual         Active   2018-03-19   \n",
              "2    2020-01-31    Individual         Active   2019-08-30   \n",
              "3    2017-09-30    Individual         Closed   2013-09-27   \n",
              "4    2016-02-29    Individual         Closed   2012-02-10   \n",
              "\n",
              "              CLOSE-DT LAST-PAYMENT-DATE CREDIT-LIMIT/SANC AMT  \\\n",
              "0                  NaN        2018-02-27                   NaN   \n",
              "1                  NaN        2019-12-19                   NaN   \n",
              "2                  NaN               NaT                   NaN   \n",
              "3  2017-09-21 00:00:00               NaT                   NaN   \n",
              "4  2016-02-01 00:00:00               NaT                   NaN   \n",
              "\n",
              "  DISBURSED-AMT/HIGH CREDIT INSTALLMENT-AMT CURRENT-BAL INSTALLMENT-FREQUENCY  \\\n",
              "0                    37,352             NaN      37,873                   NaN   \n",
              "1                    44,000   1,405/Monthly      20,797                   F03   \n",
              "2                  1,45,000             NaN    1,16,087                   NaN   \n",
              "3                  3,00,000             NaN           0                   NaN   \n",
              "4                  2,75,000             NaN           0                   NaN   \n",
              "\n",
              "  OVERDUE-AMT  WRITE-OFF-AMT ASSET_CLASS  \\\n",
              "0      37,873            0.0    Standard   \n",
              "1         NaN            0.0    Standard   \n",
              "2           0            0.0         NaN   \n",
              "3           0            0.0         NaN   \n",
              "4           0            0.0         NaN   \n",
              "\n",
              "                                REPORTED DATE - HIST  \\\n",
              "0                                 20180430,20180331,   \n",
              "1  20191231,20191130,20191031,20190930,20190831,2...   \n",
              "2  20200131,20191231,20191130,20191031,20190930,2...   \n",
              "3  20170930,20170801,20170731,20170630,20170531,2...   \n",
              "4  20160229,20160131,20151231,20151130,20151031,2...   \n",
              "\n",
              "                                          DPD - HIST  \\\n",
              "0                                             030000   \n",
              "1  0000000000000000000000000000000000000000000000...   \n",
              "2                                 000000000000000000   \n",
              "3  000DDD0270260270260270240270270000320000000000...   \n",
              "4  0000000000000000000000000000000000000000000000...   \n",
              "\n",
              "                                      CUR BAL - HIST  \\\n",
              "0                                       37873,12820,   \n",
              "1  20797,21988,23174,24341,25504,26648,27780,2891...   \n",
              "2         116087,116087,145000,145000,145000,145000,   \n",
              "3  0,,15925,23754,31494,39147,46713,54194,61590,6...   \n",
              "4  0,0,23658,23321,22989,46321,45662,45012,68030,...   \n",
              "\n",
              "                                  AMT OVERDUE - HIST  \\\n",
              "0                                            37873,,   \n",
              "1                         ,,,,,,,,,,,,,,,,,,,,1452,,   \n",
              "2                                       0,0,0,0,0,0,   \n",
              "3  0,,1014,1014,1014,1014,1014,1014,1014,983,0,92...   \n",
              "4  0,0,0,0,0,0,0,0,0,0,0,0,0,0,0,0,0,0,0,0,0,0,0,...   \n",
              "\n",
              "                         AMT PAID - HIST  TENURE  \n",
              "0                                     ,,     NaN  \n",
              "1                 ,,,,,,,,,,,,,,,,,,,,,,    36.0  \n",
              "2                                 ,,,,,,     NaN  \n",
              "3  ,,,,,,,,,,,,,,,,,,,,,,,,,,,,,,,,,,,,,     NaN  \n",
              "4  ,,,,,,,,,,,,,,,,,,,,,,,,,,,,,,,,,,,,,     NaN  "
            ]
          },
          "metadata": {
            "tags": []
          },
          "execution_count": 39
        }
      ]
    },
    {
      "cell_type": "code",
      "metadata": {
        "id": "jo2T4hESKe-k"
      },
      "source": [
        "test_d = pd.read_excel('/content/drive/MyDrive/LTFSDSFinHack3/Test/test_Data.xlsx')"
      ],
      "execution_count": 8,
      "outputs": []
    },
    {
      "cell_type": "code",
      "metadata": {
        "colab": {
          "base_uri": "https://localhost:8080/",
          "height": 309
        },
        "id": "yJlUKcxrTLFE",
        "outputId": "6dd90d36-9954-443b-d774-f630f84a8e4c"
      },
      "source": [
        ""
      ],
      "execution_count": 45,
      "outputs": [
        {
          "output_type": "execute_result",
          "data": {
            "text/html": [
              "<div>\n",
              "<style scoped>\n",
              "    .dataframe tbody tr th:only-of-type {\n",
              "        vertical-align: middle;\n",
              "    }\n",
              "\n",
              "    .dataframe tbody tr th {\n",
              "        vertical-align: top;\n",
              "    }\n",
              "\n",
              "    .dataframe thead th {\n",
              "        text-align: right;\n",
              "    }\n",
              "</style>\n",
              "<table border=\"1\" class=\"dataframe\">\n",
              "  <thead>\n",
              "    <tr style=\"text-align: right;\">\n",
              "      <th></th>\n",
              "      <th>ID</th>\n",
              "      <th>Frequency</th>\n",
              "      <th>InstlmentMode</th>\n",
              "      <th>LoanStatus</th>\n",
              "      <th>PaymentMode</th>\n",
              "      <th>BranchID</th>\n",
              "      <th>Area</th>\n",
              "      <th>Tenure</th>\n",
              "      <th>AssetCost</th>\n",
              "      <th>AmountFinance</th>\n",
              "      <th>DisbursalAmount</th>\n",
              "      <th>EMI</th>\n",
              "      <th>DisbursalDate</th>\n",
              "      <th>MaturityDAte</th>\n",
              "      <th>AuthDate</th>\n",
              "      <th>AssetID</th>\n",
              "      <th>ManufacturerID</th>\n",
              "      <th>SupplierID</th>\n",
              "      <th>LTV</th>\n",
              "      <th>SEX</th>\n",
              "      <th>AGE</th>\n",
              "      <th>MonthlyIncome</th>\n",
              "      <th>City</th>\n",
              "      <th>State</th>\n",
              "      <th>ZiPCODE</th>\n",
              "    </tr>\n",
              "  </thead>\n",
              "  <tbody>\n",
              "    <tr>\n",
              "      <th>0</th>\n",
              "      <td>4</td>\n",
              "      <td>Monthly</td>\n",
              "      <td>Advance</td>\n",
              "      <td>Closed</td>\n",
              "      <td>PDC_E</td>\n",
              "      <td>2</td>\n",
              "      <td>GUNA</td>\n",
              "      <td>46</td>\n",
              "      <td>480000</td>\n",
              "      <td>365000.0</td>\n",
              "      <td>365000.0</td>\n",
              "      <td>1000.0</td>\n",
              "      <td>2011-12-29</td>\n",
              "      <td>2015-10-05</td>\n",
              "      <td>2011-12-29</td>\n",
              "      <td>3524747</td>\n",
              "      <td>1046.0</td>\n",
              "      <td>22354</td>\n",
              "      <td>75.83</td>\n",
              "      <td>M</td>\n",
              "      <td>50.0</td>\n",
              "      <td>32069.00</td>\n",
              "      <td>GUNA</td>\n",
              "      <td>MADHYA PRADESH</td>\n",
              "      <td>473001.0</td>\n",
              "    </tr>\n",
              "    <tr>\n",
              "      <th>1</th>\n",
              "      <td>5</td>\n",
              "      <td>Monthly</td>\n",
              "      <td>Advance</td>\n",
              "      <td>Closed</td>\n",
              "      <td>PDC</td>\n",
              "      <td>2</td>\n",
              "      <td>GUNA</td>\n",
              "      <td>45</td>\n",
              "      <td>480000</td>\n",
              "      <td>285000.0</td>\n",
              "      <td>285000.0</td>\n",
              "      <td>9300.0</td>\n",
              "      <td>2012-04-28</td>\n",
              "      <td>2016-01-01</td>\n",
              "      <td>2012-04-28</td>\n",
              "      <td>4985862</td>\n",
              "      <td>1046.0</td>\n",
              "      <td>22354</td>\n",
              "      <td>57.44</td>\n",
              "      <td>M</td>\n",
              "      <td>35.0</td>\n",
              "      <td>25000.00</td>\n",
              "      <td>GUNA</td>\n",
              "      <td>MADHYA PRADESH</td>\n",
              "      <td>473001.0</td>\n",
              "    </tr>\n",
              "    <tr>\n",
              "      <th>2</th>\n",
              "      <td>6</td>\n",
              "      <td>Quatrly</td>\n",
              "      <td>Arrear</td>\n",
              "      <td>Closed</td>\n",
              "      <td>PDC</td>\n",
              "      <td>2</td>\n",
              "      <td>GUNA</td>\n",
              "      <td>48</td>\n",
              "      <td>580000</td>\n",
              "      <td>400000.0</td>\n",
              "      <td>400000.0</td>\n",
              "      <td>35800.0</td>\n",
              "      <td>2013-10-22</td>\n",
              "      <td>2017-09-10</td>\n",
              "      <td>2013-10-22</td>\n",
              "      <td>12881783</td>\n",
              "      <td>1060.0</td>\n",
              "      <td>65929</td>\n",
              "      <td>68.97</td>\n",
              "      <td>M</td>\n",
              "      <td>37.0</td>\n",
              "      <td>23333.33</td>\n",
              "      <td>GUNA</td>\n",
              "      <td>MADHYA PRADESH</td>\n",
              "      <td>473001.0</td>\n",
              "    </tr>\n",
              "    <tr>\n",
              "      <th>3</th>\n",
              "      <td>25</td>\n",
              "      <td>Half Yearly</td>\n",
              "      <td>Arrear</td>\n",
              "      <td>Closed</td>\n",
              "      <td>Billed</td>\n",
              "      <td>154</td>\n",
              "      <td>NaN</td>\n",
              "      <td>36</td>\n",
              "      <td>725000</td>\n",
              "      <td>500000.0</td>\n",
              "      <td>500000.0</td>\n",
              "      <td>52000.0</td>\n",
              "      <td>2013-05-21</td>\n",
              "      <td>2016-02-10</td>\n",
              "      <td>2013-05-21</td>\n",
              "      <td>10613776</td>\n",
              "      <td>1049.0</td>\n",
              "      <td>68597</td>\n",
              "      <td>61.79</td>\n",
              "      <td>M</td>\n",
              "      <td>55.0</td>\n",
              "      <td>91666.67</td>\n",
              "      <td>MAHASAMUND</td>\n",
              "      <td>CHATTISGARH</td>\n",
              "      <td>493558.0</td>\n",
              "    </tr>\n",
              "    <tr>\n",
              "      <th>4</th>\n",
              "      <td>119</td>\n",
              "      <td>Quatrly</td>\n",
              "      <td>Arrear</td>\n",
              "      <td>Closed</td>\n",
              "      <td>PDC</td>\n",
              "      <td>194</td>\n",
              "      <td>CUTTACK</td>\n",
              "      <td>48</td>\n",
              "      <td>617000</td>\n",
              "      <td>400000.0</td>\n",
              "      <td>400000.0</td>\n",
              "      <td>35400.0</td>\n",
              "      <td>2012-11-30</td>\n",
              "      <td>2016-12-05</td>\n",
              "      <td>2012-11-30</td>\n",
              "      <td>7911110</td>\n",
              "      <td>1049.0</td>\n",
              "      <td>38493</td>\n",
              "      <td>59.09</td>\n",
              "      <td>M</td>\n",
              "      <td>48.0</td>\n",
              "      <td>12500.00</td>\n",
              "      <td>JAGATSINGHAPUR</td>\n",
              "      <td>ORISSA</td>\n",
              "      <td>754137.0</td>\n",
              "    </tr>\n",
              "  </tbody>\n",
              "</table>\n",
              "</div>"
            ],
            "text/plain": [
              "    ID    Frequency InstlmentMode LoanStatus PaymentMode  BranchID     Area  \\\n",
              "0    4      Monthly       Advance     Closed       PDC_E         2     GUNA   \n",
              "1    5      Monthly       Advance     Closed         PDC         2     GUNA   \n",
              "2    6      Quatrly        Arrear     Closed         PDC         2     GUNA   \n",
              "3   25  Half Yearly        Arrear     Closed      Billed       154      NaN   \n",
              "4  119      Quatrly        Arrear     Closed         PDC       194  CUTTACK   \n",
              "\n",
              "   Tenure  AssetCost  AmountFinance  DisbursalAmount      EMI DisbursalDate  \\\n",
              "0      46     480000       365000.0         365000.0   1000.0    2011-12-29   \n",
              "1      45     480000       285000.0         285000.0   9300.0    2012-04-28   \n",
              "2      48     580000       400000.0         400000.0  35800.0    2013-10-22   \n",
              "3      36     725000       500000.0         500000.0  52000.0    2013-05-21   \n",
              "4      48     617000       400000.0         400000.0  35400.0    2012-11-30   \n",
              "\n",
              "  MaturityDAte   AuthDate   AssetID  ManufacturerID  SupplierID    LTV SEX  \\\n",
              "0   2015-10-05 2011-12-29   3524747          1046.0       22354  75.83   M   \n",
              "1   2016-01-01 2012-04-28   4985862          1046.0       22354  57.44   M   \n",
              "2   2017-09-10 2013-10-22  12881783          1060.0       65929  68.97   M   \n",
              "3   2016-02-10 2013-05-21  10613776          1049.0       68597  61.79   M   \n",
              "4   2016-12-05 2012-11-30   7911110          1049.0       38493  59.09   M   \n",
              "\n",
              "    AGE  MonthlyIncome            City           State   ZiPCODE  \n",
              "0  50.0       32069.00            GUNA  MADHYA PRADESH  473001.0  \n",
              "1  35.0       25000.00            GUNA  MADHYA PRADESH  473001.0  \n",
              "2  37.0       23333.33            GUNA  MADHYA PRADESH  473001.0  \n",
              "3  55.0       91666.67      MAHASAMUND     CHATTISGARH  493558.0  \n",
              "4  48.0       12500.00  JAGATSINGHAPUR          ORISSA  754137.0  "
            ]
          },
          "metadata": {
            "tags": []
          },
          "execution_count": 45
        }
      ]
    },
    {
      "cell_type": "code",
      "metadata": {
        "id": "ehOC9H5cKe-l"
      },
      "source": [
        "test_b = pd.read_excel('/content/drive/MyDrive/LTFSDSFinHack3/Test/test_bureau.xlsx')"
      ],
      "execution_count": 46,
      "outputs": []
    },
    {
      "cell_type": "code",
      "metadata": {
        "colab": {
          "base_uri": "https://localhost:8080/",
          "height": 377
        },
        "id": "ozjM_dHKTgk5",
        "outputId": "5f96eb6e-42d9-42bb-80c3-af392192363c"
      },
      "source": [
        "test_b.head()"
      ],
      "execution_count": 47,
      "outputs": [
        {
          "output_type": "execute_result",
          "data": {
            "text/html": [
              "<div>\n",
              "<style scoped>\n",
              "    .dataframe tbody tr th:only-of-type {\n",
              "        vertical-align: middle;\n",
              "    }\n",
              "\n",
              "    .dataframe tbody tr th {\n",
              "        vertical-align: top;\n",
              "    }\n",
              "\n",
              "    .dataframe thead th {\n",
              "        text-align: right;\n",
              "    }\n",
              "</style>\n",
              "<table border=\"1\" class=\"dataframe\">\n",
              "  <thead>\n",
              "    <tr style=\"text-align: right;\">\n",
              "      <th></th>\n",
              "      <th>ID</th>\n",
              "      <th>SELF-INDICATOR</th>\n",
              "      <th>MATCH-TYPE</th>\n",
              "      <th>ACCT-TYPE</th>\n",
              "      <th>CONTRIBUTOR-TYPE</th>\n",
              "      <th>DATE-REPORTED</th>\n",
              "      <th>OWNERSHIP-IND</th>\n",
              "      <th>ACCOUNT-STATUS</th>\n",
              "      <th>DISBURSED-DT</th>\n",
              "      <th>CLOSE-DT</th>\n",
              "      <th>LAST-PAYMENT-DATE</th>\n",
              "      <th>CREDIT-LIMIT/SANC AMT</th>\n",
              "      <th>DISBURSED-AMT/HIGH CREDIT</th>\n",
              "      <th>INSTALLMENT-AMT</th>\n",
              "      <th>CURRENT-BAL</th>\n",
              "      <th>INSTALLMENT-FREQUENCY</th>\n",
              "      <th>OVERDUE-AMT</th>\n",
              "      <th>WRITE-OFF-AMT</th>\n",
              "      <th>ASSET_CLASS</th>\n",
              "      <th>REPORTED DATE - HIST</th>\n",
              "      <th>DPD - HIST</th>\n",
              "      <th>CUR BAL - HIST</th>\n",
              "      <th>AMT OVERDUE - HIST</th>\n",
              "      <th>AMT PAID - HIST</th>\n",
              "      <th>TENURE</th>\n",
              "    </tr>\n",
              "  </thead>\n",
              "  <tbody>\n",
              "    <tr>\n",
              "      <th>0</th>\n",
              "      <td>4</td>\n",
              "      <td>False</td>\n",
              "      <td>PRIMARY</td>\n",
              "      <td>Credit Card</td>\n",
              "      <td>CCC</td>\n",
              "      <td>2019-11-17</td>\n",
              "      <td>Individual</td>\n",
              "      <td>Active</td>\n",
              "      <td>2019-09-26</td>\n",
              "      <td>NaN</td>\n",
              "      <td>NaT</td>\n",
              "      <td>10,000</td>\n",
              "      <td>588</td>\n",
              "      <td>NaN</td>\n",
              "      <td>589</td>\n",
              "      <td>NaN</td>\n",
              "      <td>0</td>\n",
              "      <td>0.0</td>\n",
              "      <td>NaN</td>\n",
              "      <td>20191117,</td>\n",
              "      <td>000</td>\n",
              "      <td>589,</td>\n",
              "      <td>0,</td>\n",
              "      <td>0,</td>\n",
              "      <td>NaN</td>\n",
              "    </tr>\n",
              "    <tr>\n",
              "      <th>1</th>\n",
              "      <td>4</td>\n",
              "      <td>False</td>\n",
              "      <td>PRIMARY</td>\n",
              "      <td>Housing Loan</td>\n",
              "      <td>HFC</td>\n",
              "      <td>2019-10-31</td>\n",
              "      <td>Joint</td>\n",
              "      <td>Active</td>\n",
              "      <td>2017-06-21</td>\n",
              "      <td>NaN</td>\n",
              "      <td>2019-10-15</td>\n",
              "      <td>NaN</td>\n",
              "      <td>25,00,000</td>\n",
              "      <td>30,797/Monthly</td>\n",
              "      <td>21,07,227</td>\n",
              "      <td>F03</td>\n",
              "      <td>0</td>\n",
              "      <td>0.0</td>\n",
              "      <td>NaN</td>\n",
              "      <td>20191031,20190930,20190831,20190731,20190630,2...</td>\n",
              "      <td>0000000000000000000000000000000000000000000000...</td>\n",
              "      <td>2107227,2122196,2136877,2151448,2165910,218026...</td>\n",
              "      <td>0,0,0,0,0,0,0,0,0,0,0,0,0,0,0,0,0,0,0,0,0,0,0,...</td>\n",
              "      <td>,,,,,,,,,,,,,,,,,,,,,,,,,,,,,</td>\n",
              "      <td>120.0</td>\n",
              "    </tr>\n",
              "    <tr>\n",
              "      <th>2</th>\n",
              "      <td>4</td>\n",
              "      <td>False</td>\n",
              "      <td>PRIMARY</td>\n",
              "      <td>Property Loan</td>\n",
              "      <td>HFC</td>\n",
              "      <td>2019-10-31</td>\n",
              "      <td>Joint</td>\n",
              "      <td>Active</td>\n",
              "      <td>2017-06-27</td>\n",
              "      <td>NaN</td>\n",
              "      <td>2019-10-15</td>\n",
              "      <td>NaN</td>\n",
              "      <td>99,000</td>\n",
              "      <td>1,223/Monthly</td>\n",
              "      <td>83,458</td>\n",
              "      <td>F03</td>\n",
              "      <td>0</td>\n",
              "      <td>0.0</td>\n",
              "      <td>NaN</td>\n",
              "      <td>20191031,20190930,20190831,20190731,20190630,2...</td>\n",
              "      <td>0000000000000000000000000000000000000000000000...</td>\n",
              "      <td>83458,84051,84632,85209,85781,86349,86913,8747...</td>\n",
              "      <td>0,0,0,0,0,0,0,0,0,0,0,0,0,0,0,0,0,0,0,0,0,0,0,...</td>\n",
              "      <td>,,,,,,,,,,,,,,,,,,,,,,,,,,,,,</td>\n",
              "      <td>120.0</td>\n",
              "    </tr>\n",
              "    <tr>\n",
              "      <th>3</th>\n",
              "      <td>4</td>\n",
              "      <td>True</td>\n",
              "      <td>PRIMARY</td>\n",
              "      <td>Tractor Loan</td>\n",
              "      <td>NBF</td>\n",
              "      <td>2015-10-31</td>\n",
              "      <td>Individual</td>\n",
              "      <td>Closed</td>\n",
              "      <td>2011-12-29</td>\n",
              "      <td>2015-10-13 00:00:00</td>\n",
              "      <td>NaT</td>\n",
              "      <td>NaN</td>\n",
              "      <td>3,65,000</td>\n",
              "      <td>NaN</td>\n",
              "      <td>0</td>\n",
              "      <td>NaN</td>\n",
              "      <td>0</td>\n",
              "      <td>0.0</td>\n",
              "      <td>NaN</td>\n",
              "      <td>20151031,20150901,20150831,20150731,20150630,2...</td>\n",
              "      <td>000DDD0270000000000000000000000000000000000000...</td>\n",
              "      <td>0,,21548,32097,42500,52758,62874,72850,82688,9...</td>\n",
              "      <td>0,,11000,0,0,0,0,0,0,0,0,0,0,0,0,0,0,0,0,0,0,0...</td>\n",
              "      <td>,,,,,,,,,,,,,,,,,,,,,,,,,,,,,,,,,,,,,</td>\n",
              "      <td>NaN</td>\n",
              "    </tr>\n",
              "    <tr>\n",
              "      <th>4</th>\n",
              "      <td>5</td>\n",
              "      <td>False</td>\n",
              "      <td>PRIMARY</td>\n",
              "      <td>Gold Loan</td>\n",
              "      <td>PRB</td>\n",
              "      <td>2017-08-31</td>\n",
              "      <td>Individual</td>\n",
              "      <td>Closed</td>\n",
              "      <td>2016-05-04</td>\n",
              "      <td>2017-06-15 00:00:00</td>\n",
              "      <td>2017-06-15</td>\n",
              "      <td>NaN</td>\n",
              "      <td>25,801</td>\n",
              "      <td>NaN</td>\n",
              "      <td>0</td>\n",
              "      <td>NaN</td>\n",
              "      <td>0</td>\n",
              "      <td>0.0</td>\n",
              "      <td>NaN</td>\n",
              "      <td>20170630,20170501,20170401,20170331,20170201,2...</td>\n",
              "      <td>000DDDDDD000DDDDDD000DDDDDD000DDDDDD000</td>\n",
              "      <td>0,,,25846,,,25846,,,25846,,,25846,</td>\n",
              "      <td>0,,,0,,,0,,,0,,,0</td>\n",
              "      <td>,,,,,,,,,,,,,,</td>\n",
              "      <td>NaN</td>\n",
              "    </tr>\n",
              "  </tbody>\n",
              "</table>\n",
              "</div>"
            ],
            "text/plain": [
              "   ID  SELF-INDICATOR MATCH-TYPE      ACCT-TYPE CONTRIBUTOR-TYPE  \\\n",
              "0   4           False    PRIMARY    Credit Card              CCC   \n",
              "1   4           False    PRIMARY   Housing Loan              HFC   \n",
              "2   4           False    PRIMARY  Property Loan              HFC   \n",
              "3   4            True    PRIMARY   Tractor Loan              NBF   \n",
              "4   5           False    PRIMARY      Gold Loan              PRB   \n",
              "\n",
              "  DATE-REPORTED OWNERSHIP-IND ACCOUNT-STATUS DISBURSED-DT  \\\n",
              "0    2019-11-17    Individual         Active   2019-09-26   \n",
              "1    2019-10-31         Joint         Active   2017-06-21   \n",
              "2    2019-10-31         Joint         Active   2017-06-27   \n",
              "3    2015-10-31    Individual         Closed   2011-12-29   \n",
              "4    2017-08-31    Individual         Closed   2016-05-04   \n",
              "\n",
              "              CLOSE-DT LAST-PAYMENT-DATE CREDIT-LIMIT/SANC AMT  \\\n",
              "0                  NaN               NaT                10,000   \n",
              "1                  NaN        2019-10-15                   NaN   \n",
              "2                  NaN        2019-10-15                   NaN   \n",
              "3  2015-10-13 00:00:00               NaT                   NaN   \n",
              "4  2017-06-15 00:00:00        2017-06-15                   NaN   \n",
              "\n",
              "  DISBURSED-AMT/HIGH CREDIT INSTALLMENT-AMT CURRENT-BAL INSTALLMENT-FREQUENCY  \\\n",
              "0                       588             NaN         589                   NaN   \n",
              "1                 25,00,000  30,797/Monthly   21,07,227                   F03   \n",
              "2                    99,000   1,223/Monthly      83,458                   F03   \n",
              "3                  3,65,000             NaN           0                   NaN   \n",
              "4                    25,801             NaN           0                   NaN   \n",
              "\n",
              "  OVERDUE-AMT  WRITE-OFF-AMT ASSET_CLASS  \\\n",
              "0           0            0.0         NaN   \n",
              "1           0            0.0         NaN   \n",
              "2           0            0.0         NaN   \n",
              "3           0            0.0         NaN   \n",
              "4           0            0.0         NaN   \n",
              "\n",
              "                                REPORTED DATE - HIST  \\\n",
              "0                                          20191117,   \n",
              "1  20191031,20190930,20190831,20190731,20190630,2...   \n",
              "2  20191031,20190930,20190831,20190731,20190630,2...   \n",
              "3  20151031,20150901,20150831,20150731,20150630,2...   \n",
              "4  20170630,20170501,20170401,20170331,20170201,2...   \n",
              "\n",
              "                                          DPD - HIST  \\\n",
              "0                                                000   \n",
              "1  0000000000000000000000000000000000000000000000...   \n",
              "2  0000000000000000000000000000000000000000000000...   \n",
              "3  000DDD0270000000000000000000000000000000000000...   \n",
              "4            000DDDDDD000DDDDDD000DDDDDD000DDDDDD000   \n",
              "\n",
              "                                      CUR BAL - HIST  \\\n",
              "0                                               589,   \n",
              "1  2107227,2122196,2136877,2151448,2165910,218026...   \n",
              "2  83458,84051,84632,85209,85781,86349,86913,8747...   \n",
              "3  0,,21548,32097,42500,52758,62874,72850,82688,9...   \n",
              "4                 0,,,25846,,,25846,,,25846,,,25846,   \n",
              "\n",
              "                                  AMT OVERDUE - HIST  \\\n",
              "0                                                 0,   \n",
              "1  0,0,0,0,0,0,0,0,0,0,0,0,0,0,0,0,0,0,0,0,0,0,0,...   \n",
              "2  0,0,0,0,0,0,0,0,0,0,0,0,0,0,0,0,0,0,0,0,0,0,0,...   \n",
              "3  0,,11000,0,0,0,0,0,0,0,0,0,0,0,0,0,0,0,0,0,0,0...   \n",
              "4                                  0,,,0,,,0,,,0,,,0   \n",
              "\n",
              "                         AMT PAID - HIST  TENURE  \n",
              "0                                     0,     NaN  \n",
              "1          ,,,,,,,,,,,,,,,,,,,,,,,,,,,,,   120.0  \n",
              "2          ,,,,,,,,,,,,,,,,,,,,,,,,,,,,,   120.0  \n",
              "3  ,,,,,,,,,,,,,,,,,,,,,,,,,,,,,,,,,,,,,     NaN  \n",
              "4                         ,,,,,,,,,,,,,,     NaN  "
            ]
          },
          "metadata": {
            "tags": []
          },
          "execution_count": 47
        }
      ]
    },
    {
      "cell_type": "code",
      "metadata": {
        "id": "tvFpyPjwKe-l"
      },
      "source": [
        "train_bb = train_b.copy()"
      ],
      "execution_count": 52,
      "outputs": []
    },
    {
      "cell_type": "code",
      "metadata": {
        "id": "wfyNbMkeKe-m"
      },
      "source": [
        "test_bb = test_b.copy()"
      ],
      "execution_count": 53,
      "outputs": []
    },
    {
      "cell_type": "code",
      "metadata": {
        "id": "deS98dYBKe-n"
      },
      "source": [
        "# Data Treatment:\n",
        "#     -categorical vars"
      ],
      "execution_count": 12,
      "outputs": []
    },
    {
      "cell_type": "code",
      "metadata": {
        "id": "vMpmrn9dKe-n"
      },
      "source": [
        "# id -dont do it\n",
        "# self indiactor -nochange\n",
        "# match type- not req\n",
        "# acct type -required 3 columns chosen for remaning crosstab then combine cols\n",
        "    -\n",
        " #contributor type ARC is not ptesent in test so crosstab and then delete arc   \n",
        "# ownership indicator no rpoblem\n",
        "# account status not present in test Sold/Purchased ,Cancelled cross tab then delete                            \n",
        "# credit limit CREDIT-LIMIT/SANC AMT  DISBURSED-AMT/HIGH CREDIT kbindiscretization\n",
        "# installment not present in test data F04 F07  F08 crosstab then delete it\n",
        "# asset class 2 not ptresent in test crosstab and remove it"
      ],
      "execution_count": null,
      "outputs": []
    },
    {
      "cell_type": "code",
      "metadata": {
        "colab": {
          "base_uri": "https://localhost:8080/"
        },
        "id": "DI1glhuESvJv",
        "outputId": "5d8a327e-721b-4ac7-9d67-2fb958bbfe1b"
      },
      "source": [
        "train_b.ID"
      ],
      "execution_count": 42,
      "outputs": [
        {
          "output_type": "execute_result",
          "data": {
            "text/plain": [
              "0              1\n",
              "1              1\n",
              "2              1\n",
              "3              1\n",
              "4              1\n",
              "           ...  \n",
              "560839    143393\n",
              "560840    143393\n",
              "560841    143393\n",
              "560842    143394\n",
              "560843    143395\n",
              "Name: ID, Length: 560844, dtype: int64"
            ]
          },
          "metadata": {
            "tags": []
          },
          "execution_count": 42
        }
      ]
    },
    {
      "cell_type": "code",
      "metadata": {
        "id": "4Bxb30sUKe-p"
      },
      "source": [
        "train_SELF_INDICATOR=pd.crosstab(train_b.ID,train_b['SELF-INDICATOR'],dropna= True).reset_index()\n",
        "test_SELF_INDICATOR=pd.crosstab(test_b.ID,test_b['SELF-INDICATOR'],dropna= True).reset_index()"
      ],
      "execution_count": 49,
      "outputs": []
    },
    {
      "cell_type": "code",
      "metadata": {
        "id": "QoIApJX5Ke-p"
      },
      "source": [
        "train_MATCH_TYPE=pd.crosstab(train_b.ID,train_b['MATCH-TYPE'],dropna= True).reset_index()\n",
        "test_MATCH_TYPE=pd.crosstab(test_b.ID,test_b['MATCH-TYPE'],dropna= True).reset_index()"
      ],
      "execution_count": 50,
      "outputs": []
    },
    {
      "cell_type": "code",
      "metadata": {
        "id": "7CMmOx4jKe-p",
        "colab": {
          "base_uri": "https://localhost:8080/"
        },
        "outputId": "58d640db-f93d-4b3b-f475-08691c90d864"
      },
      "source": [
        "x = set(train_bb['ACCT-TYPE'].unique())  \n",
        "y = set(test_bb['ACCT-TYPE'].unique()) \n",
        "common = x.intersection(y)\n",
        "print(list(common)) #now decide cols to keep "
      ],
      "execution_count": 54,
      "outputs": [
        {
          "output_type": "stream",
          "text": [
            "['Mudra Loans   Shishu / Kishor / Tarun', 'Non-Funded Credit Facility', 'Business Loan Priority Sector  Agriculture', 'Gold Loan', 'Business Non-Funded Credit Facility-Priority Sector- Small Business', 'Personal Loan', 'Housing Loan', 'Individual', 'Business Loan Priority Sector  Small Business', 'Commercial Vehicle Loan', 'Microfinance Business Loan', 'Prime Minister Jaan Dhan Yojana - Overdraft', 'Microfinance Others', 'Overdraft', 'Business Non-Funded Credit Facility General', 'Loan to Professional', 'Two-Wheeler Loan', 'Business Loan Unsecured', 'Business Loan Against Bank Deposits', 'Auto Loan (Personal)', 'SHG Individual', 'Loan Against Shares / Securities', 'Construction Equipment Loan', 'Business Non-Funded Credit Facility-Priority Sector-Agriculture', 'Pradhan Mantri Awas Yojana - CLSS', 'Tractor Loan', 'Corporate Credit Card', 'Fleet Card', 'Consumer Loan', 'Business Loan Priority Sector  Others', 'Commercial Equipment Loan', 'Microfinance Personal Loan', 'Property Loan', 'Microfinance Housing Loan', 'Credit Card', 'Kisan Credit Card', 'Loan Against Bank Deposits', 'Used Car Loan', 'Business Loan - Secured', 'Education Loan', 'Business Loan General', 'Other', 'JLG Individual', 'Secured Credit Card']\n"
          ],
          "name": "stdout"
        }
      ]
    },
    {
      "cell_type": "code",
      "metadata": {
        "id": "wAAakmzvKe-q"
      },
      "source": [
        "train_ACCT_TYPE=pd.crosstab(train_b.ID,train_b['ACCT-TYPE'],dropna= True).reset_index()\n",
        "test_ACCT_TYPE=pd.crosstab(test_b.ID,test_b['ACCT-TYPE'],dropna= True).reset_index()\n",
        "\n",
        "cols_to_keep =['Tractor Loan','Gold Loan','Business Loan Priority Sector  Agriculture']\n",
        "\n",
        "train_ACCT_TYPE[\"Others\"] = pd.DataFrame(train_ACCT_TYPE.drop(columns=cols_to_keep).sum(axis=1))\n",
        "test_ACCT_TYPE[\"Others\"] = pd.DataFrame(test_ACCT_TYPE.drop(columns=cols_to_keep).sum(axis=1))\n",
        "filter_cols =cols_to_keep + ['Others','ID'] \n",
        "train_ACCT_TYPE = train_ACCT_TYPE.filter(filter_cols)\n",
        "test_ACCT_TYPE = test_ACCT_TYPE.filter(filter_cols)"
      ],
      "execution_count": 81,
      "outputs": []
    },
    {
      "cell_type": "code",
      "metadata": {
        "id": "Sh67auIEKe-r"
      },
      "source": [
        "train_CONTRIBUTOR_TYPE=pd.crosstab(train_b.ID,train_b['CONTRIBUTOR-TYPE'],dropna= True).drop(columns = ['ARC']).reset_index()\n",
        "test_CONTRIBUTOR_TYPE=pd.crosstab(test_b.ID,test_b['CONTRIBUTOR-TYPE'],dropna= True).reset_index()\n"
      ],
      "execution_count": 56,
      "outputs": []
    },
    {
      "cell_type": "code",
      "metadata": {
        "id": "gNzNgU45Ke-r"
      },
      "source": [
        "train_OWNERSHIP_IND=pd.crosstab(train_b.ID,train_b['OWNERSHIP-IND'],dropna= True).reset_index()\n",
        "test_OWNERSHIP_IND=pd.crosstab(test_b.ID,test_b['OWNERSHIP-IND'],dropna= True).reset_index()\n"
      ],
      "execution_count": 57,
      "outputs": []
    },
    {
      "cell_type": "code",
      "metadata": {
        "id": "yU0l8ivWKe-r"
      },
      "source": [
        "train_ACCOUNT_STATUS=pd.crosstab(train_b.ID,train_b['ACCOUNT-STATUS'],dropna= True).drop(columns=['Sold/Purchased','Cancelled']).reset_index()\n",
        "test_ACCOUNT_STATUS=pd.crosstab(test_b.ID,test_b['ACCOUNT-STATUS'],dropna= True).reset_index()\n"
      ],
      "execution_count": 58,
      "outputs": []
    },
    {
      "cell_type": "code",
      "metadata": {
        "id": "ppRjO7M5Ke-s"
      },
      "source": [
        "train_INSTALLMENT_FREQUENCY=pd.crosstab(train_b.ID,train_b['INSTALLMENT-FREQUENCY'],dropna= True).drop(columns=['F04','F07','F08']).reset_index()\n",
        "test_INSTALLMENT_FREQUENCY=pd.crosstab(test_b.ID,test_b['INSTALLMENT-FREQUENCY'],dropna= True).reset_index()"
      ],
      "execution_count": 59,
      "outputs": []
    },
    {
      "cell_type": "code",
      "metadata": {
        "id": "pgF2Vch6Ke-s"
      },
      "source": [
        "train_ASSET_CLASS=pd.crosstab(train_b.ID,train_b['ASSET_CLASS'],dropna= True).drop(columns=['2']).reset_index()\n",
        "test_ASSET_CLASS=pd.crosstab(test_b.ID,test_b['ASSET_CLASS'],dropna= True).reset_index()"
      ],
      "execution_count": 60,
      "outputs": []
    },
    {
      "cell_type": "code",
      "metadata": {
        "id": "1teJ7t4RKe-t"
      },
      "source": [
        "def onehotencoder(train,test,cols=[]):\n",
        "    \n",
        "    from sklearn.preprocessing import OneHotEncoder\n",
        "    #object_cols = catVar1(train) #catVar1 gives desired categorical column and not all object columns\n",
        "    object_cols=cols\n",
        "    print(object_cols)\n",
        "    \n",
        "    OH_encoder = OneHotEncoder(handle_unknown='ignore', sparse=False)\n",
        "    OH_cols_train = pd.DataFrame(OH_encoder.fit_transform(train[object_cols]))\n",
        "    OH_cols_test = pd.DataFrame(OH_encoder.transform(test[object_cols]))\n",
        "\n",
        "    # One-hot encoding removed index; put it back\n",
        "    OH_cols_train.index = train.index\n",
        "    OH_cols_test.index = test.index\n",
        "\n",
        "    ##hack for restoring columns names just like get dummies\n",
        "    column_name = OH_encoder.get_feature_names(object_cols)\n",
        "    OH_cols_train.columns = column_name\n",
        "    OH_cols_test.columns = column_name\n",
        "    \n",
        "\n",
        "    # Remove desired categorical columns (will replace with one-hot encoding)\n",
        "    num_train = train.drop(object_cols, axis=1)\n",
        "    num_test = test.drop(object_cols, axis=1)\n",
        "\n",
        "    # Add one-hot encoded columns to numerical/remaining features\n",
        "    OH_train = pd.concat([num_train, OH_cols_train], axis=1)\n",
        "    OH_test = pd.concat([num_test, OH_cols_test], axis=1)\n",
        "    \n",
        "\n",
        "    \n",
        "    print(OH_train.shape,OH_test.shape)\n",
        "    \n",
        "    \n",
        "    return OH_train,OH_test\n",
        "\n",
        "def targetencoding(train,test,y_train,drop=False,cols=[]):\n",
        "    import category_encoders as ce\n",
        "    # Create the encoder itself\n",
        "    cat_features = cols\n",
        "    print(f'targest emcoding for features {cat_features}')\n",
        "    target_enc = ce.TargetEncoder(cols=cat_features)\n",
        "\n",
        "    \n",
        "\n",
        "    # Fit the encoder using the categorical features and target\n",
        "    target_enc.fit(train[cat_features], y_train)\n",
        "    \n",
        "\n",
        "    # Transform the features, rename the columns with _target suffix, and join to dataframe\n",
        "    traintrgtenc = train.join(target_enc.transform(train[cat_features]).add_suffix('_target'))\n",
        "    testtrgtenc = test.join(target_enc.transform(test[cat_features]).add_suffix('_target'))\n",
        "\n",
        "    if drop :\n",
        "        traintrgtenc = traintrgtenc.drop(cat_features, axis =1)\n",
        "        testtrgtenc = testtrgtenc.drop(cat_features, axis =1)\n",
        "\n",
        "    \n",
        "    print(traintrgtenc.shape,testtrgtenc.shape)\n",
        "    \n",
        "    return traintrgtenc,testtrgtenc\n",
        "\n",
        "\n",
        "def ordinalencoding(train,test,y_train,mapping,drop=False,cols=[]):\n",
        "    import category_encoders as ce\n",
        "    # Create the encoder itself\n",
        "    cat_features = cols\n",
        "    print(f'ordinal encoding for features {cat_features}')\n",
        "    target_enc = ce.OrdinalEncoder(cols=cat_features,mapping = mapping)\n",
        "\n",
        "    \n",
        "\n",
        "    # Fit the encoder using the categorical features and target\n",
        "    target_enc.fit(train[cat_features], y_train)\n",
        "    \n",
        "\n",
        "    # Transform the features, rename the columns with _target suffix, and join to dataframe\n",
        "    traintrgtenc = train.join(target_enc.transform(train[cat_features]).add_suffix('_ordinal'))\n",
        "    testtrgtenc = test.join(target_enc.transform(test[cat_features]).add_suffix('_ordinal'))\n",
        "\n",
        "    if drop :\n",
        "        traintrgtenc = traintrgtenc.drop(cat_features, axis =1)\n",
        "        testtrgtenc = testtrgtenc.drop(cat_features, axis =1)\n",
        "\n",
        "    \n",
        "    print(traintrgtenc.shape,testtrgtenc.shape)\n",
        "    \n",
        "    return traintrgtenc,testtrgtenc"
      ],
      "execution_count": 61,
      "outputs": []
    },
    {
      "cell_type": "code",
      "metadata": {
        "id": "LaqkZpKTKe-t"
      },
      "source": [
        "train_bb['DISBURSED-AMT/HIGH CREDIT'] = train_b['DISBURSED-AMT/HIGH CREDIT'].str.replace(',', '').astype('float')\n",
        "test_bb['DISBURSED-AMT/HIGH CREDIT'] = test_b['DISBURSED-AMT/HIGH CREDIT'].str.replace(',', '').astype('float')"
      ],
      "execution_count": 62,
      "outputs": []
    },
    {
      "cell_type": "code",
      "metadata": {
        "id": "PEXzwbLKKe-u"
      },
      "source": [
        "train_bb['CURRENT-BAL'] = train_b['CURRENT-BAL'].fillna(0)\n",
        "test_bb['CURRENT-BAL'] = test_b['CURRENT-BAL'].fillna(0)\n",
        "train_bb['CURRENT-BAL'] = train_b['CURRENT-BAL'].str.replace(',', '').astype('float')\n",
        "test_bb['CURRENT-BAL'] = test_b['CURRENT-BAL'].str.replace(',', '').astype('float')"
      ],
      "execution_count": 63,
      "outputs": []
    },
    {
      "cell_type": "code",
      "metadata": {
        "id": "xWQx0YMiKe-u"
      },
      "source": [
        "\n",
        "train_CURRENT = train_bb[['CURRENT-BAL','ID']].dropna()\n",
        "test_CURRENT = test_bb[['CURRENT-BAL','ID']].dropna()\n",
        "\n",
        "enc = KBinsDiscretizer(n_bins=4, encode='ordinal', strategy='kmeans')\n",
        "enc.fit(train_bb['CURRENT-BAL'].dropna().values.reshape(-1,1))\n",
        "\n",
        "train_CURRENT['CURRENT-BAL'] = enc.transform(train_CURRENT['CURRENT-BAL'].values.reshape(-1,1))\n",
        "test_CURRENT['CURRENT-BAL']= enc.transform(test_CURRENT['CURRENT-BAL'].values.reshape(-1,1))"
      ],
      "execution_count": 64,
      "outputs": []
    },
    {
      "cell_type": "code",
      "metadata": {
        "id": "c7Pg3gYgKe-v"
      },
      "source": [
        "train_CURRENT=pd.crosstab(train_CURRENT.ID,train_CURRENT['CURRENT-BAL'],dropna= True).reset_index()\n",
        "test_CURRENT=pd.crosstab(test_CURRENT.ID,test_CURRENT['CURRENT-BAL'],dropna= True).reset_index()\n",
        "test_CURRENT['3.0']=0"
      ],
      "execution_count": 65,
      "outputs": []
    },
    {
      "cell_type": "code",
      "metadata": {
        "id": "YDh9-VGQKe-v"
      },
      "source": [
        "\n",
        "train_DISBURSED = train_bb[['DISBURSED-AMT/HIGH CREDIT','ID']].dropna()\n",
        "test_DISBURSED = test_bb[['DISBURSED-AMT/HIGH CREDIT','ID']].dropna()\n",
        "\n",
        "enc = KBinsDiscretizer(n_bins=4, encode='ordinal', strategy='kmeans')\n",
        "enc.fit(train_bb['DISBURSED-AMT/HIGH CREDIT'].dropna().values.reshape(-1,1))\n",
        "\n",
        "train_DISBURSED['DISBURSED-AMT/HIGH CREDIT'] = enc.transform(train_DISBURSED['DISBURSED-AMT/HIGH CREDIT'].values.reshape(-1,1))\n",
        "test_DISBURSED['DISBURSED-AMT/HIGH CREDIT']= enc.transform(test_DISBURSED['DISBURSED-AMT/HIGH CREDIT'].values.reshape(-1,1))"
      ],
      "execution_count": 66,
      "outputs": []
    },
    {
      "cell_type": "code",
      "metadata": {
        "id": "kUohhpDgKe-w"
      },
      "source": [
        "train_DISBURSED=pd.crosstab(train_DISBURSED.ID,train_DISBURSED['DISBURSED-AMT/HIGH CREDIT'],dropna= True).reset_index()\n",
        "test_DISBURSED=pd.crosstab(test_DISBURSED.ID,test_DISBURSED['DISBURSED-AMT/HIGH CREDIT'],dropna= True).reset_index()\n",
        "test_DISBURSED['2.0']=0"
      ],
      "execution_count": 67,
      "outputs": []
    },
    {
      "cell_type": "code",
      "metadata": {
        "id": "HeA0qp7bKe-x"
      },
      "source": [
        "#discretisation baes on clusters\n",
        "\n",
        "train_tenure = train_bb[['TENURE','ID']].dropna()\n",
        "test_tenure = test_bb[['TENURE','ID']].dropna()\n",
        "\n",
        "enc = KBinsDiscretizer(n_bins=4, encode='ordinal', strategy='kmeans')\n",
        "enc.fit(train_bb['TENURE'].dropna().values.reshape(-1,1))\n",
        "\n",
        "train_tenure['TENURE'] = enc.transform(train_tenure['TENURE'].values.reshape(-1,1))\n",
        "test_tenure['TENURE']= enc.transform(test_tenure['TENURE'].values.reshape(-1,1))"
      ],
      "execution_count": 68,
      "outputs": []
    },
    {
      "cell_type": "code",
      "metadata": {
        "id": "fbQ4TLNMKe-x"
      },
      "source": [
        "train_tenure=pd.crosstab(train_tenure.ID,train_tenure['TENURE'],dropna= True).reset_index()\n",
        "test_tenure=pd.crosstab(test_tenure.ID,test_tenure['TENURE'],dropna= True).reset_index()\n"
      ],
      "execution_count": 69,
      "outputs": []
    },
    {
      "cell_type": "code",
      "metadata": {
        "colab": {
          "base_uri": "https://localhost:8080/",
          "height": 419
        },
        "id": "tNcQc5_qUiBK",
        "outputId": "4d95e969-b3c0-4654-ee56-2af00d5f280d"
      },
      "source": [
        "train_SELF_INDICATOR\r\n",
        "train_INSTALLMENT_FREQUENCY\r\n",
        "train_ACCOUNT_STATUS\r\n",
        "train_OWNERSHIP_IND\r\n",
        "train_CONTRIBUTOR_TYPE\r\n",
        "train_ACCT_TYPE"
      ],
      "execution_count": 82,
      "outputs": [
        {
          "output_type": "execute_result",
          "data": {
            "text/html": [
              "<div>\n",
              "<style scoped>\n",
              "    .dataframe tbody tr th:only-of-type {\n",
              "        vertical-align: middle;\n",
              "    }\n",
              "\n",
              "    .dataframe tbody tr th {\n",
              "        vertical-align: top;\n",
              "    }\n",
              "\n",
              "    .dataframe thead th {\n",
              "        text-align: right;\n",
              "    }\n",
              "</style>\n",
              "<table border=\"1\" class=\"dataframe\">\n",
              "  <thead>\n",
              "    <tr style=\"text-align: right;\">\n",
              "      <th>ACCT-TYPE</th>\n",
              "      <th>Tractor Loan</th>\n",
              "      <th>Gold Loan</th>\n",
              "      <th>Business Loan Priority Sector  Agriculture</th>\n",
              "      <th>Others</th>\n",
              "      <th>ID</th>\n",
              "    </tr>\n",
              "  </thead>\n",
              "  <tbody>\n",
              "    <tr>\n",
              "      <th>0</th>\n",
              "      <td>2</td>\n",
              "      <td>0</td>\n",
              "      <td>0</td>\n",
              "      <td>8</td>\n",
              "      <td>1</td>\n",
              "    </tr>\n",
              "    <tr>\n",
              "      <th>1</th>\n",
              "      <td>2</td>\n",
              "      <td>0</td>\n",
              "      <td>0</td>\n",
              "      <td>13</td>\n",
              "      <td>2</td>\n",
              "    </tr>\n",
              "    <tr>\n",
              "      <th>2</th>\n",
              "      <td>1</td>\n",
              "      <td>8</td>\n",
              "      <td>0</td>\n",
              "      <td>25</td>\n",
              "      <td>3</td>\n",
              "    </tr>\n",
              "    <tr>\n",
              "      <th>3</th>\n",
              "      <td>3</td>\n",
              "      <td>0</td>\n",
              "      <td>0</td>\n",
              "      <td>8</td>\n",
              "      <td>7</td>\n",
              "    </tr>\n",
              "    <tr>\n",
              "      <th>4</th>\n",
              "      <td>4</td>\n",
              "      <td>0</td>\n",
              "      <td>0</td>\n",
              "      <td>11</td>\n",
              "      <td>8</td>\n",
              "    </tr>\n",
              "    <tr>\n",
              "      <th>...</th>\n",
              "      <td>...</td>\n",
              "      <td>...</td>\n",
              "      <td>...</td>\n",
              "      <td>...</td>\n",
              "      <td>...</td>\n",
              "    </tr>\n",
              "    <tr>\n",
              "      <th>128650</th>\n",
              "      <td>1</td>\n",
              "      <td>0</td>\n",
              "      <td>0</td>\n",
              "      <td>143391</td>\n",
              "      <td>143390</td>\n",
              "    </tr>\n",
              "    <tr>\n",
              "      <th>128651</th>\n",
              "      <td>1</td>\n",
              "      <td>0</td>\n",
              "      <td>0</td>\n",
              "      <td>143391</td>\n",
              "      <td>143391</td>\n",
              "    </tr>\n",
              "    <tr>\n",
              "      <th>128652</th>\n",
              "      <td>3</td>\n",
              "      <td>0</td>\n",
              "      <td>0</td>\n",
              "      <td>143394</td>\n",
              "      <td>143393</td>\n",
              "    </tr>\n",
              "    <tr>\n",
              "      <th>128653</th>\n",
              "      <td>1</td>\n",
              "      <td>0</td>\n",
              "      <td>0</td>\n",
              "      <td>143394</td>\n",
              "      <td>143394</td>\n",
              "    </tr>\n",
              "    <tr>\n",
              "      <th>128654</th>\n",
              "      <td>1</td>\n",
              "      <td>0</td>\n",
              "      <td>0</td>\n",
              "      <td>143395</td>\n",
              "      <td>143395</td>\n",
              "    </tr>\n",
              "  </tbody>\n",
              "</table>\n",
              "<p>128655 rows × 5 columns</p>\n",
              "</div>"
            ],
            "text/plain": [
              "ACCT-TYPE  Tractor Loan  Gold Loan  \\\n",
              "0                     2          0   \n",
              "1                     2          0   \n",
              "2                     1          8   \n",
              "3                     3          0   \n",
              "4                     4          0   \n",
              "...                 ...        ...   \n",
              "128650                1          0   \n",
              "128651                1          0   \n",
              "128652                3          0   \n",
              "128653                1          0   \n",
              "128654                1          0   \n",
              "\n",
              "ACCT-TYPE  Business Loan Priority Sector  Agriculture  Others      ID  \n",
              "0                                                   0       8       1  \n",
              "1                                                   0      13       2  \n",
              "2                                                   0      25       3  \n",
              "3                                                   0       8       7  \n",
              "4                                                   0      11       8  \n",
              "...                                               ...     ...     ...  \n",
              "128650                                              0  143391  143390  \n",
              "128651                                              0  143391  143391  \n",
              "128652                                              0  143394  143393  \n",
              "128653                                              0  143394  143394  \n",
              "128654                                              0  143395  143395  \n",
              "\n",
              "[128655 rows x 5 columns]"
            ]
          },
          "metadata": {
            "tags": []
          },
          "execution_count": 82
        }
      ]
    },
    {
      "cell_type": "code",
      "metadata": {
        "id": "PzhwHb01Ke-y"
      },
      "source": [
        "dataframes = [train_b.ID,train_SELF_INDICATOR,train_INSTALLMENT_FREQUENCY,train_ACCOUNT_STATUS,train_OWNERSHIP_IND,\n",
        "              train_CONTRIBUTOR_TYPE,train_ACCT_TYPE,train_MATCH_TYPE,train_ASSET_CLASS,train_CURRENT,train_DISBURSED,\n",
        "              train_tenure]\n",
        "final_df_train_beauro = reduce(lambda left, right: pd.merge(left, right, on='ID', how='left'), dataframes)"
      ],
      "execution_count": 83,
      "outputs": []
    },
    {
      "cell_type": "code",
      "metadata": {
        "id": "Avyb_HHKKe-z"
      },
      "source": [
        "dataframes = [test_b.ID,test_SELF_INDICATOR,test_INSTALLMENT_FREQUENCY,test_ACCOUNT_STATUS,test_OWNERSHIP_IND,\n",
        "              test_CONTRIBUTOR_TYPE,test_ACCT_TYPE,test_MATCH_TYPE,test_ASSET_CLASS,test_CURRENT,test_DISBURSED,test_tenure]\n",
        "final_df_test_beauro = reduce(lambda left, right: pd.merge(left, right, on='ID', how='left'), dataframes)"
      ],
      "execution_count": 84,
      "outputs": []
    },
    {
      "cell_type": "code",
      "metadata": {
        "id": "HXIOeJ3VKe-z"
      },
      "source": [
        "###### now train data "
      ],
      "execution_count": 85,
      "outputs": []
    },
    {
      "cell_type": "code",
      "metadata": {
        "id": "AffnBjLvKe-0"
      },
      "source": [
        "train_dd = train_d.copy()\n",
        "test_dd = test_d.copy()"
      ],
      "execution_count": 86,
      "outputs": []
    },
    {
      "cell_type": "code",
      "metadata": {
        "id": "1F4mQ7-wKe-0",
        "colab": {
          "base_uri": "https://localhost:8080/",
          "height": 343
        },
        "outputId": "98553a95-f879-4f95-edbc-7836b3fc6414"
      },
      "source": [
        "train_dd.head()"
      ],
      "execution_count": 87,
      "outputs": [
        {
          "output_type": "execute_result",
          "data": {
            "text/html": [
              "<div>\n",
              "<style scoped>\n",
              "    .dataframe tbody tr th:only-of-type {\n",
              "        vertical-align: middle;\n",
              "    }\n",
              "\n",
              "    .dataframe tbody tr th {\n",
              "        vertical-align: top;\n",
              "    }\n",
              "\n",
              "    .dataframe thead th {\n",
              "        text-align: right;\n",
              "    }\n",
              "</style>\n",
              "<table border=\"1\" class=\"dataframe\">\n",
              "  <thead>\n",
              "    <tr style=\"text-align: right;\">\n",
              "      <th></th>\n",
              "      <th>ID</th>\n",
              "      <th>Frequency</th>\n",
              "      <th>InstlmentMode</th>\n",
              "      <th>LoanStatus</th>\n",
              "      <th>PaymentMode</th>\n",
              "      <th>BranchID</th>\n",
              "      <th>Area</th>\n",
              "      <th>Tenure</th>\n",
              "      <th>AssetCost</th>\n",
              "      <th>AmountFinance</th>\n",
              "      <th>DisbursalAmount</th>\n",
              "      <th>EMI</th>\n",
              "      <th>DisbursalDate</th>\n",
              "      <th>MaturityDAte</th>\n",
              "      <th>AuthDate</th>\n",
              "      <th>AssetID</th>\n",
              "      <th>ManufacturerID</th>\n",
              "      <th>SupplierID</th>\n",
              "      <th>LTV</th>\n",
              "      <th>SEX</th>\n",
              "      <th>AGE</th>\n",
              "      <th>MonthlyIncome</th>\n",
              "      <th>City</th>\n",
              "      <th>State</th>\n",
              "      <th>ZiPCODE</th>\n",
              "      <th>Top-up Month</th>\n",
              "    </tr>\n",
              "  </thead>\n",
              "  <tbody>\n",
              "    <tr>\n",
              "      <th>0</th>\n",
              "      <td>1</td>\n",
              "      <td>Monthly</td>\n",
              "      <td>Arrear</td>\n",
              "      <td>Closed</td>\n",
              "      <td>PDC_E</td>\n",
              "      <td>1</td>\n",
              "      <td>NaN</td>\n",
              "      <td>48</td>\n",
              "      <td>450000</td>\n",
              "      <td>275000.0</td>\n",
              "      <td>275000.0</td>\n",
              "      <td>24000.0</td>\n",
              "      <td>2012-02-10</td>\n",
              "      <td>2016-01-15</td>\n",
              "      <td>2012-02-10</td>\n",
              "      <td>4022465</td>\n",
              "      <td>1568</td>\n",
              "      <td>21946</td>\n",
              "      <td>61.11</td>\n",
              "      <td>M</td>\n",
              "      <td>49.0</td>\n",
              "      <td>35833.33</td>\n",
              "      <td>RAISEN</td>\n",
              "      <td>MADHYA PRADESH</td>\n",
              "      <td>464993.0</td>\n",
              "      <td>&gt; 48 Months</td>\n",
              "    </tr>\n",
              "    <tr>\n",
              "      <th>1</th>\n",
              "      <td>2</td>\n",
              "      <td>Monthly</td>\n",
              "      <td>Advance</td>\n",
              "      <td>Closed</td>\n",
              "      <td>PDC</td>\n",
              "      <td>333</td>\n",
              "      <td>BHOPAL</td>\n",
              "      <td>47</td>\n",
              "      <td>485000</td>\n",
              "      <td>350000.0</td>\n",
              "      <td>350000.0</td>\n",
              "      <td>10500.0</td>\n",
              "      <td>2012-03-31</td>\n",
              "      <td>2016-02-15</td>\n",
              "      <td>2012-03-31</td>\n",
              "      <td>4681175</td>\n",
              "      <td>1062</td>\n",
              "      <td>34802</td>\n",
              "      <td>70.00</td>\n",
              "      <td>M</td>\n",
              "      <td>23.0</td>\n",
              "      <td>666.67</td>\n",
              "      <td>SEHORE</td>\n",
              "      <td>MADHYA PRADESH</td>\n",
              "      <td>466001.0</td>\n",
              "      <td>No Top-up Service</td>\n",
              "    </tr>\n",
              "    <tr>\n",
              "      <th>2</th>\n",
              "      <td>3</td>\n",
              "      <td>Quatrly</td>\n",
              "      <td>Arrear</td>\n",
              "      <td>Active</td>\n",
              "      <td>Direct Debit</td>\n",
              "      <td>1</td>\n",
              "      <td>NaN</td>\n",
              "      <td>68</td>\n",
              "      <td>690000</td>\n",
              "      <td>519728.0</td>\n",
              "      <td>519728.0</td>\n",
              "      <td>38300.0</td>\n",
              "      <td>2017-06-17</td>\n",
              "      <td>2023-02-10</td>\n",
              "      <td>2017-06-17</td>\n",
              "      <td>25328146</td>\n",
              "      <td>1060</td>\n",
              "      <td>127335</td>\n",
              "      <td>69.77</td>\n",
              "      <td>M</td>\n",
              "      <td>39.0</td>\n",
              "      <td>45257.00</td>\n",
              "      <td>BHOPAL</td>\n",
              "      <td>MADHYA PRADESH</td>\n",
              "      <td>462030.0</td>\n",
              "      <td>12-18 Months</td>\n",
              "    </tr>\n",
              "    <tr>\n",
              "      <th>3</th>\n",
              "      <td>7</td>\n",
              "      <td>Monthly</td>\n",
              "      <td>Advance</td>\n",
              "      <td>Closed</td>\n",
              "      <td>Billed</td>\n",
              "      <td>125</td>\n",
              "      <td>GUNA</td>\n",
              "      <td>48</td>\n",
              "      <td>480000</td>\n",
              "      <td>400000.0</td>\n",
              "      <td>400000.0</td>\n",
              "      <td>11600.0</td>\n",
              "      <td>2013-11-29</td>\n",
              "      <td>2017-11-10</td>\n",
              "      <td>2013-11-29</td>\n",
              "      <td>13021591</td>\n",
              "      <td>1060</td>\n",
              "      <td>25094</td>\n",
              "      <td>80.92</td>\n",
              "      <td>M</td>\n",
              "      <td>24.0</td>\n",
              "      <td>20833.33</td>\n",
              "      <td>ASHOK NAGAR</td>\n",
              "      <td>MADHYA PRADESH</td>\n",
              "      <td>473335.0</td>\n",
              "      <td>&gt; 48 Months</td>\n",
              "    </tr>\n",
              "    <tr>\n",
              "      <th>4</th>\n",
              "      <td>8</td>\n",
              "      <td>Monthly</td>\n",
              "      <td>Arrear</td>\n",
              "      <td>Closed</td>\n",
              "      <td>Billed</td>\n",
              "      <td>152</td>\n",
              "      <td>BILASPUR</td>\n",
              "      <td>44</td>\n",
              "      <td>619265</td>\n",
              "      <td>440000.0</td>\n",
              "      <td>440000.0</td>\n",
              "      <td>15000.0</td>\n",
              "      <td>2011-12-08</td>\n",
              "      <td>2015-07-05</td>\n",
              "      <td>2011-12-08</td>\n",
              "      <td>3291320</td>\n",
              "      <td>1046</td>\n",
              "      <td>21853</td>\n",
              "      <td>71.05</td>\n",
              "      <td>M</td>\n",
              "      <td>56.0</td>\n",
              "      <td>27313.67</td>\n",
              "      <td>BILASPUR</td>\n",
              "      <td>CHATTISGARH</td>\n",
              "      <td>495442.0</td>\n",
              "      <td>36-48 Months</td>\n",
              "    </tr>\n",
              "  </tbody>\n",
              "</table>\n",
              "</div>"
            ],
            "text/plain": [
              "   ID Frequency InstlmentMode LoanStatus   PaymentMode  BranchID      Area  \\\n",
              "0   1   Monthly        Arrear     Closed         PDC_E         1       NaN   \n",
              "1   2   Monthly       Advance     Closed           PDC       333    BHOPAL   \n",
              "2   3   Quatrly        Arrear     Active  Direct Debit         1       NaN   \n",
              "3   7   Monthly       Advance     Closed        Billed       125      GUNA   \n",
              "4   8   Monthly        Arrear     Closed        Billed       152  BILASPUR   \n",
              "\n",
              "   Tenure  AssetCost  AmountFinance  DisbursalAmount      EMI DisbursalDate  \\\n",
              "0      48     450000       275000.0         275000.0  24000.0    2012-02-10   \n",
              "1      47     485000       350000.0         350000.0  10500.0    2012-03-31   \n",
              "2      68     690000       519728.0         519728.0  38300.0    2017-06-17   \n",
              "3      48     480000       400000.0         400000.0  11600.0    2013-11-29   \n",
              "4      44     619265       440000.0         440000.0  15000.0    2011-12-08   \n",
              "\n",
              "  MaturityDAte   AuthDate   AssetID  ManufacturerID  SupplierID    LTV SEX  \\\n",
              "0   2016-01-15 2012-02-10   4022465            1568       21946  61.11   M   \n",
              "1   2016-02-15 2012-03-31   4681175            1062       34802  70.00   M   \n",
              "2   2023-02-10 2017-06-17  25328146            1060      127335  69.77   M   \n",
              "3   2017-11-10 2013-11-29  13021591            1060       25094  80.92   M   \n",
              "4   2015-07-05 2011-12-08   3291320            1046       21853  71.05   M   \n",
              "\n",
              "    AGE  MonthlyIncome         City           State   ZiPCODE  \\\n",
              "0  49.0       35833.33       RAISEN  MADHYA PRADESH  464993.0   \n",
              "1  23.0         666.67       SEHORE  MADHYA PRADESH  466001.0   \n",
              "2  39.0       45257.00       BHOPAL  MADHYA PRADESH  462030.0   \n",
              "3  24.0       20833.33  ASHOK NAGAR  MADHYA PRADESH  473335.0   \n",
              "4  56.0       27313.67     BILASPUR     CHATTISGARH  495442.0   \n",
              "\n",
              "        Top-up Month  \n",
              "0        > 48 Months  \n",
              "1  No Top-up Service  \n",
              "2       12-18 Months  \n",
              "3        > 48 Months  \n",
              "4       36-48 Months  "
            ]
          },
          "metadata": {
            "tags": []
          },
          "execution_count": 87
        }
      ]
    },
    {
      "cell_type": "code",
      "metadata": {
        "id": "GE8xZ2ssKe-1"
      },
      "source": [
        "train_dd['SEX'] = train_dd['SEX'].fillna(train_dd['SEX'].mode()[0])\n",
        "test_dd['SEX'] = test_dd['SEX'].fillna(test_dd['SEX'].mode()[0])\n",
        "\n",
        "train_dd['AGE'] = train_dd['AGE'].fillna(train_dd['AGE'].mode()[0])\n",
        "test_dd['AGE'] = test_dd['AGE'].fillna(test_dd['AGE'].mode()[0])\n",
        "\n",
        "train_dd['MonthlyIncome'] = train_dd['MonthlyIncome'].fillna(train_dd['MonthlyIncome'].mode()[0])\n",
        "test_dd['MonthlyIncome'] = test_dd['MonthlyIncome'].fillna(test_dd['MonthlyIncome'].mode()[0])\n",
        "\n",
        "train_dd['ZiPCODE']  =train_dd['ZiPCODE'].fillna(method = 'ffill').astype('int') \n",
        "test_dd['ZiPCODE']  =test_dd['ZiPCODE'].fillna(method = 'ffill').astype('int') \n",
        "\n",
        "train_dd =train_dd.fillna(method = 'ffill') \n",
        "test_dd =test_dd.fillna(method = 'ffill') "
      ],
      "execution_count": 88,
      "outputs": []
    },
    {
      "cell_type": "code",
      "metadata": {
        "id": "7qyyI0u6Ke-1"
      },
      "source": [
        "train_dd['AuthDate'] = pd.to_datetime(train_d['AuthDate'] ,errors='coerce')\n",
        "test_dd['AuthDate'] = pd.to_datetime(test_d['AuthDate'] ,errors='coerce')\n",
        "\n",
        "train_dd['DisbursalDate'] = pd.to_datetime(train_d['DisbursalDate'] ,errors='coerce')\n",
        "test_dd['DisbursalDate'] = pd.to_datetime(test_d['DisbursalDate'] ,errors='coerce')\n",
        "\n",
        "train_dd['MaturityDAte'] = pd.to_datetime(train_d['MaturityDAte'] ,errors='coerce')\n",
        "test_dd['MaturityDAte'] = pd.to_datetime(test_d['MaturityDAte'] ,errors='coerce')"
      ],
      "execution_count": 89,
      "outputs": []
    },
    {
      "cell_type": "code",
      "metadata": {
        "id": "3h_GDgrNKe-2"
      },
      "source": [
        "train_dd['AuthtoMatureDays'] = train_dd['AuthDate'] - train_dd['MaturityDAte']\n",
        "test_dd['AuthtoMatureDays'] = test_dd['AuthDate'] - test_dd['MaturityDAte']\n",
        "\n",
        "train_dd['AuthtoDisDays'] = train_dd['AuthDate'] - train_dd['DisbursalDate']\n",
        "test_dd['AuthtoDisDays'] = test_dd['AuthDate'] - test_dd['DisbursalDate']"
      ],
      "execution_count": 90,
      "outputs": []
    },
    {
      "cell_type": "code",
      "metadata": {
        "id": "RVh0yg5TKe-2"
      },
      "source": [
        "train_dd['AuthYear'] = train_dd['AuthDate'].dt.year \n",
        "test_dd['AuthtYear'] = test_dd['AuthDate'].dt.year \n",
        "train_dd['AuthMonth'] = train_dd['AuthDate'].dt.month \n",
        "test_dd['AuthtMonth'] = test_dd['AuthDate'].dt.month \n",
        "\n",
        "\n",
        "train_dd['MaturityYear'] = train_d['MaturityDAte'].dt.year \n",
        "test_dd['MaturityYear'] = test_d['MaturityDAte'].dt.year \n",
        "\n",
        "train_dd['MaturityMonth'] = train_d['MaturityDAte'].dt.month \n",
        "test_dd['MaturityMonth'] = test_d['MaturityDAte'].dt.month "
      ],
      "execution_count": 91,
      "outputs": []
    },
    {
      "cell_type": "code",
      "metadata": {
        "id": "LMGDDtfRKe-2"
      },
      "source": [
        "train_dd = train_dd.drop(columns=['City','Area','AuthDate','DisbursalDate','MaturityDAte'])\n",
        "test_dd = test_dd.drop(columns=['City','Area','AuthDate','DisbursalDate','MaturityDAte'])"
      ],
      "execution_count": 92,
      "outputs": []
    },
    {
      "cell_type": "code",
      "metadata": {
        "id": "tmATWizQKe-3"
      },
      "source": [
        "mapping_dict = {'No Top-up Service':0, '12-18 Months':1,'18-24 Months':2, '24-30 Months':3, \n",
        "                '30-36 Months':4,'36-48 Months':5,' > 48 Months':6}"
      ],
      "execution_count": 93,
      "outputs": []
    },
    {
      "cell_type": "code",
      "metadata": {
        "id": "ia7SwdWFKe-3"
      },
      "source": [
        "train_dd['Top-up Month'] = train_dd['Top-up Month'].replace(mapping_dict) "
      ],
      "execution_count": 94,
      "outputs": []
    },
    {
      "cell_type": "code",
      "metadata": {
        "id": "ndT494UQKe-4"
      },
      "source": [
        "mapping_dict_f= [\n",
        "{'col': 'Frequency', 'mapping': {'BI-Monthly':0, 'Monthly': 1, 'Quatrly': 2,  'Half Yearly': 3}}\n",
        "]"
      ],
      "execution_count": 95,
      "outputs": []
    },
    {
      "cell_type": "code",
      "metadata": {
        "id": "RyW5j3obKe-4",
        "colab": {
          "base_uri": "https://localhost:8080/",
          "height": 418
        },
        "outputId": "4473a1ca-962b-4ab7-a268-e53d10dcd55a"
      },
      "source": [
        "f1,f2 = ordinalencoding(train_dd,test_dd,train_dd['Top-up Month'],drop =True,cols=['Frequency'],mapping= mapping_dict_f)"
      ],
      "execution_count": 96,
      "outputs": [
        {
          "output_type": "error",
          "ename": "ModuleNotFoundError",
          "evalue": "ignored",
          "traceback": [
            "\u001b[0;31m---------------------------------------------------------------------------\u001b[0m",
            "\u001b[0;31mModuleNotFoundError\u001b[0m                       Traceback (most recent call last)",
            "\u001b[0;32m<ipython-input-96-23d4ffbf8097>\u001b[0m in \u001b[0;36m<module>\u001b[0;34m()\u001b[0m\n\u001b[0;32m----> 1\u001b[0;31m \u001b[0mf1\u001b[0m\u001b[0;34m,\u001b[0m\u001b[0mf2\u001b[0m \u001b[0;34m=\u001b[0m \u001b[0mordinalencoding\u001b[0m\u001b[0;34m(\u001b[0m\u001b[0mtrain_dd\u001b[0m\u001b[0;34m,\u001b[0m\u001b[0mtest_dd\u001b[0m\u001b[0;34m,\u001b[0m\u001b[0mtrain_dd\u001b[0m\u001b[0;34m[\u001b[0m\u001b[0;34m'Top-up Month'\u001b[0m\u001b[0;34m]\u001b[0m\u001b[0;34m,\u001b[0m\u001b[0mdrop\u001b[0m \u001b[0;34m=\u001b[0m\u001b[0;32mTrue\u001b[0m\u001b[0;34m,\u001b[0m\u001b[0mcols\u001b[0m\u001b[0;34m=\u001b[0m\u001b[0;34m[\u001b[0m\u001b[0;34m'Frequency'\u001b[0m\u001b[0;34m]\u001b[0m\u001b[0;34m,\u001b[0m\u001b[0mmapping\u001b[0m\u001b[0;34m=\u001b[0m \u001b[0mmapping_dict_f\u001b[0m\u001b[0;34m)\u001b[0m\u001b[0;34m\u001b[0m\u001b[0;34m\u001b[0m\u001b[0m\n\u001b[0m",
            "\u001b[0;32m<ipython-input-61-fdce0e9387bc>\u001b[0m in \u001b[0;36mordinalencoding\u001b[0;34m(train, test, y_train, mapping, drop, cols)\u001b[0m\n\u001b[1;32m     63\u001b[0m \u001b[0;34m\u001b[0m\u001b[0m\n\u001b[1;32m     64\u001b[0m \u001b[0;32mdef\u001b[0m \u001b[0mordinalencoding\u001b[0m\u001b[0;34m(\u001b[0m\u001b[0mtrain\u001b[0m\u001b[0;34m,\u001b[0m\u001b[0mtest\u001b[0m\u001b[0;34m,\u001b[0m\u001b[0my_train\u001b[0m\u001b[0;34m,\u001b[0m\u001b[0mmapping\u001b[0m\u001b[0;34m,\u001b[0m\u001b[0mdrop\u001b[0m\u001b[0;34m=\u001b[0m\u001b[0;32mFalse\u001b[0m\u001b[0;34m,\u001b[0m\u001b[0mcols\u001b[0m\u001b[0;34m=\u001b[0m\u001b[0;34m[\u001b[0m\u001b[0;34m]\u001b[0m\u001b[0;34m)\u001b[0m\u001b[0;34m:\u001b[0m\u001b[0;34m\u001b[0m\u001b[0;34m\u001b[0m\u001b[0m\n\u001b[0;32m---> 65\u001b[0;31m     \u001b[0;32mimport\u001b[0m \u001b[0mcategory_encoders\u001b[0m \u001b[0;32mas\u001b[0m \u001b[0mce\u001b[0m\u001b[0;34m\u001b[0m\u001b[0;34m\u001b[0m\u001b[0m\n\u001b[0m\u001b[1;32m     66\u001b[0m     \u001b[0;31m# Create the encoder itself\u001b[0m\u001b[0;34m\u001b[0m\u001b[0;34m\u001b[0m\u001b[0;34m\u001b[0m\u001b[0m\n\u001b[1;32m     67\u001b[0m     \u001b[0mcat_features\u001b[0m \u001b[0;34m=\u001b[0m \u001b[0mcols\u001b[0m\u001b[0;34m\u001b[0m\u001b[0;34m\u001b[0m\u001b[0m\n",
            "\u001b[0;31mModuleNotFoundError\u001b[0m: No module named 'category_encoders'",
            "",
            "\u001b[0;31m---------------------------------------------------------------------------\u001b[0;32m\nNOTE: If your import is failing due to a missing package, you can\nmanually install dependencies using either !pip or !apt.\n\nTo view examples of installing some common dependencies, click the\n\"Open Examples\" button below.\n\u001b[0;31m---------------------------------------------------------------------------\u001b[0m\n"
          ]
        }
      ]
    },
    {
      "cell_type": "code",
      "metadata": {
        "id": "XB2ZTQohKe-5",
        "colab": {
          "base_uri": "https://localhost:8080/",
          "height": 163
        },
        "outputId": "688fa693-ca2e-407a-d8a5-5fa802196986"
      },
      "source": [
        "f11,f22 = onehotencoder(f1,f2,cols=['InstlmentMode','LoanStatus','SEX'])"
      ],
      "execution_count": 34,
      "outputs": [
        {
          "output_type": "error",
          "ename": "NameError",
          "evalue": "ignored",
          "traceback": [
            "\u001b[0;31m---------------------------------------------------------------------------\u001b[0m",
            "\u001b[0;31mNameError\u001b[0m                                 Traceback (most recent call last)",
            "\u001b[0;32m<ipython-input-34-0ead7b0f4692>\u001b[0m in \u001b[0;36m<module>\u001b[0;34m()\u001b[0m\n\u001b[0;32m----> 1\u001b[0;31m \u001b[0mf11\u001b[0m\u001b[0;34m,\u001b[0m\u001b[0mf22\u001b[0m \u001b[0;34m=\u001b[0m \u001b[0monehotencoder\u001b[0m\u001b[0;34m(\u001b[0m\u001b[0mf1\u001b[0m\u001b[0;34m,\u001b[0m\u001b[0mf2\u001b[0m\u001b[0;34m,\u001b[0m\u001b[0mcols\u001b[0m\u001b[0;34m=\u001b[0m\u001b[0;34m[\u001b[0m\u001b[0;34m'InstlmentMode'\u001b[0m\u001b[0;34m,\u001b[0m\u001b[0;34m'LoanStatus'\u001b[0m\u001b[0;34m,\u001b[0m\u001b[0;34m'SEX'\u001b[0m\u001b[0;34m]\u001b[0m\u001b[0;34m)\u001b[0m\u001b[0;34m\u001b[0m\u001b[0;34m\u001b[0m\u001b[0m\n\u001b[0m",
            "\u001b[0;31mNameError\u001b[0m: name 'onehotencoder' is not defined"
          ]
        }
      ]
    },
    {
      "cell_type": "code",
      "metadata": {
        "id": "EuftKAArKe-5",
        "colab": {
          "base_uri": "https://localhost:8080/",
          "height": 180
        },
        "outputId": "141a5522-4076-411c-f198-80cac641ae8c"
      },
      "source": [
        "f111,f222 = targetencoding(f11,f22,f11['Top-up Month'],drop=True,cols=['PaymentMode','State','BranchID','ZiPCODE','ManufacturerID']) #because branch id and area same"
      ],
      "execution_count": 35,
      "outputs": [
        {
          "output_type": "error",
          "ename": "NameError",
          "evalue": "ignored",
          "traceback": [
            "\u001b[0;31m---------------------------------------------------------------------------\u001b[0m",
            "\u001b[0;31mNameError\u001b[0m                                 Traceback (most recent call last)",
            "\u001b[0;32m<ipython-input-35-c03229c4e6a0>\u001b[0m in \u001b[0;36m<module>\u001b[0;34m()\u001b[0m\n\u001b[0;32m----> 1\u001b[0;31m \u001b[0mf111\u001b[0m\u001b[0;34m,\u001b[0m\u001b[0mf222\u001b[0m \u001b[0;34m=\u001b[0m \u001b[0mtargetencoding\u001b[0m\u001b[0;34m(\u001b[0m\u001b[0mf11\u001b[0m\u001b[0;34m,\u001b[0m\u001b[0mf22\u001b[0m\u001b[0;34m,\u001b[0m\u001b[0mf11\u001b[0m\u001b[0;34m[\u001b[0m\u001b[0;34m'Top-up Month'\u001b[0m\u001b[0;34m]\u001b[0m\u001b[0;34m,\u001b[0m\u001b[0mdrop\u001b[0m\u001b[0;34m=\u001b[0m\u001b[0;32mTrue\u001b[0m\u001b[0;34m,\u001b[0m\u001b[0mcols\u001b[0m\u001b[0;34m=\u001b[0m\u001b[0;34m[\u001b[0m\u001b[0;34m'PaymentMode'\u001b[0m\u001b[0;34m,\u001b[0m\u001b[0;34m'State'\u001b[0m\u001b[0;34m,\u001b[0m\u001b[0;34m'BranchID'\u001b[0m\u001b[0;34m,\u001b[0m\u001b[0;34m'ZiPCODE'\u001b[0m\u001b[0;34m,\u001b[0m\u001b[0;34m'ManufacturerID'\u001b[0m\u001b[0;34m]\u001b[0m\u001b[0;34m)\u001b[0m \u001b[0;31m#because branch id and area same\u001b[0m\u001b[0;34m\u001b[0m\u001b[0;34m\u001b[0m\u001b[0m\n\u001b[0m",
            "\u001b[0;31mNameError\u001b[0m: name 'targetencoding' is not defined"
          ]
        }
      ]
    },
    {
      "cell_type": "code",
      "metadata": {
        "id": "Ci7j4yn8Ke-6"
      },
      "source": [
        "dataframes = [f111,final_df_train_beauro]\n",
        "final_df_train = reduce(lambda left, right: pd.merge(left, right, on='ID', how='left'), dataframes)"
      ],
      "execution_count": null,
      "outputs": []
    },
    {
      "cell_type": "code",
      "metadata": {
        "id": "EEvjHoMtKe-6",
        "colab": {
          "base_uri": "https://localhost:8080/",
          "height": 180
        },
        "outputId": "8cf317a2-8844-4606-ab63-477f3f1b8fdf"
      },
      "source": [
        "dataframes = [f222,final_df_test_beauro]\n",
        "final_df_test = reduce(lambda left, right: pd.merge(left, right, on='ID', how='left'), dataframes)"
      ],
      "execution_count": 36,
      "outputs": [
        {
          "output_type": "error",
          "ename": "NameError",
          "evalue": "ignored",
          "traceback": [
            "\u001b[0;31m---------------------------------------------------------------------------\u001b[0m",
            "\u001b[0;31mNameError\u001b[0m                                 Traceback (most recent call last)",
            "\u001b[0;32m<ipython-input-36-d2abf7b5ea3a>\u001b[0m in \u001b[0;36m<module>\u001b[0;34m()\u001b[0m\n\u001b[0;32m----> 1\u001b[0;31m \u001b[0mdataframes\u001b[0m \u001b[0;34m=\u001b[0m \u001b[0;34m[\u001b[0m\u001b[0mf222\u001b[0m\u001b[0;34m,\u001b[0m\u001b[0mfinal_df_test_beauro\u001b[0m\u001b[0;34m]\u001b[0m\u001b[0;34m\u001b[0m\u001b[0;34m\u001b[0m\u001b[0m\n\u001b[0m\u001b[1;32m      2\u001b[0m \u001b[0mfinal_df_test\u001b[0m \u001b[0;34m=\u001b[0m \u001b[0mreduce\u001b[0m\u001b[0;34m(\u001b[0m\u001b[0;32mlambda\u001b[0m \u001b[0mleft\u001b[0m\u001b[0;34m,\u001b[0m \u001b[0mright\u001b[0m\u001b[0;34m:\u001b[0m \u001b[0mpd\u001b[0m\u001b[0;34m.\u001b[0m\u001b[0mmerge\u001b[0m\u001b[0;34m(\u001b[0m\u001b[0mleft\u001b[0m\u001b[0;34m,\u001b[0m \u001b[0mright\u001b[0m\u001b[0;34m,\u001b[0m \u001b[0mon\u001b[0m\u001b[0;34m=\u001b[0m\u001b[0;34m'ID'\u001b[0m\u001b[0;34m,\u001b[0m \u001b[0mhow\u001b[0m\u001b[0;34m=\u001b[0m\u001b[0;34m'left'\u001b[0m\u001b[0;34m)\u001b[0m\u001b[0;34m,\u001b[0m \u001b[0mdataframes\u001b[0m\u001b[0;34m)\u001b[0m\u001b[0;34m\u001b[0m\u001b[0;34m\u001b[0m\u001b[0m\n",
            "\u001b[0;31mNameError\u001b[0m: name 'f222' is not defined"
          ]
        }
      ]
    },
    {
      "cell_type": "code",
      "metadata": {
        "id": "_2jtljXcKe-7"
      },
      "source": [
        "final_df_train = final_df_train.fillna(0)\r\n",
        "final_df_test = final_df_test.fillna(0)"
      ],
      "execution_count": null,
      "outputs": []
    },
    {
      "cell_type": "code",
      "metadata": {
        "id": "7SF2lfLXKe-7"
      },
      "source": [
        "#Null value treatment"
      ],
      "execution_count": null,
      "outputs": []
    },
    {
      "cell_type": "code",
      "metadata": {
        "id": "tGkkuFjJOT5V"
      },
      "source": [
        "final_df_train.columns"
      ],
      "execution_count": null,
      "outputs": []
    },
    {
      "cell_type": "code",
      "metadata": {
        "id": "V7ageXUEWS1J"
      },
      "source": [
        "cols = []"
      ],
      "execution_count": null,
      "outputs": []
    },
    {
      "cell_type": "code",
      "metadata": {
        "id": "hVciDUp6OT8m"
      },
      "source": [
        "exp_clf102 = setup(data = final_df_train, target = 'Top-up Month', session_id=123,\r\n",
        "                  normalize = True, \r\n",
        "                  transformation = True, \r\n",
        "                  ignore_low_variance = True,\r\n",
        "                  remove_multicollinearity = True, multicollinearity_threshold = 0.95,\r\n",
        "                 feature_interaction=True,\r\n",
        "                   categorical_features=cols\r\n",
        "                  )\r\n"
      ],
      "execution_count": null,
      "outputs": []
    },
    {
      "cell_type": "code",
      "metadata": {
        "id": "BzJ4pm8DOT_1"
      },
      "source": [
        "rf = create_model('rf')"
      ],
      "execution_count": null,
      "outputs": []
    },
    {
      "cell_type": "code",
      "metadata": {
        "id": "zomYBKe_OUCV"
      },
      "source": [
        "tune_rf = create_model('rf')"
      ],
      "execution_count": null,
      "outputs": []
    },
    {
      "cell_type": "code",
      "metadata": {
        "id": "aED9tKc_Qhv4"
      },
      "source": [
        "et = create_model('xgboost')"
      ],
      "execution_count": null,
      "outputs": []
    },
    {
      "cell_type": "code",
      "metadata": {
        "id": "1JIaXCkaQkGn"
      },
      "source": [
        "tune_et = tune_model('xgboost')"
      ],
      "execution_count": null,
      "outputs": []
    },
    {
      "cell_type": "code",
      "metadata": {
        "id": "NO4-8BfZQnVU"
      },
      "source": [
        "plot_model(estimator=tune_et, plot='feature')"
      ],
      "execution_count": null,
      "outputs": []
    },
    {
      "cell_type": "code",
      "metadata": {
        "id": "CSwHgIUSQoGl"
      },
      "source": [
        "plot_model(tune_et, plot = 'confusion_matrix')"
      ],
      "execution_count": null,
      "outputs": []
    },
    {
      "cell_type": "code",
      "metadata": {
        "id": "BxtN_yLwQoJ4"
      },
      "source": [
        "blend_hard = blend_models()"
      ],
      "execution_count": null,
      "outputs": []
    },
    {
      "cell_type": "code",
      "metadata": {
        "id": "vZQyO3PXQoMa"
      },
      "source": [
        "blend_soft = blend_models(method = 'soft')"
      ],
      "execution_count": null,
      "outputs": []
    },
    {
      "cell_type": "code",
      "metadata": {
        "id": "GZhzCwkBQyq5"
      },
      "source": [
        "blend_specific_hard = blend_models(estimator_list = [tune_et,tune_ridge], method = 'hard')"
      ],
      "execution_count": null,
      "outputs": []
    },
    {
      "cell_type": "code",
      "metadata": {
        "id": "W13Fla6rQyt7"
      },
      "source": [
        ""
      ],
      "execution_count": null,
      "outputs": []
    },
    {
      "cell_type": "code",
      "metadata": {
        "id": "b4V04BN9Qywx"
      },
      "source": [
        ""
      ],
      "execution_count": null,
      "outputs": []
    }
  ]
}