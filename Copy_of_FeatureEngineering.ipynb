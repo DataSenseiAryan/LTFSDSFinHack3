{
  "nbformat": 4,
  "nbformat_minor": 0,
  "metadata": {
    "kernelspec": {
      "display_name": "Python 3",
      "language": "python",
      "name": "python3"
    },
    "language_info": {
      "codemirror_mode": {
        "name": "ipython",
        "version": 3
      },
      "file_extension": ".py",
      "mimetype": "text/x-python",
      "name": "python",
      "nbconvert_exporter": "python",
      "pygments_lexer": "ipython3",
      "version": "3.8.3"
    },
    "colab": {
      "name": "Copy of FeatureEngineering.ipynb",
      "provenance": [],
      "collapsed_sections": [],
      "include_colab_link": true
    },
    "widgets": {
      "application/vnd.jupyter.widget-state+json": {
        "45310282386847718863a188b55204b5": {
          "model_module": "@jupyter-widgets/controls",
          "model_name": "IntProgressModel",
          "state": {
            "_view_name": "ProgressView",
            "style": "IPY_MODEL_69cd85be6ca6473680514f20af30e69f",
            "_dom_classes": [],
            "description": "Processing: ",
            "_model_name": "IntProgressModel",
            "bar_style": "",
            "max": 3,
            "_view_module": "@jupyter-widgets/controls",
            "_model_module_version": "1.5.0",
            "value": 3,
            "_view_count": null,
            "_view_module_version": "1.5.0",
            "orientation": "horizontal",
            "min": 0,
            "description_tooltip": null,
            "_model_module": "@jupyter-widgets/controls",
            "layout": "IPY_MODEL_7a2c95e038544618a75e0b7d944740ab"
          }
        },
        "69cd85be6ca6473680514f20af30e69f": {
          "model_module": "@jupyter-widgets/controls",
          "model_name": "ProgressStyleModel",
          "state": {
            "_view_name": "StyleView",
            "_model_name": "ProgressStyleModel",
            "description_width": "",
            "_view_module": "@jupyter-widgets/base",
            "_model_module_version": "1.5.0",
            "_view_count": null,
            "_view_module_version": "1.2.0",
            "bar_color": null,
            "_model_module": "@jupyter-widgets/controls"
          }
        },
        "7a2c95e038544618a75e0b7d944740ab": {
          "model_module": "@jupyter-widgets/base",
          "model_name": "LayoutModel",
          "state": {
            "_view_name": "LayoutView",
            "grid_template_rows": null,
            "right": null,
            "justify_content": null,
            "_view_module": "@jupyter-widgets/base",
            "overflow": null,
            "_model_module_version": "1.2.0",
            "_view_count": null,
            "flex_flow": null,
            "width": null,
            "min_width": null,
            "border": null,
            "align_items": null,
            "bottom": null,
            "_model_module": "@jupyter-widgets/base",
            "top": null,
            "grid_column": null,
            "overflow_y": null,
            "overflow_x": null,
            "grid_auto_flow": null,
            "grid_area": null,
            "grid_template_columns": null,
            "flex": null,
            "_model_name": "LayoutModel",
            "justify_items": null,
            "grid_row": null,
            "max_height": null,
            "align_content": null,
            "visibility": null,
            "align_self": null,
            "height": null,
            "min_height": null,
            "padding": null,
            "grid_auto_rows": null,
            "grid_gap": null,
            "max_width": null,
            "order": null,
            "_view_module_version": "1.2.0",
            "grid_template_areas": null,
            "object_position": null,
            "object_fit": null,
            "grid_auto_columns": null,
            "margin": null,
            "display": null,
            "left": null
          }
        },
        "dd1810cc2c01483383d65cb882e871fe": {
          "model_module": "@jupyter-widgets/controls",
          "model_name": "TextModel",
          "state": {
            "_view_name": "TextView",
            "style": "IPY_MODEL_1ca128d235d04f7dba69b97f27e40fdf",
            "_dom_classes": [],
            "description": "",
            "_model_name": "TextModel",
            "placeholder": "​",
            "_view_module": "@jupyter-widgets/controls",
            "_model_module_version": "1.5.0",
            "value": "Following data types have been inferred automatically, if they are correct press enter to continue or type 'quit' otherwise.",
            "_view_count": null,
            "disabled": false,
            "_view_module_version": "1.5.0",
            "continuous_update": true,
            "description_tooltip": null,
            "_model_module": "@jupyter-widgets/controls",
            "layout": "IPY_MODEL_8cc70aac58594e10a4629fa8f4f6da22"
          }
        },
        "1ca128d235d04f7dba69b97f27e40fdf": {
          "model_module": "@jupyter-widgets/controls",
          "model_name": "DescriptionStyleModel",
          "state": {
            "_view_name": "StyleView",
            "_model_name": "DescriptionStyleModel",
            "description_width": "",
            "_view_module": "@jupyter-widgets/base",
            "_model_module_version": "1.5.0",
            "_view_count": null,
            "_view_module_version": "1.2.0",
            "_model_module": "@jupyter-widgets/controls"
          }
        },
        "8cc70aac58594e10a4629fa8f4f6da22": {
          "model_module": "@jupyter-widgets/base",
          "model_name": "LayoutModel",
          "state": {
            "_view_name": "LayoutView",
            "grid_template_rows": null,
            "right": null,
            "justify_content": null,
            "_view_module": "@jupyter-widgets/base",
            "overflow": null,
            "_model_module_version": "1.2.0",
            "_view_count": null,
            "flex_flow": null,
            "width": "100%",
            "min_width": null,
            "border": null,
            "align_items": null,
            "bottom": null,
            "_model_module": "@jupyter-widgets/base",
            "top": null,
            "grid_column": null,
            "overflow_y": null,
            "overflow_x": null,
            "grid_auto_flow": null,
            "grid_area": null,
            "grid_template_columns": null,
            "flex": null,
            "_model_name": "LayoutModel",
            "justify_items": null,
            "grid_row": null,
            "max_height": null,
            "align_content": null,
            "visibility": null,
            "align_self": null,
            "height": null,
            "min_height": null,
            "padding": null,
            "grid_auto_rows": null,
            "grid_gap": null,
            "max_width": null,
            "order": null,
            "_view_module_version": "1.2.0",
            "grid_template_areas": null,
            "object_position": null,
            "object_fit": null,
            "grid_auto_columns": null,
            "margin": null,
            "display": null,
            "left": null
          }
        },
        "8e8d122595984d8db28a11016fdc196d": {
          "model_module": "@jupyter-widgets/controls",
          "model_name": "IntProgressModel",
          "state": {
            "_view_name": "ProgressView",
            "style": "IPY_MODEL_1031c0f614c042dd99c41e8bf7616110",
            "_dom_classes": [],
            "description": "Processing: ",
            "_model_name": "IntProgressModel",
            "bar_style": "",
            "max": 79,
            "_view_module": "@jupyter-widgets/controls",
            "_model_module_version": "1.5.0",
            "value": 25,
            "_view_count": null,
            "_view_module_version": "1.5.0",
            "orientation": "horizontal",
            "min": 0,
            "description_tooltip": null,
            "_model_module": "@jupyter-widgets/controls",
            "layout": "IPY_MODEL_a55573ee63e94ad7859e0554b620588b"
          }
        },
        "1031c0f614c042dd99c41e8bf7616110": {
          "model_module": "@jupyter-widgets/controls",
          "model_name": "ProgressStyleModel",
          "state": {
            "_view_name": "StyleView",
            "_model_name": "ProgressStyleModel",
            "description_width": "",
            "_view_module": "@jupyter-widgets/base",
            "_model_module_version": "1.5.0",
            "_view_count": null,
            "_view_module_version": "1.2.0",
            "bar_color": null,
            "_model_module": "@jupyter-widgets/controls"
          }
        },
        "a55573ee63e94ad7859e0554b620588b": {
          "model_module": "@jupyter-widgets/base",
          "model_name": "LayoutModel",
          "state": {
            "_view_name": "LayoutView",
            "grid_template_rows": null,
            "right": null,
            "justify_content": null,
            "_view_module": "@jupyter-widgets/base",
            "overflow": null,
            "_model_module_version": "1.2.0",
            "_view_count": null,
            "flex_flow": null,
            "width": null,
            "min_width": null,
            "border": null,
            "align_items": null,
            "bottom": null,
            "_model_module": "@jupyter-widgets/base",
            "top": null,
            "grid_column": null,
            "overflow_y": null,
            "overflow_x": null,
            "grid_auto_flow": null,
            "grid_area": null,
            "grid_template_columns": null,
            "flex": null,
            "_model_name": "LayoutModel",
            "justify_items": null,
            "grid_row": null,
            "max_height": null,
            "align_content": null,
            "visibility": null,
            "align_self": null,
            "height": null,
            "min_height": null,
            "padding": null,
            "grid_auto_rows": null,
            "grid_gap": null,
            "max_width": null,
            "order": null,
            "_view_module_version": "1.2.0",
            "grid_template_areas": null,
            "object_position": null,
            "object_fit": null,
            "grid_auto_columns": null,
            "margin": null,
            "display": null,
            "left": null
          }
        }
      }
    }
  },
  "cells": [
    {
      "cell_type": "markdown",
      "metadata": {
        "id": "view-in-github",
        "colab_type": "text"
      },
      "source": [
        "<a href=\"https://colab.research.google.com/github/aryanc55/LTFSDSFinHack3/blob/main/Copy_of_FeatureEngineering.ipynb\" target=\"_parent\"><img src=\"https://colab.research.google.com/assets/colab-badge.svg\" alt=\"Open In Colab\"/></a>"
      ]
    },
    {
      "cell_type": "code",
      "metadata": {
        "id": "5gkZ4wJCKe-N",
        "colab": {
          "base_uri": "https://localhost:8080/"
        },
        "outputId": "2eb647d9-0022-4620-cde9-bd744bd1e8df"
      },
      "source": [
        "!pip install pycaret\r\n",
        "!pip install category_encoders"
      ],
      "execution_count": 1,
      "outputs": [
        {
          "output_type": "stream",
          "text": [
            "Collecting pycaret\n",
            "\u001b[?25l  Downloading https://files.pythonhosted.org/packages/a2/7b/70e41d8aa900ed47e0e2ac6a8f5cbaf9e359efdf8ae10bf89502c14ce3ed/pycaret-2.2.3-py3-none-any.whl (249kB)\n",
            "\r\u001b[K     |█▎                              | 10kB 13.4MB/s eta 0:00:01\r\u001b[K     |██▋                             | 20kB 8.0MB/s eta 0:00:01\r\u001b[K     |████                            | 30kB 6.8MB/s eta 0:00:01\r\u001b[K     |█████▎                          | 40kB 3.7MB/s eta 0:00:01\r\u001b[K     |██████▌                         | 51kB 4.6MB/s eta 0:00:01\r\u001b[K     |███████▉                        | 61kB 4.8MB/s eta 0:00:01\r\u001b[K     |█████████▏                      | 71kB 5.0MB/s eta 0:00:01\r\u001b[K     |██████████▌                     | 81kB 5.5MB/s eta 0:00:01\r\u001b[K     |███████████▉                    | 92kB 6.1MB/s eta 0:00:01\r\u001b[K     |█████████████                   | 102kB 5.7MB/s eta 0:00:01\r\u001b[K     |██████████████▍                 | 112kB 5.7MB/s eta 0:00:01\r\u001b[K     |███████████████▊                | 122kB 5.7MB/s eta 0:00:01\r\u001b[K     |█████████████████               | 133kB 5.7MB/s eta 0:00:01\r\u001b[K     |██████████████████▍             | 143kB 5.7MB/s eta 0:00:01\r\u001b[K     |███████████████████▋            | 153kB 5.7MB/s eta 0:00:01\r\u001b[K     |█████████████████████           | 163kB 5.7MB/s eta 0:00:01\r\u001b[K     |██████████████████████▎         | 174kB 5.7MB/s eta 0:00:01\r\u001b[K     |███████████████████████▋        | 184kB 5.7MB/s eta 0:00:01\r\u001b[K     |█████████████████████████       | 194kB 5.7MB/s eta 0:00:01\r\u001b[K     |██████████████████████████▏     | 204kB 5.7MB/s eta 0:00:01\r\u001b[K     |███████████████████████████▌    | 215kB 5.7MB/s eta 0:00:01\r\u001b[K     |████████████████████████████▉   | 225kB 5.7MB/s eta 0:00:01\r\u001b[K     |██████████████████████████████▏ | 235kB 5.7MB/s eta 0:00:01\r\u001b[K     |███████████████████████████████▌| 245kB 5.7MB/s eta 0:00:01\r\u001b[K     |████████████████████████████████| 256kB 5.7MB/s \n",
            "\u001b[?25hRequirement already satisfied: spacy in /usr/local/lib/python3.6/dist-packages (from pycaret) (2.2.4)\n",
            "Requirement already satisfied: mlxtend in /usr/local/lib/python3.6/dist-packages (from pycaret) (0.14.0)\n",
            "Requirement already satisfied: numpy>=1.17 in /usr/local/lib/python3.6/dist-packages (from pycaret) (1.19.5)\n",
            "Requirement already satisfied: textblob in /usr/local/lib/python3.6/dist-packages (from pycaret) (0.15.3)\n",
            "Requirement already satisfied: cufflinks>=0.17.0 in /usr/local/lib/python3.6/dist-packages (from pycaret) (0.17.3)\n",
            "Requirement already satisfied: plotly>=4.4.1 in /usr/local/lib/python3.6/dist-packages (from pycaret) (4.4.1)\n",
            "Collecting mlflow\n",
            "\u001b[?25l  Downloading https://files.pythonhosted.org/packages/4c/4d/a6a4460e214842377dbc43d3e83bf976d564f7976822a9351adde60af44b/mlflow-1.13.1-py3-none-any.whl (14.1MB)\n",
            "\u001b[K     |████████████████████████████████| 14.2MB 313kB/s \n",
            "\u001b[?25hRequirement already satisfied: IPython in /usr/local/lib/python3.6/dist-packages (from pycaret) (5.5.0)\n",
            "Collecting scikit-plot\n",
            "  Downloading https://files.pythonhosted.org/packages/7c/47/32520e259340c140a4ad27c1b97050dd3254fdc517b1d59974d47037510e/scikit_plot-0.3.7-py3-none-any.whl\n",
            "Collecting pyLDAvis\n",
            "\u001b[?25l  Downloading https://files.pythonhosted.org/packages/9b/61/2759872fbb239f678385683e22a9a32709d45b8682f529b215949b7db0c6/pyLDAvis-3.0.0.tar.gz (1.7MB)\n",
            "\u001b[K     |████████████████████████████████| 1.7MB 40.7MB/s \n",
            "\u001b[?25hRequirement already satisfied: joblib in /usr/local/lib/python3.6/dist-packages (from pycaret) (1.0.0)\n",
            "Requirement already satisfied: ipywidgets in /usr/local/lib/python3.6/dist-packages (from pycaret) (7.6.3)\n",
            "Requirement already satisfied: seaborn in /usr/local/lib/python3.6/dist-packages (from pycaret) (0.11.1)\n",
            "Collecting yellowbrick>=1.0.1\n",
            "\u001b[?25l  Downloading https://files.pythonhosted.org/packages/b1/bb/57fd86c319a43666fe447bb1bc5af66fb0eb89dc4efc305a7544d50f52d6/yellowbrick-1.2.1-py3-none-any.whl (269kB)\n",
            "\u001b[K     |████████████████████████████████| 276kB 50.5MB/s \n",
            "\u001b[?25hCollecting catboost>=0.23.2\n",
            "\u001b[?25l  Downloading https://files.pythonhosted.org/packages/20/37/bc4e0ddc30c07a96482abf1de7ed1ca54e59bba2026a33bca6d2ef286e5b/catboost-0.24.4-cp36-none-manylinux1_x86_64.whl (65.7MB)\n",
            "\u001b[K     |████████████████████████████████| 65.8MB 85kB/s \n",
            "\u001b[?25hRequirement already satisfied: umap-learn in /usr/local/lib/python3.6/dist-packages (from pycaret) (0.5.0)\n",
            "Collecting lightgbm>=2.3.1\n",
            "\u001b[?25l  Downloading https://files.pythonhosted.org/packages/70/cd/2b7783e8c250f8191b72e9a0010e0429a799d3305c27764d7bf113dfd078/lightgbm-3.1.1-py2.py3-none-manylinux1_x86_64.whl (1.8MB)\n",
            "\u001b[K     |████████████████████████████████| 1.8MB 32.1MB/s \n",
            "\u001b[?25hRequirement already satisfied: wordcloud in /usr/local/lib/python3.6/dist-packages (from pycaret) (1.5.0)\n",
            "Collecting imbalanced-learn>=0.7.0\n",
            "\u001b[?25l  Downloading https://files.pythonhosted.org/packages/c8/81/8db4d87b03b998fda7c6f835d807c9ae4e3b141f978597b8d7f31600be15/imbalanced_learn-0.7.0-py3-none-any.whl (167kB)\n",
            "\u001b[K     |████████████████████████████████| 174kB 54.3MB/s \n",
            "\u001b[?25hRequirement already satisfied: pandas in /usr/local/lib/python3.6/dist-packages (from pycaret) (1.1.5)\n",
            "Collecting scikit-learn==0.23.2\n",
            "\u001b[?25l  Downloading https://files.pythonhosted.org/packages/5c/a1/273def87037a7fb010512bbc5901c31cfddfca8080bc63b42b26e3cc55b3/scikit_learn-0.23.2-cp36-cp36m-manylinux1_x86_64.whl (6.8MB)\n",
            "\u001b[K     |████████████████████████████████| 6.8MB 49.4MB/s \n",
            "\u001b[?25hCollecting pandas-profiling>=2.8.0\n",
            "\u001b[?25l  Downloading https://files.pythonhosted.org/packages/3d/8e/645ad7f304dd8d6d7181d22d4bd3d6356331c80c2944a25be3ebe617ec38/pandas_profiling-2.10.0-py2.py3-none-any.whl (239kB)\n",
            "\u001b[K     |████████████████████████████████| 245kB 56.3MB/s \n",
            "\u001b[?25hCollecting kmodes>=0.10.1\n",
            "  Downloading https://files.pythonhosted.org/packages/b2/55/d8ec1ae1f7e1e202a8a4184c6852a3ee993b202b0459672c699d0ac18fc8/kmodes-0.10.2-py2.py3-none-any.whl\n",
            "Requirement already satisfied: gensim in /usr/local/lib/python3.6/dist-packages (from pycaret) (3.6.0)\n",
            "Requirement already satisfied: nltk in /usr/local/lib/python3.6/dist-packages (from pycaret) (3.2.5)\n",
            "Collecting pyod\n",
            "\u001b[?25l  Downloading https://files.pythonhosted.org/packages/ac/26/ae4f4143643d2d87fe4bbc356064dd95eed95227b879ba3ee6c4e4ee81ca/pyod-0.8.6.tar.gz (98kB)\n",
            "\u001b[K     |████████████████████████████████| 102kB 9.1MB/s \n",
            "\u001b[?25hRequirement already satisfied: matplotlib in /usr/local/lib/python3.6/dist-packages (from pycaret) (3.2.2)\n",
            "Collecting xgboost>=1.1.0\n",
            "\u001b[?25l  Downloading https://files.pythonhosted.org/packages/2e/57/bf5026701c384decd2b995eb39d86587a103ba4eb26f8a9b1811db0896d3/xgboost-1.3.3-py3-none-manylinux2010_x86_64.whl (157.5MB)\n",
            "\u001b[K     |████████████████████████████████| 157.5MB 55kB/s \n",
            "\u001b[?25hRequirement already satisfied: srsly<1.1.0,>=1.0.2 in /usr/local/lib/python3.6/dist-packages (from spacy->pycaret) (1.0.5)\n",
            "Requirement already satisfied: thinc==7.4.0 in /usr/local/lib/python3.6/dist-packages (from spacy->pycaret) (7.4.0)\n",
            "Requirement already satisfied: preshed<3.1.0,>=3.0.2 in /usr/local/lib/python3.6/dist-packages (from spacy->pycaret) (3.0.5)\n",
            "Requirement already satisfied: blis<0.5.0,>=0.4.0 in /usr/local/lib/python3.6/dist-packages (from spacy->pycaret) (0.4.1)\n",
            "Requirement already satisfied: catalogue<1.1.0,>=0.0.7 in /usr/local/lib/python3.6/dist-packages (from spacy->pycaret) (1.0.0)\n",
            "Requirement already satisfied: requests<3.0.0,>=2.13.0 in /usr/local/lib/python3.6/dist-packages (from spacy->pycaret) (2.23.0)\n",
            "Requirement already satisfied: setuptools in /usr/local/lib/python3.6/dist-packages (from spacy->pycaret) (53.0.0)\n",
            "Requirement already satisfied: plac<1.2.0,>=0.9.6 in /usr/local/lib/python3.6/dist-packages (from spacy->pycaret) (1.1.3)\n",
            "Requirement already satisfied: tqdm<5.0.0,>=4.38.0 in /usr/local/lib/python3.6/dist-packages (from spacy->pycaret) (4.41.1)\n",
            "Requirement already satisfied: murmurhash<1.1.0,>=0.28.0 in /usr/local/lib/python3.6/dist-packages (from spacy->pycaret) (1.0.5)\n",
            "Requirement already satisfied: wasabi<1.1.0,>=0.4.0 in /usr/local/lib/python3.6/dist-packages (from spacy->pycaret) (0.8.2)\n",
            "Requirement already satisfied: cymem<2.1.0,>=2.0.2 in /usr/local/lib/python3.6/dist-packages (from spacy->pycaret) (2.0.5)\n",
            "Requirement already satisfied: scipy>=0.17 in /usr/local/lib/python3.6/dist-packages (from mlxtend->pycaret) (1.4.1)\n",
            "Requirement already satisfied: six>=1.9.0 in /usr/local/lib/python3.6/dist-packages (from cufflinks>=0.17.0->pycaret) (1.15.0)\n",
            "Requirement already satisfied: colorlover>=0.2.1 in /usr/local/lib/python3.6/dist-packages (from cufflinks>=0.17.0->pycaret) (0.3.0)\n",
            "Requirement already satisfied: retrying>=1.3.3 in /usr/local/lib/python3.6/dist-packages (from plotly>=4.4.1->pycaret) (1.3.3)\n",
            "Requirement already satisfied: protobuf>=3.6.0 in /usr/local/lib/python3.6/dist-packages (from mlflow->pycaret) (3.12.4)\n",
            "Requirement already satisfied: cloudpickle in /usr/local/lib/python3.6/dist-packages (from mlflow->pycaret) (1.3.0)\n",
            "Collecting gitpython>=2.1.0\n",
            "\u001b[?25l  Downloading https://files.pythonhosted.org/packages/d7/cb/ec98155c501b68dcb11314c7992cd3df6dce193fd763084338a117967d53/GitPython-3.1.12-py3-none-any.whl (159kB)\n",
            "\u001b[K     |████████████████████████████████| 163kB 35.6MB/s \n",
            "\u001b[?25hCollecting docker>=4.0.0\n",
            "\u001b[?25l  Downloading https://files.pythonhosted.org/packages/9f/a5/eec74d8d1016e6c2042ba31ca6fba3bba520e27d8a061e82bccd36bd64ef/docker-4.4.1-py2.py3-none-any.whl (146kB)\n",
            "\u001b[K     |████████████████████████████████| 153kB 43.4MB/s \n",
            "\u001b[?25hRequirement already satisfied: sqlalchemy in /usr/local/lib/python3.6/dist-packages (from mlflow->pycaret) (1.3.23)\n",
            "Requirement already satisfied: pyyaml in /usr/local/lib/python3.6/dist-packages (from mlflow->pycaret) (3.13)\n",
            "Collecting gunicorn; platform_system != \"Windows\"\n",
            "\u001b[?25l  Downloading https://files.pythonhosted.org/packages/69/ca/926f7cd3a2014b16870086b2d0fdc84a9e49473c68a8dff8b57f7c156f43/gunicorn-20.0.4-py2.py3-none-any.whl (77kB)\n",
            "\u001b[K     |████████████████████████████████| 81kB 7.3MB/s \n",
            "\u001b[?25hCollecting alembic<=1.4.1\n",
            "\u001b[?25l  Downloading https://files.pythonhosted.org/packages/e0/e9/359dbb77c35c419df0aedeb1d53e71e7e3f438ff64a8fdb048c907404de3/alembic-1.4.1.tar.gz (1.1MB)\n",
            "\u001b[K     |████████████████████████████████| 1.1MB 31.3MB/s \n",
            "\u001b[?25hRequirement already satisfied: click>=7.0 in /usr/local/lib/python3.6/dist-packages (from mlflow->pycaret) (7.1.2)\n",
            "Requirement already satisfied: Flask in /usr/local/lib/python3.6/dist-packages (from mlflow->pycaret) (1.1.2)\n",
            "Collecting prometheus-flask-exporter\n",
            "  Downloading https://files.pythonhosted.org/packages/4c/d5/8a046d683c2cc084b6a502812827ede69b1064f95d93f94b83f809b21723/prometheus_flask_exporter-0.18.1.tar.gz\n",
            "Requirement already satisfied: entrypoints in /usr/local/lib/python3.6/dist-packages (from mlflow->pycaret) (0.3)\n",
            "Requirement already satisfied: python-dateutil in /usr/local/lib/python3.6/dist-packages (from mlflow->pycaret) (2.8.1)\n",
            "Collecting databricks-cli>=0.8.7\n",
            "\u001b[?25l  Downloading https://files.pythonhosted.org/packages/40/88/ae1f78cf582b707c605c77df49b4c8786a4465edc51adb25d2f98ef4c4de/databricks-cli-0.14.1.tar.gz (54kB)\n",
            "\u001b[K     |████████████████████████████████| 61kB 5.6MB/s \n",
            "\u001b[?25hCollecting azure-storage-blob>=12.0.0\n",
            "\u001b[?25l  Downloading https://files.pythonhosted.org/packages/8e/00/6772472a99cd0a5e74e4e90f87947fa041b37981a3ff93d883cbc450518d/azure_storage_blob-12.7.1-py2.py3-none-any.whl (339kB)\n",
            "\u001b[K     |████████████████████████████████| 348kB 32.2MB/s \n",
            "\u001b[?25hRequirement already satisfied: sqlparse>=0.3.1 in /usr/local/lib/python3.6/dist-packages (from mlflow->pycaret) (0.4.1)\n",
            "Collecting querystring-parser\n",
            "  Downloading https://files.pythonhosted.org/packages/88/6b/572b2590fd55114118bf08bde63c0a421dcc82d593700f3e2ad89908a8a9/querystring_parser-1.2.4-py2.py3-none-any.whl\n",
            "Requirement already satisfied: decorator in /usr/local/lib/python3.6/dist-packages (from IPython->pycaret) (4.4.2)\n",
            "Requirement already satisfied: prompt-toolkit<2.0.0,>=1.0.4 in /usr/local/lib/python3.6/dist-packages (from IPython->pycaret) (1.0.18)\n",
            "Requirement already satisfied: pickleshare in /usr/local/lib/python3.6/dist-packages (from IPython->pycaret) (0.7.5)\n",
            "Requirement already satisfied: traitlets>=4.2 in /usr/local/lib/python3.6/dist-packages (from IPython->pycaret) (4.3.3)\n",
            "Requirement already satisfied: pexpect; sys_platform != \"win32\" in /usr/local/lib/python3.6/dist-packages (from IPython->pycaret) (4.8.0)\n",
            "Requirement already satisfied: simplegeneric>0.8 in /usr/local/lib/python3.6/dist-packages (from IPython->pycaret) (0.8.1)\n",
            "Requirement already satisfied: pygments in /usr/local/lib/python3.6/dist-packages (from IPython->pycaret) (2.6.1)\n",
            "Requirement already satisfied: wheel>=0.23.0 in /usr/local/lib/python3.6/dist-packages (from pyLDAvis->pycaret) (0.36.2)\n",
            "Requirement already satisfied: jinja2>=2.7.2 in /usr/local/lib/python3.6/dist-packages (from pyLDAvis->pycaret) (2.11.3)\n",
            "Requirement already satisfied: numexpr in /usr/local/lib/python3.6/dist-packages (from pyLDAvis->pycaret) (2.7.2)\n",
            "Requirement already satisfied: future in /usr/local/lib/python3.6/dist-packages (from pyLDAvis->pycaret) (0.16.0)\n",
            "Collecting funcy\n",
            "  Downloading https://files.pythonhosted.org/packages/66/89/479de0afbbfb98d1c4b887936808764627300208bb771fcd823403645a36/funcy-1.15-py2.py3-none-any.whl\n",
            "Requirement already satisfied: jupyterlab-widgets>=1.0.0; python_version >= \"3.6\" in /usr/local/lib/python3.6/dist-packages (from ipywidgets->pycaret) (1.0.0)\n",
            "Requirement already satisfied: ipykernel>=4.5.1 in /usr/local/lib/python3.6/dist-packages (from ipywidgets->pycaret) (4.10.1)\n",
            "Requirement already satisfied: widgetsnbextension~=3.5.0 in /usr/local/lib/python3.6/dist-packages (from ipywidgets->pycaret) (3.5.1)\n",
            "Requirement already satisfied: nbformat>=4.2.0 in /usr/local/lib/python3.6/dist-packages (from ipywidgets->pycaret) (5.1.2)\n",
            "Requirement already satisfied: cycler>=0.10.0 in /usr/local/lib/python3.6/dist-packages (from yellowbrick>=1.0.1->pycaret) (0.10.0)\n",
            "Requirement already satisfied: graphviz in /usr/local/lib/python3.6/dist-packages (from catboost>=0.23.2->pycaret) (0.10.1)\n",
            "Requirement already satisfied: numba>=0.49 in /usr/local/lib/python3.6/dist-packages (from umap-learn->pycaret) (0.51.2)\n",
            "Requirement already satisfied: pynndescent>=0.5 in /usr/local/lib/python3.6/dist-packages (from umap-learn->pycaret) (0.5.1)\n",
            "Requirement already satisfied: pillow in /usr/local/lib/python3.6/dist-packages (from wordcloud->pycaret) (7.0.0)\n",
            "Requirement already satisfied: pytz>=2017.2 in /usr/local/lib/python3.6/dist-packages (from pandas->pycaret) (2018.9)\n",
            "Collecting threadpoolctl>=2.0.0\n",
            "  Downloading https://files.pythonhosted.org/packages/f7/12/ec3f2e203afa394a149911729357aa48affc59c20e2c1c8297a60f33f133/threadpoolctl-2.1.0-py3-none-any.whl\n",
            "Requirement already satisfied: missingno>=0.4.2 in /usr/local/lib/python3.6/dist-packages (from pandas-profiling>=2.8.0->pycaret) (0.4.2)\n",
            "Collecting htmlmin>=0.1.12\n",
            "  Downloading https://files.pythonhosted.org/packages/b3/e7/fcd59e12169de19f0131ff2812077f964c6b960e7c09804d30a7bf2ab461/htmlmin-0.1.12.tar.gz\n",
            "Collecting phik>=0.10.0\n",
            "\u001b[?25l  Downloading https://files.pythonhosted.org/packages/d9/27/d4197ed93c26d9eeedb7c73c0f24462a65c617807c3140e012950c35ccf9/phik-0.11.0.tar.gz (594kB)\n",
            "\u001b[K     |████████████████████████████████| 604kB 39.0MB/s \n",
            "\u001b[?25hCollecting visions[type_image_path]==0.6.0\n",
            "\u001b[?25l  Downloading https://files.pythonhosted.org/packages/98/30/b1e70bc55962239c4c3c9660e892be2d8247a882135a3035c10ff7f02cde/visions-0.6.0-py3-none-any.whl (75kB)\n",
            "\u001b[K     |████████████████████████████████| 81kB 6.8MB/s \n",
            "\u001b[?25hCollecting confuse>=1.0.0\n",
            "  Downloading https://files.pythonhosted.org/packages/6d/55/b4726d81e5d6509fa3441f770f8a9524612627dc1b2a7d6209d1d20083fe/confuse-1.4.0-py2.py3-none-any.whl\n",
            "Requirement already satisfied: attrs>=19.3.0 in /usr/local/lib/python3.6/dist-packages (from pandas-profiling>=2.8.0->pycaret) (20.3.0)\n",
            "Collecting tangled-up-in-unicode>=0.0.6\n",
            "\u001b[?25l  Downloading https://files.pythonhosted.org/packages/4a/e2/e588ab9298d4989ce7fdb2b97d18aac878d99dbdc379a4476a09d9271b68/tangled_up_in_unicode-0.0.6-py3-none-any.whl (3.1MB)\n",
            "\u001b[K     |████████████████████████████████| 3.1MB 44.5MB/s \n",
            "\u001b[?25hRequirement already satisfied: smart-open>=1.2.1 in /usr/local/lib/python3.6/dist-packages (from gensim->pycaret) (4.1.2)\n",
            "Collecting combo\n",
            "  Downloading https://files.pythonhosted.org/packages/12/ae/66029dcaa88ccca77f454dbb29c1178c751ec24fc771ed475a992b49a02d/combo-0.1.2.tar.gz\n",
            "Requirement already satisfied: statsmodels in /usr/local/lib/python3.6/dist-packages (from pyod->pycaret) (0.10.2)\n",
            "Collecting suod\n",
            "\u001b[?25l  Downloading https://files.pythonhosted.org/packages/4e/8a/255ed2c959abab7c712b10fe710e454d5a8e3461c6ae60e426349a8eb6a5/suod-0.0.6.tar.gz (2.1MB)\n",
            "\u001b[K     |████████████████████████████████| 2.1MB 42.8MB/s \n",
            "\u001b[?25hRequirement already satisfied: kiwisolver>=1.0.1 in /usr/local/lib/python3.6/dist-packages (from matplotlib->pycaret) (1.3.1)\n",
            "Requirement already satisfied: pyparsing!=2.0.4,!=2.1.2,!=2.1.6,>=2.0.1 in /usr/local/lib/python3.6/dist-packages (from matplotlib->pycaret) (2.4.7)\n",
            "Requirement already satisfied: importlib-metadata>=0.20; python_version < \"3.8\" in /usr/local/lib/python3.6/dist-packages (from catalogue<1.1.0,>=0.0.7->spacy->pycaret) (3.4.0)\n",
            "Requirement already satisfied: urllib3!=1.25.0,!=1.25.1,<1.26,>=1.21.1 in /usr/local/lib/python3.6/dist-packages (from requests<3.0.0,>=2.13.0->spacy->pycaret) (1.24.3)\n",
            "Requirement already satisfied: idna<3,>=2.5 in /usr/local/lib/python3.6/dist-packages (from requests<3.0.0,>=2.13.0->spacy->pycaret) (2.10)\n",
            "Requirement already satisfied: certifi>=2017.4.17 in /usr/local/lib/python3.6/dist-packages (from requests<3.0.0,>=2.13.0->spacy->pycaret) (2020.12.5)\n",
            "Requirement already satisfied: chardet<4,>=3.0.2 in /usr/local/lib/python3.6/dist-packages (from requests<3.0.0,>=2.13.0->spacy->pycaret) (3.0.4)\n",
            "Collecting gitdb<5,>=4.0.1\n",
            "\u001b[?25l  Downloading https://files.pythonhosted.org/packages/48/11/d1800bca0a3bae820b84b7d813ad1eff15a48a64caea9c823fc8c1b119e8/gitdb-4.0.5-py3-none-any.whl (63kB)\n",
            "\u001b[K     |████████████████████████████████| 71kB 7.2MB/s \n",
            "\u001b[?25hCollecting websocket-client>=0.32.0\n",
            "\u001b[?25l  Downloading https://files.pythonhosted.org/packages/4c/5f/f61b420143ed1c8dc69f9eaec5ff1ac36109d52c80de49d66e0c36c3dfdf/websocket_client-0.57.0-py2.py3-none-any.whl (200kB)\n",
            "\u001b[K     |████████████████████████████████| 204kB 41.9MB/s \n",
            "\u001b[?25hCollecting Mako\n",
            "\u001b[?25l  Downloading https://files.pythonhosted.org/packages/5c/db/2d2d88b924aa4674a080aae83b59ea19d593250bfe5ed789947c21736785/Mako-1.1.4.tar.gz (479kB)\n",
            "\u001b[K     |████████████████████████████████| 481kB 36.9MB/s \n",
            "\u001b[?25hCollecting python-editor>=0.3\n",
            "  Downloading https://files.pythonhosted.org/packages/c6/d3/201fc3abe391bbae6606e6f1d598c15d367033332bd54352b12f35513717/python_editor-1.0.4-py3-none-any.whl\n",
            "Requirement already satisfied: itsdangerous>=0.24 in /usr/local/lib/python3.6/dist-packages (from Flask->mlflow->pycaret) (1.1.0)\n",
            "Requirement already satisfied: Werkzeug>=0.15 in /usr/local/lib/python3.6/dist-packages (from Flask->mlflow->pycaret) (1.0.1)\n",
            "Requirement already satisfied: prometheus_client in /usr/local/lib/python3.6/dist-packages (from prometheus-flask-exporter->mlflow->pycaret) (0.9.0)\n",
            "Requirement already satisfied: tabulate>=0.7.7 in /usr/local/lib/python3.6/dist-packages (from databricks-cli>=0.8.7->mlflow->pycaret) (0.8.7)\n",
            "Collecting azure-core<2.0.0,>=1.10.0\n",
            "\u001b[?25l  Downloading https://files.pythonhosted.org/packages/12/9e/6bb67fe85f6a89d71f50c86a0da778a5064f749a485ed9ba498067034227/azure_core-1.10.0-py2.py3-none-any.whl (125kB)\n",
            "\u001b[K     |████████████████████████████████| 133kB 44.0MB/s \n",
            "\u001b[?25hCollecting cryptography>=2.1.4\n",
            "\u001b[?25l  Downloading https://files.pythonhosted.org/packages/c9/de/7054df0620b5411ba45480f0261e1fb66a53f3db31b28e3aa52c026e72d9/cryptography-3.3.1-cp36-abi3-manylinux2010_x86_64.whl (2.6MB)\n",
            "\u001b[K     |████████████████████████████████| 2.6MB 45.3MB/s \n",
            "\u001b[?25hCollecting msrest>=0.6.18\n",
            "\u001b[?25l  Downloading https://files.pythonhosted.org/packages/e8/cc/6c96bfb3d3cf4c3bdedfa6b46503223f4c2a4fa388377697e0f8082a4fed/msrest-0.6.21-py2.py3-none-any.whl (85kB)\n",
            "\u001b[K     |████████████████████████████████| 92kB 9.6MB/s \n",
            "\u001b[?25hRequirement already satisfied: wcwidth in /usr/local/lib/python3.6/dist-packages (from prompt-toolkit<2.0.0,>=1.0.4->IPython->pycaret) (0.2.5)\n",
            "Requirement already satisfied: ipython-genutils in /usr/local/lib/python3.6/dist-packages (from traitlets>=4.2->IPython->pycaret) (0.2.0)\n",
            "Requirement already satisfied: ptyprocess>=0.5 in /usr/local/lib/python3.6/dist-packages (from pexpect; sys_platform != \"win32\"->IPython->pycaret) (0.7.0)\n",
            "Requirement already satisfied: MarkupSafe>=0.23 in /usr/local/lib/python3.6/dist-packages (from jinja2>=2.7.2->pyLDAvis->pycaret) (1.1.1)\n",
            "Requirement already satisfied: jupyter-client in /usr/local/lib/python3.6/dist-packages (from ipykernel>=4.5.1->ipywidgets->pycaret) (5.3.5)\n",
            "Requirement already satisfied: tornado>=4.0 in /usr/local/lib/python3.6/dist-packages (from ipykernel>=4.5.1->ipywidgets->pycaret) (5.1.1)\n",
            "Requirement already satisfied: notebook>=4.4.1 in /usr/local/lib/python3.6/dist-packages (from widgetsnbextension~=3.5.0->ipywidgets->pycaret) (5.3.1)\n",
            "Requirement already satisfied: jsonschema!=2.5.0,>=2.4 in /usr/local/lib/python3.6/dist-packages (from nbformat>=4.2.0->ipywidgets->pycaret) (2.6.0)\n",
            "Requirement already satisfied: jupyter-core in /usr/local/lib/python3.6/dist-packages (from nbformat>=4.2.0->ipywidgets->pycaret) (4.7.1)\n",
            "Requirement already satisfied: llvmlite<0.35,>=0.34.0.dev0 in /usr/local/lib/python3.6/dist-packages (from numba>=0.49->umap-learn->pycaret) (0.34.0)\n",
            "Requirement already satisfied: networkx>=2.4 in /usr/local/lib/python3.6/dist-packages (from visions[type_image_path]==0.6.0->pandas-profiling>=2.8.0->pycaret) (2.5)\n",
            "Collecting imagehash; extra == \"type_image_path\"\n",
            "\u001b[?25l  Downloading https://files.pythonhosted.org/packages/8e/18/9dbb772b5ef73a3069c66bb5bf29b9fb4dd57af0d5790c781c3f559bcca6/ImageHash-4.2.0-py2.py3-none-any.whl (295kB)\n",
            "\u001b[K     |████████████████████████████████| 296kB 52.6MB/s \n",
            "\u001b[?25hRequirement already satisfied: patsy>=0.4.0 in /usr/local/lib/python3.6/dist-packages (from statsmodels->pyod->pycaret) (0.5.1)\n",
            "Requirement already satisfied: psutil in /usr/local/lib/python3.6/dist-packages (from suod->pyod->pycaret) (5.4.8)\n",
            "Requirement already satisfied: zipp>=0.5 in /usr/local/lib/python3.6/dist-packages (from importlib-metadata>=0.20; python_version < \"3.8\"->catalogue<1.1.0,>=0.0.7->spacy->pycaret) (3.4.0)\n",
            "Requirement already satisfied: typing-extensions>=3.6.4; python_version < \"3.8\" in /usr/local/lib/python3.6/dist-packages (from importlib-metadata>=0.20; python_version < \"3.8\"->catalogue<1.1.0,>=0.0.7->spacy->pycaret) (3.7.4.3)\n",
            "Collecting smmap<4,>=3.0.1\n",
            "  Downloading https://files.pythonhosted.org/packages/d5/1e/6130925131f639b2acde0f7f18b73e33ce082ff2d90783c436b52040af5a/smmap-3.0.5-py2.py3-none-any.whl\n",
            "Requirement already satisfied: cffi>=1.12 in /usr/local/lib/python3.6/dist-packages (from cryptography>=2.1.4->azure-storage-blob>=12.0.0->mlflow->pycaret) (1.14.4)\n",
            "Requirement already satisfied: requests-oauthlib>=0.5.0 in /usr/local/lib/python3.6/dist-packages (from msrest>=0.6.18->azure-storage-blob>=12.0.0->mlflow->pycaret) (1.3.0)\n",
            "Collecting isodate>=0.6.0\n",
            "\u001b[?25l  Downloading https://files.pythonhosted.org/packages/9b/9f/b36f7774ff5ea8e428fdcfc4bb332c39ee5b9362ddd3d40d9516a55221b2/isodate-0.6.0-py2.py3-none-any.whl (45kB)\n",
            "\u001b[K     |████████████████████████████████| 51kB 5.7MB/s \n",
            "\u001b[?25hRequirement already satisfied: pyzmq>=13 in /usr/local/lib/python3.6/dist-packages (from jupyter-client->ipykernel>=4.5.1->ipywidgets->pycaret) (22.0.2)\n",
            "Requirement already satisfied: Send2Trash in /usr/local/lib/python3.6/dist-packages (from notebook>=4.4.1->widgetsnbextension~=3.5.0->ipywidgets->pycaret) (1.5.0)\n",
            "Requirement already satisfied: terminado>=0.8.1 in /usr/local/lib/python3.6/dist-packages (from notebook>=4.4.1->widgetsnbextension~=3.5.0->ipywidgets->pycaret) (0.9.2)\n",
            "Requirement already satisfied: nbconvert in /usr/local/lib/python3.6/dist-packages (from notebook>=4.4.1->widgetsnbextension~=3.5.0->ipywidgets->pycaret) (5.6.1)\n",
            "Requirement already satisfied: PyWavelets in /usr/local/lib/python3.6/dist-packages (from imagehash; extra == \"type_image_path\"->visions[type_image_path]==0.6.0->pandas-profiling>=2.8.0->pycaret) (1.1.1)\n",
            "Requirement already satisfied: pycparser in /usr/local/lib/python3.6/dist-packages (from cffi>=1.12->cryptography>=2.1.4->azure-storage-blob>=12.0.0->mlflow->pycaret) (2.20)\n",
            "Requirement already satisfied: oauthlib>=3.0.0 in /usr/local/lib/python3.6/dist-packages (from requests-oauthlib>=0.5.0->msrest>=0.6.18->azure-storage-blob>=12.0.0->mlflow->pycaret) (3.1.0)\n",
            "Requirement already satisfied: testpath in /usr/local/lib/python3.6/dist-packages (from nbconvert->notebook>=4.4.1->widgetsnbextension~=3.5.0->ipywidgets->pycaret) (0.4.4)\n",
            "Requirement already satisfied: pandocfilters>=1.4.1 in /usr/local/lib/python3.6/dist-packages (from nbconvert->notebook>=4.4.1->widgetsnbextension~=3.5.0->ipywidgets->pycaret) (1.4.3)\n",
            "Requirement already satisfied: bleach in /usr/local/lib/python3.6/dist-packages (from nbconvert->notebook>=4.4.1->widgetsnbextension~=3.5.0->ipywidgets->pycaret) (3.3.0)\n",
            "Requirement already satisfied: defusedxml in /usr/local/lib/python3.6/dist-packages (from nbconvert->notebook>=4.4.1->widgetsnbextension~=3.5.0->ipywidgets->pycaret) (0.6.0)\n",
            "Requirement already satisfied: mistune<2,>=0.8.1 in /usr/local/lib/python3.6/dist-packages (from nbconvert->notebook>=4.4.1->widgetsnbextension~=3.5.0->ipywidgets->pycaret) (0.8.4)\n",
            "Requirement already satisfied: webencodings in /usr/local/lib/python3.6/dist-packages (from bleach->nbconvert->notebook>=4.4.1->widgetsnbextension~=3.5.0->ipywidgets->pycaret) (0.5.1)\n",
            "Requirement already satisfied: packaging in /usr/local/lib/python3.6/dist-packages (from bleach->nbconvert->notebook>=4.4.1->widgetsnbextension~=3.5.0->ipywidgets->pycaret) (20.9)\n",
            "Building wheels for collected packages: pyLDAvis, pyod, alembic, prometheus-flask-exporter, databricks-cli, htmlmin, phik, combo, suod, Mako\n",
            "  Building wheel for pyLDAvis (setup.py) ... \u001b[?25l\u001b[?25hdone\n",
            "  Created wheel for pyLDAvis: filename=pyLDAvis-3.0.0-py2.py3-none-any.whl size=136704 sha256=89b985475c5916036d0989da71779e5d9fc1b62bb5db131105072d76f3f9a721\n",
            "  Stored in directory: /root/.cache/pip/wheels/e8/6d/d3/85bc954f74554c8ee9bb6e7d03dcf2c1ec1a05526979a8389f\n",
            "  Building wheel for pyod (setup.py) ... \u001b[?25l\u001b[?25hdone\n",
            "  Created wheel for pyod: filename=pyod-0.8.6-cp36-none-any.whl size=112146 sha256=89a825dc1d1ea32c322ed8b9515680e9f9e36856af8752a7563cafe941f092f3\n",
            "  Stored in directory: /root/.cache/pip/wheels/48/95/81/2c6f52c3d366e7b5ef4770550f8bf0764257c66fbe64deecdb\n",
            "  Building wheel for alembic (setup.py) ... \u001b[?25l\u001b[?25hdone\n",
            "  Created wheel for alembic: filename=alembic-1.4.1-py2.py3-none-any.whl size=158155 sha256=38d776a6b1c16632392fe0ac84d00818b52d35f0a92b0fc7e65916e4846fd61c\n",
            "  Stored in directory: /root/.cache/pip/wheels/84/07/f7/12f7370ca47a66030c2edeedcc23dec26ea0ac22dcb4c4a0f3\n",
            "  Building wheel for prometheus-flask-exporter (setup.py) ... \u001b[?25l\u001b[?25hdone\n",
            "  Created wheel for prometheus-flask-exporter: filename=prometheus_flask_exporter-0.18.1-cp36-none-any.whl size=17159 sha256=1ad26c4ec2a660e3442705a4a980e4d897ef107dddc698160de5503a3f6a6cca\n",
            "  Stored in directory: /root/.cache/pip/wheels/b4/1f/b8/66bd9bc3a9d6c6987ff6c4dfeb6f1fe97b5a0e5ed5849c0437\n",
            "  Building wheel for databricks-cli (setup.py) ... \u001b[?25l\u001b[?25hdone\n",
            "  Created wheel for databricks-cli: filename=databricks_cli-0.14.1-cp36-none-any.whl size=100579 sha256=09e4aa48c1060d3b27c2b28db374987285fb74bc0660c15b80dafdfbf4d70e06\n",
            "  Stored in directory: /root/.cache/pip/wheels/82/91/ac/5d417ee5ccbb76c8cca096cf4cfb9ed9d49d889d1d1ca0fc39\n",
            "  Building wheel for htmlmin (setup.py) ... \u001b[?25l\u001b[?25hdone\n",
            "  Created wheel for htmlmin: filename=htmlmin-0.1.12-cp36-none-any.whl size=27085 sha256=15ed3805f00b3c2dcf0624635173af4d8a617dbfde328e531a76e22b1a0a281e\n",
            "  Stored in directory: /root/.cache/pip/wheels/43/07/ac/7c5a9d708d65247ac1f94066cf1db075540b85716c30255459\n",
            "  Building wheel for phik (setup.py) ... \u001b[?25l\u001b[?25hdone\n",
            "  Created wheel for phik: filename=phik-0.11.0-cp36-none-any.whl size=599738 sha256=ee2807edf009aabe219cc153e76782bf748167d586207e1208732bb40886787a\n",
            "  Stored in directory: /root/.cache/pip/wheels/af/54/11/aba77f21075918de02f7964eabfe8c10d5542df9e6ad10b225\n",
            "  Building wheel for combo (setup.py) ... \u001b[?25l\u001b[?25hdone\n",
            "  Created wheel for combo: filename=combo-0.1.2-cp36-none-any.whl size=42028 sha256=cc3efd23a5e219cbca2d285f1458fa28046dc9635c2a734b0cb4b41ecb1174e3\n",
            "  Stored in directory: /root/.cache/pip/wheels/01/d9/bf/d1a371a5f0844cd8a53c04c14daa89974c93f429dda9dceb86\n",
            "  Building wheel for suod (setup.py) ... \u001b[?25l\u001b[?25hdone\n",
            "  Created wheel for suod: filename=suod-0.0.6-cp36-none-any.whl size=2154759 sha256=26c401644478e61c9de6b718e002b290f3edbb123b3401c687e1538083fa28dd\n",
            "  Stored in directory: /root/.cache/pip/wheels/c5/d7/c1/6c778aee7fccfe3c054ea9bab92c5994ae3a0f6bba7078541e\n",
            "  Building wheel for Mako (setup.py) ... \u001b[?25l\u001b[?25hdone\n",
            "  Created wheel for Mako: filename=Mako-1.1.4-py2.py3-none-any.whl size=75675 sha256=99bfb45e7e1e02db3ed1d6bedaa5dda454f8867f9c851b05d164369f1764bb0f\n",
            "  Stored in directory: /root/.cache/pip/wheels/ad/10/d3/aeb26e20d19045e2a68e5d3cbb57432e11b5d9c92c99f98d47\n",
            "Successfully built pyLDAvis pyod alembic prometheus-flask-exporter databricks-cli htmlmin phik combo suod Mako\n",
            "\u001b[31mERROR: pandas-profiling 2.10.0 has requirement requests>=2.24.0, but you'll have requests 2.23.0 which is incompatible.\u001b[0m\n",
            "\u001b[31mERROR: pandas-profiling 2.10.0 has requirement tqdm>=4.48.2, but you'll have tqdm 4.41.1 which is incompatible.\u001b[0m\n",
            "Installing collected packages: smmap, gitdb, gitpython, websocket-client, docker, gunicorn, Mako, python-editor, alembic, prometheus-flask-exporter, databricks-cli, azure-core, cryptography, isodate, msrest, azure-storage-blob, querystring-parser, mlflow, threadpoolctl, scikit-learn, scikit-plot, funcy, pyLDAvis, yellowbrick, catboost, lightgbm, imbalanced-learn, htmlmin, phik, tangled-up-in-unicode, imagehash, visions, confuse, pandas-profiling, kmodes, combo, suod, pyod, xgboost, pycaret\n",
            "  Found existing installation: scikit-learn 0.22.2.post1\n",
            "    Uninstalling scikit-learn-0.22.2.post1:\n",
            "      Successfully uninstalled scikit-learn-0.22.2.post1\n",
            "  Found existing installation: yellowbrick 0.9.1\n",
            "    Uninstalling yellowbrick-0.9.1:\n",
            "      Successfully uninstalled yellowbrick-0.9.1\n",
            "  Found existing installation: lightgbm 2.2.3\n",
            "    Uninstalling lightgbm-2.2.3:\n",
            "      Successfully uninstalled lightgbm-2.2.3\n",
            "  Found existing installation: imbalanced-learn 0.4.3\n",
            "    Uninstalling imbalanced-learn-0.4.3:\n",
            "      Successfully uninstalled imbalanced-learn-0.4.3\n",
            "  Found existing installation: pandas-profiling 1.4.1\n",
            "    Uninstalling pandas-profiling-1.4.1:\n",
            "      Successfully uninstalled pandas-profiling-1.4.1\n",
            "  Found existing installation: xgboost 0.90\n",
            "    Uninstalling xgboost-0.90:\n",
            "      Successfully uninstalled xgboost-0.90\n",
            "Successfully installed Mako-1.1.4 alembic-1.4.1 azure-core-1.10.0 azure-storage-blob-12.7.1 catboost-0.24.4 combo-0.1.2 confuse-1.4.0 cryptography-3.3.1 databricks-cli-0.14.1 docker-4.4.1 funcy-1.15 gitdb-4.0.5 gitpython-3.1.12 gunicorn-20.0.4 htmlmin-0.1.12 imagehash-4.2.0 imbalanced-learn-0.7.0 isodate-0.6.0 kmodes-0.10.2 lightgbm-3.1.1 mlflow-1.13.1 msrest-0.6.21 pandas-profiling-2.10.0 phik-0.11.0 prometheus-flask-exporter-0.18.1 pyLDAvis-3.0.0 pycaret-2.2.3 pyod-0.8.6 python-editor-1.0.4 querystring-parser-1.2.4 scikit-learn-0.23.2 scikit-plot-0.3.7 smmap-3.0.5 suod-0.0.6 tangled-up-in-unicode-0.0.6 threadpoolctl-2.1.0 visions-0.6.0 websocket-client-0.57.0 xgboost-1.3.3 yellowbrick-1.2.1\n",
            "Collecting category_encoders\n",
            "\u001b[?25l  Downloading https://files.pythonhosted.org/packages/44/57/fcef41c248701ee62e8325026b90c432adea35555cbc870aff9cfba23727/category_encoders-2.2.2-py2.py3-none-any.whl (80kB)\n",
            "\u001b[K     |████████████████████████████████| 81kB 3.5MB/s \n",
            "\u001b[?25hRequirement already satisfied: pandas>=0.21.1 in /usr/local/lib/python3.6/dist-packages (from category_encoders) (1.1.5)\n",
            "Requirement already satisfied: numpy>=1.14.0 in /usr/local/lib/python3.6/dist-packages (from category_encoders) (1.19.5)\n",
            "Requirement already satisfied: statsmodels>=0.9.0 in /usr/local/lib/python3.6/dist-packages (from category_encoders) (0.10.2)\n",
            "Requirement already satisfied: scipy>=1.0.0 in /usr/local/lib/python3.6/dist-packages (from category_encoders) (1.4.1)\n",
            "Requirement already satisfied: scikit-learn>=0.20.0 in /usr/local/lib/python3.6/dist-packages (from category_encoders) (0.23.2)\n",
            "Requirement already satisfied: patsy>=0.5.1 in /usr/local/lib/python3.6/dist-packages (from category_encoders) (0.5.1)\n",
            "Requirement already satisfied: pytz>=2017.2 in /usr/local/lib/python3.6/dist-packages (from pandas>=0.21.1->category_encoders) (2018.9)\n",
            "Requirement already satisfied: python-dateutil>=2.7.3 in /usr/local/lib/python3.6/dist-packages (from pandas>=0.21.1->category_encoders) (2.8.1)\n",
            "Requirement already satisfied: joblib>=0.11 in /usr/local/lib/python3.6/dist-packages (from scikit-learn>=0.20.0->category_encoders) (1.0.0)\n",
            "Requirement already satisfied: threadpoolctl>=2.0.0 in /usr/local/lib/python3.6/dist-packages (from scikit-learn>=0.20.0->category_encoders) (2.1.0)\n",
            "Requirement already satisfied: six in /usr/local/lib/python3.6/dist-packages (from patsy>=0.5.1->category_encoders) (1.15.0)\n",
            "Installing collected packages: category-encoders\n",
            "Successfully installed category-encoders-2.2.2\n"
          ],
          "name": "stdout"
        }
      ]
    },
    {
      "cell_type": "code",
      "metadata": {
        "id": "RC4Z0qg9Lrmz"
      },
      "source": [
        "import pandas as pd\r\n",
        "import numpy as np\r\n",
        "import seaborn as sns\r\n",
        "import matplotlib.pyplot as plt\r\n",
        "from sklearn.preprocessing import KBinsDiscretizer\r\n",
        "from sklearn.cluster import KMeans\r\n",
        "from scipy.spatial.distance import cdist\r\n",
        "from functools import reduce\r\n",
        "from datetime import datetime, timedelta\r\n",
        "from pycaret.classification import *"
      ],
      "execution_count": 151,
      "outputs": []
    },
    {
      "cell_type": "code",
      "metadata": {
        "id": "mxbSm_-qNwE0"
      },
      "source": [
        ""
      ],
      "execution_count": 2,
      "outputs": []
    },
    {
      "cell_type": "code",
      "metadata": {
        "id": "PPvjIHa_Nwvi",
        "colab": {
          "base_uri": "https://localhost:8080/"
        },
        "outputId": "65e7a834-a4cf-4542-81b8-406c26681a88"
      },
      "source": [
        "from google.colab import drive\n",
        "drive.mount('/content/drive')"
      ],
      "execution_count": 3,
      "outputs": [
        {
          "output_type": "stream",
          "text": [
            "Mounted at /content/drive\n"
          ],
          "name": "stdout"
        }
      ]
    },
    {
      "cell_type": "code",
      "metadata": {
        "id": "GsC3kwoIKe-i"
      },
      "source": [
        "train_b = pd.read_excel('/content/drive/MyDrive/LTFSDSFinHack3/Train/train_bureau.xlsx')"
      ],
      "execution_count": 4,
      "outputs": []
    },
    {
      "cell_type": "code",
      "metadata": {
        "id": "hlmQim9xKe-j"
      },
      "source": [
        "train_d = pd.read_excel('/content/drive/MyDrive/LTFSDSFinHack3/Train/train_Data.xlsx')"
      ],
      "execution_count": 5,
      "outputs": []
    },
    {
      "cell_type": "code",
      "metadata": {
        "id": "itHAMhiVM1rq",
        "colab": {
          "base_uri": "https://localhost:8080/",
          "height": 377
        },
        "outputId": "8bfecbdd-6b8c-42ad-bb15-ff2abdde3f23"
      },
      "source": [
        "train_b.head()"
      ],
      "execution_count": 152,
      "outputs": [
        {
          "output_type": "execute_result",
          "data": {
            "text/html": [
              "<div>\n",
              "<style scoped>\n",
              "    .dataframe tbody tr th:only-of-type {\n",
              "        vertical-align: middle;\n",
              "    }\n",
              "\n",
              "    .dataframe tbody tr th {\n",
              "        vertical-align: top;\n",
              "    }\n",
              "\n",
              "    .dataframe thead th {\n",
              "        text-align: right;\n",
              "    }\n",
              "</style>\n",
              "<table border=\"1\" class=\"dataframe\">\n",
              "  <thead>\n",
              "    <tr style=\"text-align: right;\">\n",
              "      <th></th>\n",
              "      <th>ID</th>\n",
              "      <th>SELF-INDICATOR</th>\n",
              "      <th>MATCH-TYPE</th>\n",
              "      <th>ACCT-TYPE</th>\n",
              "      <th>CONTRIBUTOR-TYPE</th>\n",
              "      <th>DATE-REPORTED</th>\n",
              "      <th>OWNERSHIP-IND</th>\n",
              "      <th>ACCOUNT-STATUS</th>\n",
              "      <th>DISBURSED-DT</th>\n",
              "      <th>CLOSE-DT</th>\n",
              "      <th>LAST-PAYMENT-DATE</th>\n",
              "      <th>CREDIT-LIMIT/SANC AMT</th>\n",
              "      <th>DISBURSED-AMT/HIGH CREDIT</th>\n",
              "      <th>INSTALLMENT-AMT</th>\n",
              "      <th>CURRENT-BAL</th>\n",
              "      <th>INSTALLMENT-FREQUENCY</th>\n",
              "      <th>OVERDUE-AMT</th>\n",
              "      <th>WRITE-OFF-AMT</th>\n",
              "      <th>ASSET_CLASS</th>\n",
              "      <th>REPORTED DATE - HIST</th>\n",
              "      <th>DPD - HIST</th>\n",
              "      <th>CUR BAL - HIST</th>\n",
              "      <th>AMT OVERDUE - HIST</th>\n",
              "      <th>AMT PAID - HIST</th>\n",
              "      <th>TENURE</th>\n",
              "    </tr>\n",
              "  </thead>\n",
              "  <tbody>\n",
              "    <tr>\n",
              "      <th>0</th>\n",
              "      <td>1</td>\n",
              "      <td>False</td>\n",
              "      <td>PRIMARY</td>\n",
              "      <td>Overdraft</td>\n",
              "      <td>NAB</td>\n",
              "      <td>2018-04-30</td>\n",
              "      <td>Individual</td>\n",
              "      <td>Delinquent</td>\n",
              "      <td>2015-10-05</td>\n",
              "      <td>NaN</td>\n",
              "      <td>2018-02-27</td>\n",
              "      <td>NaN</td>\n",
              "      <td>37,352</td>\n",
              "      <td>NaN</td>\n",
              "      <td>37,873</td>\n",
              "      <td>NaN</td>\n",
              "      <td>37,873</td>\n",
              "      <td>0.0</td>\n",
              "      <td>Standard</td>\n",
              "      <td>20180430,20180331,</td>\n",
              "      <td>030000</td>\n",
              "      <td>37873,12820,</td>\n",
              "      <td>37873,,</td>\n",
              "      <td>,,</td>\n",
              "      <td>NaN</td>\n",
              "    </tr>\n",
              "    <tr>\n",
              "      <th>1</th>\n",
              "      <td>1</td>\n",
              "      <td>False</td>\n",
              "      <td>PRIMARY</td>\n",
              "      <td>Auto Loan (Personal)</td>\n",
              "      <td>NAB</td>\n",
              "      <td>2019-12-31</td>\n",
              "      <td>Individual</td>\n",
              "      <td>Active</td>\n",
              "      <td>2018-03-19</td>\n",
              "      <td>NaN</td>\n",
              "      <td>2019-12-19</td>\n",
              "      <td>NaN</td>\n",
              "      <td>44,000</td>\n",
              "      <td>1,405/Monthly</td>\n",
              "      <td>20,797</td>\n",
              "      <td>F03</td>\n",
              "      <td>NaN</td>\n",
              "      <td>0.0</td>\n",
              "      <td>Standard</td>\n",
              "      <td>20191231,20191130,20191031,20190930,20190831,2...</td>\n",
              "      <td>0000000000000000000000000000000000000000000000...</td>\n",
              "      <td>20797,21988,23174,24341,25504,26648,27780,2891...</td>\n",
              "      <td>,,,,,,,,,,,,,,,,,,,,1452,,</td>\n",
              "      <td>,,,,,,,,,,,,,,,,,,,,,,</td>\n",
              "      <td>36.0</td>\n",
              "    </tr>\n",
              "    <tr>\n",
              "      <th>2</th>\n",
              "      <td>1</td>\n",
              "      <td>True</td>\n",
              "      <td>PRIMARY</td>\n",
              "      <td>Tractor Loan</td>\n",
              "      <td>NBF</td>\n",
              "      <td>2020-01-31</td>\n",
              "      <td>Individual</td>\n",
              "      <td>Active</td>\n",
              "      <td>2019-08-30</td>\n",
              "      <td>NaN</td>\n",
              "      <td>NaT</td>\n",
              "      <td>NaN</td>\n",
              "      <td>1,45,000</td>\n",
              "      <td>NaN</td>\n",
              "      <td>1,16,087</td>\n",
              "      <td>NaN</td>\n",
              "      <td>0</td>\n",
              "      <td>0.0</td>\n",
              "      <td>NaN</td>\n",
              "      <td>20200131,20191231,20191130,20191031,20190930,2...</td>\n",
              "      <td>000000000000000000</td>\n",
              "      <td>116087,116087,145000,145000,145000,145000,</td>\n",
              "      <td>0,0,0,0,0,0,</td>\n",
              "      <td>,,,,,,</td>\n",
              "      <td>NaN</td>\n",
              "    </tr>\n",
              "    <tr>\n",
              "      <th>3</th>\n",
              "      <td>1</td>\n",
              "      <td>True</td>\n",
              "      <td>PRIMARY</td>\n",
              "      <td>Auto Loan (Personal)</td>\n",
              "      <td>NBF</td>\n",
              "      <td>2017-09-30</td>\n",
              "      <td>Individual</td>\n",
              "      <td>Closed</td>\n",
              "      <td>2013-09-27</td>\n",
              "      <td>2017-09-21 00:00:00</td>\n",
              "      <td>NaT</td>\n",
              "      <td>NaN</td>\n",
              "      <td>3,00,000</td>\n",
              "      <td>NaN</td>\n",
              "      <td>0</td>\n",
              "      <td>NaN</td>\n",
              "      <td>0</td>\n",
              "      <td>0.0</td>\n",
              "      <td>NaN</td>\n",
              "      <td>20170930,20170801,20170731,20170630,20170531,2...</td>\n",
              "      <td>000DDD0270260270260270240270270000320000000000...</td>\n",
              "      <td>0,,15925,23754,31494,39147,46713,54194,61590,6...</td>\n",
              "      <td>0,,1014,1014,1014,1014,1014,1014,1014,983,0,92...</td>\n",
              "      <td>,,,,,,,,,,,,,,,,,,,,,,,,,,,,,,,,,,,,,</td>\n",
              "      <td>NaN</td>\n",
              "    </tr>\n",
              "    <tr>\n",
              "      <th>4</th>\n",
              "      <td>1</td>\n",
              "      <td>True</td>\n",
              "      <td>PRIMARY</td>\n",
              "      <td>Tractor Loan</td>\n",
              "      <td>NBF</td>\n",
              "      <td>2016-02-29</td>\n",
              "      <td>Individual</td>\n",
              "      <td>Closed</td>\n",
              "      <td>2012-02-10</td>\n",
              "      <td>2016-02-01 00:00:00</td>\n",
              "      <td>NaT</td>\n",
              "      <td>NaN</td>\n",
              "      <td>2,75,000</td>\n",
              "      <td>NaN</td>\n",
              "      <td>0</td>\n",
              "      <td>NaN</td>\n",
              "      <td>0</td>\n",
              "      <td>0.0</td>\n",
              "      <td>NaN</td>\n",
              "      <td>20160229,20160131,20151231,20151130,20151031,2...</td>\n",
              "      <td>0000000000000000000000000000000000000000000000...</td>\n",
              "      <td>0,0,23658,23321,22989,46321,45662,45012,68030,...</td>\n",
              "      <td>0,0,0,0,0,0,0,0,0,0,0,0,0,0,0,0,0,0,0,0,0,0,0,...</td>\n",
              "      <td>,,,,,,,,,,,,,,,,,,,,,,,,,,,,,,,,,,,,,</td>\n",
              "      <td>NaN</td>\n",
              "    </tr>\n",
              "  </tbody>\n",
              "</table>\n",
              "</div>"
            ],
            "text/plain": [
              "   ID  SELF-INDICATOR  ...                        AMT PAID - HIST TENURE\n",
              "0   1           False  ...                                     ,,    NaN\n",
              "1   1           False  ...                 ,,,,,,,,,,,,,,,,,,,,,,   36.0\n",
              "2   1            True  ...                                 ,,,,,,    NaN\n",
              "3   1            True  ...  ,,,,,,,,,,,,,,,,,,,,,,,,,,,,,,,,,,,,,    NaN\n",
              "4   1            True  ...  ,,,,,,,,,,,,,,,,,,,,,,,,,,,,,,,,,,,,,    NaN\n",
              "\n",
              "[5 rows x 25 columns]"
            ]
          },
          "metadata": {
            "tags": []
          },
          "execution_count": 152
        }
      ]
    },
    {
      "cell_type": "code",
      "metadata": {
        "id": "jo2T4hESKe-k"
      },
      "source": [
        "test_d = pd.read_excel('/content/drive/MyDrive/LTFSDSFinHack3/Test/test_Data.xlsx')"
      ],
      "execution_count": 7,
      "outputs": []
    },
    {
      "cell_type": "code",
      "metadata": {
        "id": "yJlUKcxrTLFE"
      },
      "source": [
        ""
      ],
      "execution_count": 7,
      "outputs": []
    },
    {
      "cell_type": "code",
      "metadata": {
        "id": "ehOC9H5cKe-l"
      },
      "source": [
        "test_b = pd.read_excel('/content/drive/MyDrive/LTFSDSFinHack3/Test/test_bureau.xlsx')"
      ],
      "execution_count": 8,
      "outputs": []
    },
    {
      "cell_type": "code",
      "metadata": {
        "colab": {
          "base_uri": "https://localhost:8080/",
          "height": 377
        },
        "id": "ozjM_dHKTgk5",
        "outputId": "4fecbde7-0f18-4907-d4ac-eb6865c35ab6"
      },
      "source": [
        "test_b.head()"
      ],
      "execution_count": 153,
      "outputs": [
        {
          "output_type": "execute_result",
          "data": {
            "text/html": [
              "<div>\n",
              "<style scoped>\n",
              "    .dataframe tbody tr th:only-of-type {\n",
              "        vertical-align: middle;\n",
              "    }\n",
              "\n",
              "    .dataframe tbody tr th {\n",
              "        vertical-align: top;\n",
              "    }\n",
              "\n",
              "    .dataframe thead th {\n",
              "        text-align: right;\n",
              "    }\n",
              "</style>\n",
              "<table border=\"1\" class=\"dataframe\">\n",
              "  <thead>\n",
              "    <tr style=\"text-align: right;\">\n",
              "      <th></th>\n",
              "      <th>ID</th>\n",
              "      <th>SELF-INDICATOR</th>\n",
              "      <th>MATCH-TYPE</th>\n",
              "      <th>ACCT-TYPE</th>\n",
              "      <th>CONTRIBUTOR-TYPE</th>\n",
              "      <th>DATE-REPORTED</th>\n",
              "      <th>OWNERSHIP-IND</th>\n",
              "      <th>ACCOUNT-STATUS</th>\n",
              "      <th>DISBURSED-DT</th>\n",
              "      <th>CLOSE-DT</th>\n",
              "      <th>LAST-PAYMENT-DATE</th>\n",
              "      <th>CREDIT-LIMIT/SANC AMT</th>\n",
              "      <th>DISBURSED-AMT/HIGH CREDIT</th>\n",
              "      <th>INSTALLMENT-AMT</th>\n",
              "      <th>CURRENT-BAL</th>\n",
              "      <th>INSTALLMENT-FREQUENCY</th>\n",
              "      <th>OVERDUE-AMT</th>\n",
              "      <th>WRITE-OFF-AMT</th>\n",
              "      <th>ASSET_CLASS</th>\n",
              "      <th>REPORTED DATE - HIST</th>\n",
              "      <th>DPD - HIST</th>\n",
              "      <th>CUR BAL - HIST</th>\n",
              "      <th>AMT OVERDUE - HIST</th>\n",
              "      <th>AMT PAID - HIST</th>\n",
              "      <th>TENURE</th>\n",
              "    </tr>\n",
              "  </thead>\n",
              "  <tbody>\n",
              "    <tr>\n",
              "      <th>0</th>\n",
              "      <td>4</td>\n",
              "      <td>False</td>\n",
              "      <td>PRIMARY</td>\n",
              "      <td>Credit Card</td>\n",
              "      <td>CCC</td>\n",
              "      <td>2019-11-17</td>\n",
              "      <td>Individual</td>\n",
              "      <td>Active</td>\n",
              "      <td>2019-09-26</td>\n",
              "      <td>NaN</td>\n",
              "      <td>NaT</td>\n",
              "      <td>10,000</td>\n",
              "      <td>588</td>\n",
              "      <td>NaN</td>\n",
              "      <td>589</td>\n",
              "      <td>NaN</td>\n",
              "      <td>0</td>\n",
              "      <td>0.0</td>\n",
              "      <td>NaN</td>\n",
              "      <td>20191117,</td>\n",
              "      <td>000</td>\n",
              "      <td>589,</td>\n",
              "      <td>0,</td>\n",
              "      <td>0,</td>\n",
              "      <td>NaN</td>\n",
              "    </tr>\n",
              "    <tr>\n",
              "      <th>1</th>\n",
              "      <td>4</td>\n",
              "      <td>False</td>\n",
              "      <td>PRIMARY</td>\n",
              "      <td>Housing Loan</td>\n",
              "      <td>HFC</td>\n",
              "      <td>2019-10-31</td>\n",
              "      <td>Joint</td>\n",
              "      <td>Active</td>\n",
              "      <td>2017-06-21</td>\n",
              "      <td>NaN</td>\n",
              "      <td>2019-10-15</td>\n",
              "      <td>NaN</td>\n",
              "      <td>25,00,000</td>\n",
              "      <td>30,797/Monthly</td>\n",
              "      <td>21,07,227</td>\n",
              "      <td>F03</td>\n",
              "      <td>0</td>\n",
              "      <td>0.0</td>\n",
              "      <td>NaN</td>\n",
              "      <td>20191031,20190930,20190831,20190731,20190630,2...</td>\n",
              "      <td>0000000000000000000000000000000000000000000000...</td>\n",
              "      <td>2107227,2122196,2136877,2151448,2165910,218026...</td>\n",
              "      <td>0,0,0,0,0,0,0,0,0,0,0,0,0,0,0,0,0,0,0,0,0,0,0,...</td>\n",
              "      <td>,,,,,,,,,,,,,,,,,,,,,,,,,,,,,</td>\n",
              "      <td>120.0</td>\n",
              "    </tr>\n",
              "    <tr>\n",
              "      <th>2</th>\n",
              "      <td>4</td>\n",
              "      <td>False</td>\n",
              "      <td>PRIMARY</td>\n",
              "      <td>Property Loan</td>\n",
              "      <td>HFC</td>\n",
              "      <td>2019-10-31</td>\n",
              "      <td>Joint</td>\n",
              "      <td>Active</td>\n",
              "      <td>2017-06-27</td>\n",
              "      <td>NaN</td>\n",
              "      <td>2019-10-15</td>\n",
              "      <td>NaN</td>\n",
              "      <td>99,000</td>\n",
              "      <td>1,223/Monthly</td>\n",
              "      <td>83,458</td>\n",
              "      <td>F03</td>\n",
              "      <td>0</td>\n",
              "      <td>0.0</td>\n",
              "      <td>NaN</td>\n",
              "      <td>20191031,20190930,20190831,20190731,20190630,2...</td>\n",
              "      <td>0000000000000000000000000000000000000000000000...</td>\n",
              "      <td>83458,84051,84632,85209,85781,86349,86913,8747...</td>\n",
              "      <td>0,0,0,0,0,0,0,0,0,0,0,0,0,0,0,0,0,0,0,0,0,0,0,...</td>\n",
              "      <td>,,,,,,,,,,,,,,,,,,,,,,,,,,,,,</td>\n",
              "      <td>120.0</td>\n",
              "    </tr>\n",
              "    <tr>\n",
              "      <th>3</th>\n",
              "      <td>4</td>\n",
              "      <td>True</td>\n",
              "      <td>PRIMARY</td>\n",
              "      <td>Tractor Loan</td>\n",
              "      <td>NBF</td>\n",
              "      <td>2015-10-31</td>\n",
              "      <td>Individual</td>\n",
              "      <td>Closed</td>\n",
              "      <td>2011-12-29</td>\n",
              "      <td>2015-10-13 00:00:00</td>\n",
              "      <td>NaT</td>\n",
              "      <td>NaN</td>\n",
              "      <td>3,65,000</td>\n",
              "      <td>NaN</td>\n",
              "      <td>0</td>\n",
              "      <td>NaN</td>\n",
              "      <td>0</td>\n",
              "      <td>0.0</td>\n",
              "      <td>NaN</td>\n",
              "      <td>20151031,20150901,20150831,20150731,20150630,2...</td>\n",
              "      <td>000DDD0270000000000000000000000000000000000000...</td>\n",
              "      <td>0,,21548,32097,42500,52758,62874,72850,82688,9...</td>\n",
              "      <td>0,,11000,0,0,0,0,0,0,0,0,0,0,0,0,0,0,0,0,0,0,0...</td>\n",
              "      <td>,,,,,,,,,,,,,,,,,,,,,,,,,,,,,,,,,,,,,</td>\n",
              "      <td>NaN</td>\n",
              "    </tr>\n",
              "    <tr>\n",
              "      <th>4</th>\n",
              "      <td>5</td>\n",
              "      <td>False</td>\n",
              "      <td>PRIMARY</td>\n",
              "      <td>Gold Loan</td>\n",
              "      <td>PRB</td>\n",
              "      <td>2017-08-31</td>\n",
              "      <td>Individual</td>\n",
              "      <td>Closed</td>\n",
              "      <td>2016-05-04</td>\n",
              "      <td>2017-06-15 00:00:00</td>\n",
              "      <td>2017-06-15</td>\n",
              "      <td>NaN</td>\n",
              "      <td>25,801</td>\n",
              "      <td>NaN</td>\n",
              "      <td>0</td>\n",
              "      <td>NaN</td>\n",
              "      <td>0</td>\n",
              "      <td>0.0</td>\n",
              "      <td>NaN</td>\n",
              "      <td>20170630,20170501,20170401,20170331,20170201,2...</td>\n",
              "      <td>000DDDDDD000DDDDDD000DDDDDD000DDDDDD000</td>\n",
              "      <td>0,,,25846,,,25846,,,25846,,,25846,</td>\n",
              "      <td>0,,,0,,,0,,,0,,,0</td>\n",
              "      <td>,,,,,,,,,,,,,,</td>\n",
              "      <td>NaN</td>\n",
              "    </tr>\n",
              "  </tbody>\n",
              "</table>\n",
              "</div>"
            ],
            "text/plain": [
              "   ID  SELF-INDICATOR  ...                        AMT PAID - HIST TENURE\n",
              "0   4           False  ...                                     0,    NaN\n",
              "1   4           False  ...          ,,,,,,,,,,,,,,,,,,,,,,,,,,,,,  120.0\n",
              "2   4           False  ...          ,,,,,,,,,,,,,,,,,,,,,,,,,,,,,  120.0\n",
              "3   4            True  ...  ,,,,,,,,,,,,,,,,,,,,,,,,,,,,,,,,,,,,,    NaN\n",
              "4   5           False  ...                         ,,,,,,,,,,,,,,    NaN\n",
              "\n",
              "[5 rows x 25 columns]"
            ]
          },
          "metadata": {
            "tags": []
          },
          "execution_count": 153
        }
      ]
    },
    {
      "cell_type": "code",
      "metadata": {
        "id": "tvFpyPjwKe-l"
      },
      "source": [
        "train_bb = train_b.copy()"
      ],
      "execution_count": 154,
      "outputs": []
    },
    {
      "cell_type": "code",
      "metadata": {
        "id": "wfyNbMkeKe-m"
      },
      "source": [
        "test_bb = test_b.copy()"
      ],
      "execution_count": 155,
      "outputs": []
    },
    {
      "cell_type": "code",
      "metadata": {
        "id": "deS98dYBKe-n"
      },
      "source": [
        "# Data Treatment:\n",
        "#     -categorical vars"
      ],
      "execution_count": 156,
      "outputs": []
    },
    {
      "cell_type": "code",
      "metadata": {
        "id": "vMpmrn9dKe-n"
      },
      "source": [
        "# id -dont do it\n",
        "# self indiactor -nochange\n",
        "# match type- not req\n",
        "# acct type -required 3 columns chosen for remaning crosstab then combine cols\n",
        "    \n",
        " #contributor type ARC is not ptesent in test so crosstab and then delete arc   \n",
        "# ownership indicator no rpoblem\n",
        "# account status not present in test Sold/Purchased ,Cancelled cross tab then delete                            \n",
        "# credit limit CREDIT-LIMIT/SANC AMT  DISBURSED-AMT/HIGH CREDIT kbindiscretization\n",
        "# installment not present in test data F04 F07  F08 crosstab then delete it\n",
        "# asset class 2 not ptresent in test crosstab and remove it"
      ],
      "execution_count": 157,
      "outputs": []
    },
    {
      "cell_type": "code",
      "metadata": {
        "colab": {
          "base_uri": "https://localhost:8080/"
        },
        "id": "DI1glhuESvJv",
        "outputId": "a3cfd49c-4d1f-4e7c-874d-2240aa7dab7c"
      },
      "source": [
        "train_b.ID"
      ],
      "execution_count": 158,
      "outputs": [
        {
          "output_type": "execute_result",
          "data": {
            "text/plain": [
              "0              1\n",
              "1              1\n",
              "2              1\n",
              "3              1\n",
              "4              1\n",
              "           ...  \n",
              "560839    143393\n",
              "560840    143393\n",
              "560841    143393\n",
              "560842    143394\n",
              "560843    143395\n",
              "Name: ID, Length: 560844, dtype: int64"
            ]
          },
          "metadata": {
            "tags": []
          },
          "execution_count": 158
        }
      ]
    },
    {
      "cell_type": "code",
      "metadata": {
        "id": "4Bxb30sUKe-p"
      },
      "source": [
        "train_SELF_INDICATOR=pd.crosstab(train_b.ID,train_b['SELF-INDICATOR'],dropna= True).reset_index()\n",
        "test_SELF_INDICATOR=pd.crosstab(test_b.ID,test_b['SELF-INDICATOR'],dropna= True).reset_index()"
      ],
      "execution_count": 159,
      "outputs": []
    },
    {
      "cell_type": "code",
      "metadata": {
        "id": "QoIApJX5Ke-p"
      },
      "source": [
        "train_MATCH_TYPE=pd.crosstab(train_b.ID,train_b['MATCH-TYPE'],dropna= True).reset_index()\n",
        "test_MATCH_TYPE=pd.crosstab(test_b.ID,test_b['MATCH-TYPE'],dropna= True).reset_index()"
      ],
      "execution_count": 160,
      "outputs": []
    },
    {
      "cell_type": "code",
      "metadata": {
        "id": "7CMmOx4jKe-p",
        "colab": {
          "base_uri": "https://localhost:8080/"
        },
        "outputId": "a975bd6e-49a8-4fdc-ca0b-d183fc29897c"
      },
      "source": [
        "x = set(train_bb['ACCT-TYPE'].unique())  \n",
        "y = set(test_bb['ACCT-TYPE'].unique()) \n",
        "common = x.intersection(y)\n",
        "print(list(common)) #now decide cols to keep "
      ],
      "execution_count": 161,
      "outputs": [
        {
          "output_type": "stream",
          "text": [
            "['Microfinance Business Loan', 'Education Loan', 'Credit Card', 'Housing Loan', 'Commercial Vehicle Loan', 'Loan Against Shares / Securities', 'Commercial Equipment Loan', 'Mudra Loans   Shishu / Kishor / Tarun', 'SHG Individual', 'Business Loan Priority Sector  Others', 'Non-Funded Credit Facility', 'Construction Equipment Loan', 'Property Loan', 'Gold Loan', 'Microfinance Personal Loan', 'Overdraft', 'Microfinance Others', 'Individual', 'Corporate Credit Card', 'Loan to Professional', 'Used Car Loan', 'Fleet Card', 'Kisan Credit Card', 'Pradhan Mantri Awas Yojana - CLSS', 'Auto Loan (Personal)', 'Business Loan General', 'Loan Against Bank Deposits', 'Business Loan Against Bank Deposits', 'Business Non-Funded Credit Facility-Priority Sector-Agriculture', 'Business Non-Funded Credit Facility-Priority Sector- Small Business', 'Personal Loan', 'Consumer Loan', 'Two-Wheeler Loan', 'Business Loan Priority Sector  Agriculture', 'Secured Credit Card', 'Prime Minister Jaan Dhan Yojana - Overdraft', 'Other', 'Microfinance Housing Loan', 'Business Loan Unsecured', 'Business Loan - Secured', 'JLG Individual', 'Business Loan Priority Sector  Small Business', 'Business Non-Funded Credit Facility General', 'Tractor Loan']\n"
          ],
          "name": "stdout"
        }
      ]
    },
    {
      "cell_type": "code",
      "metadata": {
        "id": "wAAakmzvKe-q"
      },
      "source": [
        "train_ACCT_TYPE=pd.crosstab(train_b.ID,train_b['ACCT-TYPE'],dropna= True).reset_index()\n",
        "test_ACCT_TYPE=pd.crosstab(test_b.ID,test_b['ACCT-TYPE'],dropna= True).reset_index()\n",
        "\n",
        "cols_to_keep =['Tractor Loan','Gold Loan','Business Loan Priority Sector  Agriculture']\n",
        "\n",
        "train_ACCT_TYPE[\"Others\"] = pd.DataFrame(train_ACCT_TYPE.drop(columns=cols_to_keep).sum(axis=1))\n",
        "test_ACCT_TYPE[\"Others\"] = pd.DataFrame(test_ACCT_TYPE.drop(columns=cols_to_keep).sum(axis=1))\n",
        "filter_cols =cols_to_keep + ['Others','ID'] \n",
        "train_ACCT_TYPE = train_ACCT_TYPE.filter(filter_cols)\n",
        "test_ACCT_TYPE = test_ACCT_TYPE.filter(filter_cols)"
      ],
      "execution_count": 162,
      "outputs": []
    },
    {
      "cell_type": "code",
      "metadata": {
        "id": "Sh67auIEKe-r"
      },
      "source": [
        "train_CONTRIBUTOR_TYPE=pd.crosstab(train_b.ID,train_b['CONTRIBUTOR-TYPE'],dropna= True).drop(columns = ['ARC']).reset_index()\n",
        "test_CONTRIBUTOR_TYPE=pd.crosstab(test_b.ID,test_b['CONTRIBUTOR-TYPE'],dropna= True).reset_index()\n"
      ],
      "execution_count": 163,
      "outputs": []
    },
    {
      "cell_type": "code",
      "metadata": {
        "id": "gNzNgU45Ke-r"
      },
      "source": [
        "train_OWNERSHIP_IND=pd.crosstab(train_b.ID,train_b['OWNERSHIP-IND'],dropna= True).reset_index()\n",
        "test_OWNERSHIP_IND=pd.crosstab(test_b.ID,test_b['OWNERSHIP-IND'],dropna= True).reset_index()\n"
      ],
      "execution_count": 164,
      "outputs": []
    },
    {
      "cell_type": "code",
      "metadata": {
        "id": "yU0l8ivWKe-r"
      },
      "source": [
        "train_ACCOUNT_STATUS=pd.crosstab(train_b.ID,train_b['ACCOUNT-STATUS'],dropna= True).drop(columns=['Sold/Purchased','Cancelled']).reset_index()\n",
        "test_ACCOUNT_STATUS=pd.crosstab(test_b.ID,test_b['ACCOUNT-STATUS'],dropna= True).reset_index()\n"
      ],
      "execution_count": 165,
      "outputs": []
    },
    {
      "cell_type": "code",
      "metadata": {
        "id": "ppRjO7M5Ke-s"
      },
      "source": [
        "train_INSTALLMENT_FREQUENCY=pd.crosstab(train_b.ID,train_b['INSTALLMENT-FREQUENCY'],dropna= True).drop(columns=['F04','F07','F08']).reset_index()\n",
        "test_INSTALLMENT_FREQUENCY=pd.crosstab(test_b.ID,test_b['INSTALLMENT-FREQUENCY'],dropna= True).reset_index()"
      ],
      "execution_count": 166,
      "outputs": []
    },
    {
      "cell_type": "code",
      "metadata": {
        "id": "pgF2Vch6Ke-s"
      },
      "source": [
        "train_ASSET_CLASS=pd.crosstab(train_b.ID,train_b['ASSET_CLASS'],dropna= True).drop(columns=['2']).reset_index()\n",
        "test_ASSET_CLASS=pd.crosstab(test_b.ID,test_b['ASSET_CLASS'],dropna= True).reset_index()"
      ],
      "execution_count": 167,
      "outputs": []
    },
    {
      "cell_type": "code",
      "metadata": {
        "id": "1teJ7t4RKe-t"
      },
      "source": [
        "def onehotencoder(train,test,cols=[]):\n",
        "    \n",
        "    from sklearn.preprocessing import OneHotEncoder\n",
        "    #object_cols = catVar1(train) #catVar1 gives desired categorical column and not all object columns\n",
        "    object_cols=cols\n",
        "    print(object_cols)\n",
        "    \n",
        "    OH_encoder = OneHotEncoder(handle_unknown='ignore', sparse=False)\n",
        "    OH_cols_train = pd.DataFrame(OH_encoder.fit_transform(train[object_cols]))\n",
        "    OH_cols_test = pd.DataFrame(OH_encoder.transform(test[object_cols]))\n",
        "\n",
        "    # One-hot encoding removed index; put it back\n",
        "    OH_cols_train.index = train.index\n",
        "    OH_cols_test.index = test.index\n",
        "\n",
        "    ##hack for restoring columns names just like get dummies\n",
        "    column_name = OH_encoder.get_feature_names(object_cols)\n",
        "    OH_cols_train.columns = column_name\n",
        "    OH_cols_test.columns = column_name\n",
        "    \n",
        "\n",
        "    # Remove desired categorical columns (will replace with one-hot encoding)\n",
        "    num_train = train.drop(object_cols, axis=1)\n",
        "    num_test = test.drop(object_cols, axis=1)\n",
        "\n",
        "    # Add one-hot encoded columns to numerical/remaining features\n",
        "    OH_train = pd.concat([num_train, OH_cols_train], axis=1)\n",
        "    OH_test = pd.concat([num_test, OH_cols_test], axis=1)\n",
        "    \n",
        "\n",
        "    \n",
        "    print(OH_train.shape,OH_test.shape)\n",
        "    \n",
        "    \n",
        "    return OH_train,OH_test\n",
        "\n",
        "def targetencoding(train,test,y_train,drop=False,cols=[]):\n",
        "    import category_encoders as ce\n",
        "    # Create the encoder itself\n",
        "    cat_features = cols\n",
        "    print(f'targest emcoding for features {cat_features}')\n",
        "    target_enc = ce.TargetEncoder(cols=cat_features)\n",
        "\n",
        "    \n",
        "\n",
        "    # Fit the encoder using the categorical features and target\n",
        "    target_enc.fit(train[cat_features], y_train)\n",
        "    \n",
        "\n",
        "    # Transform the features, rename the columns with _target suffix, and join to dataframe\n",
        "    traintrgtenc = train.join(target_enc.transform(train[cat_features]).add_suffix('_target'))\n",
        "    testtrgtenc = test.join(target_enc.transform(test[cat_features]).add_suffix('_target'))\n",
        "\n",
        "    if drop :\n",
        "        traintrgtenc = traintrgtenc.drop(cat_features, axis =1)\n",
        "        testtrgtenc = testtrgtenc.drop(cat_features, axis =1)\n",
        "\n",
        "    \n",
        "    print(traintrgtenc.shape,testtrgtenc.shape)\n",
        "    \n",
        "    return traintrgtenc,testtrgtenc\n",
        "\n",
        "\n",
        "def ordinalencoding(train,test,y_train,mapping,drop=False,cols=[]):\n",
        "    import category_encoders as ce\n",
        "    # Create the encoder itself\n",
        "    cat_features = cols\n",
        "    print(f'ordinal encoding for features {cat_features}')\n",
        "    target_enc = ce.OrdinalEncoder(cols=cat_features,mapping = mapping)\n",
        "\n",
        "    \n",
        "\n",
        "    # Fit the encoder using the categorical features and target\n",
        "    target_enc.fit(train[cat_features], y_train)\n",
        "    \n",
        "\n",
        "    # Transform the features, rename the columns with _target suffix, and join to dataframe\n",
        "    traintrgtenc = train.join(target_enc.transform(train[cat_features]).add_suffix('_ordinal'))\n",
        "    testtrgtenc = test.join(target_enc.transform(test[cat_features]).add_suffix('_ordinal'))\n",
        "\n",
        "    if drop :\n",
        "        traintrgtenc = traintrgtenc.drop(cat_features, axis =1)\n",
        "        testtrgtenc = testtrgtenc.drop(cat_features, axis =1)\n",
        "\n",
        "    \n",
        "    print(traintrgtenc.shape,testtrgtenc.shape)\n",
        "    \n",
        "    return traintrgtenc,testtrgtenc"
      ],
      "execution_count": 168,
      "outputs": []
    },
    {
      "cell_type": "code",
      "metadata": {
        "id": "LaqkZpKTKe-t"
      },
      "source": [
        "train_bb['DISBURSED-AMT/HIGH CREDIT'] = train_b['DISBURSED-AMT/HIGH CREDIT'].str.replace(',', '').astype('float')\n",
        "test_bb['DISBURSED-AMT/HIGH CREDIT'] = test_b['DISBURSED-AMT/HIGH CREDIT'].str.replace(',', '').astype('float')"
      ],
      "execution_count": 169,
      "outputs": []
    },
    {
      "cell_type": "code",
      "metadata": {
        "id": "PEXzwbLKKe-u"
      },
      "source": [
        "train_bb['CURRENT-BAL'] = train_b['CURRENT-BAL'].fillna(0)\n",
        "test_bb['CURRENT-BAL'] = test_b['CURRENT-BAL'].fillna(0)\n",
        "train_bb['CURRENT-BAL'] = train_b['CURRENT-BAL'].str.replace(',', '').astype('float')\n",
        "test_bb['CURRENT-BAL'] = test_b['CURRENT-BAL'].str.replace(',', '').astype('float')"
      ],
      "execution_count": 170,
      "outputs": []
    },
    {
      "cell_type": "code",
      "metadata": {
        "id": "xWQx0YMiKe-u"
      },
      "source": [
        "\n",
        "train_CURRENT = train_bb[['CURRENT-BAL','ID']].dropna()\n",
        "test_CURRENT = test_bb[['CURRENT-BAL','ID']].dropna()\n",
        "\n",
        "enc = KBinsDiscretizer(n_bins=4, encode='ordinal', strategy='kmeans')\n",
        "enc.fit(train_bb['CURRENT-BAL'].dropna().values.reshape(-1,1))\n",
        "\n",
        "train_CURRENT['CURRENT-BAL'] = enc.transform(train_CURRENT['CURRENT-BAL'].values.reshape(-1,1))\n",
        "test_CURRENT['CURRENT-BAL']= enc.transform(test_CURRENT['CURRENT-BAL'].values.reshape(-1,1))"
      ],
      "execution_count": 171,
      "outputs": []
    },
    {
      "cell_type": "code",
      "metadata": {
        "id": "c7Pg3gYgKe-v"
      },
      "source": [
        "train_CURRENT=pd.crosstab(train_CURRENT.ID,train_CURRENT['CURRENT-BAL'],dropna= True).reset_index()\n",
        "test_CURRENT=pd.crosstab(test_CURRENT.ID,test_CURRENT['CURRENT-BAL'],dropna= True).reset_index()\n",
        "test_CURRENT['3.0']=0"
      ],
      "execution_count": 172,
      "outputs": []
    },
    {
      "cell_type": "code",
      "metadata": {
        "id": "YDh9-VGQKe-v"
      },
      "source": [
        "\n",
        "train_DISBURSED = train_bb[['DISBURSED-AMT/HIGH CREDIT','ID']].dropna()\n",
        "test_DISBURSED = test_bb[['DISBURSED-AMT/HIGH CREDIT','ID']].dropna()\n",
        "\n",
        "enc = KBinsDiscretizer(n_bins=4, encode='ordinal', strategy='kmeans')\n",
        "enc.fit(train_bb['DISBURSED-AMT/HIGH CREDIT'].dropna().values.reshape(-1,1))\n",
        "\n",
        "train_DISBURSED['DISBURSED-AMT/HIGH CREDIT'] = enc.transform(train_DISBURSED['DISBURSED-AMT/HIGH CREDIT'].values.reshape(-1,1))\n",
        "test_DISBURSED['DISBURSED-AMT/HIGH CREDIT']= enc.transform(test_DISBURSED['DISBURSED-AMT/HIGH CREDIT'].values.reshape(-1,1))"
      ],
      "execution_count": 173,
      "outputs": []
    },
    {
      "cell_type": "code",
      "metadata": {
        "id": "kUohhpDgKe-w"
      },
      "source": [
        "train_DISBURSED=pd.crosstab(train_DISBURSED.ID,train_DISBURSED['DISBURSED-AMT/HIGH CREDIT'],dropna= True).reset_index()\n",
        "test_DISBURSED=pd.crosstab(test_DISBURSED.ID,test_DISBURSED['DISBURSED-AMT/HIGH CREDIT'],dropna= True).reset_index()\n",
        "test_DISBURSED['2.0']=0"
      ],
      "execution_count": 174,
      "outputs": []
    },
    {
      "cell_type": "code",
      "metadata": {
        "id": "HeA0qp7bKe-x"
      },
      "source": [
        "# #discretisation baes on clusters\n",
        "\n",
        "# train_tenure = train_bb[['TENURE','ID']].dropna()\n",
        "# test_tenure = test_bb[['TENURE','ID']].dropna()\n",
        "\n",
        "# enc = KBinsDiscretizer(n_bins=4, encode='ordinal', strategy='kmeans')\n",
        "# enc.fit(train_bb['TENURE'].dropna().values.reshape(-1,1))\n",
        "\n",
        "# train_tenure['TENURE'] = enc.transform(train_tenure['TENURE'].values.reshape(-1,1))\n",
        "# test_tenure['TENURE']= enc.transform(test_tenure['TENURE'].values.reshape(-1,1))"
      ],
      "execution_count": 175,
      "outputs": []
    },
    {
      "cell_type": "code",
      "metadata": {
        "id": "fbQ4TLNMKe-x"
      },
      "source": [
        "# train_tenure=pd.crosstab(train_tenure.ID,train_tenure['TENURE'],dropna= True).reset_index()\n",
        "# test_tenure=pd.crosstab(test_tenure.ID,test_tenure['TENURE'],dropna= True).reset_index()\n"
      ],
      "execution_count": 176,
      "outputs": []
    },
    {
      "cell_type": "code",
      "metadata": {
        "id": "tNcQc5_qUiBK"
      },
      "source": [
        "# train_SELF_INDICATOR\r\n",
        "# train_INSTALLMENT_FREQUENCY\r\n",
        "# train_ACCOUNT_STATUS\r\n",
        "# train_OWNERSHIP_IND\r\n",
        "# train_CONTRIBUTOR_TYPE\r\n",
        "# train_ACCT_TYPE"
      ],
      "execution_count": 177,
      "outputs": []
    },
    {
      "cell_type": "code",
      "metadata": {
        "id": "PzhwHb01Ke-y"
      },
      "source": [
        "dataframes = [train_b.ID,train_SELF_INDICATOR,train_INSTALLMENT_FREQUENCY,train_ACCOUNT_STATUS,train_OWNERSHIP_IND,\n",
        "              train_CONTRIBUTOR_TYPE,train_ACCT_TYPE,train_MATCH_TYPE,train_ASSET_CLASS,train_CURRENT,train_DISBURSED]\n",
        "final_df_train_beauro = reduce(lambda left, right: pd.merge(left, right, on='ID', how='left'), dataframes)\n",
        "\n",
        "final_df_train_beauro = final_df_train_beauro.fillna(0)"
      ],
      "execution_count": 178,
      "outputs": []
    },
    {
      "cell_type": "code",
      "metadata": {
        "id": "Avyb_HHKKe-z"
      },
      "source": [
        "dataframes = [test_b.ID,test_SELF_INDICATOR,test_INSTALLMENT_FREQUENCY,test_ACCOUNT_STATUS,test_OWNERSHIP_IND,\n",
        "              test_CONTRIBUTOR_TYPE,test_ACCT_TYPE,test_MATCH_TYPE,test_ASSET_CLASS,test_CURRENT,test_DISBURSED]\n",
        "final_df_test_beauro = reduce(lambda left, right: pd.merge(left, right, on='ID', how='left'), dataframes)\n",
        "final_df_test_beauro = final_df_test_beauro.fillna(0)"
      ],
      "execution_count": 179,
      "outputs": []
    },
    {
      "cell_type": "code",
      "metadata": {
        "id": "HXIOeJ3VKe-z"
      },
      "source": [
        "###### now train data "
      ],
      "execution_count": 180,
      "outputs": []
    },
    {
      "cell_type": "code",
      "metadata": {
        "id": "AffnBjLvKe-0"
      },
      "source": [
        "train_dd = train_d.copy()\n",
        "test_dd = test_d.copy()"
      ],
      "execution_count": 181,
      "outputs": []
    },
    {
      "cell_type": "code",
      "metadata": {
        "id": "1F4mQ7-wKe-0",
        "colab": {
          "base_uri": "https://localhost:8080/",
          "height": 343
        },
        "outputId": "4d39bc78-10b0-4427-cb34-1655631e8182"
      },
      "source": [
        "train_dd.head()"
      ],
      "execution_count": 182,
      "outputs": [
        {
          "output_type": "execute_result",
          "data": {
            "text/html": [
              "<div>\n",
              "<style scoped>\n",
              "    .dataframe tbody tr th:only-of-type {\n",
              "        vertical-align: middle;\n",
              "    }\n",
              "\n",
              "    .dataframe tbody tr th {\n",
              "        vertical-align: top;\n",
              "    }\n",
              "\n",
              "    .dataframe thead th {\n",
              "        text-align: right;\n",
              "    }\n",
              "</style>\n",
              "<table border=\"1\" class=\"dataframe\">\n",
              "  <thead>\n",
              "    <tr style=\"text-align: right;\">\n",
              "      <th></th>\n",
              "      <th>ID</th>\n",
              "      <th>Frequency</th>\n",
              "      <th>InstlmentMode</th>\n",
              "      <th>LoanStatus</th>\n",
              "      <th>PaymentMode</th>\n",
              "      <th>BranchID</th>\n",
              "      <th>Area</th>\n",
              "      <th>Tenure</th>\n",
              "      <th>AssetCost</th>\n",
              "      <th>AmountFinance</th>\n",
              "      <th>DisbursalAmount</th>\n",
              "      <th>EMI</th>\n",
              "      <th>DisbursalDate</th>\n",
              "      <th>MaturityDAte</th>\n",
              "      <th>AuthDate</th>\n",
              "      <th>AssetID</th>\n",
              "      <th>ManufacturerID</th>\n",
              "      <th>SupplierID</th>\n",
              "      <th>LTV</th>\n",
              "      <th>SEX</th>\n",
              "      <th>AGE</th>\n",
              "      <th>MonthlyIncome</th>\n",
              "      <th>City</th>\n",
              "      <th>State</th>\n",
              "      <th>ZiPCODE</th>\n",
              "      <th>Top-up Month</th>\n",
              "    </tr>\n",
              "  </thead>\n",
              "  <tbody>\n",
              "    <tr>\n",
              "      <th>0</th>\n",
              "      <td>1</td>\n",
              "      <td>Monthly</td>\n",
              "      <td>Arrear</td>\n",
              "      <td>Closed</td>\n",
              "      <td>PDC_E</td>\n",
              "      <td>1</td>\n",
              "      <td>NaN</td>\n",
              "      <td>48</td>\n",
              "      <td>450000</td>\n",
              "      <td>275000.0</td>\n",
              "      <td>275000.0</td>\n",
              "      <td>24000.0</td>\n",
              "      <td>2012-02-10</td>\n",
              "      <td>2016-01-15</td>\n",
              "      <td>2012-02-10</td>\n",
              "      <td>4022465</td>\n",
              "      <td>1568</td>\n",
              "      <td>21946</td>\n",
              "      <td>61.11</td>\n",
              "      <td>M</td>\n",
              "      <td>49.0</td>\n",
              "      <td>35833.33</td>\n",
              "      <td>RAISEN</td>\n",
              "      <td>MADHYA PRADESH</td>\n",
              "      <td>464993.0</td>\n",
              "      <td>&gt; 48 Months</td>\n",
              "    </tr>\n",
              "    <tr>\n",
              "      <th>1</th>\n",
              "      <td>2</td>\n",
              "      <td>Monthly</td>\n",
              "      <td>Advance</td>\n",
              "      <td>Closed</td>\n",
              "      <td>PDC</td>\n",
              "      <td>333</td>\n",
              "      <td>BHOPAL</td>\n",
              "      <td>47</td>\n",
              "      <td>485000</td>\n",
              "      <td>350000.0</td>\n",
              "      <td>350000.0</td>\n",
              "      <td>10500.0</td>\n",
              "      <td>2012-03-31</td>\n",
              "      <td>2016-02-15</td>\n",
              "      <td>2012-03-31</td>\n",
              "      <td>4681175</td>\n",
              "      <td>1062</td>\n",
              "      <td>34802</td>\n",
              "      <td>70.00</td>\n",
              "      <td>M</td>\n",
              "      <td>23.0</td>\n",
              "      <td>666.67</td>\n",
              "      <td>SEHORE</td>\n",
              "      <td>MADHYA PRADESH</td>\n",
              "      <td>466001.0</td>\n",
              "      <td>No Top-up Service</td>\n",
              "    </tr>\n",
              "    <tr>\n",
              "      <th>2</th>\n",
              "      <td>3</td>\n",
              "      <td>Quatrly</td>\n",
              "      <td>Arrear</td>\n",
              "      <td>Active</td>\n",
              "      <td>Direct Debit</td>\n",
              "      <td>1</td>\n",
              "      <td>NaN</td>\n",
              "      <td>68</td>\n",
              "      <td>690000</td>\n",
              "      <td>519728.0</td>\n",
              "      <td>519728.0</td>\n",
              "      <td>38300.0</td>\n",
              "      <td>2017-06-17</td>\n",
              "      <td>2023-02-10</td>\n",
              "      <td>2017-06-17</td>\n",
              "      <td>25328146</td>\n",
              "      <td>1060</td>\n",
              "      <td>127335</td>\n",
              "      <td>69.77</td>\n",
              "      <td>M</td>\n",
              "      <td>39.0</td>\n",
              "      <td>45257.00</td>\n",
              "      <td>BHOPAL</td>\n",
              "      <td>MADHYA PRADESH</td>\n",
              "      <td>462030.0</td>\n",
              "      <td>12-18 Months</td>\n",
              "    </tr>\n",
              "    <tr>\n",
              "      <th>3</th>\n",
              "      <td>7</td>\n",
              "      <td>Monthly</td>\n",
              "      <td>Advance</td>\n",
              "      <td>Closed</td>\n",
              "      <td>Billed</td>\n",
              "      <td>125</td>\n",
              "      <td>GUNA</td>\n",
              "      <td>48</td>\n",
              "      <td>480000</td>\n",
              "      <td>400000.0</td>\n",
              "      <td>400000.0</td>\n",
              "      <td>11600.0</td>\n",
              "      <td>2013-11-29</td>\n",
              "      <td>2017-11-10</td>\n",
              "      <td>2013-11-29</td>\n",
              "      <td>13021591</td>\n",
              "      <td>1060</td>\n",
              "      <td>25094</td>\n",
              "      <td>80.92</td>\n",
              "      <td>M</td>\n",
              "      <td>24.0</td>\n",
              "      <td>20833.33</td>\n",
              "      <td>ASHOK NAGAR</td>\n",
              "      <td>MADHYA PRADESH</td>\n",
              "      <td>473335.0</td>\n",
              "      <td>&gt; 48 Months</td>\n",
              "    </tr>\n",
              "    <tr>\n",
              "      <th>4</th>\n",
              "      <td>8</td>\n",
              "      <td>Monthly</td>\n",
              "      <td>Arrear</td>\n",
              "      <td>Closed</td>\n",
              "      <td>Billed</td>\n",
              "      <td>152</td>\n",
              "      <td>BILASPUR</td>\n",
              "      <td>44</td>\n",
              "      <td>619265</td>\n",
              "      <td>440000.0</td>\n",
              "      <td>440000.0</td>\n",
              "      <td>15000.0</td>\n",
              "      <td>2011-12-08</td>\n",
              "      <td>2015-07-05</td>\n",
              "      <td>2011-12-08</td>\n",
              "      <td>3291320</td>\n",
              "      <td>1046</td>\n",
              "      <td>21853</td>\n",
              "      <td>71.05</td>\n",
              "      <td>M</td>\n",
              "      <td>56.0</td>\n",
              "      <td>27313.67</td>\n",
              "      <td>BILASPUR</td>\n",
              "      <td>CHATTISGARH</td>\n",
              "      <td>495442.0</td>\n",
              "      <td>36-48 Months</td>\n",
              "    </tr>\n",
              "  </tbody>\n",
              "</table>\n",
              "</div>"
            ],
            "text/plain": [
              "   ID Frequency InstlmentMode  ...           State   ZiPCODE       Top-up Month\n",
              "0   1   Monthly        Arrear  ...  MADHYA PRADESH  464993.0        > 48 Months\n",
              "1   2   Monthly       Advance  ...  MADHYA PRADESH  466001.0  No Top-up Service\n",
              "2   3   Quatrly        Arrear  ...  MADHYA PRADESH  462030.0       12-18 Months\n",
              "3   7   Monthly       Advance  ...  MADHYA PRADESH  473335.0        > 48 Months\n",
              "4   8   Monthly        Arrear  ...     CHATTISGARH  495442.0       36-48 Months\n",
              "\n",
              "[5 rows x 26 columns]"
            ]
          },
          "metadata": {
            "tags": []
          },
          "execution_count": 182
        }
      ]
    },
    {
      "cell_type": "code",
      "metadata": {
        "id": "GE8xZ2ssKe-1"
      },
      "source": [
        "train_dd['SEX'] = train_dd['SEX'].fillna(train_dd['SEX'].mode()[0])\n",
        "test_dd['SEX'] = test_dd['SEX'].fillna(test_dd['SEX'].mode()[0])\n",
        "\n",
        "train_dd['AGE'] = train_dd['AGE'].fillna(train_dd['AGE'].mode()[0])\n",
        "test_dd['AGE'] = test_dd['AGE'].fillna(test_dd['AGE'].mode()[0])\n",
        "\n",
        "train_dd['MonthlyIncome'] = train_dd['MonthlyIncome'].fillna(train_dd['MonthlyIncome'].mode()[0])\n",
        "test_dd['MonthlyIncome'] = test_dd['MonthlyIncome'].fillna(test_dd['MonthlyIncome'].mode()[0])\n",
        "\n",
        "train_dd['ZiPCODE']  =train_dd['ZiPCODE'].fillna(method = 'ffill').astype('int') \n",
        "test_dd['ZiPCODE']  =test_dd['ZiPCODE'].fillna(method = 'ffill').astype('int') \n",
        "\n",
        "\n",
        "train_dd =train_dd.fillna(method ='ffill') \n",
        "test_dd =test_dd.fillna(method = 'ffill') "
      ],
      "execution_count": 183,
      "outputs": []
    },
    {
      "cell_type": "code",
      "metadata": {
        "id": "7qyyI0u6Ke-1"
      },
      "source": [
        "train_dd['AuthDate'] = pd.to_datetime(train_d['AuthDate'] ,errors='coerce')\n",
        "test_dd['AuthDate'] = pd.to_datetime(test_d['AuthDate'] ,errors='coerce')\n",
        "\n",
        "train_dd['DisbursalDate'] = pd.to_datetime(train_d['DisbursalDate'] ,errors='coerce')\n",
        "test_dd['DisbursalDate'] = pd.to_datetime(test_d['DisbursalDate'] ,errors='coerce')\n",
        "\n",
        "train_dd['MaturityDAte'] = pd.to_datetime(train_d['MaturityDAte'] ,errors='coerce')\n",
        "test_dd['MaturityDAte'] = pd.to_datetime(test_d['MaturityDAte'] ,errors='coerce')\n",
        "\n",
        "train_dd = train_d.dropna()\n",
        "#test_dd['MaturityDAte'] = test_d['MaturityDAte'].fillna(method='ffill')"
      ],
      "execution_count": 184,
      "outputs": []
    },
    {
      "cell_type": "code",
      "metadata": {
        "id": "3h_GDgrNKe-2"
      },
      "source": [
        "train_dd['AuthtoMatureDays'] = (train_dd['AuthDate'] - train_dd['MaturityDAte']).astype('int')\n",
        "test_dd['AuthtoMatureDays'] = (test_dd['AuthDate'] - test_dd['MaturityDAte']).astype('int')\n",
        "\n",
        "train_dd['AuthtoDisDays'] = (train_dd['AuthDate'] - train_dd['DisbursalDate']).astype('int')\n",
        "test_dd['AuthtoDisDays'] = (test_dd['AuthDate'] - test_dd['DisbursalDate']).astype('int')"
      ],
      "execution_count": 185,
      "outputs": []
    },
    {
      "cell_type": "code",
      "metadata": {
        "colab": {
          "base_uri": "https://localhost:8080/"
        },
        "id": "IcICZSOgEAJL",
        "outputId": "37599f80-f892-4444-a2b2-d685dcbb89ae"
      },
      "source": [
        "train_dd.info()"
      ],
      "execution_count": 186,
      "outputs": [
        {
          "output_type": "stream",
          "text": [
            "<class 'pandas.core.frame.DataFrame'>\n",
            "Int64Index: 107126 entries, 1 to 128654\n",
            "Data columns (total 28 columns):\n",
            " #   Column            Non-Null Count   Dtype         \n",
            "---  ------            --------------   -----         \n",
            " 0   ID                107126 non-null  int64         \n",
            " 1   Frequency         107126 non-null  object        \n",
            " 2   InstlmentMode     107126 non-null  object        \n",
            " 3   LoanStatus        107126 non-null  object        \n",
            " 4   PaymentMode       107126 non-null  object        \n",
            " 5   BranchID          107126 non-null  int64         \n",
            " 6   Area              107126 non-null  object        \n",
            " 7   Tenure            107126 non-null  int64         \n",
            " 8   AssetCost         107126 non-null  int64         \n",
            " 9   AmountFinance     107126 non-null  float64       \n",
            " 10  DisbursalAmount   107126 non-null  float64       \n",
            " 11  EMI               107126 non-null  float64       \n",
            " 12  DisbursalDate     107126 non-null  datetime64[ns]\n",
            " 13  MaturityDAte      107126 non-null  datetime64[ns]\n",
            " 14  AuthDate          107126 non-null  datetime64[ns]\n",
            " 15  AssetID           107126 non-null  int64         \n",
            " 16  ManufacturerID    107126 non-null  int64         \n",
            " 17  SupplierID        107126 non-null  int64         \n",
            " 18  LTV               107126 non-null  float64       \n",
            " 19  SEX               107126 non-null  object        \n",
            " 20  AGE               107126 non-null  float64       \n",
            " 21  MonthlyIncome     107126 non-null  float64       \n",
            " 22  City              107126 non-null  object        \n",
            " 23  State             107126 non-null  object        \n",
            " 24  ZiPCODE           107126 non-null  float64       \n",
            " 25  Top-up Month      107126 non-null  object        \n",
            " 26  AuthtoMatureDays  107126 non-null  int64         \n",
            " 27  AuthtoDisDays     107126 non-null  int64         \n",
            "dtypes: datetime64[ns](3), float64(7), int64(9), object(9)\n",
            "memory usage: 23.7+ MB\n"
          ],
          "name": "stdout"
        }
      ]
    },
    {
      "cell_type": "code",
      "metadata": {
        "id": "RVh0yg5TKe-2"
      },
      "source": [
        "train_dd['AuthYear'] = train_dd['AuthDate'].dt.year\n",
        "test_dd['AuthtYear'] = test_dd['AuthDate'].dt.year \n",
        "train_dd['AuthMonth'] = train_dd['AuthDate'].dt.month \n",
        "test_dd['AuthtMonth'] = test_dd['AuthDate'].dt.month  \n",
        "\n",
        "\n",
        "train_dd['MaturityYear'] = train_d['MaturityDAte'].dt.year  \n",
        "test_dd['MaturityYear'] = test_d['MaturityDAte'].dt.year  \n",
        "\n",
        "train_dd['MaturityMonth'] = train_d['MaturityDAte'].dt.month  \n",
        "test_dd['MaturityMonth'] = test_d['MaturityDAte'].dt.month  "
      ],
      "execution_count": 187,
      "outputs": []
    },
    {
      "cell_type": "code",
      "metadata": {
        "colab": {
          "base_uri": "https://localhost:8080/"
        },
        "id": "vQqUX_Ph_eO8",
        "outputId": "7a3abc24-8331-47ca-fb73-a8ffe2270c6e"
      },
      "source": [
        "train_dd.isna().sum()\r\n",
        "#test_dd.isna().sum()"
      ],
      "execution_count": 188,
      "outputs": [
        {
          "output_type": "execute_result",
          "data": {
            "text/plain": [
              "ID                  0\n",
              "Frequency           0\n",
              "InstlmentMode       0\n",
              "LoanStatus          0\n",
              "PaymentMode         0\n",
              "BranchID            0\n",
              "Area                0\n",
              "Tenure              0\n",
              "AssetCost           0\n",
              "AmountFinance       0\n",
              "DisbursalAmount     0\n",
              "EMI                 0\n",
              "DisbursalDate       0\n",
              "MaturityDAte        0\n",
              "AuthDate            0\n",
              "AssetID             0\n",
              "ManufacturerID      0\n",
              "SupplierID          0\n",
              "LTV                 0\n",
              "SEX                 0\n",
              "AGE                 0\n",
              "MonthlyIncome       0\n",
              "City                0\n",
              "State               0\n",
              "ZiPCODE             0\n",
              "Top-up Month        0\n",
              "AuthtoMatureDays    0\n",
              "AuthtoDisDays       0\n",
              "AuthYear            0\n",
              "AuthMonth           0\n",
              "MaturityYear        0\n",
              "MaturityMonth       0\n",
              "dtype: int64"
            ]
          },
          "metadata": {
            "tags": []
          },
          "execution_count": 188
        }
      ]
    },
    {
      "cell_type": "code",
      "metadata": {
        "id": "LMGDDtfRKe-2"
      },
      "source": [
        "train_dd = train_dd.drop(columns=['City','Area','AuthDate','DisbursalDate','MaturityDAte'])\n",
        "test_dd = test_dd.drop(columns=['City','Area','AuthDate','DisbursalDate','MaturityDAte'])"
      ],
      "execution_count": 189,
      "outputs": []
    },
    {
      "cell_type": "code",
      "metadata": {
        "id": "tmATWizQKe-3"
      },
      "source": [
        "mapping_dict = {'No Top-up Service':0, '12-18 Months':1,'18-24 Months':2, '24-30 Months':3, \n",
        "                '30-36 Months':4,'36-48 Months':5,' > 48 Months':6}"
      ],
      "execution_count": 190,
      "outputs": []
    },
    {
      "cell_type": "code",
      "metadata": {
        "id": "ia7SwdWFKe-3"
      },
      "source": [
        "train_dd['Top-up Month'] = train_dd['Top-up Month'].replace(mapping_dict) "
      ],
      "execution_count": 191,
      "outputs": []
    },
    {
      "cell_type": "code",
      "metadata": {
        "id": "ndT494UQKe-4"
      },
      "source": [
        "mapping_dict_f= [\n",
        "{'col': 'Frequency', 'mapping': {'BI-Monthly':0, 'Monthly': 1, 'Quatrly': 2,  'Half Yearly': 3}}\n",
        "]"
      ],
      "execution_count": 192,
      "outputs": []
    },
    {
      "cell_type": "code",
      "metadata": {
        "id": "RyW5j3obKe-4",
        "colab": {
          "base_uri": "https://localhost:8080/"
        },
        "outputId": "a3d1e540-53e4-42c9-c95e-ce6a3e0f6eaa"
      },
      "source": [
        "f1,f2 = ordinalencoding(train_dd,test_dd,train_dd['Top-up Month'],drop =True,cols=['Frequency'],mapping= mapping_dict_f)"
      ],
      "execution_count": 193,
      "outputs": [
        {
          "output_type": "stream",
          "text": [
            "ordinal encoding for features ['Frequency']\n",
            "(107126, 27) (14745, 26)\n"
          ],
          "name": "stdout"
        }
      ]
    },
    {
      "cell_type": "code",
      "metadata": {
        "id": "XB2ZTQohKe-5",
        "colab": {
          "base_uri": "https://localhost:8080/"
        },
        "outputId": "619b2a9b-41a9-42c0-8abd-aa41dc1f5bdf"
      },
      "source": [
        "f11,f22 = onehotencoder(f1,f2,cols=['InstlmentMode','LoanStatus','SEX'])"
      ],
      "execution_count": 194,
      "outputs": [
        {
          "output_type": "stream",
          "text": [
            "['InstlmentMode', 'LoanStatus', 'SEX']\n",
            "(107126, 30) (14745, 29)\n"
          ],
          "name": "stdout"
        }
      ]
    },
    {
      "cell_type": "code",
      "metadata": {
        "id": "EuftKAArKe-5",
        "colab": {
          "base_uri": "https://localhost:8080/"
        },
        "outputId": "f9c62ec7-bc19-4c15-d755-83bb1cfde797"
      },
      "source": [
        "f111,f222 = targetencoding(f11,f22,f11['Top-up Month'],drop=True,cols=['PaymentMode','State','BranchID','ZiPCODE','ManufacturerID']) #because branch id and area same"
      ],
      "execution_count": 195,
      "outputs": [
        {
          "output_type": "stream",
          "text": [
            "targest emcoding for features ['PaymentMode', 'State', 'BranchID', 'ZiPCODE', 'ManufacturerID']\n",
            "(107126, 30) (14745, 29)\n"
          ],
          "name": "stdout"
        }
      ]
    },
    {
      "cell_type": "code",
      "metadata": {
        "id": "OK-koE8MgRyA"
      },
      "source": [
        ""
      ],
      "execution_count": 197,
      "outputs": []
    },
    {
      "cell_type": "code",
      "metadata": {
        "id": "XAjd2e_1FYlT"
      },
      "source": [
        "\r\n",
        "# final_df_train_beauro.rename(columns={2.0: '2.0', 3.0: '3.0'}, inplace=True)\r\n",
        "\r\n",
        "# final_df_test_beauro.rename(columns={2.0: '2.0', 3.0: '3.0'}, inplace=True)"
      ],
      "execution_count": 198,
      "outputs": []
    },
    {
      "cell_type": "code",
      "metadata": {
        "id": "Ci7j4yn8Ke-6"
      },
      "source": [
        "dataframes = [f111,final_df_train_beauro]\n",
        "final_df_train = reduce(lambda left, right: pd.merge(left, right, on='ID', how='left'), dataframes)"
      ],
      "execution_count": 199,
      "outputs": []
    },
    {
      "cell_type": "code",
      "metadata": {
        "id": "EEvjHoMtKe-6"
      },
      "source": [
        "dataframes = [f222,final_df_test_beauro]\n",
        "final_df_test = reduce(lambda left, right: pd.merge(left, right, on='ID', how='left'), dataframes)"
      ],
      "execution_count": 200,
      "outputs": []
    },
    {
      "cell_type": "code",
      "metadata": {
        "colab": {
          "base_uri": "https://localhost:8080/"
        },
        "id": "e3n9tARbB6OV",
        "outputId": "fc5d31c3-bb39-4a82-eae0-4da48cc8eb31"
      },
      "source": [
        "final_df_test.isna().sum()"
      ],
      "execution_count": 201,
      "outputs": [
        {
          "output_type": "execute_result",
          "data": {
            "text/plain": [
              "ID                 0\n",
              "Tenure             0\n",
              "AssetCost          0\n",
              "AmountFinance      0\n",
              "DisbursalAmount    0\n",
              "                  ..\n",
              "3.0                0\n",
              "0.0                0\n",
              "1.0                0\n",
              "3.0                0\n",
              "2.0                0\n",
              "Length: 83, dtype: int64"
            ]
          },
          "metadata": {
            "tags": []
          },
          "execution_count": 201
        }
      ]
    },
    {
      "cell_type": "code",
      "metadata": {
        "id": "_2jtljXcKe-7"
      },
      "source": [
        "# final_df_train = final_df_train.fillna(0)\r\n",
        "# final_df_test = final_df_test.fillna(0)"
      ],
      "execution_count": 115,
      "outputs": []
    },
    {
      "cell_type": "code",
      "metadata": {
        "colab": {
          "base_uri": "https://localhost:8080/"
        },
        "id": "0vtLNLM8DX1U",
        "outputId": "15c4ee79-b0b6-48d2-efa5-a55b251494fe"
      },
      "source": [
        "final_df_train.info()"
      ],
      "execution_count": 202,
      "outputs": [
        {
          "output_type": "stream",
          "text": [
            "<class 'pandas.core.frame.DataFrame'>\n",
            "Int64Index: 471743 entries, 0 to 471742\n",
            "Data columns (total 84 columns):\n",
            " #   Column                                      Non-Null Count   Dtype  \n",
            "---  ------                                      --------------   -----  \n",
            " 0   ID                                          471743 non-null  int64  \n",
            " 1   Tenure                                      471743 non-null  int64  \n",
            " 2   AssetCost                                   471743 non-null  int64  \n",
            " 3   AmountFinance                               471743 non-null  float64\n",
            " 4   DisbursalAmount                             471743 non-null  float64\n",
            " 5   EMI                                         471743 non-null  float64\n",
            " 6   AssetID                                     471743 non-null  int64  \n",
            " 7   SupplierID                                  471743 non-null  int64  \n",
            " 8   LTV                                         471743 non-null  float64\n",
            " 9   AGE                                         471743 non-null  float64\n",
            " 10  MonthlyIncome                               471743 non-null  float64\n",
            " 11  Top-up Month                                471743 non-null  int64  \n",
            " 12  AuthtoMatureDays                            471743 non-null  int64  \n",
            " 13  AuthtoDisDays                               471743 non-null  int64  \n",
            " 14  AuthYear                                    471743 non-null  int64  \n",
            " 15  AuthMonth                                   471743 non-null  int64  \n",
            " 16  MaturityYear                                471743 non-null  float64\n",
            " 17  MaturityMonth                               471743 non-null  float64\n",
            " 18  Frequency_ordinal                           471743 non-null  int64  \n",
            " 19  InstlmentMode_Advance                       471743 non-null  float64\n",
            " 20  InstlmentMode_Arrear                        471743 non-null  float64\n",
            " 21  LoanStatus_Active                           471743 non-null  float64\n",
            " 22  LoanStatus_Closed                           471743 non-null  float64\n",
            " 23  SEX_F                                       471743 non-null  float64\n",
            " 24  SEX_M                                       471743 non-null  float64\n",
            " 25  PaymentMode_target                          471743 non-null  float64\n",
            " 26  State_target                                471743 non-null  float64\n",
            " 27  BranchID_target                             471743 non-null  float64\n",
            " 28  ZiPCODE_target                              471743 non-null  float64\n",
            " 29  ManufacturerID_target                       471743 non-null  float64\n",
            " 30  False_x                                     471743 non-null  int64  \n",
            " 31  True_x                                      471743 non-null  int64  \n",
            " 32  F01                                         471743 non-null  float64\n",
            " 33  F02                                         471743 non-null  float64\n",
            " 34  F03                                         471743 non-null  float64\n",
            " 35  F05                                         471743 non-null  float64\n",
            " 36  F06                                         471743 non-null  float64\n",
            " 37  F10                                         471743 non-null  float64\n",
            " 38  Active                                      471743 non-null  int64  \n",
            " 39  Closed                                      471743 non-null  int64  \n",
            " 40  Delinquent                                  471743 non-null  int64  \n",
            " 41  Restructured                                471743 non-null  int64  \n",
            " 42  SUIT FILED (WILFUL DEFAULT)                 471743 non-null  int64  \n",
            " 43  Settled                                     471743 non-null  int64  \n",
            " 44  Suit Filed                                  471743 non-null  int64  \n",
            " 45  WILFUL DEFAULT                              471743 non-null  int64  \n",
            " 46  Written Off                                 471743 non-null  int64  \n",
            " 47  Guarantor                                   471743 non-null  int64  \n",
            " 48  Individual                                  471743 non-null  int64  \n",
            " 49  Joint                                       471743 non-null  int64  \n",
            " 50  Primary                                     471743 non-null  int64  \n",
            " 51  Supl Card Holder                            471743 non-null  int64  \n",
            " 52  CCC                                         471743 non-null  int64  \n",
            " 53  COP                                         471743 non-null  int64  \n",
            " 54  FRB                                         471743 non-null  int64  \n",
            " 55  HFC                                         471743 non-null  int64  \n",
            " 56  MFI                                         471743 non-null  int64  \n",
            " 57  NAB                                         471743 non-null  int64  \n",
            " 58  NBF                                         471743 non-null  int64  \n",
            " 59  OFI                                         471743 non-null  int64  \n",
            " 60  PRB                                         471743 non-null  int64  \n",
            " 61  RRB                                         471743 non-null  int64  \n",
            " 62  SFB                                         471743 non-null  int64  \n",
            " 63  Tractor Loan                                471743 non-null  int64  \n",
            " 64  Gold Loan                                   471743 non-null  int64  \n",
            " 65  Business Loan Priority Sector  Agriculture  471743 non-null  int64  \n",
            " 66  Others                                      471743 non-null  int64  \n",
            " 67  PRIMARY                                     471743 non-null  int64  \n",
            " 68  SECONDARY                                   471743 non-null  int64  \n",
            " 69  01                                          471743 non-null  float64\n",
            " 70  1                                           471743 non-null  float64\n",
            " 71  Doubtful                                    471743 non-null  float64\n",
            " 72  Loss                                        471743 non-null  float64\n",
            " 73  Special Mention Account                     471743 non-null  float64\n",
            " 74  Standard                                    471743 non-null  float64\n",
            " 75  SubStandard                                 471743 non-null  float64\n",
            " 76  0.0_y                                       471743 non-null  int64  \n",
            " 77  1.0_y                                       471743 non-null  int64  \n",
            " 78  2.0_x                                       471743 non-null  int64  \n",
            " 79  3.0_x                                       471743 non-null  int64  \n",
            " 80  0.0                                         471743 non-null  int64  \n",
            " 81  1.0                                         471743 non-null  int64  \n",
            " 82  2.0_y                                       471743 non-null  int64  \n",
            " 83  3.0_y                                       471743 non-null  int64  \n",
            "dtypes: float64(32), int64(52)\n",
            "memory usage: 305.9 MB\n"
          ],
          "name": "stdout"
        }
      ]
    },
    {
      "cell_type": "code",
      "metadata": {
        "id": "GGCnIdb-FHc0"
      },
      "source": [
        ""
      ],
      "execution_count": 143,
      "outputs": []
    },
    {
      "cell_type": "code",
      "metadata": {
        "id": "8erJ5XUaJIrD"
      },
      "source": [
        ""
      ],
      "execution_count": 202,
      "outputs": []
    },
    {
      "cell_type": "code",
      "metadata": {
        "id": "tGkkuFjJOT5V",
        "colab": {
          "base_uri": "https://localhost:8080/"
        },
        "outputId": "cb2ec999-bea0-4b03-a265-c8e4eddc52f0"
      },
      "source": [
        "final_df_train.columns"
      ],
      "execution_count": 205,
      "outputs": [
        {
          "output_type": "execute_result",
          "data": {
            "text/plain": [
              "Index([                                        'ID',\n",
              "                                           'Tenure',\n",
              "                                        'AssetCost',\n",
              "                                    'AmountFinance',\n",
              "                                  'DisbursalAmount',\n",
              "                                              'EMI',\n",
              "                                          'AssetID',\n",
              "                                       'SupplierID',\n",
              "                                              'LTV',\n",
              "                                              'AGE',\n",
              "                                    'MonthlyIncome',\n",
              "                                     'Top-up Month',\n",
              "                                 'AuthtoMatureDays',\n",
              "                                    'AuthtoDisDays',\n",
              "                                         'AuthYear',\n",
              "                                        'AuthMonth',\n",
              "                                     'MaturityYear',\n",
              "                                    'MaturityMonth',\n",
              "                                'Frequency_ordinal',\n",
              "                            'InstlmentMode_Advance',\n",
              "                             'InstlmentMode_Arrear',\n",
              "                                'LoanStatus_Active',\n",
              "                                'LoanStatus_Closed',\n",
              "                                            'SEX_F',\n",
              "                                            'SEX_M',\n",
              "                               'PaymentMode_target',\n",
              "                                     'State_target',\n",
              "                                  'BranchID_target',\n",
              "                                   'ZiPCODE_target',\n",
              "                            'ManufacturerID_target',\n",
              "                                          'False_x',\n",
              "                                           'True_x',\n",
              "                                              'F01',\n",
              "                                              'F02',\n",
              "                                              'F03',\n",
              "                                              'F05',\n",
              "                                              'F06',\n",
              "                                              'F10',\n",
              "                                           'Active',\n",
              "                                           'Closed',\n",
              "                                       'Delinquent',\n",
              "                                     'Restructured',\n",
              "                      'SUIT FILED (WILFUL DEFAULT)',\n",
              "                                          'Settled',\n",
              "                                       'Suit Filed',\n",
              "                                   'WILFUL DEFAULT',\n",
              "                                      'Written Off',\n",
              "                                        'Guarantor',\n",
              "                                       'Individual',\n",
              "                                            'Joint',\n",
              "                                          'Primary',\n",
              "                                 'Supl Card Holder',\n",
              "                                              'CCC',\n",
              "                                              'COP',\n",
              "                                              'FRB',\n",
              "                                              'HFC',\n",
              "                                              'MFI',\n",
              "                                              'NAB',\n",
              "                                              'NBF',\n",
              "                                              'OFI',\n",
              "                                              'PRB',\n",
              "                                              'RRB',\n",
              "                                              'SFB',\n",
              "                                     'Tractor Loan',\n",
              "                                        'Gold Loan',\n",
              "       'Business Loan Priority Sector  Agriculture',\n",
              "                                           'Others',\n",
              "                                          'PRIMARY',\n",
              "                                        'SECONDARY',\n",
              "                                               '01',\n",
              "                                                '1',\n",
              "                                         'Doubtful',\n",
              "                                             'Loss',\n",
              "                          'Special Mention Account',\n",
              "                                         'Standard',\n",
              "                                      'SubStandard',\n",
              "                                            '0.0_y',\n",
              "                                            '1.0_y',\n",
              "                                            '2.0_x',\n",
              "                                            '3.0_x',\n",
              "                                                0.0,\n",
              "                                                1.0,\n",
              "                                            '2.0_y',\n",
              "                                            '3.0_y'],\n",
              "      dtype='object')"
            ]
          },
          "metadata": {
            "tags": []
          },
          "execution_count": 205
        }
      ]
    },
    {
      "cell_type": "code",
      "metadata": {
        "colab": {
          "base_uri": "https://localhost:8080/"
        },
        "id": "cvCBcZ5Lg5fY",
        "outputId": "75d30bbb-d690-4935-bb96-ad77a6097281"
      },
      "source": [
        "final_df_train['Top-up Month'].value_counts()"
      ],
      "execution_count": 209,
      "outputs": [
        {
          "output_type": "execute_result",
          "data": {
            "text/plain": [
              "0    320802\n",
              "6     62978\n",
              "5     23968\n",
              "3     21152\n",
              "4     17931\n",
              "2     16338\n",
              "1      8574\n",
              "Name: Top-up Month, dtype: int64"
            ]
          },
          "metadata": {
            "tags": []
          },
          "execution_count": 209
        }
      ]
    },
    {
      "cell_type": "code",
      "metadata": {
        "id": "V7ageXUEWS1J"
      },
      "source": [
        "cols = ['Tenure', 'AssetID','SupplierID', 'AGE',  'AuthYear', 'AuthMonth','MaturityYear','MaturityMonth', 'Frequency_ordinal','InstlmentMode_Advance','InstlmentMode_Arrear',\r\n",
        "                                'LoanStatus_Active',\r\n",
        "                                'LoanStatus_Closed', 'SEX_F','SEX_M','PaymentMode_target','State_target','BranchID_target','ZiPCODE_target','ManufacturerID_target',\r\n",
        "                                          'False_x', 'True_x',\r\n",
        "                                              'F01', 'F02','F03','F05','F06', 'F10',\r\n",
        "                                           'Active', 'Closed','Delinquent', 'Restructured', 'SUIT FILED (WILFUL DEFAULT)','Settled', 'Suit Filed','WILFUL DEFAULT',\r\n",
        "                                      'Written Off', 'Guarantor', 'Individual','Joint','Primary', 'Supl Card Holder',\r\n",
        "                                              'CCC', 'COP', 'FRB', 'HFC', 'MFI', 'NAB',  'NBF', 'OFI', 'PRB', 'RRB', 'SFB',\r\n",
        "                                     'Tractor Loan',\r\n",
        "                                        'Gold Loan',\r\n",
        "       'Business Loan Priority Sector  Agriculture',\r\n",
        "                                           'Others',\r\n",
        "                                          'PRIMARY',\r\n",
        "                                        'SECONDARY',\r\n",
        "                                               '01',\r\n",
        "                                                '1',\r\n",
        "                                         'Doubtful',\r\n",
        "                                             'Loss',\r\n",
        "                          'Special Mention Account',\r\n",
        "                                         'Standard',\r\n",
        "                                      'SubStandard',\r\n",
        "                                            '0.0_y',\r\n",
        "                                            '1.0_y',\r\n",
        "                                            '2.0_x',\r\n",
        "                                            '3.0_x',\r\n",
        "                                            '0.0_x',\r\n",
        "                                            '1.0_x',\r\n",
        "                                            '2.0_y',\r\n",
        "                                            '3.0_y'  ]"
      ],
      "execution_count": 206,
      "outputs": []
    },
    {
      "cell_type": "code",
      "metadata": {
        "colab": {
          "base_uri": "https://localhost:8080/",
          "height": 1000,
          "referenced_widgets": [
            "45310282386847718863a188b55204b5",
            "69cd85be6ca6473680514f20af30e69f",
            "7a2c95e038544618a75e0b7d944740ab",
            "dd1810cc2c01483383d65cb882e871fe",
            "1ca128d235d04f7dba69b97f27e40fdf",
            "8cc70aac58594e10a4629fa8f4f6da22"
          ]
        },
        "id": "tQlKUbs5DRlT",
        "outputId": "31c5eb0d-0056-456d-8d18-f50fa86b8088"
      },
      "source": [
        "pycaret = setup(data =final_df_train , target ='Top-up Month',session_id=123 )"
      ],
      "execution_count": 211,
      "outputs": [
        {
          "output_type": "display_data",
          "data": {
            "text/html": [
              "<div>\n",
              "<style scoped>\n",
              "    .dataframe tbody tr th:only-of-type {\n",
              "        vertical-align: middle;\n",
              "    }\n",
              "\n",
              "    .dataframe tbody tr th {\n",
              "        vertical-align: top;\n",
              "    }\n",
              "\n",
              "    .dataframe thead th {\n",
              "        text-align: right;\n",
              "    }\n",
              "</style>\n",
              "<table border=\"1\" class=\"dataframe\">\n",
              "  <thead>\n",
              "    <tr style=\"text-align: right;\">\n",
              "      <th></th>\n",
              "      <th>Description</th>\n",
              "      <th>Value</th>\n",
              "    </tr>\n",
              "  </thead>\n",
              "  <tbody>\n",
              "    <tr>\n",
              "      <th>0</th>\n",
              "      <td>session_id</td>\n",
              "      <td>123</td>\n",
              "    </tr>\n",
              "    <tr>\n",
              "      <th>1</th>\n",
              "      <td>Target</td>\n",
              "      <td>Top-up Month</td>\n",
              "    </tr>\n",
              "    <tr>\n",
              "      <th>2</th>\n",
              "      <td>Target Type</td>\n",
              "      <td>Multiclass</td>\n",
              "    </tr>\n",
              "    <tr>\n",
              "      <th>3</th>\n",
              "      <td>Label Encoded</td>\n",
              "      <td>0: 0, 1: 1, 2: 2, 3: 3, 4: 4, 5: 5, 6: 6</td>\n",
              "    </tr>\n",
              "    <tr>\n",
              "      <th>4</th>\n",
              "      <td>Original Data</td>\n",
              "      <td>(471743, 84)</td>\n",
              "    </tr>\n",
              "    <tr>\n",
              "      <th>5</th>\n",
              "      <td>Missing Values</td>\n",
              "      <td>False</td>\n",
              "    </tr>\n",
              "    <tr>\n",
              "      <th>6</th>\n",
              "      <td>Numeric Features</td>\n",
              "      <td>52</td>\n",
              "    </tr>\n",
              "    <tr>\n",
              "      <th>7</th>\n",
              "      <td>Categorical Features</td>\n",
              "      <td>31</td>\n",
              "    </tr>\n",
              "    <tr>\n",
              "      <th>8</th>\n",
              "      <td>Ordinal Features</td>\n",
              "      <td>False</td>\n",
              "    </tr>\n",
              "    <tr>\n",
              "      <th>9</th>\n",
              "      <td>High Cardinality Features</td>\n",
              "      <td>False</td>\n",
              "    </tr>\n",
              "    <tr>\n",
              "      <th>10</th>\n",
              "      <td>High Cardinality Method</td>\n",
              "      <td>None</td>\n",
              "    </tr>\n",
              "    <tr>\n",
              "      <th>11</th>\n",
              "      <td>Transformed Train Set</td>\n",
              "      <td>(330220, 213)</td>\n",
              "    </tr>\n",
              "    <tr>\n",
              "      <th>12</th>\n",
              "      <td>Transformed Test Set</td>\n",
              "      <td>(141523, 213)</td>\n",
              "    </tr>\n",
              "    <tr>\n",
              "      <th>13</th>\n",
              "      <td>Shuffle Train-Test</td>\n",
              "      <td>True</td>\n",
              "    </tr>\n",
              "    <tr>\n",
              "      <th>14</th>\n",
              "      <td>Stratify Train-Test</td>\n",
              "      <td>False</td>\n",
              "    </tr>\n",
              "    <tr>\n",
              "      <th>15</th>\n",
              "      <td>Fold Generator</td>\n",
              "      <td>StratifiedKFold</td>\n",
              "    </tr>\n",
              "    <tr>\n",
              "      <th>16</th>\n",
              "      <td>Fold Number</td>\n",
              "      <td>10</td>\n",
              "    </tr>\n",
              "    <tr>\n",
              "      <th>17</th>\n",
              "      <td>CPU Jobs</td>\n",
              "      <td>-1</td>\n",
              "    </tr>\n",
              "    <tr>\n",
              "      <th>18</th>\n",
              "      <td>Use GPU</td>\n",
              "      <td>False</td>\n",
              "    </tr>\n",
              "    <tr>\n",
              "      <th>19</th>\n",
              "      <td>Log Experiment</td>\n",
              "      <td>False</td>\n",
              "    </tr>\n",
              "    <tr>\n",
              "      <th>20</th>\n",
              "      <td>Experiment Name</td>\n",
              "      <td>clf-default-name</td>\n",
              "    </tr>\n",
              "    <tr>\n",
              "      <th>21</th>\n",
              "      <td>USI</td>\n",
              "      <td>c112</td>\n",
              "    </tr>\n",
              "    <tr>\n",
              "      <th>22</th>\n",
              "      <td>Imputation Type</td>\n",
              "      <td>simple</td>\n",
              "    </tr>\n",
              "    <tr>\n",
              "      <th>23</th>\n",
              "      <td>Iterative Imputation Iteration</td>\n",
              "      <td>None</td>\n",
              "    </tr>\n",
              "    <tr>\n",
              "      <th>24</th>\n",
              "      <td>Numeric Imputer</td>\n",
              "      <td>mean</td>\n",
              "    </tr>\n",
              "    <tr>\n",
              "      <th>25</th>\n",
              "      <td>Iterative Imputation Numeric Model</td>\n",
              "      <td>None</td>\n",
              "    </tr>\n",
              "    <tr>\n",
              "      <th>26</th>\n",
              "      <td>Categorical Imputer</td>\n",
              "      <td>constant</td>\n",
              "    </tr>\n",
              "    <tr>\n",
              "      <th>27</th>\n",
              "      <td>Iterative Imputation Categorical Model</td>\n",
              "      <td>None</td>\n",
              "    </tr>\n",
              "    <tr>\n",
              "      <th>28</th>\n",
              "      <td>Unknown Categoricals Handling</td>\n",
              "      <td>least_frequent</td>\n",
              "    </tr>\n",
              "    <tr>\n",
              "      <th>29</th>\n",
              "      <td>Normalize</td>\n",
              "      <td>False</td>\n",
              "    </tr>\n",
              "    <tr>\n",
              "      <th>30</th>\n",
              "      <td>Normalize Method</td>\n",
              "      <td>None</td>\n",
              "    </tr>\n",
              "    <tr>\n",
              "      <th>31</th>\n",
              "      <td>Transformation</td>\n",
              "      <td>False</td>\n",
              "    </tr>\n",
              "    <tr>\n",
              "      <th>32</th>\n",
              "      <td>Transformation Method</td>\n",
              "      <td>None</td>\n",
              "    </tr>\n",
              "    <tr>\n",
              "      <th>33</th>\n",
              "      <td>PCA</td>\n",
              "      <td>False</td>\n",
              "    </tr>\n",
              "    <tr>\n",
              "      <th>34</th>\n",
              "      <td>PCA Method</td>\n",
              "      <td>None</td>\n",
              "    </tr>\n",
              "    <tr>\n",
              "      <th>35</th>\n",
              "      <td>PCA Components</td>\n",
              "      <td>None</td>\n",
              "    </tr>\n",
              "    <tr>\n",
              "      <th>36</th>\n",
              "      <td>Ignore Low Variance</td>\n",
              "      <td>False</td>\n",
              "    </tr>\n",
              "    <tr>\n",
              "      <th>37</th>\n",
              "      <td>Combine Rare Levels</td>\n",
              "      <td>False</td>\n",
              "    </tr>\n",
              "    <tr>\n",
              "      <th>38</th>\n",
              "      <td>Rare Level Threshold</td>\n",
              "      <td>None</td>\n",
              "    </tr>\n",
              "    <tr>\n",
              "      <th>39</th>\n",
              "      <td>Numeric Binning</td>\n",
              "      <td>False</td>\n",
              "    </tr>\n",
              "    <tr>\n",
              "      <th>40</th>\n",
              "      <td>Remove Outliers</td>\n",
              "      <td>False</td>\n",
              "    </tr>\n",
              "    <tr>\n",
              "      <th>41</th>\n",
              "      <td>Outliers Threshold</td>\n",
              "      <td>None</td>\n",
              "    </tr>\n",
              "    <tr>\n",
              "      <th>42</th>\n",
              "      <td>Remove Multicollinearity</td>\n",
              "      <td>False</td>\n",
              "    </tr>\n",
              "    <tr>\n",
              "      <th>43</th>\n",
              "      <td>Multicollinearity Threshold</td>\n",
              "      <td>None</td>\n",
              "    </tr>\n",
              "    <tr>\n",
              "      <th>44</th>\n",
              "      <td>Clustering</td>\n",
              "      <td>False</td>\n",
              "    </tr>\n",
              "    <tr>\n",
              "      <th>45</th>\n",
              "      <td>Clustering Iteration</td>\n",
              "      <td>None</td>\n",
              "    </tr>\n",
              "    <tr>\n",
              "      <th>46</th>\n",
              "      <td>Polynomial Features</td>\n",
              "      <td>False</td>\n",
              "    </tr>\n",
              "    <tr>\n",
              "      <th>47</th>\n",
              "      <td>Polynomial Degree</td>\n",
              "      <td>None</td>\n",
              "    </tr>\n",
              "    <tr>\n",
              "      <th>48</th>\n",
              "      <td>Trignometry Features</td>\n",
              "      <td>False</td>\n",
              "    </tr>\n",
              "    <tr>\n",
              "      <th>49</th>\n",
              "      <td>Polynomial Threshold</td>\n",
              "      <td>None</td>\n",
              "    </tr>\n",
              "    <tr>\n",
              "      <th>50</th>\n",
              "      <td>Group Features</td>\n",
              "      <td>False</td>\n",
              "    </tr>\n",
              "    <tr>\n",
              "      <th>51</th>\n",
              "      <td>Feature Selection</td>\n",
              "      <td>False</td>\n",
              "    </tr>\n",
              "    <tr>\n",
              "      <th>52</th>\n",
              "      <td>Features Selection Threshold</td>\n",
              "      <td>None</td>\n",
              "    </tr>\n",
              "    <tr>\n",
              "      <th>53</th>\n",
              "      <td>Feature Interaction</td>\n",
              "      <td>False</td>\n",
              "    </tr>\n",
              "    <tr>\n",
              "      <th>54</th>\n",
              "      <td>Feature Ratio</td>\n",
              "      <td>False</td>\n",
              "    </tr>\n",
              "    <tr>\n",
              "      <th>55</th>\n",
              "      <td>Interaction Threshold</td>\n",
              "      <td>None</td>\n",
              "    </tr>\n",
              "    <tr>\n",
              "      <th>56</th>\n",
              "      <td>Fix Imbalance</td>\n",
              "      <td>False</td>\n",
              "    </tr>\n",
              "    <tr>\n",
              "      <th>57</th>\n",
              "      <td>Fix Imbalance Method</td>\n",
              "      <td>SMOTE</td>\n",
              "    </tr>\n",
              "  </tbody>\n",
              "</table>\n",
              "</div>"
            ],
            "text/plain": [
              "                               Description                                     Value\n",
              "0                               session_id                                       123\n",
              "1                                   Target                              Top-up Month\n",
              "2                              Target Type                                Multiclass\n",
              "3                            Label Encoded  0: 0, 1: 1, 2: 2, 3: 3, 4: 4, 5: 5, 6: 6\n",
              "4                            Original Data                              (471743, 84)\n",
              "5                           Missing Values                                     False\n",
              "6                         Numeric Features                                        52\n",
              "7                     Categorical Features                                        31\n",
              "8                         Ordinal Features                                     False\n",
              "9                High Cardinality Features                                     False\n",
              "10                 High Cardinality Method                                      None\n",
              "11                   Transformed Train Set                             (330220, 213)\n",
              "12                    Transformed Test Set                             (141523, 213)\n",
              "13                      Shuffle Train-Test                                      True\n",
              "14                     Stratify Train-Test                                     False\n",
              "15                          Fold Generator                           StratifiedKFold\n",
              "16                             Fold Number                                        10\n",
              "17                                CPU Jobs                                        -1\n",
              "18                                 Use GPU                                     False\n",
              "19                          Log Experiment                                     False\n",
              "20                         Experiment Name                          clf-default-name\n",
              "21                                     USI                                      c112\n",
              "22                         Imputation Type                                    simple\n",
              "23          Iterative Imputation Iteration                                      None\n",
              "24                         Numeric Imputer                                      mean\n",
              "25      Iterative Imputation Numeric Model                                      None\n",
              "26                     Categorical Imputer                                  constant\n",
              "27  Iterative Imputation Categorical Model                                      None\n",
              "28           Unknown Categoricals Handling                            least_frequent\n",
              "29                               Normalize                                     False\n",
              "30                        Normalize Method                                      None\n",
              "31                          Transformation                                     False\n",
              "32                   Transformation Method                                      None\n",
              "33                                     PCA                                     False\n",
              "34                              PCA Method                                      None\n",
              "35                          PCA Components                                      None\n",
              "36                     Ignore Low Variance                                     False\n",
              "37                     Combine Rare Levels                                     False\n",
              "38                    Rare Level Threshold                                      None\n",
              "39                         Numeric Binning                                     False\n",
              "40                         Remove Outliers                                     False\n",
              "41                      Outliers Threshold                                      None\n",
              "42                Remove Multicollinearity                                     False\n",
              "43             Multicollinearity Threshold                                      None\n",
              "44                              Clustering                                     False\n",
              "45                    Clustering Iteration                                      None\n",
              "46                     Polynomial Features                                     False\n",
              "47                       Polynomial Degree                                      None\n",
              "48                    Trignometry Features                                     False\n",
              "49                    Polynomial Threshold                                      None\n",
              "50                          Group Features                                     False\n",
              "51                       Feature Selection                                     False\n",
              "52            Features Selection Threshold                                      None\n",
              "53                     Feature Interaction                                     False\n",
              "54                           Feature Ratio                                     False\n",
              "55                   Interaction Threshold                                      None\n",
              "56                           Fix Imbalance                                     False\n",
              "57                    Fix Imbalance Method                                     SMOTE"
            ]
          },
          "metadata": {
            "tags": []
          }
        }
      ]
    },
    {
      "cell_type": "code",
      "metadata": {
        "colab": {
          "base_uri": "https://localhost:8080/",
          "height": 512,
          "referenced_widgets": [
            "8e8d122595984d8db28a11016fdc196d",
            "1031c0f614c042dd99c41e8bf7616110",
            "a55573ee63e94ad7859e0554b620588b"
          ]
        },
        "id": "YY3oYBicb9CJ",
        "outputId": "a4b23f7f-e8e4-4394-94f5-7b2e627bb370"
      },
      "source": [
        "compare_models(sort = 'F1')  "
      ],
      "execution_count": null,
      "outputs": [
        {
          "output_type": "display_data",
          "data": {
            "application/vnd.jupyter.widget-view+json": {
              "model_id": "8e8d122595984d8db28a11016fdc196d",
              "version_major": 2,
              "version_minor": 0
            },
            "text/plain": [
              "IntProgress(value=0, description='Processing: ', max=79)"
            ]
          },
          "metadata": {
            "tags": []
          }
        },
        {
          "output_type": "display_data",
          "data": {
            "text/html": [
              "<div>\n",
              "<style scoped>\n",
              "    .dataframe tbody tr th:only-of-type {\n",
              "        vertical-align: middle;\n",
              "    }\n",
              "\n",
              "    .dataframe tbody tr th {\n",
              "        vertical-align: top;\n",
              "    }\n",
              "\n",
              "    .dataframe thead th {\n",
              "        text-align: right;\n",
              "    }\n",
              "</style>\n",
              "<table border=\"1\" class=\"dataframe\">\n",
              "  <thead>\n",
              "    <tr style=\"text-align: right;\">\n",
              "      <th></th>\n",
              "      <th></th>\n",
              "      <th></th>\n",
              "    </tr>\n",
              "    <tr>\n",
              "      <th></th>\n",
              "      <th></th>\n",
              "      <th></th>\n",
              "    </tr>\n",
              "  </thead>\n",
              "  <tbody>\n",
              "    <tr>\n",
              "      <th>Initiated</th>\n",
              "      <td>. . . . . . . . . . . . . . . . . .</td>\n",
              "      <td>08:13:12</td>\n",
              "    </tr>\n",
              "    <tr>\n",
              "      <th>Status</th>\n",
              "      <td>. . . . . . . . . . . . . . . . . .</td>\n",
              "      <td>Fitting 10 Folds</td>\n",
              "    </tr>\n",
              "    <tr>\n",
              "      <th>Estimator</th>\n",
              "      <td>. . . . . . . . . . . . . . . . . .</td>\n",
              "      <td>K Neighbors Classifier</td>\n",
              "    </tr>\n",
              "  </tbody>\n",
              "</table>\n",
              "</div>"
            ],
            "text/plain": [
              "                                                                      \n",
              "                                                                      \n",
              "Initiated  . . . . . . . . . . . . . . . . . .                08:13:12\n",
              "Status     . . . . . . . . . . . . . . . . . .        Fitting 10 Folds\n",
              "Estimator  . . . . . . . . . . . . . . . . . .  K Neighbors Classifier"
            ]
          },
          "metadata": {
            "tags": []
          }
        },
        {
          "output_type": "display_data",
          "data": {
            "text/html": [
              "<div>\n",
              "<style scoped>\n",
              "    .dataframe tbody tr th:only-of-type {\n",
              "        vertical-align: middle;\n",
              "    }\n",
              "\n",
              "    .dataframe tbody tr th {\n",
              "        vertical-align: top;\n",
              "    }\n",
              "\n",
              "    .dataframe thead th {\n",
              "        text-align: right;\n",
              "    }\n",
              "</style>\n",
              "<table border=\"1\" class=\"dataframe\">\n",
              "  <thead>\n",
              "    <tr style=\"text-align: right;\">\n",
              "      <th></th>\n",
              "      <th>Model</th>\n",
              "      <th>Accuracy</th>\n",
              "      <th>AUC</th>\n",
              "      <th>Recall</th>\n",
              "      <th>Prec.</th>\n",
              "      <th>F1</th>\n",
              "      <th>Kappa</th>\n",
              "      <th>MCC</th>\n",
              "      <th>TT (Sec)</th>\n",
              "    </tr>\n",
              "  </thead>\n",
              "  <tbody>\n",
              "    <tr>\n",
              "      <th>lr</th>\n",
              "      <td>Logistic Regression</td>\n",
              "      <td>0.6805</td>\n",
              "      <td>0.5</td>\n",
              "      <td>0.1429</td>\n",
              "      <td>0.463</td>\n",
              "      <td>0.5511</td>\n",
              "      <td>0.0</td>\n",
              "      <td>0.0</td>\n",
              "      <td>9.142</td>\n",
              "    </tr>\n",
              "  </tbody>\n",
              "</table>\n",
              "</div>"
            ],
            "text/plain": [
              "                  Model  Accuracy  AUC  Recall  Prec.      F1  Kappa  MCC  \\\n",
              "lr  Logistic Regression    0.6805  0.5  0.1429  0.463  0.5511    0.0  0.0   \n",
              "\n",
              "    TT (Sec)  \n",
              "lr     9.142  "
            ]
          },
          "metadata": {
            "tags": []
          }
        },
        {
          "output_type": "display_data",
          "data": {
            "text/html": [
              "<div>\n",
              "<style scoped>\n",
              "    .dataframe tbody tr th:only-of-type {\n",
              "        vertical-align: middle;\n",
              "    }\n",
              "\n",
              "    .dataframe tbody tr th {\n",
              "        vertical-align: top;\n",
              "    }\n",
              "\n",
              "    .dataframe thead th {\n",
              "        text-align: right;\n",
              "    }\n",
              "</style>\n",
              "<table border=\"1\" class=\"dataframe\">\n",
              "  <thead>\n",
              "    <tr style=\"text-align: right;\">\n",
              "      <th></th>\n",
              "      <th>Model</th>\n",
              "      <th>Accuracy</th>\n",
              "      <th>AUC</th>\n",
              "      <th>Recall</th>\n",
              "      <th>Prec.</th>\n",
              "      <th>F1</th>\n",
              "      <th>Kappa</th>\n",
              "      <th>MCC</th>\n",
              "      <th>TT (Sec)</th>\n",
              "    </tr>\n",
              "  </thead>\n",
              "  <tbody>\n",
              "    <tr>\n",
              "      <th>dt</th>\n",
              "      <td>Decision Tree Classifier</td>\n",
              "      <td>0.9822</td>\n",
              "      <td>0.9828</td>\n",
              "      <td>0.9727</td>\n",
              "      <td>0.9823</td>\n",
              "      <td>0.9822</td>\n",
              "      <td>0.9653</td>\n",
              "      <td>0.9653</td>\n",
              "      <td>13.474</td>\n",
              "    </tr>\n",
              "    <tr>\n",
              "      <th>knn</th>\n",
              "      <td>K Neighbors Classifier</td>\n",
              "      <td>0.9001</td>\n",
              "      <td>0.9694</td>\n",
              "      <td>0.8541</td>\n",
              "      <td>0.9014</td>\n",
              "      <td>0.9005</td>\n",
              "      <td>0.8074</td>\n",
              "      <td>0.8077</td>\n",
              "      <td>42.594</td>\n",
              "    </tr>\n",
              "    <tr>\n",
              "      <th>lr</th>\n",
              "      <td>Logistic Regression</td>\n",
              "      <td>0.6805</td>\n",
              "      <td>0.5000</td>\n",
              "      <td>0.1429</td>\n",
              "      <td>0.4630</td>\n",
              "      <td>0.5511</td>\n",
              "      <td>0.0000</td>\n",
              "      <td>0.0000</td>\n",
              "      <td>9.142</td>\n",
              "    </tr>\n",
              "    <tr>\n",
              "      <th>nb</th>\n",
              "      <td>Naive Bayes</td>\n",
              "      <td>0.6805</td>\n",
              "      <td>0.5374</td>\n",
              "      <td>0.1429</td>\n",
              "      <td>0.4630</td>\n",
              "      <td>0.5511</td>\n",
              "      <td>-0.0000</td>\n",
              "      <td>-0.0009</td>\n",
              "      <td>1.320</td>\n",
              "    </tr>\n",
              "  </tbody>\n",
              "</table>\n",
              "</div>"
            ],
            "text/plain": [
              "                        Model  Accuracy     AUC  Recall   Prec.      F1  \\\n",
              "dt   Decision Tree Classifier    0.9822  0.9828  0.9727  0.9823  0.9822   \n",
              "knn    K Neighbors Classifier    0.9001  0.9694  0.8541  0.9014  0.9005   \n",
              "lr        Logistic Regression    0.6805  0.5000  0.1429  0.4630  0.5511   \n",
              "nb                Naive Bayes    0.6805  0.5374  0.1429  0.4630  0.5511   \n",
              "\n",
              "      Kappa     MCC  TT (Sec)  \n",
              "dt   0.9653  0.9653    13.474  \n",
              "knn  0.8074  0.8077    42.594  \n",
              "lr   0.0000  0.0000     9.142  \n",
              "nb  -0.0000 -0.0009     1.320  "
            ]
          },
          "metadata": {
            "tags": []
          }
        },
        {
          "output_type": "display_data",
          "data": {
            "text/html": [
              "<div>\n",
              "<style scoped>\n",
              "    .dataframe tbody tr th:only-of-type {\n",
              "        vertical-align: middle;\n",
              "    }\n",
              "\n",
              "    .dataframe tbody tr th {\n",
              "        vertical-align: top;\n",
              "    }\n",
              "\n",
              "    .dataframe thead th {\n",
              "        text-align: right;\n",
              "    }\n",
              "</style>\n",
              "<table border=\"1\" class=\"dataframe\">\n",
              "  <thead>\n",
              "    <tr style=\"text-align: right;\">\n",
              "      <th></th>\n",
              "      <th></th>\n",
              "      <th></th>\n",
              "    </tr>\n",
              "    <tr>\n",
              "      <th></th>\n",
              "      <th></th>\n",
              "      <th></th>\n",
              "    </tr>\n",
              "  </thead>\n",
              "  <tbody>\n",
              "    <tr>\n",
              "      <th>Initiated</th>\n",
              "      <td>. . . . . . . . . . . . . . . . . .</td>\n",
              "      <td>08:13:12</td>\n",
              "    </tr>\n",
              "    <tr>\n",
              "      <th>Status</th>\n",
              "      <td>. . . . . . . . . . . . . . . . . .</td>\n",
              "      <td>Fitting 10 Folds</td>\n",
              "    </tr>\n",
              "    <tr>\n",
              "      <th>Estimator</th>\n",
              "      <td>. . . . . . . . . . . . . . . . . .</td>\n",
              "      <td>SVM - Linear Kernel</td>\n",
              "    </tr>\n",
              "  </tbody>\n",
              "</table>\n",
              "</div>"
            ],
            "text/plain": [
              "                                                                   \n",
              "                                                                   \n",
              "Initiated  . . . . . . . . . . . . . . . . . .             08:13:12\n",
              "Status     . . . . . . . . . . . . . . . . . .     Fitting 10 Folds\n",
              "Estimator  . . . . . . . . . . . . . . . . . .  SVM - Linear Kernel"
            ]
          },
          "metadata": {
            "tags": []
          }
        }
      ]
    },
    {
      "cell_type": "code",
      "metadata": {
        "id": "W8d7BhjBb9GF"
      },
      "source": [
        "rf = create_model(estimator = 'rf')"
      ],
      "execution_count": null,
      "outputs": []
    },
    {
      "cell_type": "code",
      "metadata": {
        "id": "LXyupJDidgNd"
      },
      "source": [
        "dt = create_model(estimator = 'dt')"
      ],
      "execution_count": null,
      "outputs": []
    },
    {
      "cell_type": "code",
      "metadata": {
        "id": "lZ2qwN8kdgQq"
      },
      "source": [
        "lgb = create_model(estimator = 'lightgbm')"
      ],
      "execution_count": null,
      "outputs": []
    },
    {
      "cell_type": "code",
      "metadata": {
        "id": "guI6Z04YdgTO"
      },
      "source": [
        "ridge = create_model(estimator = 'ridge')"
      ],
      "execution_count": null,
      "outputs": []
    },
    {
      "cell_type": "code",
      "metadata": {
        "id": "v_vg-2L5f2Hp"
      },
      "source": [
        "catboost = create_model(estimator = 'catboost')"
      ],
      "execution_count": null,
      "outputs": []
    },
    {
      "cell_type": "code",
      "metadata": {
        "id": "IuQia2IGdgWX"
      },
      "source": [
        "tune_rf = tune_model(estimator = 'rf',  optimize = 'F1',  verbose = True)\r\n"
      ],
      "execution_count": null,
      "outputs": []
    },
    {
      "cell_type": "code",
      "metadata": {
        "id": "659fWbfPdgY0"
      },
      "source": [
        "tune_dt = tune_model(estimator = 'dt',  optimize = 'F1',  verbose = True)\r\n"
      ],
      "execution_count": null,
      "outputs": []
    },
    {
      "cell_type": "code",
      "metadata": {
        "id": "xk1jqOkjdgbD"
      },
      "source": [
        "tune_lda = tune_model(estimator = 'lda',  optimize = 'F1',  verbose = True)\r\n"
      ],
      "execution_count": null,
      "outputs": []
    },
    {
      "cell_type": "code",
      "metadata": {
        "id": "wMKU9KBZfd88"
      },
      "source": [
        "tune_lgb = tune_model(estimator = 'lightgbm',  optimize = 'F1',  verbose = True)\r\n"
      ],
      "execution_count": null,
      "outputs": []
    },
    {
      "cell_type": "code",
      "metadata": {
        "id": "gjh7EooJfqrT"
      },
      "source": [
        "tune_ridge = tune_model(estimator = 'ridge',  optimize = 'F1',  verbose = True)\r\n"
      ],
      "execution_count": null,
      "outputs": []
    },
    {
      "cell_type": "code",
      "metadata": {
        "id": "JEsE1q4alkI5"
      },
      "source": [
        "tune_ridge = tune_model(estimator = 'catboost',  optimize = 'F1',  verbose = True)\r\n"
      ],
      "execution_count": null,
      "outputs": []
    },
    {
      "cell_type": "code",
      "metadata": {
        "id": "PAbpOTpEm6a5"
      },
      "source": [
        ""
      ],
      "execution_count": null,
      "outputs": []
    },
    {
      "cell_type": "code",
      "metadata": {
        "id": "znIiytGifquc"
      },
      "source": [
        "blend_specific_hard = blend_models(estimator_list = [tune_rf,tune_ridge,tune_lgb], method = 'hard') "
      ],
      "execution_count": null,
      "outputs": []
    },
    {
      "cell_type": "code",
      "metadata": {
        "id": "czfMS8-Qfqwx"
      },
      "source": [
        "blend_specific_soft = blend_models(estimator_list = [tune_rf,tune_et,tune_lgb], method = 'soft') #those who support predict prob "
      ],
      "execution_count": null,
      "outputs": []
    },
    {
      "cell_type": "code",
      "metadata": {
        "id": "NO4-8BfZQnVU"
      },
      "source": [
        "plot_model(estimator=tune_et, plot='feature')"
      ],
      "execution_count": null,
      "outputs": []
    },
    {
      "cell_type": "code",
      "metadata": {
        "id": "CSwHgIUSQoGl"
      },
      "source": [
        "plot_model(tune_et, plot = 'confusion_matrix')"
      ],
      "execution_count": null,
      "outputs": []
    },
    {
      "cell_type": "code",
      "metadata": {
        "id": "BxtN_yLwQoJ4"
      },
      "source": [
        "final_tune_rf = finalize_model(tune_rf)"
      ],
      "execution_count": null,
      "outputs": []
    },
    {
      "cell_type": "code",
      "metadata": {
        "id": "5UL6u_5Bm1T1"
      },
      "source": [
        "final_tune_rf = finalize_model(tune_rf)"
      ],
      "execution_count": null,
      "outputs": []
    },
    {
      "cell_type": "code",
      "metadata": {
        "id": "cvsHUMsQm1ZJ"
      },
      "source": [
        "final_tune_rf = finalize_model(tune_rf)"
      ],
      "execution_count": null,
      "outputs": []
    },
    {
      "cell_type": "code",
      "metadata": {
        "id": "4akZz3vDm1fC"
      },
      "source": [
        "final_tune_rf = finalize_model(tune_rf)"
      ],
      "execution_count": null,
      "outputs": []
    },
    {
      "cell_type": "code",
      "metadata": {
        "id": "LGxSHrsdm1kM"
      },
      "source": [
        "final_tune_rf = finalize_model(tune_rf)"
      ],
      "execution_count": null,
      "outputs": []
    },
    {
      "cell_type": "code",
      "metadata": {
        "id": "vZQyO3PXQoMa"
      },
      "source": [
        "predict_model(estimator, data=final_df_test,verbose=True)"
      ],
      "execution_count": null,
      "outputs": []
    },
    {
      "cell_type": "code",
      "metadata": {
        "id": "GZhzCwkBQyq5"
      },
      "source": [
        ""
      ],
      "execution_count": null,
      "outputs": []
    },
    {
      "cell_type": "code",
      "metadata": {
        "id": "W13Fla6rQyt7"
      },
      "source": [
        ""
      ],
      "execution_count": null,
      "outputs": []
    },
    {
      "cell_type": "code",
      "metadata": {
        "id": "b4V04BN9Qywx"
      },
      "source": [
        "submisson = pd.read_csv('/content/drive/MyDrive/LTFSDSFinHack3/sample_submission_ejm25Dc.csv')"
      ],
      "execution_count": null,
      "outputs": []
    },
    {
      "cell_type": "code",
      "metadata": {
        "id": "Zv_JA7uGl417"
      },
      "source": [
        ""
      ],
      "execution_count": null,
      "outputs": []
    },
    {
      "cell_type": "code",
      "metadata": {
        "id": "j0PgvSNrl46Q"
      },
      "source": [
        "submission['Top-up Month'] = predict_tune...['Top-up Month']"
      ],
      "execution_count": null,
      "outputs": []
    },
    {
      "cell_type": "code",
      "metadata": {
        "id": "6kMV2b7Hl5A8"
      },
      "source": [
        "mapping_dict = {'No Top-up Service':0, '12-18 Months':1,'18-24 Months':2, '24-30 Months':3, \r\n",
        "                '30-36 Months':4,'36-48 Months':5,' > 48 Months':6}"
      ],
      "execution_count": null,
      "outputs": []
    },
    {
      "cell_type": "code",
      "metadata": {
        "id": "g24TuL7Wl5GJ"
      },
      "source": [
        "submission['Top-up Month'] = submission['Top-up Month'].replace(mapping_dict) "
      ],
      "execution_count": null,
      "outputs": []
    },
    {
      "cell_type": "code",
      "metadata": {
        "id": "1sZGX2h6nLdL"
      },
      "source": [
        ""
      ],
      "execution_count": null,
      "outputs": []
    },
    {
      "cell_type": "code",
      "metadata": {
        "id": "WmgDvU2tnLhc"
      },
      "source": [
        ""
      ],
      "execution_count": null,
      "outputs": []
    },
    {
      "cell_type": "code",
      "metadata": {
        "id": "reTPj9FmnLow"
      },
      "source": [
        ""
      ],
      "execution_count": null,
      "outputs": []
    },
    {
      "cell_type": "code",
      "metadata": {
        "id": "5UXGYWc5nLt1"
      },
      "source": [
        ""
      ],
      "execution_count": null,
      "outputs": []
    }
  ]
}