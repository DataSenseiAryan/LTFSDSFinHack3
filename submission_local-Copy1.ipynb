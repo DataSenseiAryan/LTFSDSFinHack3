{
 "cells": [
  {
   "cell_type": "code",
   "execution_count": 1,
   "metadata": {
    "id": "RC4Z0qg9Lrmz"
   },
   "outputs": [],
   "source": [
    "import pandas as pd\n",
    "import numpy as np\n",
    "import seaborn as sns\n",
    "import matplotlib.pyplot as plt\n",
    "from sklearn.preprocessing import KBinsDiscretizer\n",
    "from sklearn.cluster import KMeans\n",
    "from scipy.spatial.distance import cdist\n",
    "from functools import reduce\n",
    "from datetime import datetime, timedelta\n",
    "from pycaret.classification import *"
   ]
  },
  {
   "cell_type": "code",
   "execution_count": 2,
   "metadata": {
    "id": "GsC3kwoIKe-i"
   },
   "outputs": [],
   "source": [
    "train_b = pd.read_excel('Train/train_bureau.xlsx')"
   ]
  },
  {
   "cell_type": "code",
   "execution_count": 3,
   "metadata": {
    "id": "hlmQim9xKe-j"
   },
   "outputs": [],
   "source": [
    "train_d = pd.read_excel('Train/train_Data.xlsx')"
   ]
  },
  {
   "cell_type": "code",
   "execution_count": 4,
   "metadata": {
    "id": "itHAMhiVM1rq"
   },
   "outputs": [
    {
     "data": {
      "text/html": [
       "<div>\n",
       "<style scoped>\n",
       "    .dataframe tbody tr th:only-of-type {\n",
       "        vertical-align: middle;\n",
       "    }\n",
       "\n",
       "    .dataframe tbody tr th {\n",
       "        vertical-align: top;\n",
       "    }\n",
       "\n",
       "    .dataframe thead th {\n",
       "        text-align: right;\n",
       "    }\n",
       "</style>\n",
       "<table border=\"1\" class=\"dataframe\">\n",
       "  <thead>\n",
       "    <tr style=\"text-align: right;\">\n",
       "      <th></th>\n",
       "      <th>ID</th>\n",
       "      <th>SELF-INDICATOR</th>\n",
       "      <th>MATCH-TYPE</th>\n",
       "      <th>ACCT-TYPE</th>\n",
       "      <th>CONTRIBUTOR-TYPE</th>\n",
       "      <th>DATE-REPORTED</th>\n",
       "      <th>OWNERSHIP-IND</th>\n",
       "      <th>ACCOUNT-STATUS</th>\n",
       "      <th>DISBURSED-DT</th>\n",
       "      <th>CLOSE-DT</th>\n",
       "      <th>LAST-PAYMENT-DATE</th>\n",
       "      <th>CREDIT-LIMIT/SANC AMT</th>\n",
       "      <th>DISBURSED-AMT/HIGH CREDIT</th>\n",
       "      <th>INSTALLMENT-AMT</th>\n",
       "      <th>CURRENT-BAL</th>\n",
       "      <th>INSTALLMENT-FREQUENCY</th>\n",
       "      <th>OVERDUE-AMT</th>\n",
       "      <th>WRITE-OFF-AMT</th>\n",
       "      <th>ASSET_CLASS</th>\n",
       "      <th>REPORTED DATE - HIST</th>\n",
       "      <th>DPD - HIST</th>\n",
       "      <th>CUR BAL - HIST</th>\n",
       "      <th>AMT OVERDUE - HIST</th>\n",
       "      <th>AMT PAID - HIST</th>\n",
       "      <th>TENURE</th>\n",
       "    </tr>\n",
       "  </thead>\n",
       "  <tbody>\n",
       "    <tr>\n",
       "      <th>0</th>\n",
       "      <td>1</td>\n",
       "      <td>False</td>\n",
       "      <td>PRIMARY</td>\n",
       "      <td>Overdraft</td>\n",
       "      <td>NAB</td>\n",
       "      <td>2018-04-30</td>\n",
       "      <td>Individual</td>\n",
       "      <td>Delinquent</td>\n",
       "      <td>2015-10-05</td>\n",
       "      <td>NaN</td>\n",
       "      <td>2018-02-27</td>\n",
       "      <td>NaN</td>\n",
       "      <td>37,352</td>\n",
       "      <td>NaN</td>\n",
       "      <td>37,873</td>\n",
       "      <td>NaN</td>\n",
       "      <td>37,873</td>\n",
       "      <td>0.0</td>\n",
       "      <td>Standard</td>\n",
       "      <td>20180430,20180331,</td>\n",
       "      <td>030000</td>\n",
       "      <td>37873,12820,</td>\n",
       "      <td>37873,,</td>\n",
       "      <td>,,</td>\n",
       "      <td>NaN</td>\n",
       "    </tr>\n",
       "    <tr>\n",
       "      <th>1</th>\n",
       "      <td>1</td>\n",
       "      <td>False</td>\n",
       "      <td>PRIMARY</td>\n",
       "      <td>Auto Loan (Personal)</td>\n",
       "      <td>NAB</td>\n",
       "      <td>2019-12-31</td>\n",
       "      <td>Individual</td>\n",
       "      <td>Active</td>\n",
       "      <td>2018-03-19</td>\n",
       "      <td>NaN</td>\n",
       "      <td>2019-12-19</td>\n",
       "      <td>NaN</td>\n",
       "      <td>44,000</td>\n",
       "      <td>1,405/Monthly</td>\n",
       "      <td>20,797</td>\n",
       "      <td>F03</td>\n",
       "      <td>NaN</td>\n",
       "      <td>0.0</td>\n",
       "      <td>Standard</td>\n",
       "      <td>20191231,20191130,20191031,20190930,20190831,2...</td>\n",
       "      <td>0000000000000000000000000000000000000000000000...</td>\n",
       "      <td>20797,21988,23174,24341,25504,26648,27780,2891...</td>\n",
       "      <td>,,,,,,,,,,,,,,,,,,,,1452,,</td>\n",
       "      <td>,,,,,,,,,,,,,,,,,,,,,,</td>\n",
       "      <td>36.0</td>\n",
       "    </tr>\n",
       "    <tr>\n",
       "      <th>2</th>\n",
       "      <td>1</td>\n",
       "      <td>True</td>\n",
       "      <td>PRIMARY</td>\n",
       "      <td>Tractor Loan</td>\n",
       "      <td>NBF</td>\n",
       "      <td>2020-01-31</td>\n",
       "      <td>Individual</td>\n",
       "      <td>Active</td>\n",
       "      <td>2019-08-30</td>\n",
       "      <td>NaN</td>\n",
       "      <td>NaT</td>\n",
       "      <td>NaN</td>\n",
       "      <td>1,45,000</td>\n",
       "      <td>NaN</td>\n",
       "      <td>1,16,087</td>\n",
       "      <td>NaN</td>\n",
       "      <td>0</td>\n",
       "      <td>0.0</td>\n",
       "      <td>NaN</td>\n",
       "      <td>20200131,20191231,20191130,20191031,20190930,2...</td>\n",
       "      <td>000000000000000000</td>\n",
       "      <td>116087,116087,145000,145000,145000,145000,</td>\n",
       "      <td>0,0,0,0,0,0,</td>\n",
       "      <td>,,,,,,</td>\n",
       "      <td>NaN</td>\n",
       "    </tr>\n",
       "    <tr>\n",
       "      <th>3</th>\n",
       "      <td>1</td>\n",
       "      <td>True</td>\n",
       "      <td>PRIMARY</td>\n",
       "      <td>Auto Loan (Personal)</td>\n",
       "      <td>NBF</td>\n",
       "      <td>2017-09-30</td>\n",
       "      <td>Individual</td>\n",
       "      <td>Closed</td>\n",
       "      <td>2013-09-27</td>\n",
       "      <td>2017-09-21 00:00:00</td>\n",
       "      <td>NaT</td>\n",
       "      <td>NaN</td>\n",
       "      <td>3,00,000</td>\n",
       "      <td>NaN</td>\n",
       "      <td>0</td>\n",
       "      <td>NaN</td>\n",
       "      <td>0</td>\n",
       "      <td>0.0</td>\n",
       "      <td>NaN</td>\n",
       "      <td>20170930,20170801,20170731,20170630,20170531,2...</td>\n",
       "      <td>000DDD0270260270260270240270270000320000000000...</td>\n",
       "      <td>0,,15925,23754,31494,39147,46713,54194,61590,6...</td>\n",
       "      <td>0,,1014,1014,1014,1014,1014,1014,1014,983,0,92...</td>\n",
       "      <td>,,,,,,,,,,,,,,,,,,,,,,,,,,,,,,,,,,,,,</td>\n",
       "      <td>NaN</td>\n",
       "    </tr>\n",
       "    <tr>\n",
       "      <th>4</th>\n",
       "      <td>1</td>\n",
       "      <td>True</td>\n",
       "      <td>PRIMARY</td>\n",
       "      <td>Tractor Loan</td>\n",
       "      <td>NBF</td>\n",
       "      <td>2016-02-29</td>\n",
       "      <td>Individual</td>\n",
       "      <td>Closed</td>\n",
       "      <td>2012-02-10</td>\n",
       "      <td>2016-02-01 00:00:00</td>\n",
       "      <td>NaT</td>\n",
       "      <td>NaN</td>\n",
       "      <td>2,75,000</td>\n",
       "      <td>NaN</td>\n",
       "      <td>0</td>\n",
       "      <td>NaN</td>\n",
       "      <td>0</td>\n",
       "      <td>0.0</td>\n",
       "      <td>NaN</td>\n",
       "      <td>20160229,20160131,20151231,20151130,20151031,2...</td>\n",
       "      <td>0000000000000000000000000000000000000000000000...</td>\n",
       "      <td>0,0,23658,23321,22989,46321,45662,45012,68030,...</td>\n",
       "      <td>0,0,0,0,0,0,0,0,0,0,0,0,0,0,0,0,0,0,0,0,0,0,0,...</td>\n",
       "      <td>,,,,,,,,,,,,,,,,,,,,,,,,,,,,,,,,,,,,,</td>\n",
       "      <td>NaN</td>\n",
       "    </tr>\n",
       "  </tbody>\n",
       "</table>\n",
       "</div>"
      ],
      "text/plain": [
       "   ID  SELF-INDICATOR MATCH-TYPE             ACCT-TYPE CONTRIBUTOR-TYPE  \\\n",
       "0   1           False    PRIMARY             Overdraft              NAB   \n",
       "1   1           False    PRIMARY  Auto Loan (Personal)              NAB   \n",
       "2   1            True    PRIMARY          Tractor Loan              NBF   \n",
       "3   1            True    PRIMARY  Auto Loan (Personal)              NBF   \n",
       "4   1            True    PRIMARY          Tractor Loan              NBF   \n",
       "\n",
       "  DATE-REPORTED OWNERSHIP-IND ACCOUNT-STATUS DISBURSED-DT  \\\n",
       "0    2018-04-30    Individual     Delinquent   2015-10-05   \n",
       "1    2019-12-31    Individual         Active   2018-03-19   \n",
       "2    2020-01-31    Individual         Active   2019-08-30   \n",
       "3    2017-09-30    Individual         Closed   2013-09-27   \n",
       "4    2016-02-29    Individual         Closed   2012-02-10   \n",
       "\n",
       "              CLOSE-DT LAST-PAYMENT-DATE CREDIT-LIMIT/SANC AMT  \\\n",
       "0                  NaN        2018-02-27                   NaN   \n",
       "1                  NaN        2019-12-19                   NaN   \n",
       "2                  NaN               NaT                   NaN   \n",
       "3  2017-09-21 00:00:00               NaT                   NaN   \n",
       "4  2016-02-01 00:00:00               NaT                   NaN   \n",
       "\n",
       "  DISBURSED-AMT/HIGH CREDIT INSTALLMENT-AMT CURRENT-BAL INSTALLMENT-FREQUENCY  \\\n",
       "0                    37,352             NaN      37,873                   NaN   \n",
       "1                    44,000   1,405/Monthly      20,797                   F03   \n",
       "2                  1,45,000             NaN    1,16,087                   NaN   \n",
       "3                  3,00,000             NaN           0                   NaN   \n",
       "4                  2,75,000             NaN           0                   NaN   \n",
       "\n",
       "  OVERDUE-AMT  WRITE-OFF-AMT ASSET_CLASS  \\\n",
       "0      37,873            0.0    Standard   \n",
       "1         NaN            0.0    Standard   \n",
       "2           0            0.0         NaN   \n",
       "3           0            0.0         NaN   \n",
       "4           0            0.0         NaN   \n",
       "\n",
       "                                REPORTED DATE - HIST  \\\n",
       "0                                 20180430,20180331,   \n",
       "1  20191231,20191130,20191031,20190930,20190831,2...   \n",
       "2  20200131,20191231,20191130,20191031,20190930,2...   \n",
       "3  20170930,20170801,20170731,20170630,20170531,2...   \n",
       "4  20160229,20160131,20151231,20151130,20151031,2...   \n",
       "\n",
       "                                          DPD - HIST  \\\n",
       "0                                             030000   \n",
       "1  0000000000000000000000000000000000000000000000...   \n",
       "2                                 000000000000000000   \n",
       "3  000DDD0270260270260270240270270000320000000000...   \n",
       "4  0000000000000000000000000000000000000000000000...   \n",
       "\n",
       "                                      CUR BAL - HIST  \\\n",
       "0                                       37873,12820,   \n",
       "1  20797,21988,23174,24341,25504,26648,27780,2891...   \n",
       "2         116087,116087,145000,145000,145000,145000,   \n",
       "3  0,,15925,23754,31494,39147,46713,54194,61590,6...   \n",
       "4  0,0,23658,23321,22989,46321,45662,45012,68030,...   \n",
       "\n",
       "                                  AMT OVERDUE - HIST  \\\n",
       "0                                            37873,,   \n",
       "1                         ,,,,,,,,,,,,,,,,,,,,1452,,   \n",
       "2                                       0,0,0,0,0,0,   \n",
       "3  0,,1014,1014,1014,1014,1014,1014,1014,983,0,92...   \n",
       "4  0,0,0,0,0,0,0,0,0,0,0,0,0,0,0,0,0,0,0,0,0,0,0,...   \n",
       "\n",
       "                         AMT PAID - HIST  TENURE  \n",
       "0                                     ,,     NaN  \n",
       "1                 ,,,,,,,,,,,,,,,,,,,,,,    36.0  \n",
       "2                                 ,,,,,,     NaN  \n",
       "3  ,,,,,,,,,,,,,,,,,,,,,,,,,,,,,,,,,,,,,     NaN  \n",
       "4  ,,,,,,,,,,,,,,,,,,,,,,,,,,,,,,,,,,,,,     NaN  "
      ]
     },
     "execution_count": 4,
     "metadata": {},
     "output_type": "execute_result"
    }
   ],
   "source": [
    "train_b.head()"
   ]
  },
  {
   "cell_type": "code",
   "execution_count": 5,
   "metadata": {
    "id": "jo2T4hESKe-k"
   },
   "outputs": [],
   "source": [
    "test_d = pd.read_excel('Test/test_Data.xlsx')"
   ]
  },
  {
   "cell_type": "code",
   "execution_count": 6,
   "metadata": {
    "id": "ehOC9H5cKe-l"
   },
   "outputs": [],
   "source": [
    "test_b = pd.read_excel('Test/test_bureau.xlsx')"
   ]
  },
  {
   "cell_type": "code",
   "execution_count": 8,
   "metadata": {
    "colab": {
     "base_uri": "https://localhost:8080/",
     "height": 377
    },
    "id": "ozjM_dHKTgk5",
    "outputId": "4fecbde7-0f18-4907-d4ac-eb6865c35ab6"
   },
   "outputs": [
    {
     "data": {
      "text/html": [
       "<div>\n",
       "<style scoped>\n",
       "    .dataframe tbody tr th:only-of-type {\n",
       "        vertical-align: middle;\n",
       "    }\n",
       "\n",
       "    .dataframe tbody tr th {\n",
       "        vertical-align: top;\n",
       "    }\n",
       "\n",
       "    .dataframe thead th {\n",
       "        text-align: right;\n",
       "    }\n",
       "</style>\n",
       "<table border=\"1\" class=\"dataframe\">\n",
       "  <thead>\n",
       "    <tr style=\"text-align: right;\">\n",
       "      <th></th>\n",
       "      <th>ID</th>\n",
       "      <th>SELF-INDICATOR</th>\n",
       "      <th>MATCH-TYPE</th>\n",
       "      <th>ACCT-TYPE</th>\n",
       "      <th>CONTRIBUTOR-TYPE</th>\n",
       "      <th>DATE-REPORTED</th>\n",
       "      <th>OWNERSHIP-IND</th>\n",
       "      <th>ACCOUNT-STATUS</th>\n",
       "      <th>DISBURSED-DT</th>\n",
       "      <th>CLOSE-DT</th>\n",
       "      <th>LAST-PAYMENT-DATE</th>\n",
       "      <th>CREDIT-LIMIT/SANC AMT</th>\n",
       "      <th>DISBURSED-AMT/HIGH CREDIT</th>\n",
       "      <th>INSTALLMENT-AMT</th>\n",
       "      <th>CURRENT-BAL</th>\n",
       "      <th>INSTALLMENT-FREQUENCY</th>\n",
       "      <th>OVERDUE-AMT</th>\n",
       "      <th>WRITE-OFF-AMT</th>\n",
       "      <th>ASSET_CLASS</th>\n",
       "      <th>REPORTED DATE - HIST</th>\n",
       "      <th>DPD - HIST</th>\n",
       "      <th>CUR BAL - HIST</th>\n",
       "      <th>AMT OVERDUE - HIST</th>\n",
       "      <th>AMT PAID - HIST</th>\n",
       "      <th>TENURE</th>\n",
       "    </tr>\n",
       "  </thead>\n",
       "  <tbody>\n",
       "    <tr>\n",
       "      <th>0</th>\n",
       "      <td>4</td>\n",
       "      <td>False</td>\n",
       "      <td>PRIMARY</td>\n",
       "      <td>Credit Card</td>\n",
       "      <td>CCC</td>\n",
       "      <td>2019-11-17</td>\n",
       "      <td>Individual</td>\n",
       "      <td>Active</td>\n",
       "      <td>2019-09-26</td>\n",
       "      <td>NaN</td>\n",
       "      <td>NaT</td>\n",
       "      <td>10,000</td>\n",
       "      <td>588</td>\n",
       "      <td>NaN</td>\n",
       "      <td>589</td>\n",
       "      <td>NaN</td>\n",
       "      <td>0</td>\n",
       "      <td>0.0</td>\n",
       "      <td>NaN</td>\n",
       "      <td>20191117,</td>\n",
       "      <td>000</td>\n",
       "      <td>589,</td>\n",
       "      <td>0,</td>\n",
       "      <td>0,</td>\n",
       "      <td>NaN</td>\n",
       "    </tr>\n",
       "    <tr>\n",
       "      <th>1</th>\n",
       "      <td>4</td>\n",
       "      <td>False</td>\n",
       "      <td>PRIMARY</td>\n",
       "      <td>Housing Loan</td>\n",
       "      <td>HFC</td>\n",
       "      <td>2019-10-31</td>\n",
       "      <td>Joint</td>\n",
       "      <td>Active</td>\n",
       "      <td>2017-06-21</td>\n",
       "      <td>NaN</td>\n",
       "      <td>2019-10-15</td>\n",
       "      <td>NaN</td>\n",
       "      <td>25,00,000</td>\n",
       "      <td>30,797/Monthly</td>\n",
       "      <td>21,07,227</td>\n",
       "      <td>F03</td>\n",
       "      <td>0</td>\n",
       "      <td>0.0</td>\n",
       "      <td>NaN</td>\n",
       "      <td>20191031,20190930,20190831,20190731,20190630,2...</td>\n",
       "      <td>0000000000000000000000000000000000000000000000...</td>\n",
       "      <td>2107227,2122196,2136877,2151448,2165910,218026...</td>\n",
       "      <td>0,0,0,0,0,0,0,0,0,0,0,0,0,0,0,0,0,0,0,0,0,0,0,...</td>\n",
       "      <td>,,,,,,,,,,,,,,,,,,,,,,,,,,,,,</td>\n",
       "      <td>120.0</td>\n",
       "    </tr>\n",
       "    <tr>\n",
       "      <th>2</th>\n",
       "      <td>4</td>\n",
       "      <td>False</td>\n",
       "      <td>PRIMARY</td>\n",
       "      <td>Property Loan</td>\n",
       "      <td>HFC</td>\n",
       "      <td>2019-10-31</td>\n",
       "      <td>Joint</td>\n",
       "      <td>Active</td>\n",
       "      <td>2017-06-27</td>\n",
       "      <td>NaN</td>\n",
       "      <td>2019-10-15</td>\n",
       "      <td>NaN</td>\n",
       "      <td>99,000</td>\n",
       "      <td>1,223/Monthly</td>\n",
       "      <td>83,458</td>\n",
       "      <td>F03</td>\n",
       "      <td>0</td>\n",
       "      <td>0.0</td>\n",
       "      <td>NaN</td>\n",
       "      <td>20191031,20190930,20190831,20190731,20190630,2...</td>\n",
       "      <td>0000000000000000000000000000000000000000000000...</td>\n",
       "      <td>83458,84051,84632,85209,85781,86349,86913,8747...</td>\n",
       "      <td>0,0,0,0,0,0,0,0,0,0,0,0,0,0,0,0,0,0,0,0,0,0,0,...</td>\n",
       "      <td>,,,,,,,,,,,,,,,,,,,,,,,,,,,,,</td>\n",
       "      <td>120.0</td>\n",
       "    </tr>\n",
       "    <tr>\n",
       "      <th>3</th>\n",
       "      <td>4</td>\n",
       "      <td>True</td>\n",
       "      <td>PRIMARY</td>\n",
       "      <td>Tractor Loan</td>\n",
       "      <td>NBF</td>\n",
       "      <td>2015-10-31</td>\n",
       "      <td>Individual</td>\n",
       "      <td>Closed</td>\n",
       "      <td>2011-12-29</td>\n",
       "      <td>2015-10-13 00:00:00</td>\n",
       "      <td>NaT</td>\n",
       "      <td>NaN</td>\n",
       "      <td>3,65,000</td>\n",
       "      <td>NaN</td>\n",
       "      <td>0</td>\n",
       "      <td>NaN</td>\n",
       "      <td>0</td>\n",
       "      <td>0.0</td>\n",
       "      <td>NaN</td>\n",
       "      <td>20151031,20150901,20150831,20150731,20150630,2...</td>\n",
       "      <td>000DDD0270000000000000000000000000000000000000...</td>\n",
       "      <td>0,,21548,32097,42500,52758,62874,72850,82688,9...</td>\n",
       "      <td>0,,11000,0,0,0,0,0,0,0,0,0,0,0,0,0,0,0,0,0,0,0...</td>\n",
       "      <td>,,,,,,,,,,,,,,,,,,,,,,,,,,,,,,,,,,,,,</td>\n",
       "      <td>NaN</td>\n",
       "    </tr>\n",
       "    <tr>\n",
       "      <th>4</th>\n",
       "      <td>5</td>\n",
       "      <td>False</td>\n",
       "      <td>PRIMARY</td>\n",
       "      <td>Gold Loan</td>\n",
       "      <td>PRB</td>\n",
       "      <td>2017-08-31</td>\n",
       "      <td>Individual</td>\n",
       "      <td>Closed</td>\n",
       "      <td>2016-05-04</td>\n",
       "      <td>2017-06-15 00:00:00</td>\n",
       "      <td>2017-06-15</td>\n",
       "      <td>NaN</td>\n",
       "      <td>25,801</td>\n",
       "      <td>NaN</td>\n",
       "      <td>0</td>\n",
       "      <td>NaN</td>\n",
       "      <td>0</td>\n",
       "      <td>0.0</td>\n",
       "      <td>NaN</td>\n",
       "      <td>20170630,20170501,20170401,20170331,20170201,2...</td>\n",
       "      <td>000DDDDDD000DDDDDD000DDDDDD000DDDDDD000</td>\n",
       "      <td>0,,,25846,,,25846,,,25846,,,25846,</td>\n",
       "      <td>0,,,0,,,0,,,0,,,0</td>\n",
       "      <td>,,,,,,,,,,,,,,</td>\n",
       "      <td>NaN</td>\n",
       "    </tr>\n",
       "  </tbody>\n",
       "</table>\n",
       "</div>"
      ],
      "text/plain": [
       "   ID  SELF-INDICATOR MATCH-TYPE      ACCT-TYPE CONTRIBUTOR-TYPE  \\\n",
       "0   4           False    PRIMARY    Credit Card              CCC   \n",
       "1   4           False    PRIMARY   Housing Loan              HFC   \n",
       "2   4           False    PRIMARY  Property Loan              HFC   \n",
       "3   4            True    PRIMARY   Tractor Loan              NBF   \n",
       "4   5           False    PRIMARY      Gold Loan              PRB   \n",
       "\n",
       "  DATE-REPORTED OWNERSHIP-IND ACCOUNT-STATUS DISBURSED-DT  \\\n",
       "0    2019-11-17    Individual         Active   2019-09-26   \n",
       "1    2019-10-31         Joint         Active   2017-06-21   \n",
       "2    2019-10-31         Joint         Active   2017-06-27   \n",
       "3    2015-10-31    Individual         Closed   2011-12-29   \n",
       "4    2017-08-31    Individual         Closed   2016-05-04   \n",
       "\n",
       "              CLOSE-DT LAST-PAYMENT-DATE CREDIT-LIMIT/SANC AMT  \\\n",
       "0                  NaN               NaT                10,000   \n",
       "1                  NaN        2019-10-15                   NaN   \n",
       "2                  NaN        2019-10-15                   NaN   \n",
       "3  2015-10-13 00:00:00               NaT                   NaN   \n",
       "4  2017-06-15 00:00:00        2017-06-15                   NaN   \n",
       "\n",
       "  DISBURSED-AMT/HIGH CREDIT INSTALLMENT-AMT CURRENT-BAL INSTALLMENT-FREQUENCY  \\\n",
       "0                       588             NaN         589                   NaN   \n",
       "1                 25,00,000  30,797/Monthly   21,07,227                   F03   \n",
       "2                    99,000   1,223/Monthly      83,458                   F03   \n",
       "3                  3,65,000             NaN           0                   NaN   \n",
       "4                    25,801             NaN           0                   NaN   \n",
       "\n",
       "  OVERDUE-AMT  WRITE-OFF-AMT ASSET_CLASS  \\\n",
       "0           0            0.0         NaN   \n",
       "1           0            0.0         NaN   \n",
       "2           0            0.0         NaN   \n",
       "3           0            0.0         NaN   \n",
       "4           0            0.0         NaN   \n",
       "\n",
       "                                REPORTED DATE - HIST  \\\n",
       "0                                          20191117,   \n",
       "1  20191031,20190930,20190831,20190731,20190630,2...   \n",
       "2  20191031,20190930,20190831,20190731,20190630,2...   \n",
       "3  20151031,20150901,20150831,20150731,20150630,2...   \n",
       "4  20170630,20170501,20170401,20170331,20170201,2...   \n",
       "\n",
       "                                          DPD - HIST  \\\n",
       "0                                                000   \n",
       "1  0000000000000000000000000000000000000000000000...   \n",
       "2  0000000000000000000000000000000000000000000000...   \n",
       "3  000DDD0270000000000000000000000000000000000000...   \n",
       "4            000DDDDDD000DDDDDD000DDDDDD000DDDDDD000   \n",
       "\n",
       "                                      CUR BAL - HIST  \\\n",
       "0                                               589,   \n",
       "1  2107227,2122196,2136877,2151448,2165910,218026...   \n",
       "2  83458,84051,84632,85209,85781,86349,86913,8747...   \n",
       "3  0,,21548,32097,42500,52758,62874,72850,82688,9...   \n",
       "4                 0,,,25846,,,25846,,,25846,,,25846,   \n",
       "\n",
       "                                  AMT OVERDUE - HIST  \\\n",
       "0                                                 0,   \n",
       "1  0,0,0,0,0,0,0,0,0,0,0,0,0,0,0,0,0,0,0,0,0,0,0,...   \n",
       "2  0,0,0,0,0,0,0,0,0,0,0,0,0,0,0,0,0,0,0,0,0,0,0,...   \n",
       "3  0,,11000,0,0,0,0,0,0,0,0,0,0,0,0,0,0,0,0,0,0,0...   \n",
       "4                                  0,,,0,,,0,,,0,,,0   \n",
       "\n",
       "                         AMT PAID - HIST  TENURE  \n",
       "0                                     0,     NaN  \n",
       "1          ,,,,,,,,,,,,,,,,,,,,,,,,,,,,,   120.0  \n",
       "2          ,,,,,,,,,,,,,,,,,,,,,,,,,,,,,   120.0  \n",
       "3  ,,,,,,,,,,,,,,,,,,,,,,,,,,,,,,,,,,,,,     NaN  \n",
       "4                         ,,,,,,,,,,,,,,     NaN  "
      ]
     },
     "execution_count": 8,
     "metadata": {},
     "output_type": "execute_result"
    }
   ],
   "source": [
    "test_b.head()"
   ]
  },
  {
   "cell_type": "code",
   "execution_count": 172,
   "metadata": {
    "id": "tvFpyPjwKe-l"
   },
   "outputs": [],
   "source": [
    "train_bb = train_b.copy()"
   ]
  },
  {
   "cell_type": "code",
   "execution_count": 173,
   "metadata": {
    "id": "wfyNbMkeKe-m"
   },
   "outputs": [],
   "source": [
    "test_bb = test_b.copy()"
   ]
  },
  {
   "cell_type": "code",
   "execution_count": 174,
   "metadata": {
    "id": "deS98dYBKe-n"
   },
   "outputs": [],
   "source": [
    "# Data Treatment:\n",
    "#     -categorical vars"
   ]
  },
  {
   "cell_type": "code",
   "execution_count": 175,
   "metadata": {
    "id": "vMpmrn9dKe-n"
   },
   "outputs": [],
   "source": [
    "# id -dont do it\n",
    "# self indiactor -nochange\n",
    "# match type- not req\n",
    "# acct type -required 3 columns chosen for remaning crosstab then combine cols\n",
    "    \n",
    " #contributor type ARC is not ptesent in test so crosstab and then delete arc   \n",
    "# ownership indicator no rpoblem\n",
    "# account status not present in test Sold/Purchased ,Cancelled cross tab then delete                            \n",
    "# credit limit CREDIT-LIMIT/SANC AMT  DISBURSED-AMT/HIGH CREDIT kbindiscretization\n",
    "# installment not present in test data F04 F07  F08 crosstab then delete it\n",
    "# asset class 2 not ptresent in test crosstab and remove it"
   ]
  },
  {
   "cell_type": "code",
   "execution_count": 176,
   "metadata": {
    "colab": {
     "base_uri": "https://localhost:8080/"
    },
    "id": "DI1glhuESvJv",
    "outputId": "a3cfd49c-4d1f-4e7c-874d-2240aa7dab7c"
   },
   "outputs": [
    {
     "data": {
      "text/plain": [
       "0              1\n",
       "1              1\n",
       "2              1\n",
       "3              1\n",
       "4              1\n",
       "           ...  \n",
       "560839    143393\n",
       "560840    143393\n",
       "560841    143393\n",
       "560842    143394\n",
       "560843    143395\n",
       "Name: ID, Length: 560844, dtype: int64"
      ]
     },
     "execution_count": 176,
     "metadata": {},
     "output_type": "execute_result"
    }
   ],
   "source": [
    "train_b.ID"
   ]
  },
  {
   "cell_type": "code",
   "execution_count": 177,
   "metadata": {
    "id": "4Bxb30sUKe-p"
   },
   "outputs": [],
   "source": [
    "train_SELF_INDICATOR=pd.crosstab(train_b.ID,train_b['SELF-INDICATOR'],dropna= True).reset_index()\n",
    "test_SELF_INDICATOR=pd.crosstab(test_b.ID,test_b['SELF-INDICATOR'],dropna= True).reset_index()"
   ]
  },
  {
   "cell_type": "code",
   "execution_count": 178,
   "metadata": {
    "id": "QoIApJX5Ke-p"
   },
   "outputs": [],
   "source": [
    "train_MATCH_TYPE=pd.crosstab(train_b.ID,train_b['MATCH-TYPE'],dropna= True).reset_index()\n",
    "test_MATCH_TYPE=pd.crosstab(test_b.ID,test_b['MATCH-TYPE'],dropna= True).reset_index()"
   ]
  },
  {
   "cell_type": "code",
   "execution_count": 179,
   "metadata": {
    "colab": {
     "base_uri": "https://localhost:8080/"
    },
    "id": "7CMmOx4jKe-p",
    "outputId": "a975bd6e-49a8-4fdc-ca0b-d183fc29897c"
   },
   "outputs": [
    {
     "name": "stdout",
     "output_type": "stream",
     "text": [
      "['Property Loan', 'Tractor Loan', 'Business Loan Against Bank Deposits', 'JLG Individual', 'Business Loan Priority Sector  Small Business', 'Business Loan Unsecured', 'SHG Individual', 'Construction Equipment Loan', 'Pradhan Mantri Awas Yojana - CLSS', 'Fleet Card', 'Business Loan - Secured', 'Credit Card', 'Microfinance Others', 'Used Car Loan', 'Mudra Loans   Shishu / Kishor / Tarun', 'Two-Wheeler Loan', 'Business Loan Priority Sector  Others', 'Business Loan General', 'Housing Loan', 'Consumer Loan', 'Corporate Credit Card', 'Overdraft', 'Business Non-Funded Credit Facility-Priority Sector- Small Business', 'Loan Against Bank Deposits', 'Microfinance Business Loan', 'Business Non-Funded Credit Facility-Priority Sector-Agriculture', 'Commercial Equipment Loan', 'Commercial Vehicle Loan', 'Non-Funded Credit Facility', 'Microfinance Housing Loan', 'Gold Loan', 'Loan Against Shares / Securities', 'Secured Credit Card', 'Business Loan Priority Sector  Agriculture', 'Prime Minister Jaan Dhan Yojana - Overdraft', 'Microfinance Personal Loan', 'Other', 'Personal Loan', 'Education Loan', 'Loan to Professional', 'Individual', 'Business Non-Funded Credit Facility General', 'Kisan Credit Card', 'Auto Loan (Personal)']\n"
     ]
    }
   ],
   "source": [
    "x = set(train_bb['ACCT-TYPE'].unique())  \n",
    "y = set(test_bb['ACCT-TYPE'].unique()) \n",
    "common = x.intersection(y)\n",
    "print(list(common)) #now decide cols to keep "
   ]
  },
  {
   "cell_type": "code",
   "execution_count": 180,
   "metadata": {
    "id": "wAAakmzvKe-q"
   },
   "outputs": [],
   "source": [
    "train_ACCT_TYPE=pd.crosstab(train_b.ID,train_b['ACCT-TYPE'],dropna= True).reset_index()\n",
    "test_ACCT_TYPE=pd.crosstab(test_b.ID,test_b['ACCT-TYPE'],dropna= True).reset_index()\n",
    "\n",
    "cols_to_keep =['Tractor Loan','Gold Loan','Business Loan Priority Sector  Agriculture']\n",
    "\n",
    "train_ACCT_TYPE[\"Others\"] = pd.DataFrame(train_ACCT_TYPE.drop(columns=cols_to_keep).sum(axis=1))\n",
    "test_ACCT_TYPE[\"Others\"] = pd.DataFrame(test_ACCT_TYPE.drop(columns=cols_to_keep).sum(axis=1))\n",
    "filter_cols =cols_to_keep + ['Others','ID'] \n",
    "train_ACCT_TYPE = train_ACCT_TYPE.filter(filter_cols)\n",
    "test_ACCT_TYPE = test_ACCT_TYPE.filter(filter_cols)"
   ]
  },
  {
   "cell_type": "code",
   "execution_count": 181,
   "metadata": {
    "id": "Sh67auIEKe-r"
   },
   "outputs": [],
   "source": [
    "train_CONTRIBUTOR_TYPE=pd.crosstab(train_b.ID,train_b['CONTRIBUTOR-TYPE'],dropna= True).drop(columns = ['ARC']).reset_index()\n",
    "test_CONTRIBUTOR_TYPE=pd.crosstab(test_b.ID,test_b['CONTRIBUTOR-TYPE'],dropna= True).reset_index()\n"
   ]
  },
  {
   "cell_type": "code",
   "execution_count": 182,
   "metadata": {
    "id": "gNzNgU45Ke-r"
   },
   "outputs": [],
   "source": [
    "train_OWNERSHIP_IND=pd.crosstab(train_b.ID,train_b['OWNERSHIP-IND'],dropna= True).reset_index()\n",
    "test_OWNERSHIP_IND=pd.crosstab(test_b.ID,test_b['OWNERSHIP-IND'],dropna= True).reset_index()\n"
   ]
  },
  {
   "cell_type": "code",
   "execution_count": 183,
   "metadata": {
    "id": "yU0l8ivWKe-r"
   },
   "outputs": [],
   "source": [
    "train_ACCOUNT_STATUS=pd.crosstab(train_b.ID,train_b['ACCOUNT-STATUS'],dropna= True).drop(columns=['Sold/Purchased','Cancelled']).reset_index()\n",
    "test_ACCOUNT_STATUS=pd.crosstab(test_b.ID,test_b['ACCOUNT-STATUS'],dropna= True).reset_index()\n"
   ]
  },
  {
   "cell_type": "code",
   "execution_count": 184,
   "metadata": {
    "id": "ppRjO7M5Ke-s"
   },
   "outputs": [],
   "source": [
    "train_INSTALLMENT_FREQUENCY=pd.crosstab(train_b.ID,train_b['INSTALLMENT-FREQUENCY'],dropna= True).drop(columns=['F04','F07','F08']).reset_index()\n",
    "test_INSTALLMENT_FREQUENCY=pd.crosstab(test_b.ID,test_b['INSTALLMENT-FREQUENCY'],dropna= True).reset_index()"
   ]
  },
  {
   "cell_type": "code",
   "execution_count": 185,
   "metadata": {
    "id": "pgF2Vch6Ke-s"
   },
   "outputs": [],
   "source": [
    "train_ASSET_CLASS=pd.crosstab(train_b.ID,train_b['ASSET_CLASS'],dropna= True).drop(columns=['2']).reset_index()\n",
    "test_ASSET_CLASS=pd.crosstab(test_b.ID,test_b['ASSET_CLASS'],dropna= True).reset_index()"
   ]
  },
  {
   "cell_type": "code",
   "execution_count": 186,
   "metadata": {
    "id": "1teJ7t4RKe-t"
   },
   "outputs": [],
   "source": [
    "def onehotencoder(train,test,cols=[]):\n",
    "    \n",
    "    from sklearn.preprocessing import OneHotEncoder\n",
    "    #object_cols = catVar1(train) #catVar1 gives desired categorical column and not all object columns\n",
    "    object_cols=cols\n",
    "    print(object_cols)\n",
    "    \n",
    "    OH_encoder = OneHotEncoder(handle_unknown='ignore', sparse=False)\n",
    "    OH_cols_train = pd.DataFrame(OH_encoder.fit_transform(train[object_cols]))\n",
    "    OH_cols_test = pd.DataFrame(OH_encoder.transform(test[object_cols]))\n",
    "\n",
    "    # One-hot encoding removed index; put it back\n",
    "    OH_cols_train.index = train.index\n",
    "    OH_cols_test.index = test.index\n",
    "\n",
    "    ##hack for restoring columns names just like get dummies\n",
    "    column_name = OH_encoder.get_feature_names(object_cols)\n",
    "    OH_cols_train.columns = column_name\n",
    "    OH_cols_test.columns = column_name\n",
    "    \n",
    "\n",
    "    # Remove desired categorical columns (will replace with one-hot encoding)\n",
    "    num_train = train.drop(object_cols, axis=1)\n",
    "    num_test = test.drop(object_cols, axis=1)\n",
    "\n",
    "    # Add one-hot encoded columns to numerical/remaining features\n",
    "    OH_train = pd.concat([num_train, OH_cols_train], axis=1)\n",
    "    OH_test = pd.concat([num_test, OH_cols_test], axis=1)\n",
    "    \n",
    "\n",
    "    \n",
    "    print(OH_train.shape,OH_test.shape)\n",
    "    \n",
    "    \n",
    "    return OH_train,OH_test\n",
    "\n",
    "def targetencoding(train,test,y_train,drop=False,cols=[]):\n",
    "    import category_encoders as ce\n",
    "    # Create the encoder itself\n",
    "    cat_features = cols\n",
    "    print(f'targest emcoding for features {cat_features}')\n",
    "    target_enc = ce.TargetEncoder(cols=cat_features)\n",
    "\n",
    "    \n",
    "\n",
    "    # Fit the encoder using the categorical features and target\n",
    "    target_enc.fit(train[cat_features], y_train)\n",
    "    \n",
    "\n",
    "    # Transform the features, rename the columns with _target suffix, and join to dataframe\n",
    "    traintrgtenc = train.join(target_enc.transform(train[cat_features]).add_suffix('_target'))\n",
    "    testtrgtenc = test.join(target_enc.transform(test[cat_features]).add_suffix('_target'))\n",
    "\n",
    "    if drop :\n",
    "        traintrgtenc = traintrgtenc.drop(cat_features, axis =1)\n",
    "        testtrgtenc = testtrgtenc.drop(cat_features, axis =1)\n",
    "\n",
    "    \n",
    "    print(traintrgtenc.shape,testtrgtenc.shape)\n",
    "    \n",
    "    return traintrgtenc,testtrgtenc\n",
    "\n",
    "\n",
    "def ordinalencoding(train,test,y_train,mapping,drop=False,cols=[]):\n",
    "    import category_encoders as ce\n",
    "    # Create the encoder itself\n",
    "    cat_features = cols\n",
    "    print(f'ordinal encoding for features {cat_features}')\n",
    "    target_enc = ce.OrdinalEncoder(cols=cat_features,mapping = mapping)\n",
    "\n",
    "    \n",
    "\n",
    "    # Fit the encoder using the categorical features and target\n",
    "    target_enc.fit(train[cat_features], y_train)\n",
    "    \n",
    "\n",
    "    # Transform the features, rename the columns with _target suffix, and join to dataframe\n",
    "    traintrgtenc = train.join(target_enc.transform(train[cat_features]).add_suffix('_ordinal'))\n",
    "    testtrgtenc = test.join(target_enc.transform(test[cat_features]).add_suffix('_ordinal'))\n",
    "\n",
    "    if drop :\n",
    "        traintrgtenc = traintrgtenc.drop(cat_features, axis =1)\n",
    "        testtrgtenc = testtrgtenc.drop(cat_features, axis =1)\n",
    "\n",
    "    \n",
    "    print(traintrgtenc.shape,testtrgtenc.shape)\n",
    "    \n",
    "    return traintrgtenc,testtrgtenc"
   ]
  },
  {
   "cell_type": "code",
   "execution_count": 187,
   "metadata": {
    "id": "LaqkZpKTKe-t"
   },
   "outputs": [],
   "source": [
    "train_bb['DISBURSED-AMT/HIGH CREDIT'] = train_b['DISBURSED-AMT/HIGH CREDIT'].str.replace(',', '').astype('float')\n",
    "test_bb['DISBURSED-AMT/HIGH CREDIT'] = test_b['DISBURSED-AMT/HIGH CREDIT'].str.replace(',', '').astype('float')"
   ]
  },
  {
   "cell_type": "code",
   "execution_count": 188,
   "metadata": {
    "id": "PEXzwbLKKe-u"
   },
   "outputs": [],
   "source": [
    "train_bb['CURRENT-BAL'] = train_b['CURRENT-BAL'].fillna(0)\n",
    "test_bb['CURRENT-BAL'] = test_b['CURRENT-BAL'].fillna(0)\n",
    "train_bb['CURRENT-BAL'] = train_b['CURRENT-BAL'].str.replace(',', '').astype('float')\n",
    "test_bb['CURRENT-BAL'] = test_b['CURRENT-BAL'].str.replace(',', '').astype('float')"
   ]
  },
  {
   "cell_type": "code",
   "execution_count": 189,
   "metadata": {
    "id": "xWQx0YMiKe-u"
   },
   "outputs": [],
   "source": [
    "\n",
    "train_CURRENT = train_bb[['CURRENT-BAL','ID']].dropna()\n",
    "test_CURRENT = test_bb[['CURRENT-BAL','ID']].dropna()\n",
    "\n",
    "enc = KBinsDiscretizer(n_bins=4, encode='ordinal', strategy='kmeans')\n",
    "enc.fit(train_bb['CURRENT-BAL'].dropna().values.reshape(-1,1))\n",
    "\n",
    "train_CURRENT['CURRENT-BAL'] = enc.transform(train_CURRENT['CURRENT-BAL'].values.reshape(-1,1))\n",
    "test_CURRENT['CURRENT-BAL']= enc.transform(test_CURRENT['CURRENT-BAL'].values.reshape(-1,1))"
   ]
  },
  {
   "cell_type": "code",
   "execution_count": 190,
   "metadata": {
    "id": "c7Pg3gYgKe-v"
   },
   "outputs": [],
   "source": [
    "train_CURRENT=pd.crosstab(train_CURRENT.ID,train_CURRENT['CURRENT-BAL'],dropna= True).reset_index()\n",
    "test_CURRENT=pd.crosstab(test_CURRENT.ID,test_CURRENT['CURRENT-BAL'],dropna= True).reset_index()\n",
    "test_CURRENT['3.0']=0"
   ]
  },
  {
   "cell_type": "code",
   "execution_count": 191,
   "metadata": {},
   "outputs": [],
   "source": [
    "# train_CURRENT"
   ]
  },
  {
   "cell_type": "code",
   "execution_count": 192,
   "metadata": {
    "id": "YDh9-VGQKe-v"
   },
   "outputs": [],
   "source": [
    "\n",
    "train_DISBURSED = train_bb[['DISBURSED-AMT/HIGH CREDIT','ID']].dropna()\n",
    "test_DISBURSED = test_bb[['DISBURSED-AMT/HIGH CREDIT','ID']].dropna()\n",
    "\n",
    "enc = KBinsDiscretizer(n_bins=4, encode='ordinal', strategy='kmeans')\n",
    "enc.fit(train_bb['DISBURSED-AMT/HIGH CREDIT'].dropna().values.reshape(-1,1))\n",
    "\n",
    "train_DISBURSED['DISBURSED-AMT/HIGH CREDIT'] = enc.transform(train_DISBURSED['DISBURSED-AMT/HIGH CREDIT'].values.reshape(-1,1))\n",
    "test_DISBURSED['DISBURSED-AMT/HIGH CREDIT']= enc.transform(test_DISBURSED['DISBURSED-AMT/HIGH CREDIT'].values.reshape(-1,1))"
   ]
  },
  {
   "cell_type": "code",
   "execution_count": 193,
   "metadata": {
    "id": "kUohhpDgKe-w"
   },
   "outputs": [],
   "source": [
    "train_DISBURSED=pd.crosstab(train_DISBURSED.ID,train_DISBURSED['DISBURSED-AMT/HIGH CREDIT'],dropna= True).reset_index()\n",
    "test_DISBURSED=pd.crosstab(test_DISBURSED.ID,test_DISBURSED['DISBURSED-AMT/HIGH CREDIT'],dropna= True).reset_index()\n",
    "test_DISBURSED['2.0']=0"
   ]
  },
  {
   "cell_type": "code",
   "execution_count": null,
   "metadata": {},
   "outputs": [],
   "source": []
  },
  {
   "cell_type": "code",
   "execution_count": 194,
   "metadata": {
    "id": "HeA0qp7bKe-x"
   },
   "outputs": [],
   "source": [
    "# #discretisation baes on clusters\n",
    "\n",
    "# train_tenure = train_bb[['TENURE','ID']].dropna()\n",
    "# test_tenure = test_bb[['TENURE','ID']].dropna()\n",
    "\n",
    "# enc = KBinsDiscretizer(n_bins=4, encode='ordinal', strategy='kmeans')\n",
    "# enc.fit(train_bb['TENURE'].dropna().values.reshape(-1,1))\n",
    "\n",
    "# train_tenure['TENURE'] = enc.transform(train_tenure['TENURE'].values.reshape(-1,1))\n",
    "# test_tenure['TENURE']= enc.transform(test_tenure['TENURE'].values.reshape(-1,1))"
   ]
  },
  {
   "cell_type": "code",
   "execution_count": 195,
   "metadata": {
    "id": "fbQ4TLNMKe-x"
   },
   "outputs": [],
   "source": [
    "# train_tenure=pd.crosstab(train_tenure.ID,train_tenure['TENURE'],dropna= True).reset_index()\n",
    "# test_tenure=pd.crosstab(test_tenure.ID,test_tenure['TENURE'],dropna= True).reset_index()\n"
   ]
  },
  {
   "cell_type": "code",
   "execution_count": 196,
   "metadata": {
    "id": "tNcQc5_qUiBK"
   },
   "outputs": [],
   "source": [
    "# train_SELF_INDICATOR\n",
    "# train_INSTALLMENT_FREQUENCY\n",
    "# train_ACCOUNT_STATUS\n",
    "# train_OWNERSHIP_IND\n",
    "# train_CONTRIBUTOR_TYPE\n",
    "# train_ACCT_TYPE"
   ]
  },
  {
   "cell_type": "code",
   "execution_count": 197,
   "metadata": {
    "id": "PzhwHb01Ke-y"
   },
   "outputs": [],
   "source": [
    "dataframes = [train_b.ID,train_SELF_INDICATOR,train_INSTALLMENT_FREQUENCY,train_ACCOUNT_STATUS,train_OWNERSHIP_IND,\n",
    "              train_CONTRIBUTOR_TYPE,train_ACCT_TYPE,train_MATCH_TYPE,train_ASSET_CLASS,train_CURRENT,train_DISBURSED]\n",
    "final_df_train_beauro = reduce(lambda left, right: pd.merge(left, right, on='ID', how='left'), dataframes)\n",
    "\n",
    "final_df_train_beauro = final_df_train_beauro.fillna(0)"
   ]
  },
  {
   "cell_type": "code",
   "execution_count": 198,
   "metadata": {
    "id": "Avyb_HHKKe-z"
   },
   "outputs": [],
   "source": [
    "dataframes = [train_b.ID,train_SELF_INDICATOR,train_INSTALLMENT_FREQUENCY,train_ACCOUNT_STATUS,train_OWNERSHIP_IND,\n",
    "              train_CONTRIBUTOR_TYPE,train_ACCT_TYPE,train_MATCH_TYPE,train_ASSET_CLASS,train_CURRENT,train_DISBURSED]\n",
    "final_df_test_beauro = reduce(lambda left, right: pd.merge(left, right, on='ID', how='left'), dataframes)\n",
    "final_df_test_beauro = final_df_test_beauro.fillna(0)"
   ]
  },
  {
   "cell_type": "code",
   "execution_count": null,
   "metadata": {},
   "outputs": [],
   "source": []
  },
  {
   "cell_type": "code",
   "execution_count": 199,
   "metadata": {
    "id": "HXIOeJ3VKe-z"
   },
   "outputs": [],
   "source": [
    "###### now train data "
   ]
  },
  {
   "cell_type": "code",
   "execution_count": 200,
   "metadata": {
    "id": "AffnBjLvKe-0"
   },
   "outputs": [],
   "source": [
    "train_dd = train_d.copy()\n",
    "test_dd = test_d.copy()"
   ]
  },
  {
   "cell_type": "code",
   "execution_count": 201,
   "metadata": {
    "colab": {
     "base_uri": "https://localhost:8080/",
     "height": 343
    },
    "id": "1F4mQ7-wKe-0",
    "outputId": "4d39bc78-10b0-4427-cb34-1655631e8182"
   },
   "outputs": [
    {
     "data": {
      "text/html": [
       "<div>\n",
       "<style scoped>\n",
       "    .dataframe tbody tr th:only-of-type {\n",
       "        vertical-align: middle;\n",
       "    }\n",
       "\n",
       "    .dataframe tbody tr th {\n",
       "        vertical-align: top;\n",
       "    }\n",
       "\n",
       "    .dataframe thead th {\n",
       "        text-align: right;\n",
       "    }\n",
       "</style>\n",
       "<table border=\"1\" class=\"dataframe\">\n",
       "  <thead>\n",
       "    <tr style=\"text-align: right;\">\n",
       "      <th></th>\n",
       "      <th>ID</th>\n",
       "      <th>Frequency</th>\n",
       "      <th>InstlmentMode</th>\n",
       "      <th>LoanStatus</th>\n",
       "      <th>PaymentMode</th>\n",
       "      <th>BranchID</th>\n",
       "      <th>Area</th>\n",
       "      <th>Tenure</th>\n",
       "      <th>AssetCost</th>\n",
       "      <th>AmountFinance</th>\n",
       "      <th>...</th>\n",
       "      <th>ManufacturerID</th>\n",
       "      <th>SupplierID</th>\n",
       "      <th>LTV</th>\n",
       "      <th>SEX</th>\n",
       "      <th>AGE</th>\n",
       "      <th>MonthlyIncome</th>\n",
       "      <th>City</th>\n",
       "      <th>State</th>\n",
       "      <th>ZiPCODE</th>\n",
       "      <th>Top-up Month</th>\n",
       "    </tr>\n",
       "  </thead>\n",
       "  <tbody>\n",
       "    <tr>\n",
       "      <th>0</th>\n",
       "      <td>1</td>\n",
       "      <td>Monthly</td>\n",
       "      <td>Arrear</td>\n",
       "      <td>Closed</td>\n",
       "      <td>PDC_E</td>\n",
       "      <td>1</td>\n",
       "      <td>NaN</td>\n",
       "      <td>48</td>\n",
       "      <td>450000</td>\n",
       "      <td>275000.0</td>\n",
       "      <td>...</td>\n",
       "      <td>1568</td>\n",
       "      <td>21946</td>\n",
       "      <td>61.11</td>\n",
       "      <td>M</td>\n",
       "      <td>49.0</td>\n",
       "      <td>35833.33</td>\n",
       "      <td>RAISEN</td>\n",
       "      <td>MADHYA PRADESH</td>\n",
       "      <td>464993.0</td>\n",
       "      <td>&gt; 48 Months</td>\n",
       "    </tr>\n",
       "    <tr>\n",
       "      <th>1</th>\n",
       "      <td>2</td>\n",
       "      <td>Monthly</td>\n",
       "      <td>Advance</td>\n",
       "      <td>Closed</td>\n",
       "      <td>PDC</td>\n",
       "      <td>333</td>\n",
       "      <td>BHOPAL</td>\n",
       "      <td>47</td>\n",
       "      <td>485000</td>\n",
       "      <td>350000.0</td>\n",
       "      <td>...</td>\n",
       "      <td>1062</td>\n",
       "      <td>34802</td>\n",
       "      <td>70.00</td>\n",
       "      <td>M</td>\n",
       "      <td>23.0</td>\n",
       "      <td>666.67</td>\n",
       "      <td>SEHORE</td>\n",
       "      <td>MADHYA PRADESH</td>\n",
       "      <td>466001.0</td>\n",
       "      <td>No Top-up Service</td>\n",
       "    </tr>\n",
       "    <tr>\n",
       "      <th>2</th>\n",
       "      <td>3</td>\n",
       "      <td>Quatrly</td>\n",
       "      <td>Arrear</td>\n",
       "      <td>Active</td>\n",
       "      <td>Direct Debit</td>\n",
       "      <td>1</td>\n",
       "      <td>NaN</td>\n",
       "      <td>68</td>\n",
       "      <td>690000</td>\n",
       "      <td>519728.0</td>\n",
       "      <td>...</td>\n",
       "      <td>1060</td>\n",
       "      <td>127335</td>\n",
       "      <td>69.77</td>\n",
       "      <td>M</td>\n",
       "      <td>39.0</td>\n",
       "      <td>45257.00</td>\n",
       "      <td>BHOPAL</td>\n",
       "      <td>MADHYA PRADESH</td>\n",
       "      <td>462030.0</td>\n",
       "      <td>12-18 Months</td>\n",
       "    </tr>\n",
       "    <tr>\n",
       "      <th>3</th>\n",
       "      <td>7</td>\n",
       "      <td>Monthly</td>\n",
       "      <td>Advance</td>\n",
       "      <td>Closed</td>\n",
       "      <td>Billed</td>\n",
       "      <td>125</td>\n",
       "      <td>GUNA</td>\n",
       "      <td>48</td>\n",
       "      <td>480000</td>\n",
       "      <td>400000.0</td>\n",
       "      <td>...</td>\n",
       "      <td>1060</td>\n",
       "      <td>25094</td>\n",
       "      <td>80.92</td>\n",
       "      <td>M</td>\n",
       "      <td>24.0</td>\n",
       "      <td>20833.33</td>\n",
       "      <td>ASHOK NAGAR</td>\n",
       "      <td>MADHYA PRADESH</td>\n",
       "      <td>473335.0</td>\n",
       "      <td>&gt; 48 Months</td>\n",
       "    </tr>\n",
       "    <tr>\n",
       "      <th>4</th>\n",
       "      <td>8</td>\n",
       "      <td>Monthly</td>\n",
       "      <td>Arrear</td>\n",
       "      <td>Closed</td>\n",
       "      <td>Billed</td>\n",
       "      <td>152</td>\n",
       "      <td>BILASPUR</td>\n",
       "      <td>44</td>\n",
       "      <td>619265</td>\n",
       "      <td>440000.0</td>\n",
       "      <td>...</td>\n",
       "      <td>1046</td>\n",
       "      <td>21853</td>\n",
       "      <td>71.05</td>\n",
       "      <td>M</td>\n",
       "      <td>56.0</td>\n",
       "      <td>27313.67</td>\n",
       "      <td>BILASPUR</td>\n",
       "      <td>CHATTISGARH</td>\n",
       "      <td>495442.0</td>\n",
       "      <td>36-48 Months</td>\n",
       "    </tr>\n",
       "  </tbody>\n",
       "</table>\n",
       "<p>5 rows × 26 columns</p>\n",
       "</div>"
      ],
      "text/plain": [
       "   ID Frequency InstlmentMode LoanStatus   PaymentMode  BranchID      Area  \\\n",
       "0   1   Monthly        Arrear     Closed         PDC_E         1       NaN   \n",
       "1   2   Monthly       Advance     Closed           PDC       333    BHOPAL   \n",
       "2   3   Quatrly        Arrear     Active  Direct Debit         1       NaN   \n",
       "3   7   Monthly       Advance     Closed        Billed       125      GUNA   \n",
       "4   8   Monthly        Arrear     Closed        Billed       152  BILASPUR   \n",
       "\n",
       "   Tenure  AssetCost  AmountFinance  ...  ManufacturerID  SupplierID    LTV  \\\n",
       "0      48     450000       275000.0  ...            1568       21946  61.11   \n",
       "1      47     485000       350000.0  ...            1062       34802  70.00   \n",
       "2      68     690000       519728.0  ...            1060      127335  69.77   \n",
       "3      48     480000       400000.0  ...            1060       25094  80.92   \n",
       "4      44     619265       440000.0  ...            1046       21853  71.05   \n",
       "\n",
       "  SEX   AGE  MonthlyIncome         City           State   ZiPCODE  \\\n",
       "0   M  49.0       35833.33       RAISEN  MADHYA PRADESH  464993.0   \n",
       "1   M  23.0         666.67       SEHORE  MADHYA PRADESH  466001.0   \n",
       "2   M  39.0       45257.00       BHOPAL  MADHYA PRADESH  462030.0   \n",
       "3   M  24.0       20833.33  ASHOK NAGAR  MADHYA PRADESH  473335.0   \n",
       "4   M  56.0       27313.67     BILASPUR     CHATTISGARH  495442.0   \n",
       "\n",
       "        Top-up Month  \n",
       "0        > 48 Months  \n",
       "1  No Top-up Service  \n",
       "2       12-18 Months  \n",
       "3        > 48 Months  \n",
       "4       36-48 Months  \n",
       "\n",
       "[5 rows x 26 columns]"
      ]
     },
     "execution_count": 201,
     "metadata": {},
     "output_type": "execute_result"
    }
   ],
   "source": [
    "train_dd.head()"
   ]
  },
  {
   "cell_type": "code",
   "execution_count": 202,
   "metadata": {
    "id": "GE8xZ2ssKe-1"
   },
   "outputs": [],
   "source": [
    "train_dd['SEX'] = train_dd['SEX'].fillna(train_dd['SEX'].mode()[0])\n",
    "test_dd['SEX'] = test_dd['SEX'].fillna(test_dd['SEX'].mode()[0])\n",
    "\n",
    "train_dd['AGE'] = train_dd['AGE'].fillna(train_dd['AGE'].mode()[0])\n",
    "test_dd['AGE'] = test_dd['AGE'].fillna(test_dd['AGE'].mode()[0])\n",
    "\n",
    "train_dd['MonthlyIncome'] = train_dd['MonthlyIncome'].fillna(train_dd['MonthlyIncome'].mode()[0])\n",
    "test_dd['MonthlyIncome'] = test_dd['MonthlyIncome'].fillna(test_dd['MonthlyIncome'].mode()[0])\n",
    "\n",
    "train_dd['ZiPCODE']  =train_dd['ZiPCODE'].fillna(method = 'ffill').astype('int') \n",
    "test_dd['ZiPCODE']  =test_dd['ZiPCODE'].fillna(method = 'ffill').astype('int') \n",
    "\n",
    "\n",
    "train_dd =train_dd.fillna(method ='ffill') \n",
    "test_dd =test_dd.fillna(method = 'ffill') "
   ]
  },
  {
   "cell_type": "code",
   "execution_count": 203,
   "metadata": {
    "id": "7qyyI0u6Ke-1"
   },
   "outputs": [],
   "source": [
    "train_dd['AuthDate'] = pd.to_datetime(train_d['AuthDate'] ,errors='coerce')\n",
    "test_dd['AuthDate'] = pd.to_datetime(test_d['AuthDate'] ,errors='coerce')\n",
    "\n",
    "train_dd['DisbursalDate'] = pd.to_datetime(train_d['DisbursalDate'] ,errors='coerce')\n",
    "test_dd['DisbursalDate'] = pd.to_datetime(test_d['DisbursalDate'] ,errors='coerce')\n",
    "\n",
    "train_dd['MaturityDAte'] = pd.to_datetime(train_d['MaturityDAte'] ,errors='coerce')\n",
    "test_dd['MaturityDAte'] = pd.to_datetime(test_d['MaturityDAte'] ,errors='coerce')\n",
    "\n",
    "train_dd = train_d.dropna()\n",
    "#test_dd['MaturityDAte'] = test_d['MaturityDAte'].fillna(method='ffill')"
   ]
  },
  {
   "cell_type": "code",
   "execution_count": 204,
   "metadata": {
    "id": "3h_GDgrNKe-2"
   },
   "outputs": [],
   "source": [
    "# train_dd['AuthtoMatureDays'] = (train_dd['AuthDate'] - train_dd['MaturityDAte']).astype('int')\n",
    "# test_dd['AuthtoMatureDays'] = (test_dd['AuthDate'] - test_dd['MaturityDAte']).astype('int')\n",
    "\n",
    "# train_dd['AuthtoDisDays'] = (train_dd['AuthDate'] - train_dd['DisbursalDate']).astype('int')\n",
    "# test_dd['AuthtoDisDays'] = (test_dd['AuthDate'] - test_dd['DisbursalDate']).astype('int')"
   ]
  },
  {
   "cell_type": "code",
   "execution_count": 205,
   "metadata": {
    "colab": {
     "base_uri": "https://localhost:8080/"
    },
    "id": "IcICZSOgEAJL",
    "outputId": "37599f80-f892-4444-a2b2-d685dcbb89ae"
   },
   "outputs": [
    {
     "name": "stdout",
     "output_type": "stream",
     "text": [
      "<class 'pandas.core.frame.DataFrame'>\n",
      "Int64Index: 107126 entries, 1 to 128654\n",
      "Data columns (total 26 columns):\n",
      " #   Column           Non-Null Count   Dtype         \n",
      "---  ------           --------------   -----         \n",
      " 0   ID               107126 non-null  int64         \n",
      " 1   Frequency        107126 non-null  object        \n",
      " 2   InstlmentMode    107126 non-null  object        \n",
      " 3   LoanStatus       107126 non-null  object        \n",
      " 4   PaymentMode      107126 non-null  object        \n",
      " 5   BranchID         107126 non-null  int64         \n",
      " 6   Area             107126 non-null  object        \n",
      " 7   Tenure           107126 non-null  int64         \n",
      " 8   AssetCost        107126 non-null  int64         \n",
      " 9   AmountFinance    107126 non-null  float64       \n",
      " 10  DisbursalAmount  107126 non-null  float64       \n",
      " 11  EMI              107126 non-null  float64       \n",
      " 12  DisbursalDate    107126 non-null  datetime64[ns]\n",
      " 13  MaturityDAte     107126 non-null  datetime64[ns]\n",
      " 14  AuthDate         107126 non-null  datetime64[ns]\n",
      " 15  AssetID          107126 non-null  int64         \n",
      " 16  ManufacturerID   107126 non-null  int64         \n",
      " 17  SupplierID       107126 non-null  int64         \n",
      " 18  LTV              107126 non-null  float64       \n",
      " 19  SEX              107126 non-null  object        \n",
      " 20  AGE              107126 non-null  float64       \n",
      " 21  MonthlyIncome    107126 non-null  float64       \n",
      " 22  City             107126 non-null  object        \n",
      " 23  State            107126 non-null  object        \n",
      " 24  ZiPCODE          107126 non-null  float64       \n",
      " 25  Top-up Month     107126 non-null  object        \n",
      "dtypes: datetime64[ns](3), float64(7), int64(7), object(9)\n",
      "memory usage: 22.1+ MB\n"
     ]
    }
   ],
   "source": [
    "train_dd.info()"
   ]
  },
  {
   "cell_type": "code",
   "execution_count": 206,
   "metadata": {
    "id": "RVh0yg5TKe-2"
   },
   "outputs": [],
   "source": [
    "train_dd['AuthYear'] = train_dd['AuthDate'].dt.year\n",
    "test_dd['AuthYear'] = test_dd['AuthDate'].dt.year \n",
    "\n",
    "train_dd['AuthMonth'] = train_dd['AuthDate'].dt.month \n",
    "test_dd['AuthMonth'] = test_dd['AuthDate'].dt.month  \n",
    "\n",
    "\n",
    "train_dd['MaturityYear'] = train_d['MaturityDAte'].dt.year  \n",
    "test_dd['MaturityYear'] = test_d['MaturityDAte'].dt.year  \n",
    "\n",
    "train_dd['MaturityMonth'] = train_d['MaturityDAte'].dt.month  \n",
    "test_dd['MaturityMonth'] = test_d['MaturityDAte'].dt.month  "
   ]
  },
  {
   "cell_type": "code",
   "execution_count": 223,
   "metadata": {
    "colab": {
     "base_uri": "https://localhost:8080/"
    },
    "id": "vQqUX_Ph_eO8",
    "outputId": "7a3abc24-8331-47ca-fb73-a8ffe2270c6e"
   },
   "outputs": [
    {
     "data": {
      "text/plain": [
       "ID                 0\n",
       "Frequency          0\n",
       "InstlmentMode      0\n",
       "LoanStatus         0\n",
       "PaymentMode        0\n",
       "BranchID           0\n",
       "Tenure             0\n",
       "AssetCost          0\n",
       "AmountFinance      0\n",
       "DisbursalAmount    0\n",
       "EMI                0\n",
       "AssetID            0\n",
       "ManufacturerID     0\n",
       "SupplierID         0\n",
       "LTV                0\n",
       "SEX                0\n",
       "AGE                0\n",
       "MonthlyIncome      0\n",
       "State              0\n",
       "ZiPCODE            0\n",
       "AuthYear           0\n",
       "AuthMonth          0\n",
       "MaturityYear       0\n",
       "MaturityMonth      0\n",
       "dtype: int64"
      ]
     },
     "execution_count": 223,
     "metadata": {},
     "output_type": "execute_result"
    }
   ],
   "source": [
    "train_dd.isna().sum()\n",
    "test_dd.isna().sum()"
   ]
  },
  {
   "cell_type": "code",
   "execution_count": 209,
   "metadata": {
    "id": "LMGDDtfRKe-2"
   },
   "outputs": [],
   "source": [
    "train_dd = train_dd.drop(columns=['City','Area','AuthDate','DisbursalDate','MaturityDAte'])\n",
    "test_dd = test_dd.drop(columns=['City','Area','AuthDate','DisbursalDate','MaturityDAte'])"
   ]
  },
  {
   "cell_type": "code",
   "execution_count": 210,
   "metadata": {
    "id": "tmATWizQKe-3"
   },
   "outputs": [],
   "source": [
    "mapping_dict = {'No Top-up Service':0, '12-18 Months':1,'18-24 Months':2, '24-30 Months':3, \n",
    "                '30-36 Months':4,'36-48 Months':5,' > 48 Months':6}"
   ]
  },
  {
   "cell_type": "code",
   "execution_count": 211,
   "metadata": {
    "id": "ia7SwdWFKe-3"
   },
   "outputs": [],
   "source": [
    "train_dd['Top-up Month'] = train_dd['Top-up Month'].replace(mapping_dict) "
   ]
  },
  {
   "cell_type": "code",
   "execution_count": 212,
   "metadata": {
    "id": "ndT494UQKe-4"
   },
   "outputs": [],
   "source": [
    "mapping_dict_f= [\n",
    "{'col': 'Frequency', 'mapping': {'BI-Monthly':0, 'Monthly': 1, 'Quatrly': 2,  'Half Yearly': 3}}\n",
    "]"
   ]
  },
  {
   "cell_type": "code",
   "execution_count": 213,
   "metadata": {
    "colab": {
     "base_uri": "https://localhost:8080/"
    },
    "id": "RyW5j3obKe-4",
    "outputId": "a3d1e540-53e4-42c9-c95e-ce6a3e0f6eaa"
   },
   "outputs": [
    {
     "name": "stdout",
     "output_type": "stream",
     "text": [
      "ordinal encoding for features ['Frequency']\n",
      "(107126, 25) (14745, 24)\n"
     ]
    }
   ],
   "source": [
    "f1,f2 = ordinalencoding(train_dd,test_dd,train_dd['Top-up Month'],drop =True,cols=['Frequency'],mapping= mapping_dict_f)"
   ]
  },
  {
   "cell_type": "code",
   "execution_count": 214,
   "metadata": {
    "colab": {
     "base_uri": "https://localhost:8080/"
    },
    "id": "XB2ZTQohKe-5",
    "outputId": "619b2a9b-41a9-42c0-8abd-aa41dc1f5bdf"
   },
   "outputs": [
    {
     "name": "stdout",
     "output_type": "stream",
     "text": [
      "['InstlmentMode', 'LoanStatus', 'SEX']\n",
      "(107126, 28) (14745, 27)\n"
     ]
    }
   ],
   "source": [
    "f11,f22 = onehotencoder(f1,f2,cols=['InstlmentMode','LoanStatus','SEX'])"
   ]
  },
  {
   "cell_type": "code",
   "execution_count": 215,
   "metadata": {
    "colab": {
     "base_uri": "https://localhost:8080/"
    },
    "id": "EuftKAArKe-5",
    "outputId": "f9c62ec7-bc19-4c15-d755-83bb1cfde797"
   },
   "outputs": [
    {
     "name": "stdout",
     "output_type": "stream",
     "text": [
      "targest emcoding for features ['PaymentMode', 'State', 'BranchID', 'ZiPCODE', 'ManufacturerID']\n",
      "(107126, 28) (14745, 27)\n"
     ]
    }
   ],
   "source": [
    "f111,f222 = targetencoding(f11,f22,f11['Top-up Month'],drop=True,cols=['PaymentMode','State','BranchID','ZiPCODE','ManufacturerID']) #because branch id and area same"
   ]
  },
  {
   "cell_type": "code",
   "execution_count": null,
   "metadata": {
    "id": "OK-koE8MgRyA"
   },
   "outputs": [],
   "source": []
  },
  {
   "cell_type": "code",
   "execution_count": 216,
   "metadata": {
    "id": "XAjd2e_1FYlT"
   },
   "outputs": [],
   "source": [
    "\n",
    "final_df_train_beauro.rename(columns={0.0: '0.0', 1.0: '1.0'}, inplace=True)\n",
    "\n",
    "final_df_test_beauro.rename(columns={0.0: '0.0', 1.0: '1.0'}, inplace=True)"
   ]
  },
  {
   "cell_type": "code",
   "execution_count": 217,
   "metadata": {},
   "outputs": [
    {
     "data": {
      "text/plain": [
       "set()"
      ]
     },
     "execution_count": 217,
     "metadata": {},
     "output_type": "execute_result"
    }
   ],
   "source": [
    "set(final_df_test_beauro.columns) - set(final_df_train_beauro.columns) "
   ]
  },
  {
   "cell_type": "code",
   "execution_count": 218,
   "metadata": {
    "id": "Ci7j4yn8Ke-6"
   },
   "outputs": [],
   "source": [
    "dataframes = [f111,final_df_train_beauro]\n",
    "final_df_train = reduce(lambda left, right: pd.merge(left, right, on='ID', how='left'), dataframes)"
   ]
  },
  {
   "cell_type": "code",
   "execution_count": 219,
   "metadata": {
    "id": "EEvjHoMtKe-6"
   },
   "outputs": [],
   "source": [
    "dataframes = [f222,final_df_test_beauro]\n",
    "final_df_test = reduce(lambda left, right: pd.merge(left, right, on='ID', how='left'), dataframes)"
   ]
  },
  {
   "cell_type": "code",
   "execution_count": 224,
   "metadata": {
    "colab": {
     "base_uri": "https://localhost:8080/"
    },
    "id": "e3n9tARbB6OV",
    "outputId": "fc5d31c3-bb39-4a82-eae0-4da48cc8eb31"
   },
   "outputs": [
    {
     "data": {
      "text/plain": [
       "ID                 0\n",
       "Tenure             0\n",
       "AssetCost          0\n",
       "AmountFinance      0\n",
       "DisbursalAmount    0\n",
       "                  ..\n",
       "3.0_x              0\n",
       "0.0                0\n",
       "1.0                0\n",
       "2.0_y              0\n",
       "3.0_y              0\n",
       "Length: 81, dtype: int64"
      ]
     },
     "execution_count": 224,
     "metadata": {},
     "output_type": "execute_result"
    }
   ],
   "source": [
    "final_df_train = final_df_train.fillna(0)  #only count clusters values will be null here no problem in fillin with 0\n",
    "final_df_test = final_df_test.fillna(0)\n",
    "\n",
    "final_df_test.isna().sum()"
   ]
  },
  {
   "cell_type": "code",
   "execution_count": 225,
   "metadata": {
    "id": "_2jtljXcKe-7"
   },
   "outputs": [],
   "source": [
    "# final_df_train = final_df_train.fillna(0)\n",
    "# final_df_test = final_df_test.fillna(0)"
   ]
  },
  {
   "cell_type": "code",
   "execution_count": 133,
   "metadata": {
    "colab": {
     "base_uri": "https://localhost:8080/"
    },
    "id": "0vtLNLM8DX1U",
    "outputId": "15c4ee79-b0b6-48d2-efa5-a55b251494fe"
   },
   "outputs": [
    {
     "name": "stdout",
     "output_type": "stream",
     "text": [
      "<class 'pandas.core.frame.DataFrame'>\n",
      "Int64Index: 471743 entries, 0 to 471742\n",
      "Data columns (total 82 columns):\n",
      " #   Column                                      Non-Null Count   Dtype  \n",
      "---  ------                                      --------------   -----  \n",
      " 0   ID                                          471743 non-null  int64  \n",
      " 1   Tenure                                      471743 non-null  int64  \n",
      " 2   AssetCost                                   471743 non-null  int64  \n",
      " 3   AmountFinance                               471743 non-null  float64\n",
      " 4   DisbursalAmount                             471743 non-null  float64\n",
      " 5   EMI                                         471743 non-null  float64\n",
      " 6   AssetID                                     471743 non-null  int64  \n",
      " 7   SupplierID                                  471743 non-null  int64  \n",
      " 8   LTV                                         471743 non-null  float64\n",
      " 9   AGE                                         471743 non-null  float64\n",
      " 10  MonthlyIncome                               471743 non-null  float64\n",
      " 11  Top-up Month                                471743 non-null  int64  \n",
      " 12  AuthYear                                    471743 non-null  int64  \n",
      " 13  AuthMonth                                   471743 non-null  int64  \n",
      " 14  MaturityYear                                471743 non-null  float64\n",
      " 15  MaturityMonth                               471743 non-null  float64\n",
      " 16  Frequency_ordinal                           471743 non-null  int32  \n",
      " 17  InstlmentMode_Advance                       471743 non-null  float64\n",
      " 18  InstlmentMode_Arrear                        471743 non-null  float64\n",
      " 19  LoanStatus_Active                           471743 non-null  float64\n",
      " 20  LoanStatus_Closed                           471743 non-null  float64\n",
      " 21  SEX_F                                       471743 non-null  float64\n",
      " 22  SEX_M                                       471743 non-null  float64\n",
      " 23  PaymentMode_target                          471743 non-null  float64\n",
      " 24  State_target                                471743 non-null  float64\n",
      " 25  BranchID_target                             471743 non-null  float64\n",
      " 26  ZiPCODE_target                              471743 non-null  float64\n",
      " 27  ManufacturerID_target                       471743 non-null  float64\n",
      " 28  False_x                                     471743 non-null  int64  \n",
      " 29  True_x                                      471743 non-null  int64  \n",
      " 30  F01                                         471743 non-null  float64\n",
      " 31  F02                                         471743 non-null  float64\n",
      " 32  F03                                         471743 non-null  float64\n",
      " 33  F05                                         471743 non-null  float64\n",
      " 34  F06                                         471743 non-null  float64\n",
      " 35  F10                                         471743 non-null  float64\n",
      " 36  Active                                      471743 non-null  int64  \n",
      " 37  Closed                                      471743 non-null  int64  \n",
      " 38  Delinquent                                  471743 non-null  int64  \n",
      " 39  Restructured                                471743 non-null  int64  \n",
      " 40  SUIT FILED (WILFUL DEFAULT)                 471743 non-null  int64  \n",
      " 41  Settled                                     471743 non-null  int64  \n",
      " 42  Suit Filed                                  471743 non-null  int64  \n",
      " 43  WILFUL DEFAULT                              471743 non-null  int64  \n",
      " 44  Written Off                                 471743 non-null  int64  \n",
      " 45  Guarantor                                   471743 non-null  int64  \n",
      " 46  Individual                                  471743 non-null  int64  \n",
      " 47  Joint                                       471743 non-null  int64  \n",
      " 48  Primary                                     471743 non-null  int64  \n",
      " 49  Supl Card Holder                            471743 non-null  int64  \n",
      " 50  CCC                                         471743 non-null  int64  \n",
      " 51  COP                                         471743 non-null  int64  \n",
      " 52  FRB                                         471743 non-null  int64  \n",
      " 53  HFC                                         471743 non-null  int64  \n",
      " 54  MFI                                         471743 non-null  int64  \n",
      " 55  NAB                                         471743 non-null  int64  \n",
      " 56  NBF                                         471743 non-null  int64  \n",
      " 57  OFI                                         471743 non-null  int64  \n",
      " 58  PRB                                         471743 non-null  int64  \n",
      " 59  RRB                                         471743 non-null  int64  \n",
      " 60  SFB                                         471743 non-null  int64  \n",
      " 61  Tractor Loan                                471743 non-null  int64  \n",
      " 62  Gold Loan                                   471743 non-null  int64  \n",
      " 63  Business Loan Priority Sector  Agriculture  471743 non-null  int64  \n",
      " 64  Others                                      471743 non-null  int64  \n",
      " 65  PRIMARY                                     471743 non-null  int64  \n",
      " 66  SECONDARY                                   471743 non-null  int64  \n",
      " 67  01                                          471743 non-null  float64\n",
      " 68  1                                           471743 non-null  float64\n",
      " 69  Doubtful                                    471743 non-null  float64\n",
      " 70  Loss                                        471743 non-null  float64\n",
      " 71  Special Mention Account                     471743 non-null  float64\n",
      " 72  Standard                                    471743 non-null  float64\n",
      " 73  SubStandard                                 471743 non-null  float64\n",
      " 74  0.0_y                                       471743 non-null  int64  \n",
      " 75  1.0_y                                       471743 non-null  int64  \n",
      " 76  2.0_x                                       471743 non-null  int64  \n",
      " 77  3.0_x                                       471743 non-null  int64  \n",
      " 78  0.0                                         471743 non-null  int64  \n",
      " 79  1.0                                         471743 non-null  int64  \n",
      " 80  2.0_y                                       471743 non-null  int64  \n",
      " 81  3.0_y                                       471743 non-null  int64  \n",
      "dtypes: float64(32), int32(1), int64(49)\n",
      "memory usage: 296.9 MB\n"
     ]
    }
   ],
   "source": [
    "final_df_train.info()"
   ]
  },
  {
   "cell_type": "code",
   "execution_count": null,
   "metadata": {
    "id": "GGCnIdb-FHc0"
   },
   "outputs": [],
   "source": []
  },
  {
   "cell_type": "code",
   "execution_count": 269,
   "metadata": {
    "id": "8erJ5XUaJIrD"
   },
   "outputs": [],
   "source": [
    "final_df_train.to_csv('train.csv',index =False)\n",
    "final_df_test.to_csv('test.csv',index =False)"
   ]
  },
  {
   "cell_type": "code",
   "execution_count": 134,
   "metadata": {
    "colab": {
     "base_uri": "https://localhost:8080/"
    },
    "id": "tGkkuFjJOT5V",
    "outputId": "cb2ec999-bea0-4b03-a265-c8e4eddc52f0"
   },
   "outputs": [
    {
     "data": {
      "text/plain": [
       "Index(['ID', 'Tenure', 'AssetCost', 'AmountFinance', 'DisbursalAmount', 'EMI',\n",
       "       'AssetID', 'SupplierID', 'LTV', 'AGE', 'MonthlyIncome', 'Top-up Month',\n",
       "       'AuthYear', 'AuthMonth', 'MaturityYear', 'MaturityMonth',\n",
       "       'Frequency_ordinal', 'InstlmentMode_Advance', 'InstlmentMode_Arrear',\n",
       "       'LoanStatus_Active', 'LoanStatus_Closed', 'SEX_F', 'SEX_M',\n",
       "       'PaymentMode_target', 'State_target', 'BranchID_target',\n",
       "       'ZiPCODE_target', 'ManufacturerID_target', 'False_x', 'True_x', 'F01',\n",
       "       'F02', 'F03', 'F05', 'F06', 'F10', 'Active', 'Closed', 'Delinquent',\n",
       "       'Restructured', 'SUIT FILED (WILFUL DEFAULT)', 'Settled', 'Suit Filed',\n",
       "       'WILFUL DEFAULT', 'Written Off', 'Guarantor', 'Individual', 'Joint',\n",
       "       'Primary', 'Supl Card Holder', 'CCC', 'COP', 'FRB', 'HFC', 'MFI', 'NAB',\n",
       "       'NBF', 'OFI', 'PRB', 'RRB', 'SFB', 'Tractor Loan', 'Gold Loan',\n",
       "       'Business Loan Priority Sector  Agriculture', 'Others', 'PRIMARY',\n",
       "       'SECONDARY', '01', '1', 'Doubtful', 'Loss', 'Special Mention Account',\n",
       "       'Standard', 'SubStandard', '0.0_y', '1.0_y', '2.0_x', '3.0_x', '0.0',\n",
       "       '1.0', '2.0_y', '3.0_y'],\n",
       "      dtype='object')"
      ]
     },
     "execution_count": 134,
     "metadata": {},
     "output_type": "execute_result"
    }
   ],
   "source": [
    "final_df_train.columns"
   ]
  },
  {
   "cell_type": "code",
   "execution_count": 68,
   "metadata": {
    "colab": {
     "base_uri": "https://localhost:8080/"
    },
    "id": "cvCBcZ5Lg5fY",
    "outputId": "75d30bbb-d690-4935-bb96-ad77a6097281"
   },
   "outputs": [
    {
     "data": {
      "text/plain": [
       "0    320802\n",
       "6     62978\n",
       "5     23968\n",
       "3     21152\n",
       "4     17931\n",
       "2     16338\n",
       "1      8574\n",
       "Name: Top-up Month, dtype: int64"
      ]
     },
     "execution_count": 68,
     "metadata": {},
     "output_type": "execute_result"
    }
   ],
   "source": [
    "final_df_train['Top-up Month'].value_counts()"
   ]
  },
  {
   "cell_type": "code",
   "execution_count": 69,
   "metadata": {
    "id": "V7ageXUEWS1J"
   },
   "outputs": [],
   "source": []
  },
  {
   "cell_type": "code",
   "execution_count": null,
   "metadata": {},
   "outputs": [],
   "source": [
    "[ 'AssetID', 'SupplierID',\n",
    "       'AuthYear', 'AuthMonth', 'MaturityYear', 'MaturityMonth',\n",
    "       'Frequency_ordinal', 'InstlmentMode_Advance', 'InstlmentMode_Arrear',\n",
    "       'LoanStatus_Active', 'LoanStatus_Closed', 'SEX_F', 'SEX_M',\n",
    "       'PaymentMode_target', 'State_target', 'BranchID_target',\n",
    "       'ZiPCODE_target', 'ManufacturerID_target', 'False_x', 'True_x', 'F01',\n",
    "       'F02', 'F03', 'F05', 'F06', 'F10', 'Active', 'Closed', 'Delinquent',\n",
    "       'Restructured', 'SUIT FILED (WILFUL DEFAULT)', 'Settled', 'Suit Filed',\n",
    "       'WILFUL DEFAULT', 'Written Off', 'Guarantor', 'Individual', 'Joint',\n",
    "       'Primary', 'Supl Card Holder', 'CCC', 'COP', 'FRB', 'HFC', 'MFI', 'NAB',\n",
    "       'NBF', 'OFI', 'PRB', 'RRB', 'SFB', 'Tractor Loan', 'Gold Loan',\n",
    "       'Business Loan Priority Sector  Agriculture', 'Others', 'PRIMARY',\n",
    "       'SECONDARY', '01', '1', 'Doubtful', 'Loss', 'Special Mention Account',\n",
    "       'Standard', 'SubStandard', '0.0_y', '1.0_y', '2.0_x', '3.0_x', '0.0',\n",
    "       '1.0', '2.0_y', '3.0_y']"
   ]
  },
  {
   "cell_type": "code",
   "execution_count": 70,
   "metadata": {
    "colab": {
     "base_uri": "https://localhost:8080/",
     "height": 1000,
     "referenced_widgets": [
      "45310282386847718863a188b55204b5",
      "69cd85be6ca6473680514f20af30e69f",
      "7a2c95e038544618a75e0b7d944740ab",
      "dd1810cc2c01483383d65cb882e871fe",
      "1ca128d235d04f7dba69b97f27e40fdf",
      "8cc70aac58594e10a4629fa8f4f6da22"
     ]
    },
    "id": "tQlKUbs5DRlT",
    "outputId": "31c5eb0d-0056-456d-8d18-f50fa86b8088"
   },
   "outputs": [
    {
     "data": {
      "text/html": [
       "<style  type=\"text/css\" >\n",
       "</style><table id=\"T_441b43b2_694b_11eb_9ad7_ac2b6e99df85\" ><thead>    <tr>        <th class=\"blank level0\" ></th>        <th class=\"col_heading level0 col0\" >Description</th>        <th class=\"col_heading level0 col1\" >Value</th>    </tr></thead><tbody>\n",
       "                <tr>\n",
       "                        <th id=\"T_441b43b2_694b_11eb_9ad7_ac2b6e99df85level0_row0\" class=\"row_heading level0 row0\" >0</th>\n",
       "                        <td id=\"T_441b43b2_694b_11eb_9ad7_ac2b6e99df85row0_col0\" class=\"data row0 col0\" >session_id</td>\n",
       "                        <td id=\"T_441b43b2_694b_11eb_9ad7_ac2b6e99df85row0_col1\" class=\"data row0 col1\" >456</td>\n",
       "            </tr>\n",
       "            <tr>\n",
       "                        <th id=\"T_441b43b2_694b_11eb_9ad7_ac2b6e99df85level0_row1\" class=\"row_heading level0 row1\" >1</th>\n",
       "                        <td id=\"T_441b43b2_694b_11eb_9ad7_ac2b6e99df85row1_col0\" class=\"data row1 col0\" >Target</td>\n",
       "                        <td id=\"T_441b43b2_694b_11eb_9ad7_ac2b6e99df85row1_col1\" class=\"data row1 col1\" >Top-up Month</td>\n",
       "            </tr>\n",
       "            <tr>\n",
       "                        <th id=\"T_441b43b2_694b_11eb_9ad7_ac2b6e99df85level0_row2\" class=\"row_heading level0 row2\" >2</th>\n",
       "                        <td id=\"T_441b43b2_694b_11eb_9ad7_ac2b6e99df85row2_col0\" class=\"data row2 col0\" >Target Type</td>\n",
       "                        <td id=\"T_441b43b2_694b_11eb_9ad7_ac2b6e99df85row2_col1\" class=\"data row2 col1\" >Multiclass</td>\n",
       "            </tr>\n",
       "            <tr>\n",
       "                        <th id=\"T_441b43b2_694b_11eb_9ad7_ac2b6e99df85level0_row3\" class=\"row_heading level0 row3\" >3</th>\n",
       "                        <td id=\"T_441b43b2_694b_11eb_9ad7_ac2b6e99df85row3_col0\" class=\"data row3 col0\" >Label Encoded</td>\n",
       "                        <td id=\"T_441b43b2_694b_11eb_9ad7_ac2b6e99df85row3_col1\" class=\"data row3 col1\" >0: 0, 1: 1, 2: 2, 3: 3, 4: 4, 5: 5, 6: 6</td>\n",
       "            </tr>\n",
       "            <tr>\n",
       "                        <th id=\"T_441b43b2_694b_11eb_9ad7_ac2b6e99df85level0_row4\" class=\"row_heading level0 row4\" >4</th>\n",
       "                        <td id=\"T_441b43b2_694b_11eb_9ad7_ac2b6e99df85row4_col0\" class=\"data row4 col0\" >Original Data</td>\n",
       "                        <td id=\"T_441b43b2_694b_11eb_9ad7_ac2b6e99df85row4_col1\" class=\"data row4 col1\" >(471743, 82)</td>\n",
       "            </tr>\n",
       "            <tr>\n",
       "                        <th id=\"T_441b43b2_694b_11eb_9ad7_ac2b6e99df85level0_row5\" class=\"row_heading level0 row5\" >5</th>\n",
       "                        <td id=\"T_441b43b2_694b_11eb_9ad7_ac2b6e99df85row5_col0\" class=\"data row5 col0\" >Missing Values</td>\n",
       "                        <td id=\"T_441b43b2_694b_11eb_9ad7_ac2b6e99df85row5_col1\" class=\"data row5 col1\" >False</td>\n",
       "            </tr>\n",
       "            <tr>\n",
       "                        <th id=\"T_441b43b2_694b_11eb_9ad7_ac2b6e99df85level0_row6\" class=\"row_heading level0 row6\" >6</th>\n",
       "                        <td id=\"T_441b43b2_694b_11eb_9ad7_ac2b6e99df85row6_col0\" class=\"data row6 col0\" >Numeric Features</td>\n",
       "                        <td id=\"T_441b43b2_694b_11eb_9ad7_ac2b6e99df85row6_col1\" class=\"data row6 col1\" >51</td>\n",
       "            </tr>\n",
       "            <tr>\n",
       "                        <th id=\"T_441b43b2_694b_11eb_9ad7_ac2b6e99df85level0_row7\" class=\"row_heading level0 row7\" >7</th>\n",
       "                        <td id=\"T_441b43b2_694b_11eb_9ad7_ac2b6e99df85row7_col0\" class=\"data row7 col0\" >Categorical Features</td>\n",
       "                        <td id=\"T_441b43b2_694b_11eb_9ad7_ac2b6e99df85row7_col1\" class=\"data row7 col1\" >30</td>\n",
       "            </tr>\n",
       "            <tr>\n",
       "                        <th id=\"T_441b43b2_694b_11eb_9ad7_ac2b6e99df85level0_row8\" class=\"row_heading level0 row8\" >8</th>\n",
       "                        <td id=\"T_441b43b2_694b_11eb_9ad7_ac2b6e99df85row8_col0\" class=\"data row8 col0\" >Ordinal Features</td>\n",
       "                        <td id=\"T_441b43b2_694b_11eb_9ad7_ac2b6e99df85row8_col1\" class=\"data row8 col1\" >False</td>\n",
       "            </tr>\n",
       "            <tr>\n",
       "                        <th id=\"T_441b43b2_694b_11eb_9ad7_ac2b6e99df85level0_row9\" class=\"row_heading level0 row9\" >9</th>\n",
       "                        <td id=\"T_441b43b2_694b_11eb_9ad7_ac2b6e99df85row9_col0\" class=\"data row9 col0\" >High Cardinality Features</td>\n",
       "                        <td id=\"T_441b43b2_694b_11eb_9ad7_ac2b6e99df85row9_col1\" class=\"data row9 col1\" >False</td>\n",
       "            </tr>\n",
       "            <tr>\n",
       "                        <th id=\"T_441b43b2_694b_11eb_9ad7_ac2b6e99df85level0_row10\" class=\"row_heading level0 row10\" >10</th>\n",
       "                        <td id=\"T_441b43b2_694b_11eb_9ad7_ac2b6e99df85row10_col0\" class=\"data row10 col0\" >High Cardinality Method</td>\n",
       "                        <td id=\"T_441b43b2_694b_11eb_9ad7_ac2b6e99df85row10_col1\" class=\"data row10 col1\" >None</td>\n",
       "            </tr>\n",
       "            <tr>\n",
       "                        <th id=\"T_441b43b2_694b_11eb_9ad7_ac2b6e99df85level0_row11\" class=\"row_heading level0 row11\" >11</th>\n",
       "                        <td id=\"T_441b43b2_694b_11eb_9ad7_ac2b6e99df85row11_col0\" class=\"data row11 col0\" >Transformed Train Set</td>\n",
       "                        <td id=\"T_441b43b2_694b_11eb_9ad7_ac2b6e99df85row11_col1\" class=\"data row11 col1\" >(330220, 207)</td>\n",
       "            </tr>\n",
       "            <tr>\n",
       "                        <th id=\"T_441b43b2_694b_11eb_9ad7_ac2b6e99df85level0_row12\" class=\"row_heading level0 row12\" >12</th>\n",
       "                        <td id=\"T_441b43b2_694b_11eb_9ad7_ac2b6e99df85row12_col0\" class=\"data row12 col0\" >Transformed Test Set</td>\n",
       "                        <td id=\"T_441b43b2_694b_11eb_9ad7_ac2b6e99df85row12_col1\" class=\"data row12 col1\" >(141523, 207)</td>\n",
       "            </tr>\n",
       "            <tr>\n",
       "                        <th id=\"T_441b43b2_694b_11eb_9ad7_ac2b6e99df85level0_row13\" class=\"row_heading level0 row13\" >13</th>\n",
       "                        <td id=\"T_441b43b2_694b_11eb_9ad7_ac2b6e99df85row13_col0\" class=\"data row13 col0\" >Shuffle Train-Test</td>\n",
       "                        <td id=\"T_441b43b2_694b_11eb_9ad7_ac2b6e99df85row13_col1\" class=\"data row13 col1\" >True</td>\n",
       "            </tr>\n",
       "            <tr>\n",
       "                        <th id=\"T_441b43b2_694b_11eb_9ad7_ac2b6e99df85level0_row14\" class=\"row_heading level0 row14\" >14</th>\n",
       "                        <td id=\"T_441b43b2_694b_11eb_9ad7_ac2b6e99df85row14_col0\" class=\"data row14 col0\" >Stratify Train-Test</td>\n",
       "                        <td id=\"T_441b43b2_694b_11eb_9ad7_ac2b6e99df85row14_col1\" class=\"data row14 col1\" >False</td>\n",
       "            </tr>\n",
       "            <tr>\n",
       "                        <th id=\"T_441b43b2_694b_11eb_9ad7_ac2b6e99df85level0_row15\" class=\"row_heading level0 row15\" >15</th>\n",
       "                        <td id=\"T_441b43b2_694b_11eb_9ad7_ac2b6e99df85row15_col0\" class=\"data row15 col0\" >Fold Generator</td>\n",
       "                        <td id=\"T_441b43b2_694b_11eb_9ad7_ac2b6e99df85row15_col1\" class=\"data row15 col1\" >StratifiedKFold</td>\n",
       "            </tr>\n",
       "            <tr>\n",
       "                        <th id=\"T_441b43b2_694b_11eb_9ad7_ac2b6e99df85level0_row16\" class=\"row_heading level0 row16\" >16</th>\n",
       "                        <td id=\"T_441b43b2_694b_11eb_9ad7_ac2b6e99df85row16_col0\" class=\"data row16 col0\" >Fold Number</td>\n",
       "                        <td id=\"T_441b43b2_694b_11eb_9ad7_ac2b6e99df85row16_col1\" class=\"data row16 col1\" >10</td>\n",
       "            </tr>\n",
       "            <tr>\n",
       "                        <th id=\"T_441b43b2_694b_11eb_9ad7_ac2b6e99df85level0_row17\" class=\"row_heading level0 row17\" >17</th>\n",
       "                        <td id=\"T_441b43b2_694b_11eb_9ad7_ac2b6e99df85row17_col0\" class=\"data row17 col0\" >CPU Jobs</td>\n",
       "                        <td id=\"T_441b43b2_694b_11eb_9ad7_ac2b6e99df85row17_col1\" class=\"data row17 col1\" >-1</td>\n",
       "            </tr>\n",
       "            <tr>\n",
       "                        <th id=\"T_441b43b2_694b_11eb_9ad7_ac2b6e99df85level0_row18\" class=\"row_heading level0 row18\" >18</th>\n",
       "                        <td id=\"T_441b43b2_694b_11eb_9ad7_ac2b6e99df85row18_col0\" class=\"data row18 col0\" >Use GPU</td>\n",
       "                        <td id=\"T_441b43b2_694b_11eb_9ad7_ac2b6e99df85row18_col1\" class=\"data row18 col1\" >False</td>\n",
       "            </tr>\n",
       "            <tr>\n",
       "                        <th id=\"T_441b43b2_694b_11eb_9ad7_ac2b6e99df85level0_row19\" class=\"row_heading level0 row19\" >19</th>\n",
       "                        <td id=\"T_441b43b2_694b_11eb_9ad7_ac2b6e99df85row19_col0\" class=\"data row19 col0\" >Log Experiment</td>\n",
       "                        <td id=\"T_441b43b2_694b_11eb_9ad7_ac2b6e99df85row19_col1\" class=\"data row19 col1\" >False</td>\n",
       "            </tr>\n",
       "            <tr>\n",
       "                        <th id=\"T_441b43b2_694b_11eb_9ad7_ac2b6e99df85level0_row20\" class=\"row_heading level0 row20\" >20</th>\n",
       "                        <td id=\"T_441b43b2_694b_11eb_9ad7_ac2b6e99df85row20_col0\" class=\"data row20 col0\" >Experiment Name</td>\n",
       "                        <td id=\"T_441b43b2_694b_11eb_9ad7_ac2b6e99df85row20_col1\" class=\"data row20 col1\" >clf-default-name</td>\n",
       "            </tr>\n",
       "            <tr>\n",
       "                        <th id=\"T_441b43b2_694b_11eb_9ad7_ac2b6e99df85level0_row21\" class=\"row_heading level0 row21\" >21</th>\n",
       "                        <td id=\"T_441b43b2_694b_11eb_9ad7_ac2b6e99df85row21_col0\" class=\"data row21 col0\" >USI</td>\n",
       "                        <td id=\"T_441b43b2_694b_11eb_9ad7_ac2b6e99df85row21_col1\" class=\"data row21 col1\" >b7e9</td>\n",
       "            </tr>\n",
       "            <tr>\n",
       "                        <th id=\"T_441b43b2_694b_11eb_9ad7_ac2b6e99df85level0_row22\" class=\"row_heading level0 row22\" >22</th>\n",
       "                        <td id=\"T_441b43b2_694b_11eb_9ad7_ac2b6e99df85row22_col0\" class=\"data row22 col0\" >Imputation Type</td>\n",
       "                        <td id=\"T_441b43b2_694b_11eb_9ad7_ac2b6e99df85row22_col1\" class=\"data row22 col1\" >simple</td>\n",
       "            </tr>\n",
       "            <tr>\n",
       "                        <th id=\"T_441b43b2_694b_11eb_9ad7_ac2b6e99df85level0_row23\" class=\"row_heading level0 row23\" >23</th>\n",
       "                        <td id=\"T_441b43b2_694b_11eb_9ad7_ac2b6e99df85row23_col0\" class=\"data row23 col0\" >Iterative Imputation Iteration</td>\n",
       "                        <td id=\"T_441b43b2_694b_11eb_9ad7_ac2b6e99df85row23_col1\" class=\"data row23 col1\" >None</td>\n",
       "            </tr>\n",
       "            <tr>\n",
       "                        <th id=\"T_441b43b2_694b_11eb_9ad7_ac2b6e99df85level0_row24\" class=\"row_heading level0 row24\" >24</th>\n",
       "                        <td id=\"T_441b43b2_694b_11eb_9ad7_ac2b6e99df85row24_col0\" class=\"data row24 col0\" >Numeric Imputer</td>\n",
       "                        <td id=\"T_441b43b2_694b_11eb_9ad7_ac2b6e99df85row24_col1\" class=\"data row24 col1\" >mean</td>\n",
       "            </tr>\n",
       "            <tr>\n",
       "                        <th id=\"T_441b43b2_694b_11eb_9ad7_ac2b6e99df85level0_row25\" class=\"row_heading level0 row25\" >25</th>\n",
       "                        <td id=\"T_441b43b2_694b_11eb_9ad7_ac2b6e99df85row25_col0\" class=\"data row25 col0\" >Iterative Imputation Numeric Model</td>\n",
       "                        <td id=\"T_441b43b2_694b_11eb_9ad7_ac2b6e99df85row25_col1\" class=\"data row25 col1\" >None</td>\n",
       "            </tr>\n",
       "            <tr>\n",
       "                        <th id=\"T_441b43b2_694b_11eb_9ad7_ac2b6e99df85level0_row26\" class=\"row_heading level0 row26\" >26</th>\n",
       "                        <td id=\"T_441b43b2_694b_11eb_9ad7_ac2b6e99df85row26_col0\" class=\"data row26 col0\" >Categorical Imputer</td>\n",
       "                        <td id=\"T_441b43b2_694b_11eb_9ad7_ac2b6e99df85row26_col1\" class=\"data row26 col1\" >constant</td>\n",
       "            </tr>\n",
       "            <tr>\n",
       "                        <th id=\"T_441b43b2_694b_11eb_9ad7_ac2b6e99df85level0_row27\" class=\"row_heading level0 row27\" >27</th>\n",
       "                        <td id=\"T_441b43b2_694b_11eb_9ad7_ac2b6e99df85row27_col0\" class=\"data row27 col0\" >Iterative Imputation Categorical Model</td>\n",
       "                        <td id=\"T_441b43b2_694b_11eb_9ad7_ac2b6e99df85row27_col1\" class=\"data row27 col1\" >None</td>\n",
       "            </tr>\n",
       "            <tr>\n",
       "                        <th id=\"T_441b43b2_694b_11eb_9ad7_ac2b6e99df85level0_row28\" class=\"row_heading level0 row28\" >28</th>\n",
       "                        <td id=\"T_441b43b2_694b_11eb_9ad7_ac2b6e99df85row28_col0\" class=\"data row28 col0\" >Unknown Categoricals Handling</td>\n",
       "                        <td id=\"T_441b43b2_694b_11eb_9ad7_ac2b6e99df85row28_col1\" class=\"data row28 col1\" >least_frequent</td>\n",
       "            </tr>\n",
       "            <tr>\n",
       "                        <th id=\"T_441b43b2_694b_11eb_9ad7_ac2b6e99df85level0_row29\" class=\"row_heading level0 row29\" >29</th>\n",
       "                        <td id=\"T_441b43b2_694b_11eb_9ad7_ac2b6e99df85row29_col0\" class=\"data row29 col0\" >Normalize</td>\n",
       "                        <td id=\"T_441b43b2_694b_11eb_9ad7_ac2b6e99df85row29_col1\" class=\"data row29 col1\" >False</td>\n",
       "            </tr>\n",
       "            <tr>\n",
       "                        <th id=\"T_441b43b2_694b_11eb_9ad7_ac2b6e99df85level0_row30\" class=\"row_heading level0 row30\" >30</th>\n",
       "                        <td id=\"T_441b43b2_694b_11eb_9ad7_ac2b6e99df85row30_col0\" class=\"data row30 col0\" >Normalize Method</td>\n",
       "                        <td id=\"T_441b43b2_694b_11eb_9ad7_ac2b6e99df85row30_col1\" class=\"data row30 col1\" >None</td>\n",
       "            </tr>\n",
       "            <tr>\n",
       "                        <th id=\"T_441b43b2_694b_11eb_9ad7_ac2b6e99df85level0_row31\" class=\"row_heading level0 row31\" >31</th>\n",
       "                        <td id=\"T_441b43b2_694b_11eb_9ad7_ac2b6e99df85row31_col0\" class=\"data row31 col0\" >Transformation</td>\n",
       "                        <td id=\"T_441b43b2_694b_11eb_9ad7_ac2b6e99df85row31_col1\" class=\"data row31 col1\" >False</td>\n",
       "            </tr>\n",
       "            <tr>\n",
       "                        <th id=\"T_441b43b2_694b_11eb_9ad7_ac2b6e99df85level0_row32\" class=\"row_heading level0 row32\" >32</th>\n",
       "                        <td id=\"T_441b43b2_694b_11eb_9ad7_ac2b6e99df85row32_col0\" class=\"data row32 col0\" >Transformation Method</td>\n",
       "                        <td id=\"T_441b43b2_694b_11eb_9ad7_ac2b6e99df85row32_col1\" class=\"data row32 col1\" >None</td>\n",
       "            </tr>\n",
       "            <tr>\n",
       "                        <th id=\"T_441b43b2_694b_11eb_9ad7_ac2b6e99df85level0_row33\" class=\"row_heading level0 row33\" >33</th>\n",
       "                        <td id=\"T_441b43b2_694b_11eb_9ad7_ac2b6e99df85row33_col0\" class=\"data row33 col0\" >PCA</td>\n",
       "                        <td id=\"T_441b43b2_694b_11eb_9ad7_ac2b6e99df85row33_col1\" class=\"data row33 col1\" >False</td>\n",
       "            </tr>\n",
       "            <tr>\n",
       "                        <th id=\"T_441b43b2_694b_11eb_9ad7_ac2b6e99df85level0_row34\" class=\"row_heading level0 row34\" >34</th>\n",
       "                        <td id=\"T_441b43b2_694b_11eb_9ad7_ac2b6e99df85row34_col0\" class=\"data row34 col0\" >PCA Method</td>\n",
       "                        <td id=\"T_441b43b2_694b_11eb_9ad7_ac2b6e99df85row34_col1\" class=\"data row34 col1\" >None</td>\n",
       "            </tr>\n",
       "            <tr>\n",
       "                        <th id=\"T_441b43b2_694b_11eb_9ad7_ac2b6e99df85level0_row35\" class=\"row_heading level0 row35\" >35</th>\n",
       "                        <td id=\"T_441b43b2_694b_11eb_9ad7_ac2b6e99df85row35_col0\" class=\"data row35 col0\" >PCA Components</td>\n",
       "                        <td id=\"T_441b43b2_694b_11eb_9ad7_ac2b6e99df85row35_col1\" class=\"data row35 col1\" >None</td>\n",
       "            </tr>\n",
       "            <tr>\n",
       "                        <th id=\"T_441b43b2_694b_11eb_9ad7_ac2b6e99df85level0_row36\" class=\"row_heading level0 row36\" >36</th>\n",
       "                        <td id=\"T_441b43b2_694b_11eb_9ad7_ac2b6e99df85row36_col0\" class=\"data row36 col0\" >Ignore Low Variance</td>\n",
       "                        <td id=\"T_441b43b2_694b_11eb_9ad7_ac2b6e99df85row36_col1\" class=\"data row36 col1\" >False</td>\n",
       "            </tr>\n",
       "            <tr>\n",
       "                        <th id=\"T_441b43b2_694b_11eb_9ad7_ac2b6e99df85level0_row37\" class=\"row_heading level0 row37\" >37</th>\n",
       "                        <td id=\"T_441b43b2_694b_11eb_9ad7_ac2b6e99df85row37_col0\" class=\"data row37 col0\" >Combine Rare Levels</td>\n",
       "                        <td id=\"T_441b43b2_694b_11eb_9ad7_ac2b6e99df85row37_col1\" class=\"data row37 col1\" >False</td>\n",
       "            </tr>\n",
       "            <tr>\n",
       "                        <th id=\"T_441b43b2_694b_11eb_9ad7_ac2b6e99df85level0_row38\" class=\"row_heading level0 row38\" >38</th>\n",
       "                        <td id=\"T_441b43b2_694b_11eb_9ad7_ac2b6e99df85row38_col0\" class=\"data row38 col0\" >Rare Level Threshold</td>\n",
       "                        <td id=\"T_441b43b2_694b_11eb_9ad7_ac2b6e99df85row38_col1\" class=\"data row38 col1\" >None</td>\n",
       "            </tr>\n",
       "            <tr>\n",
       "                        <th id=\"T_441b43b2_694b_11eb_9ad7_ac2b6e99df85level0_row39\" class=\"row_heading level0 row39\" >39</th>\n",
       "                        <td id=\"T_441b43b2_694b_11eb_9ad7_ac2b6e99df85row39_col0\" class=\"data row39 col0\" >Numeric Binning</td>\n",
       "                        <td id=\"T_441b43b2_694b_11eb_9ad7_ac2b6e99df85row39_col1\" class=\"data row39 col1\" >False</td>\n",
       "            </tr>\n",
       "            <tr>\n",
       "                        <th id=\"T_441b43b2_694b_11eb_9ad7_ac2b6e99df85level0_row40\" class=\"row_heading level0 row40\" >40</th>\n",
       "                        <td id=\"T_441b43b2_694b_11eb_9ad7_ac2b6e99df85row40_col0\" class=\"data row40 col0\" >Remove Outliers</td>\n",
       "                        <td id=\"T_441b43b2_694b_11eb_9ad7_ac2b6e99df85row40_col1\" class=\"data row40 col1\" >False</td>\n",
       "            </tr>\n",
       "            <tr>\n",
       "                        <th id=\"T_441b43b2_694b_11eb_9ad7_ac2b6e99df85level0_row41\" class=\"row_heading level0 row41\" >41</th>\n",
       "                        <td id=\"T_441b43b2_694b_11eb_9ad7_ac2b6e99df85row41_col0\" class=\"data row41 col0\" >Outliers Threshold</td>\n",
       "                        <td id=\"T_441b43b2_694b_11eb_9ad7_ac2b6e99df85row41_col1\" class=\"data row41 col1\" >None</td>\n",
       "            </tr>\n",
       "            <tr>\n",
       "                        <th id=\"T_441b43b2_694b_11eb_9ad7_ac2b6e99df85level0_row42\" class=\"row_heading level0 row42\" >42</th>\n",
       "                        <td id=\"T_441b43b2_694b_11eb_9ad7_ac2b6e99df85row42_col0\" class=\"data row42 col0\" >Remove Multicollinearity</td>\n",
       "                        <td id=\"T_441b43b2_694b_11eb_9ad7_ac2b6e99df85row42_col1\" class=\"data row42 col1\" >False</td>\n",
       "            </tr>\n",
       "            <tr>\n",
       "                        <th id=\"T_441b43b2_694b_11eb_9ad7_ac2b6e99df85level0_row43\" class=\"row_heading level0 row43\" >43</th>\n",
       "                        <td id=\"T_441b43b2_694b_11eb_9ad7_ac2b6e99df85row43_col0\" class=\"data row43 col0\" >Multicollinearity Threshold</td>\n",
       "                        <td id=\"T_441b43b2_694b_11eb_9ad7_ac2b6e99df85row43_col1\" class=\"data row43 col1\" >None</td>\n",
       "            </tr>\n",
       "            <tr>\n",
       "                        <th id=\"T_441b43b2_694b_11eb_9ad7_ac2b6e99df85level0_row44\" class=\"row_heading level0 row44\" >44</th>\n",
       "                        <td id=\"T_441b43b2_694b_11eb_9ad7_ac2b6e99df85row44_col0\" class=\"data row44 col0\" >Clustering</td>\n",
       "                        <td id=\"T_441b43b2_694b_11eb_9ad7_ac2b6e99df85row44_col1\" class=\"data row44 col1\" >False</td>\n",
       "            </tr>\n",
       "            <tr>\n",
       "                        <th id=\"T_441b43b2_694b_11eb_9ad7_ac2b6e99df85level0_row45\" class=\"row_heading level0 row45\" >45</th>\n",
       "                        <td id=\"T_441b43b2_694b_11eb_9ad7_ac2b6e99df85row45_col0\" class=\"data row45 col0\" >Clustering Iteration</td>\n",
       "                        <td id=\"T_441b43b2_694b_11eb_9ad7_ac2b6e99df85row45_col1\" class=\"data row45 col1\" >None</td>\n",
       "            </tr>\n",
       "            <tr>\n",
       "                        <th id=\"T_441b43b2_694b_11eb_9ad7_ac2b6e99df85level0_row46\" class=\"row_heading level0 row46\" >46</th>\n",
       "                        <td id=\"T_441b43b2_694b_11eb_9ad7_ac2b6e99df85row46_col0\" class=\"data row46 col0\" >Polynomial Features</td>\n",
       "                        <td id=\"T_441b43b2_694b_11eb_9ad7_ac2b6e99df85row46_col1\" class=\"data row46 col1\" >False</td>\n",
       "            </tr>\n",
       "            <tr>\n",
       "                        <th id=\"T_441b43b2_694b_11eb_9ad7_ac2b6e99df85level0_row47\" class=\"row_heading level0 row47\" >47</th>\n",
       "                        <td id=\"T_441b43b2_694b_11eb_9ad7_ac2b6e99df85row47_col0\" class=\"data row47 col0\" >Polynomial Degree</td>\n",
       "                        <td id=\"T_441b43b2_694b_11eb_9ad7_ac2b6e99df85row47_col1\" class=\"data row47 col1\" >None</td>\n",
       "            </tr>\n",
       "            <tr>\n",
       "                        <th id=\"T_441b43b2_694b_11eb_9ad7_ac2b6e99df85level0_row48\" class=\"row_heading level0 row48\" >48</th>\n",
       "                        <td id=\"T_441b43b2_694b_11eb_9ad7_ac2b6e99df85row48_col0\" class=\"data row48 col0\" >Trignometry Features</td>\n",
       "                        <td id=\"T_441b43b2_694b_11eb_9ad7_ac2b6e99df85row48_col1\" class=\"data row48 col1\" >False</td>\n",
       "            </tr>\n",
       "            <tr>\n",
       "                        <th id=\"T_441b43b2_694b_11eb_9ad7_ac2b6e99df85level0_row49\" class=\"row_heading level0 row49\" >49</th>\n",
       "                        <td id=\"T_441b43b2_694b_11eb_9ad7_ac2b6e99df85row49_col0\" class=\"data row49 col0\" >Polynomial Threshold</td>\n",
       "                        <td id=\"T_441b43b2_694b_11eb_9ad7_ac2b6e99df85row49_col1\" class=\"data row49 col1\" >None</td>\n",
       "            </tr>\n",
       "            <tr>\n",
       "                        <th id=\"T_441b43b2_694b_11eb_9ad7_ac2b6e99df85level0_row50\" class=\"row_heading level0 row50\" >50</th>\n",
       "                        <td id=\"T_441b43b2_694b_11eb_9ad7_ac2b6e99df85row50_col0\" class=\"data row50 col0\" >Group Features</td>\n",
       "                        <td id=\"T_441b43b2_694b_11eb_9ad7_ac2b6e99df85row50_col1\" class=\"data row50 col1\" >False</td>\n",
       "            </tr>\n",
       "            <tr>\n",
       "                        <th id=\"T_441b43b2_694b_11eb_9ad7_ac2b6e99df85level0_row51\" class=\"row_heading level0 row51\" >51</th>\n",
       "                        <td id=\"T_441b43b2_694b_11eb_9ad7_ac2b6e99df85row51_col0\" class=\"data row51 col0\" >Feature Selection</td>\n",
       "                        <td id=\"T_441b43b2_694b_11eb_9ad7_ac2b6e99df85row51_col1\" class=\"data row51 col1\" >False</td>\n",
       "            </tr>\n",
       "            <tr>\n",
       "                        <th id=\"T_441b43b2_694b_11eb_9ad7_ac2b6e99df85level0_row52\" class=\"row_heading level0 row52\" >52</th>\n",
       "                        <td id=\"T_441b43b2_694b_11eb_9ad7_ac2b6e99df85row52_col0\" class=\"data row52 col0\" >Features Selection Threshold</td>\n",
       "                        <td id=\"T_441b43b2_694b_11eb_9ad7_ac2b6e99df85row52_col1\" class=\"data row52 col1\" >None</td>\n",
       "            </tr>\n",
       "            <tr>\n",
       "                        <th id=\"T_441b43b2_694b_11eb_9ad7_ac2b6e99df85level0_row53\" class=\"row_heading level0 row53\" >53</th>\n",
       "                        <td id=\"T_441b43b2_694b_11eb_9ad7_ac2b6e99df85row53_col0\" class=\"data row53 col0\" >Feature Interaction</td>\n",
       "                        <td id=\"T_441b43b2_694b_11eb_9ad7_ac2b6e99df85row53_col1\" class=\"data row53 col1\" >False</td>\n",
       "            </tr>\n",
       "            <tr>\n",
       "                        <th id=\"T_441b43b2_694b_11eb_9ad7_ac2b6e99df85level0_row54\" class=\"row_heading level0 row54\" >54</th>\n",
       "                        <td id=\"T_441b43b2_694b_11eb_9ad7_ac2b6e99df85row54_col0\" class=\"data row54 col0\" >Feature Ratio</td>\n",
       "                        <td id=\"T_441b43b2_694b_11eb_9ad7_ac2b6e99df85row54_col1\" class=\"data row54 col1\" >False</td>\n",
       "            </tr>\n",
       "            <tr>\n",
       "                        <th id=\"T_441b43b2_694b_11eb_9ad7_ac2b6e99df85level0_row55\" class=\"row_heading level0 row55\" >55</th>\n",
       "                        <td id=\"T_441b43b2_694b_11eb_9ad7_ac2b6e99df85row55_col0\" class=\"data row55 col0\" >Interaction Threshold</td>\n",
       "                        <td id=\"T_441b43b2_694b_11eb_9ad7_ac2b6e99df85row55_col1\" class=\"data row55 col1\" >None</td>\n",
       "            </tr>\n",
       "            <tr>\n",
       "                        <th id=\"T_441b43b2_694b_11eb_9ad7_ac2b6e99df85level0_row56\" class=\"row_heading level0 row56\" >56</th>\n",
       "                        <td id=\"T_441b43b2_694b_11eb_9ad7_ac2b6e99df85row56_col0\" class=\"data row56 col0\" >Fix Imbalance</td>\n",
       "                        <td id=\"T_441b43b2_694b_11eb_9ad7_ac2b6e99df85row56_col1\" class=\"data row56 col1\" >False</td>\n",
       "            </tr>\n",
       "            <tr>\n",
       "                        <th id=\"T_441b43b2_694b_11eb_9ad7_ac2b6e99df85level0_row57\" class=\"row_heading level0 row57\" >57</th>\n",
       "                        <td id=\"T_441b43b2_694b_11eb_9ad7_ac2b6e99df85row57_col0\" class=\"data row57 col0\" >Fix Imbalance Method</td>\n",
       "                        <td id=\"T_441b43b2_694b_11eb_9ad7_ac2b6e99df85row57_col1\" class=\"data row57 col1\" >SMOTE</td>\n",
       "            </tr>\n",
       "    </tbody></table>"
      ],
      "text/plain": [
       "<pandas.io.formats.style.Styler at 0x28a8444ea30>"
      ]
     },
     "metadata": {},
     "output_type": "display_data"
    }
   ],
   "source": [
    "pycaret = setup(data =final_df_train , target ='Top-up Month',session_id=456 )"
   ]
  },
  {
   "cell_type": "code",
   "execution_count": null,
   "metadata": {
    "id": "YY3oYBicb9CJ"
   },
   "outputs": [],
   "source": [
    "# compare_models(blacklist = ['svm'], sort = 'F1')   "
   ]
  },
  {
   "cell_type": "code",
   "execution_count": 71,
   "metadata": {
    "colab": {
     "base_uri": "https://localhost:8080/",
     "height": 163
    },
    "id": "W8d7BhjBb9GF",
    "outputId": "1535810d-d7dc-4c08-f82a-13df3c49ac7f"
   },
   "outputs": [
    {
     "data": {
      "text/html": [
       "<style  type=\"text/css\" >\n",
       "#T_440228ea_694d_11eb_a0a1_ac2b6e99df85row10_col0,#T_440228ea_694d_11eb_a0a1_ac2b6e99df85row10_col1,#T_440228ea_694d_11eb_a0a1_ac2b6e99df85row10_col2,#T_440228ea_694d_11eb_a0a1_ac2b6e99df85row10_col3,#T_440228ea_694d_11eb_a0a1_ac2b6e99df85row10_col4,#T_440228ea_694d_11eb_a0a1_ac2b6e99df85row10_col5,#T_440228ea_694d_11eb_a0a1_ac2b6e99df85row10_col6{\n",
       "            background:  yellow;\n",
       "        }</style><table id=\"T_440228ea_694d_11eb_a0a1_ac2b6e99df85\" ><thead>    <tr>        <th class=\"blank level0\" ></th>        <th class=\"col_heading level0 col0\" >Accuracy</th>        <th class=\"col_heading level0 col1\" >AUC</th>        <th class=\"col_heading level0 col2\" >Recall</th>        <th class=\"col_heading level0 col3\" >Prec.</th>        <th class=\"col_heading level0 col4\" >F1</th>        <th class=\"col_heading level0 col5\" >Kappa</th>        <th class=\"col_heading level0 col6\" >MCC</th>    </tr></thead><tbody>\n",
       "                <tr>\n",
       "                        <th id=\"T_440228ea_694d_11eb_a0a1_ac2b6e99df85level0_row0\" class=\"row_heading level0 row0\" >0</th>\n",
       "                        <td id=\"T_440228ea_694d_11eb_a0a1_ac2b6e99df85row0_col0\" class=\"data row0 col0\" >0.9896</td>\n",
       "                        <td id=\"T_440228ea_694d_11eb_a0a1_ac2b6e99df85row0_col1\" class=\"data row0 col1\" >0.9984</td>\n",
       "                        <td id=\"T_440228ea_694d_11eb_a0a1_ac2b6e99df85row0_col2\" class=\"data row0 col2\" >0.9718</td>\n",
       "                        <td id=\"T_440228ea_694d_11eb_a0a1_ac2b6e99df85row0_col3\" class=\"data row0 col3\" >0.9897</td>\n",
       "                        <td id=\"T_440228ea_694d_11eb_a0a1_ac2b6e99df85row0_col4\" class=\"data row0 col4\" >0.9895</td>\n",
       "                        <td id=\"T_440228ea_694d_11eb_a0a1_ac2b6e99df85row0_col5\" class=\"data row0 col5\" >0.9794</td>\n",
       "                        <td id=\"T_440228ea_694d_11eb_a0a1_ac2b6e99df85row0_col6\" class=\"data row0 col6\" >0.9795</td>\n",
       "            </tr>\n",
       "            <tr>\n",
       "                        <th id=\"T_440228ea_694d_11eb_a0a1_ac2b6e99df85level0_row1\" class=\"row_heading level0 row1\" >1</th>\n",
       "                        <td id=\"T_440228ea_694d_11eb_a0a1_ac2b6e99df85row1_col0\" class=\"data row1 col0\" >0.9905</td>\n",
       "                        <td id=\"T_440228ea_694d_11eb_a0a1_ac2b6e99df85row1_col1\" class=\"data row1 col1\" >0.9986</td>\n",
       "                        <td id=\"T_440228ea_694d_11eb_a0a1_ac2b6e99df85row1_col2\" class=\"data row1 col2\" >0.9728</td>\n",
       "                        <td id=\"T_440228ea_694d_11eb_a0a1_ac2b6e99df85row1_col3\" class=\"data row1 col3\" >0.9906</td>\n",
       "                        <td id=\"T_440228ea_694d_11eb_a0a1_ac2b6e99df85row1_col4\" class=\"data row1 col4\" >0.9904</td>\n",
       "                        <td id=\"T_440228ea_694d_11eb_a0a1_ac2b6e99df85row1_col5\" class=\"data row1 col5\" >0.9813</td>\n",
       "                        <td id=\"T_440228ea_694d_11eb_a0a1_ac2b6e99df85row1_col6\" class=\"data row1 col6\" >0.9814</td>\n",
       "            </tr>\n",
       "            <tr>\n",
       "                        <th id=\"T_440228ea_694d_11eb_a0a1_ac2b6e99df85level0_row2\" class=\"row_heading level0 row2\" >2</th>\n",
       "                        <td id=\"T_440228ea_694d_11eb_a0a1_ac2b6e99df85row2_col0\" class=\"data row2 col0\" >0.9890</td>\n",
       "                        <td id=\"T_440228ea_694d_11eb_a0a1_ac2b6e99df85row2_col1\" class=\"data row2 col1\" >0.9985</td>\n",
       "                        <td id=\"T_440228ea_694d_11eb_a0a1_ac2b6e99df85row2_col2\" class=\"data row2 col2\" >0.9690</td>\n",
       "                        <td id=\"T_440228ea_694d_11eb_a0a1_ac2b6e99df85row2_col3\" class=\"data row2 col3\" >0.9891</td>\n",
       "                        <td id=\"T_440228ea_694d_11eb_a0a1_ac2b6e99df85row2_col4\" class=\"data row2 col4\" >0.9889</td>\n",
       "                        <td id=\"T_440228ea_694d_11eb_a0a1_ac2b6e99df85row2_col5\" class=\"data row2 col5\" >0.9782</td>\n",
       "                        <td id=\"T_440228ea_694d_11eb_a0a1_ac2b6e99df85row2_col6\" class=\"data row2 col6\" >0.9784</td>\n",
       "            </tr>\n",
       "            <tr>\n",
       "                        <th id=\"T_440228ea_694d_11eb_a0a1_ac2b6e99df85level0_row3\" class=\"row_heading level0 row3\" >3</th>\n",
       "                        <td id=\"T_440228ea_694d_11eb_a0a1_ac2b6e99df85row3_col0\" class=\"data row3 col0\" >0.9900</td>\n",
       "                        <td id=\"T_440228ea_694d_11eb_a0a1_ac2b6e99df85row3_col1\" class=\"data row3 col1\" >0.9985</td>\n",
       "                        <td id=\"T_440228ea_694d_11eb_a0a1_ac2b6e99df85row3_col2\" class=\"data row3 col2\" >0.9737</td>\n",
       "                        <td id=\"T_440228ea_694d_11eb_a0a1_ac2b6e99df85row3_col3\" class=\"data row3 col3\" >0.9901</td>\n",
       "                        <td id=\"T_440228ea_694d_11eb_a0a1_ac2b6e99df85row3_col4\" class=\"data row3 col4\" >0.9899</td>\n",
       "                        <td id=\"T_440228ea_694d_11eb_a0a1_ac2b6e99df85row3_col5\" class=\"data row3 col5\" >0.9802</td>\n",
       "                        <td id=\"T_440228ea_694d_11eb_a0a1_ac2b6e99df85row3_col6\" class=\"data row3 col6\" >0.9804</td>\n",
       "            </tr>\n",
       "            <tr>\n",
       "                        <th id=\"T_440228ea_694d_11eb_a0a1_ac2b6e99df85level0_row4\" class=\"row_heading level0 row4\" >4</th>\n",
       "                        <td id=\"T_440228ea_694d_11eb_a0a1_ac2b6e99df85row4_col0\" class=\"data row4 col0\" >0.9903</td>\n",
       "                        <td id=\"T_440228ea_694d_11eb_a0a1_ac2b6e99df85row4_col1\" class=\"data row4 col1\" >0.9986</td>\n",
       "                        <td id=\"T_440228ea_694d_11eb_a0a1_ac2b6e99df85row4_col2\" class=\"data row4 col2\" >0.9732</td>\n",
       "                        <td id=\"T_440228ea_694d_11eb_a0a1_ac2b6e99df85row4_col3\" class=\"data row4 col3\" >0.9904</td>\n",
       "                        <td id=\"T_440228ea_694d_11eb_a0a1_ac2b6e99df85row4_col4\" class=\"data row4 col4\" >0.9903</td>\n",
       "                        <td id=\"T_440228ea_694d_11eb_a0a1_ac2b6e99df85row4_col5\" class=\"data row4 col5\" >0.9810</td>\n",
       "                        <td id=\"T_440228ea_694d_11eb_a0a1_ac2b6e99df85row4_col6\" class=\"data row4 col6\" >0.9811</td>\n",
       "            </tr>\n",
       "            <tr>\n",
       "                        <th id=\"T_440228ea_694d_11eb_a0a1_ac2b6e99df85level0_row5\" class=\"row_heading level0 row5\" >5</th>\n",
       "                        <td id=\"T_440228ea_694d_11eb_a0a1_ac2b6e99df85row5_col0\" class=\"data row5 col0\" >0.9888</td>\n",
       "                        <td id=\"T_440228ea_694d_11eb_a0a1_ac2b6e99df85row5_col1\" class=\"data row5 col1\" >0.9983</td>\n",
       "                        <td id=\"T_440228ea_694d_11eb_a0a1_ac2b6e99df85row5_col2\" class=\"data row5 col2\" >0.9683</td>\n",
       "                        <td id=\"T_440228ea_694d_11eb_a0a1_ac2b6e99df85row5_col3\" class=\"data row5 col3\" >0.9889</td>\n",
       "                        <td id=\"T_440228ea_694d_11eb_a0a1_ac2b6e99df85row5_col4\" class=\"data row5 col4\" >0.9888</td>\n",
       "                        <td id=\"T_440228ea_694d_11eb_a0a1_ac2b6e99df85row5_col5\" class=\"data row5 col5\" >0.9779</td>\n",
       "                        <td id=\"T_440228ea_694d_11eb_a0a1_ac2b6e99df85row5_col6\" class=\"data row5 col6\" >0.9781</td>\n",
       "            </tr>\n",
       "            <tr>\n",
       "                        <th id=\"T_440228ea_694d_11eb_a0a1_ac2b6e99df85level0_row6\" class=\"row_heading level0 row6\" >6</th>\n",
       "                        <td id=\"T_440228ea_694d_11eb_a0a1_ac2b6e99df85row6_col0\" class=\"data row6 col0\" >0.9894</td>\n",
       "                        <td id=\"T_440228ea_694d_11eb_a0a1_ac2b6e99df85row6_col1\" class=\"data row6 col1\" >0.9981</td>\n",
       "                        <td id=\"T_440228ea_694d_11eb_a0a1_ac2b6e99df85row6_col2\" class=\"data row6 col2\" >0.9702</td>\n",
       "                        <td id=\"T_440228ea_694d_11eb_a0a1_ac2b6e99df85row6_col3\" class=\"data row6 col3\" >0.9895</td>\n",
       "                        <td id=\"T_440228ea_694d_11eb_a0a1_ac2b6e99df85row6_col4\" class=\"data row6 col4\" >0.9893</td>\n",
       "                        <td id=\"T_440228ea_694d_11eb_a0a1_ac2b6e99df85row6_col5\" class=\"data row6 col5\" >0.9790</td>\n",
       "                        <td id=\"T_440228ea_694d_11eb_a0a1_ac2b6e99df85row6_col6\" class=\"data row6 col6\" >0.9792</td>\n",
       "            </tr>\n",
       "            <tr>\n",
       "                        <th id=\"T_440228ea_694d_11eb_a0a1_ac2b6e99df85level0_row7\" class=\"row_heading level0 row7\" >7</th>\n",
       "                        <td id=\"T_440228ea_694d_11eb_a0a1_ac2b6e99df85row7_col0\" class=\"data row7 col0\" >0.9896</td>\n",
       "                        <td id=\"T_440228ea_694d_11eb_a0a1_ac2b6e99df85row7_col1\" class=\"data row7 col1\" >0.9985</td>\n",
       "                        <td id=\"T_440228ea_694d_11eb_a0a1_ac2b6e99df85row7_col2\" class=\"data row7 col2\" >0.9719</td>\n",
       "                        <td id=\"T_440228ea_694d_11eb_a0a1_ac2b6e99df85row7_col3\" class=\"data row7 col3\" >0.9897</td>\n",
       "                        <td id=\"T_440228ea_694d_11eb_a0a1_ac2b6e99df85row7_col4\" class=\"data row7 col4\" >0.9895</td>\n",
       "                        <td id=\"T_440228ea_694d_11eb_a0a1_ac2b6e99df85row7_col5\" class=\"data row7 col5\" >0.9794</td>\n",
       "                        <td id=\"T_440228ea_694d_11eb_a0a1_ac2b6e99df85row7_col6\" class=\"data row7 col6\" >0.9796</td>\n",
       "            </tr>\n",
       "            <tr>\n",
       "                        <th id=\"T_440228ea_694d_11eb_a0a1_ac2b6e99df85level0_row8\" class=\"row_heading level0 row8\" >8</th>\n",
       "                        <td id=\"T_440228ea_694d_11eb_a0a1_ac2b6e99df85row8_col0\" class=\"data row8 col0\" >0.9896</td>\n",
       "                        <td id=\"T_440228ea_694d_11eb_a0a1_ac2b6e99df85row8_col1\" class=\"data row8 col1\" >0.9986</td>\n",
       "                        <td id=\"T_440228ea_694d_11eb_a0a1_ac2b6e99df85row8_col2\" class=\"data row8 col2\" >0.9714</td>\n",
       "                        <td id=\"T_440228ea_694d_11eb_a0a1_ac2b6e99df85row8_col3\" class=\"data row8 col3\" >0.9897</td>\n",
       "                        <td id=\"T_440228ea_694d_11eb_a0a1_ac2b6e99df85row8_col4\" class=\"data row8 col4\" >0.9896</td>\n",
       "                        <td id=\"T_440228ea_694d_11eb_a0a1_ac2b6e99df85row8_col5\" class=\"data row8 col5\" >0.9795</td>\n",
       "                        <td id=\"T_440228ea_694d_11eb_a0a1_ac2b6e99df85row8_col6\" class=\"data row8 col6\" >0.9797</td>\n",
       "            </tr>\n",
       "            <tr>\n",
       "                        <th id=\"T_440228ea_694d_11eb_a0a1_ac2b6e99df85level0_row9\" class=\"row_heading level0 row9\" >9</th>\n",
       "                        <td id=\"T_440228ea_694d_11eb_a0a1_ac2b6e99df85row9_col0\" class=\"data row9 col0\" >0.9895</td>\n",
       "                        <td id=\"T_440228ea_694d_11eb_a0a1_ac2b6e99df85row9_col1\" class=\"data row9 col1\" >0.9987</td>\n",
       "                        <td id=\"T_440228ea_694d_11eb_a0a1_ac2b6e99df85row9_col2\" class=\"data row9 col2\" >0.9704</td>\n",
       "                        <td id=\"T_440228ea_694d_11eb_a0a1_ac2b6e99df85row9_col3\" class=\"data row9 col3\" >0.9896</td>\n",
       "                        <td id=\"T_440228ea_694d_11eb_a0a1_ac2b6e99df85row9_col4\" class=\"data row9 col4\" >0.9894</td>\n",
       "                        <td id=\"T_440228ea_694d_11eb_a0a1_ac2b6e99df85row9_col5\" class=\"data row9 col5\" >0.9793</td>\n",
       "                        <td id=\"T_440228ea_694d_11eb_a0a1_ac2b6e99df85row9_col6\" class=\"data row9 col6\" >0.9794</td>\n",
       "            </tr>\n",
       "            <tr>\n",
       "                        <th id=\"T_440228ea_694d_11eb_a0a1_ac2b6e99df85level0_row10\" class=\"row_heading level0 row10\" >Mean</th>\n",
       "                        <td id=\"T_440228ea_694d_11eb_a0a1_ac2b6e99df85row10_col0\" class=\"data row10 col0\" >0.9896</td>\n",
       "                        <td id=\"T_440228ea_694d_11eb_a0a1_ac2b6e99df85row10_col1\" class=\"data row10 col1\" >0.9985</td>\n",
       "                        <td id=\"T_440228ea_694d_11eb_a0a1_ac2b6e99df85row10_col2\" class=\"data row10 col2\" >0.9713</td>\n",
       "                        <td id=\"T_440228ea_694d_11eb_a0a1_ac2b6e99df85row10_col3\" class=\"data row10 col3\" >0.9897</td>\n",
       "                        <td id=\"T_440228ea_694d_11eb_a0a1_ac2b6e99df85row10_col4\" class=\"data row10 col4\" >0.9896</td>\n",
       "                        <td id=\"T_440228ea_694d_11eb_a0a1_ac2b6e99df85row10_col5\" class=\"data row10 col5\" >0.9795</td>\n",
       "                        <td id=\"T_440228ea_694d_11eb_a0a1_ac2b6e99df85row10_col6\" class=\"data row10 col6\" >0.9797</td>\n",
       "            </tr>\n",
       "            <tr>\n",
       "                        <th id=\"T_440228ea_694d_11eb_a0a1_ac2b6e99df85level0_row11\" class=\"row_heading level0 row11\" >SD</th>\n",
       "                        <td id=\"T_440228ea_694d_11eb_a0a1_ac2b6e99df85row11_col0\" class=\"data row11 col0\" >0.0005</td>\n",
       "                        <td id=\"T_440228ea_694d_11eb_a0a1_ac2b6e99df85row11_col1\" class=\"data row11 col1\" >0.0002</td>\n",
       "                        <td id=\"T_440228ea_694d_11eb_a0a1_ac2b6e99df85row11_col2\" class=\"data row11 col2\" >0.0017</td>\n",
       "                        <td id=\"T_440228ea_694d_11eb_a0a1_ac2b6e99df85row11_col3\" class=\"data row11 col3\" >0.0005</td>\n",
       "                        <td id=\"T_440228ea_694d_11eb_a0a1_ac2b6e99df85row11_col4\" class=\"data row11 col4\" >0.0005</td>\n",
       "                        <td id=\"T_440228ea_694d_11eb_a0a1_ac2b6e99df85row11_col5\" class=\"data row11 col5\" >0.0010</td>\n",
       "                        <td id=\"T_440228ea_694d_11eb_a0a1_ac2b6e99df85row11_col6\" class=\"data row11 col6\" >0.0010</td>\n",
       "            </tr>\n",
       "    </tbody></table>"
      ],
      "text/plain": [
       "<pandas.io.formats.style.Styler at 0x28a844646a0>"
      ]
     },
     "metadata": {},
     "output_type": "display_data"
    }
   ],
   "source": [
    "rf = create_model(estimator = 'rf')"
   ]
  },
  {
   "cell_type": "code",
   "execution_count": 246,
   "metadata": {
    "id": "LXyupJDidgNd"
   },
   "outputs": [
    {
     "data": {
      "text/html": [
       "<style  type=\"text/css\" >\n",
       "#T_452157ae_6955_11eb_b7ea_ac2b6e99df85row10_col0,#T_452157ae_6955_11eb_b7ea_ac2b6e99df85row10_col1,#T_452157ae_6955_11eb_b7ea_ac2b6e99df85row10_col2,#T_452157ae_6955_11eb_b7ea_ac2b6e99df85row10_col3,#T_452157ae_6955_11eb_b7ea_ac2b6e99df85row10_col4,#T_452157ae_6955_11eb_b7ea_ac2b6e99df85row10_col5,#T_452157ae_6955_11eb_b7ea_ac2b6e99df85row10_col6{\n",
       "            background:  yellow;\n",
       "        }</style><table id=\"T_452157ae_6955_11eb_b7ea_ac2b6e99df85\" ><thead>    <tr>        <th class=\"blank level0\" ></th>        <th class=\"col_heading level0 col0\" >Accuracy</th>        <th class=\"col_heading level0 col1\" >AUC</th>        <th class=\"col_heading level0 col2\" >Recall</th>        <th class=\"col_heading level0 col3\" >Prec.</th>        <th class=\"col_heading level0 col4\" >F1</th>        <th class=\"col_heading level0 col5\" >Kappa</th>        <th class=\"col_heading level0 col6\" >MCC</th>    </tr></thead><tbody>\n",
       "                <tr>\n",
       "                        <th id=\"T_452157ae_6955_11eb_b7ea_ac2b6e99df85level0_row0\" class=\"row_heading level0 row0\" >0</th>\n",
       "                        <td id=\"T_452157ae_6955_11eb_b7ea_ac2b6e99df85row0_col0\" class=\"data row0 col0\" >0.9820</td>\n",
       "                        <td id=\"T_452157ae_6955_11eb_b7ea_ac2b6e99df85row0_col1\" class=\"data row0 col1\" >0.9832</td>\n",
       "                        <td id=\"T_452157ae_6955_11eb_b7ea_ac2b6e99df85row0_col2\" class=\"data row0 col2\" >0.9734</td>\n",
       "                        <td id=\"T_452157ae_6955_11eb_b7ea_ac2b6e99df85row0_col3\" class=\"data row0 col3\" >0.9820</td>\n",
       "                        <td id=\"T_452157ae_6955_11eb_b7ea_ac2b6e99df85row0_col4\" class=\"data row0 col4\" >0.9820</td>\n",
       "                        <td id=\"T_452157ae_6955_11eb_b7ea_ac2b6e99df85row0_col5\" class=\"data row0 col5\" >0.9649</td>\n",
       "                        <td id=\"T_452157ae_6955_11eb_b7ea_ac2b6e99df85row0_col6\" class=\"data row0 col6\" >0.9649</td>\n",
       "            </tr>\n",
       "            <tr>\n",
       "                        <th id=\"T_452157ae_6955_11eb_b7ea_ac2b6e99df85level0_row1\" class=\"row_heading level0 row1\" >1</th>\n",
       "                        <td id=\"T_452157ae_6955_11eb_b7ea_ac2b6e99df85row1_col0\" class=\"data row1 col0\" >0.9809</td>\n",
       "                        <td id=\"T_452157ae_6955_11eb_b7ea_ac2b6e99df85row1_col1\" class=\"data row1 col1\" >0.9822</td>\n",
       "                        <td id=\"T_452157ae_6955_11eb_b7ea_ac2b6e99df85row1_col2\" class=\"data row1 col2\" >0.9711</td>\n",
       "                        <td id=\"T_452157ae_6955_11eb_b7ea_ac2b6e99df85row1_col3\" class=\"data row1 col3\" >0.9810</td>\n",
       "                        <td id=\"T_452157ae_6955_11eb_b7ea_ac2b6e99df85row1_col4\" class=\"data row1 col4\" >0.9810</td>\n",
       "                        <td id=\"T_452157ae_6955_11eb_b7ea_ac2b6e99df85row1_col5\" class=\"data row1 col5\" >0.9629</td>\n",
       "                        <td id=\"T_452157ae_6955_11eb_b7ea_ac2b6e99df85row1_col6\" class=\"data row1 col6\" >0.9629</td>\n",
       "            </tr>\n",
       "            <tr>\n",
       "                        <th id=\"T_452157ae_6955_11eb_b7ea_ac2b6e99df85level0_row2\" class=\"row_heading level0 row2\" >2</th>\n",
       "                        <td id=\"T_452157ae_6955_11eb_b7ea_ac2b6e99df85row2_col0\" class=\"data row2 col0\" >0.9814</td>\n",
       "                        <td id=\"T_452157ae_6955_11eb_b7ea_ac2b6e99df85row2_col1\" class=\"data row2 col1\" >0.9825</td>\n",
       "                        <td id=\"T_452157ae_6955_11eb_b7ea_ac2b6e99df85row2_col2\" class=\"data row2 col2\" >0.9694</td>\n",
       "                        <td id=\"T_452157ae_6955_11eb_b7ea_ac2b6e99df85row2_col3\" class=\"data row2 col3\" >0.9815</td>\n",
       "                        <td id=\"T_452157ae_6955_11eb_b7ea_ac2b6e99df85row2_col4\" class=\"data row2 col4\" >0.9815</td>\n",
       "                        <td id=\"T_452157ae_6955_11eb_b7ea_ac2b6e99df85row2_col5\" class=\"data row2 col5\" >0.9638</td>\n",
       "                        <td id=\"T_452157ae_6955_11eb_b7ea_ac2b6e99df85row2_col6\" class=\"data row2 col6\" >0.9638</td>\n",
       "            </tr>\n",
       "            <tr>\n",
       "                        <th id=\"T_452157ae_6955_11eb_b7ea_ac2b6e99df85level0_row3\" class=\"row_heading level0 row3\" >3</th>\n",
       "                        <td id=\"T_452157ae_6955_11eb_b7ea_ac2b6e99df85row3_col0\" class=\"data row3 col0\" >0.9827</td>\n",
       "                        <td id=\"T_452157ae_6955_11eb_b7ea_ac2b6e99df85row3_col1\" class=\"data row3 col1\" >0.9832</td>\n",
       "                        <td id=\"T_452157ae_6955_11eb_b7ea_ac2b6e99df85row3_col2\" class=\"data row3 col2\" >0.9734</td>\n",
       "                        <td id=\"T_452157ae_6955_11eb_b7ea_ac2b6e99df85row3_col3\" class=\"data row3 col3\" >0.9827</td>\n",
       "                        <td id=\"T_452157ae_6955_11eb_b7ea_ac2b6e99df85row3_col4\" class=\"data row3 col4\" >0.9827</td>\n",
       "                        <td id=\"T_452157ae_6955_11eb_b7ea_ac2b6e99df85row3_col5\" class=\"data row3 col5\" >0.9663</td>\n",
       "                        <td id=\"T_452157ae_6955_11eb_b7ea_ac2b6e99df85row3_col6\" class=\"data row3 col6\" >0.9663</td>\n",
       "            </tr>\n",
       "            <tr>\n",
       "                        <th id=\"T_452157ae_6955_11eb_b7ea_ac2b6e99df85level0_row4\" class=\"row_heading level0 row4\" >4</th>\n",
       "                        <td id=\"T_452157ae_6955_11eb_b7ea_ac2b6e99df85row4_col0\" class=\"data row4 col0\" >0.9829</td>\n",
       "                        <td id=\"T_452157ae_6955_11eb_b7ea_ac2b6e99df85row4_col1\" class=\"data row4 col1\" >0.9837</td>\n",
       "                        <td id=\"T_452157ae_6955_11eb_b7ea_ac2b6e99df85row4_col2\" class=\"data row4 col2\" >0.9728</td>\n",
       "                        <td id=\"T_452157ae_6955_11eb_b7ea_ac2b6e99df85row4_col3\" class=\"data row4 col3\" >0.9829</td>\n",
       "                        <td id=\"T_452157ae_6955_11eb_b7ea_ac2b6e99df85row4_col4\" class=\"data row4 col4\" >0.9829</td>\n",
       "                        <td id=\"T_452157ae_6955_11eb_b7ea_ac2b6e99df85row4_col5\" class=\"data row4 col5\" >0.9667</td>\n",
       "                        <td id=\"T_452157ae_6955_11eb_b7ea_ac2b6e99df85row4_col6\" class=\"data row4 col6\" >0.9667</td>\n",
       "            </tr>\n",
       "            <tr>\n",
       "                        <th id=\"T_452157ae_6955_11eb_b7ea_ac2b6e99df85level0_row5\" class=\"row_heading level0 row5\" >5</th>\n",
       "                        <td id=\"T_452157ae_6955_11eb_b7ea_ac2b6e99df85row5_col0\" class=\"data row5 col0\" >0.9814</td>\n",
       "                        <td id=\"T_452157ae_6955_11eb_b7ea_ac2b6e99df85row5_col1\" class=\"data row5 col1\" >0.9824</td>\n",
       "                        <td id=\"T_452157ae_6955_11eb_b7ea_ac2b6e99df85row5_col2\" class=\"data row5 col2\" >0.9700</td>\n",
       "                        <td id=\"T_452157ae_6955_11eb_b7ea_ac2b6e99df85row5_col3\" class=\"data row5 col3\" >0.9815</td>\n",
       "                        <td id=\"T_452157ae_6955_11eb_b7ea_ac2b6e99df85row5_col4\" class=\"data row5 col4\" >0.9815</td>\n",
       "                        <td id=\"T_452157ae_6955_11eb_b7ea_ac2b6e99df85row5_col5\" class=\"data row5 col5\" >0.9638</td>\n",
       "                        <td id=\"T_452157ae_6955_11eb_b7ea_ac2b6e99df85row5_col6\" class=\"data row5 col6\" >0.9639</td>\n",
       "            </tr>\n",
       "            <tr>\n",
       "                        <th id=\"T_452157ae_6955_11eb_b7ea_ac2b6e99df85level0_row6\" class=\"row_heading level0 row6\" >6</th>\n",
       "                        <td id=\"T_452157ae_6955_11eb_b7ea_ac2b6e99df85row6_col0\" class=\"data row6 col0\" >0.9813</td>\n",
       "                        <td id=\"T_452157ae_6955_11eb_b7ea_ac2b6e99df85row6_col1\" class=\"data row6 col1\" >0.9821</td>\n",
       "                        <td id=\"T_452157ae_6955_11eb_b7ea_ac2b6e99df85row6_col2\" class=\"data row6 col2\" >0.9700</td>\n",
       "                        <td id=\"T_452157ae_6955_11eb_b7ea_ac2b6e99df85row6_col3\" class=\"data row6 col3\" >0.9813</td>\n",
       "                        <td id=\"T_452157ae_6955_11eb_b7ea_ac2b6e99df85row6_col4\" class=\"data row6 col4\" >0.9813</td>\n",
       "                        <td id=\"T_452157ae_6955_11eb_b7ea_ac2b6e99df85row6_col5\" class=\"data row6 col5\" >0.9635</td>\n",
       "                        <td id=\"T_452157ae_6955_11eb_b7ea_ac2b6e99df85row6_col6\" class=\"data row6 col6\" >0.9635</td>\n",
       "            </tr>\n",
       "            <tr>\n",
       "                        <th id=\"T_452157ae_6955_11eb_b7ea_ac2b6e99df85level0_row7\" class=\"row_heading level0 row7\" >7</th>\n",
       "                        <td id=\"T_452157ae_6955_11eb_b7ea_ac2b6e99df85row7_col0\" class=\"data row7 col0\" >0.9827</td>\n",
       "                        <td id=\"T_452157ae_6955_11eb_b7ea_ac2b6e99df85row7_col1\" class=\"data row7 col1\" >0.9824</td>\n",
       "                        <td id=\"T_452157ae_6955_11eb_b7ea_ac2b6e99df85row7_col2\" class=\"data row7 col2\" >0.9727</td>\n",
       "                        <td id=\"T_452157ae_6955_11eb_b7ea_ac2b6e99df85row7_col3\" class=\"data row7 col3\" >0.9827</td>\n",
       "                        <td id=\"T_452157ae_6955_11eb_b7ea_ac2b6e99df85row7_col4\" class=\"data row7 col4\" >0.9827</td>\n",
       "                        <td id=\"T_452157ae_6955_11eb_b7ea_ac2b6e99df85row7_col5\" class=\"data row7 col5\" >0.9663</td>\n",
       "                        <td id=\"T_452157ae_6955_11eb_b7ea_ac2b6e99df85row7_col6\" class=\"data row7 col6\" >0.9663</td>\n",
       "            </tr>\n",
       "            <tr>\n",
       "                        <th id=\"T_452157ae_6955_11eb_b7ea_ac2b6e99df85level0_row8\" class=\"row_heading level0 row8\" >8</th>\n",
       "                        <td id=\"T_452157ae_6955_11eb_b7ea_ac2b6e99df85row8_col0\" class=\"data row8 col0\" >0.9819</td>\n",
       "                        <td id=\"T_452157ae_6955_11eb_b7ea_ac2b6e99df85row8_col1\" class=\"data row8 col1\" >0.9829</td>\n",
       "                        <td id=\"T_452157ae_6955_11eb_b7ea_ac2b6e99df85row8_col2\" class=\"data row8 col2\" >0.9725</td>\n",
       "                        <td id=\"T_452157ae_6955_11eb_b7ea_ac2b6e99df85row8_col3\" class=\"data row8 col3\" >0.9820</td>\n",
       "                        <td id=\"T_452157ae_6955_11eb_b7ea_ac2b6e99df85row8_col4\" class=\"data row8 col4\" >0.9819</td>\n",
       "                        <td id=\"T_452157ae_6955_11eb_b7ea_ac2b6e99df85row8_col5\" class=\"data row8 col5\" >0.9648</td>\n",
       "                        <td id=\"T_452157ae_6955_11eb_b7ea_ac2b6e99df85row8_col6\" class=\"data row8 col6\" >0.9648</td>\n",
       "            </tr>\n",
       "            <tr>\n",
       "                        <th id=\"T_452157ae_6955_11eb_b7ea_ac2b6e99df85level0_row9\" class=\"row_heading level0 row9\" >9</th>\n",
       "                        <td id=\"T_452157ae_6955_11eb_b7ea_ac2b6e99df85row9_col0\" class=\"data row9 col0\" >0.9816</td>\n",
       "                        <td id=\"T_452157ae_6955_11eb_b7ea_ac2b6e99df85row9_col1\" class=\"data row9 col1\" >0.9824</td>\n",
       "                        <td id=\"T_452157ae_6955_11eb_b7ea_ac2b6e99df85row9_col2\" class=\"data row9 col2\" >0.9714</td>\n",
       "                        <td id=\"T_452157ae_6955_11eb_b7ea_ac2b6e99df85row9_col3\" class=\"data row9 col3\" >0.9816</td>\n",
       "                        <td id=\"T_452157ae_6955_11eb_b7ea_ac2b6e99df85row9_col4\" class=\"data row9 col4\" >0.9816</td>\n",
       "                        <td id=\"T_452157ae_6955_11eb_b7ea_ac2b6e99df85row9_col5\" class=\"data row9 col5\" >0.9641</td>\n",
       "                        <td id=\"T_452157ae_6955_11eb_b7ea_ac2b6e99df85row9_col6\" class=\"data row9 col6\" >0.9641</td>\n",
       "            </tr>\n",
       "            <tr>\n",
       "                        <th id=\"T_452157ae_6955_11eb_b7ea_ac2b6e99df85level0_row10\" class=\"row_heading level0 row10\" >Mean</th>\n",
       "                        <td id=\"T_452157ae_6955_11eb_b7ea_ac2b6e99df85row10_col0\" class=\"data row10 col0\" >0.9819</td>\n",
       "                        <td id=\"T_452157ae_6955_11eb_b7ea_ac2b6e99df85row10_col1\" class=\"data row10 col1\" >0.9827</td>\n",
       "                        <td id=\"T_452157ae_6955_11eb_b7ea_ac2b6e99df85row10_col2\" class=\"data row10 col2\" >0.9717</td>\n",
       "                        <td id=\"T_452157ae_6955_11eb_b7ea_ac2b6e99df85row10_col3\" class=\"data row10 col3\" >0.9819</td>\n",
       "                        <td id=\"T_452157ae_6955_11eb_b7ea_ac2b6e99df85row10_col4\" class=\"data row10 col4\" >0.9819</td>\n",
       "                        <td id=\"T_452157ae_6955_11eb_b7ea_ac2b6e99df85row10_col5\" class=\"data row10 col5\" >0.9647</td>\n",
       "                        <td id=\"T_452157ae_6955_11eb_b7ea_ac2b6e99df85row10_col6\" class=\"data row10 col6\" >0.9647</td>\n",
       "            </tr>\n",
       "            <tr>\n",
       "                        <th id=\"T_452157ae_6955_11eb_b7ea_ac2b6e99df85level0_row11\" class=\"row_heading level0 row11\" >SD</th>\n",
       "                        <td id=\"T_452157ae_6955_11eb_b7ea_ac2b6e99df85row11_col0\" class=\"data row11 col0\" >0.0007</td>\n",
       "                        <td id=\"T_452157ae_6955_11eb_b7ea_ac2b6e99df85row11_col1\" class=\"data row11 col1\" >0.0005</td>\n",
       "                        <td id=\"T_452157ae_6955_11eb_b7ea_ac2b6e99df85row11_col2\" class=\"data row11 col2\" >0.0014</td>\n",
       "                        <td id=\"T_452157ae_6955_11eb_b7ea_ac2b6e99df85row11_col3\" class=\"data row11 col3\" >0.0006</td>\n",
       "                        <td id=\"T_452157ae_6955_11eb_b7ea_ac2b6e99df85row11_col4\" class=\"data row11 col4\" >0.0006</td>\n",
       "                        <td id=\"T_452157ae_6955_11eb_b7ea_ac2b6e99df85row11_col5\" class=\"data row11 col5\" >0.0012</td>\n",
       "                        <td id=\"T_452157ae_6955_11eb_b7ea_ac2b6e99df85row11_col6\" class=\"data row11 col6\" >0.0012</td>\n",
       "            </tr>\n",
       "    </tbody></table>"
      ],
      "text/plain": [
       "<pandas.io.formats.style.Styler at 0x28a84fab4c0>"
      ]
     },
     "metadata": {},
     "output_type": "display_data"
    }
   ],
   "source": [
    "dt = create_model(estimator = 'dt')\n",
    "#Mean\t0.9819\t0.9827\t0.9717\t0.9819\t0.9819\t0.9647\t0.9647"
   ]
  },
  {
   "cell_type": "code",
   "execution_count": 73,
   "metadata": {
    "id": "lZ2qwN8kdgQq"
   },
   "outputs": [
    {
     "data": {
      "text/html": [
       "<style  type=\"text/css\" >\n",
       "#T_51a347bb_6934_11eb_b0e9_ac2b6e99df85row10_col0,#T_51a347bb_6934_11eb_b0e9_ac2b6e99df85row10_col1,#T_51a347bb_6934_11eb_b0e9_ac2b6e99df85row10_col2,#T_51a347bb_6934_11eb_b0e9_ac2b6e99df85row10_col3,#T_51a347bb_6934_11eb_b0e9_ac2b6e99df85row10_col4,#T_51a347bb_6934_11eb_b0e9_ac2b6e99df85row10_col5,#T_51a347bb_6934_11eb_b0e9_ac2b6e99df85row10_col6{\n",
       "            background:  yellow;\n",
       "        }</style><table id=\"T_51a347bb_6934_11eb_b0e9_ac2b6e99df85\" ><thead>    <tr>        <th class=\"blank level0\" ></th>        <th class=\"col_heading level0 col0\" >Accuracy</th>        <th class=\"col_heading level0 col1\" >AUC</th>        <th class=\"col_heading level0 col2\" >Recall</th>        <th class=\"col_heading level0 col3\" >Prec.</th>        <th class=\"col_heading level0 col4\" >F1</th>        <th class=\"col_heading level0 col5\" >Kappa</th>        <th class=\"col_heading level0 col6\" >MCC</th>    </tr></thead><tbody>\n",
       "                <tr>\n",
       "                        <th id=\"T_51a347bb_6934_11eb_b0e9_ac2b6e99df85level0_row0\" class=\"row_heading level0 row0\" >0</th>\n",
       "                        <td id=\"T_51a347bb_6934_11eb_b0e9_ac2b6e99df85row0_col0\" class=\"data row0 col0\" >0.8656</td>\n",
       "                        <td id=\"T_51a347bb_6934_11eb_b0e9_ac2b6e99df85row0_col1\" class=\"data row0 col1\" >0.9507</td>\n",
       "                        <td id=\"T_51a347bb_6934_11eb_b0e9_ac2b6e99df85row0_col2\" class=\"data row0 col2\" >0.6883</td>\n",
       "                        <td id=\"T_51a347bb_6934_11eb_b0e9_ac2b6e99df85row0_col3\" class=\"data row0 col3\" >0.8656</td>\n",
       "                        <td id=\"T_51a347bb_6934_11eb_b0e9_ac2b6e99df85row0_col4\" class=\"data row0 col4\" >0.8577</td>\n",
       "                        <td id=\"T_51a347bb_6934_11eb_b0e9_ac2b6e99df85row0_col5\" class=\"data row0 col5\" >0.7097</td>\n",
       "                        <td id=\"T_51a347bb_6934_11eb_b0e9_ac2b6e99df85row0_col6\" class=\"data row0 col6\" >0.7206</td>\n",
       "            </tr>\n",
       "            <tr>\n",
       "                        <th id=\"T_51a347bb_6934_11eb_b0e9_ac2b6e99df85level0_row1\" class=\"row_heading level0 row1\" >1</th>\n",
       "                        <td id=\"T_51a347bb_6934_11eb_b0e9_ac2b6e99df85row1_col0\" class=\"data row1 col0\" >0.8617</td>\n",
       "                        <td id=\"T_51a347bb_6934_11eb_b0e9_ac2b6e99df85row1_col1\" class=\"data row1 col1\" >0.9504</td>\n",
       "                        <td id=\"T_51a347bb_6934_11eb_b0e9_ac2b6e99df85row1_col2\" class=\"data row1 col2\" >0.6711</td>\n",
       "                        <td id=\"T_51a347bb_6934_11eb_b0e9_ac2b6e99df85row1_col3\" class=\"data row1 col3\" >0.8615</td>\n",
       "                        <td id=\"T_51a347bb_6934_11eb_b0e9_ac2b6e99df85row1_col4\" class=\"data row1 col4\" >0.8534</td>\n",
       "                        <td id=\"T_51a347bb_6934_11eb_b0e9_ac2b6e99df85row1_col5\" class=\"data row1 col5\" >0.7006</td>\n",
       "                        <td id=\"T_51a347bb_6934_11eb_b0e9_ac2b6e99df85row1_col6\" class=\"data row1 col6\" >0.7119</td>\n",
       "            </tr>\n",
       "            <tr>\n",
       "                        <th id=\"T_51a347bb_6934_11eb_b0e9_ac2b6e99df85level0_row2\" class=\"row_heading level0 row2\" >2</th>\n",
       "                        <td id=\"T_51a347bb_6934_11eb_b0e9_ac2b6e99df85row2_col0\" class=\"data row2 col0\" >0.8664</td>\n",
       "                        <td id=\"T_51a347bb_6934_11eb_b0e9_ac2b6e99df85row2_col1\" class=\"data row2 col1\" >0.9498</td>\n",
       "                        <td id=\"T_51a347bb_6934_11eb_b0e9_ac2b6e99df85row2_col2\" class=\"data row2 col2\" >0.6883</td>\n",
       "                        <td id=\"T_51a347bb_6934_11eb_b0e9_ac2b6e99df85row2_col3\" class=\"data row2 col3\" >0.8670</td>\n",
       "                        <td id=\"T_51a347bb_6934_11eb_b0e9_ac2b6e99df85row2_col4\" class=\"data row2 col4\" >0.8586</td>\n",
       "                        <td id=\"T_51a347bb_6934_11eb_b0e9_ac2b6e99df85row2_col5\" class=\"data row2 col5\" >0.7112</td>\n",
       "                        <td id=\"T_51a347bb_6934_11eb_b0e9_ac2b6e99df85row2_col6\" class=\"data row2 col6\" >0.7224</td>\n",
       "            </tr>\n",
       "            <tr>\n",
       "                        <th id=\"T_51a347bb_6934_11eb_b0e9_ac2b6e99df85level0_row3\" class=\"row_heading level0 row3\" >3</th>\n",
       "                        <td id=\"T_51a347bb_6934_11eb_b0e9_ac2b6e99df85row3_col0\" class=\"data row3 col0\" >0.8640</td>\n",
       "                        <td id=\"T_51a347bb_6934_11eb_b0e9_ac2b6e99df85row3_col1\" class=\"data row3 col1\" >0.9488</td>\n",
       "                        <td id=\"T_51a347bb_6934_11eb_b0e9_ac2b6e99df85row3_col2\" class=\"data row3 col2\" >0.6885</td>\n",
       "                        <td id=\"T_51a347bb_6934_11eb_b0e9_ac2b6e99df85row3_col3\" class=\"data row3 col3\" >0.8641</td>\n",
       "                        <td id=\"T_51a347bb_6934_11eb_b0e9_ac2b6e99df85row3_col4\" class=\"data row3 col4\" >0.8562</td>\n",
       "                        <td id=\"T_51a347bb_6934_11eb_b0e9_ac2b6e99df85row3_col5\" class=\"data row3 col5\" >0.7064</td>\n",
       "                        <td id=\"T_51a347bb_6934_11eb_b0e9_ac2b6e99df85row3_col6\" class=\"data row3 col6\" >0.7172</td>\n",
       "            </tr>\n",
       "            <tr>\n",
       "                        <th id=\"T_51a347bb_6934_11eb_b0e9_ac2b6e99df85level0_row4\" class=\"row_heading level0 row4\" >4</th>\n",
       "                        <td id=\"T_51a347bb_6934_11eb_b0e9_ac2b6e99df85row4_col0\" class=\"data row4 col0\" >0.8686</td>\n",
       "                        <td id=\"T_51a347bb_6934_11eb_b0e9_ac2b6e99df85row4_col1\" class=\"data row4 col1\" >0.9513</td>\n",
       "                        <td id=\"T_51a347bb_6934_11eb_b0e9_ac2b6e99df85row4_col2\" class=\"data row4 col2\" >0.6931</td>\n",
       "                        <td id=\"T_51a347bb_6934_11eb_b0e9_ac2b6e99df85row4_col3\" class=\"data row4 col3\" >0.8696</td>\n",
       "                        <td id=\"T_51a347bb_6934_11eb_b0e9_ac2b6e99df85row4_col4\" class=\"data row4 col4\" >0.8607</td>\n",
       "                        <td id=\"T_51a347bb_6934_11eb_b0e9_ac2b6e99df85row4_col5\" class=\"data row4 col5\" >0.7155</td>\n",
       "                        <td id=\"T_51a347bb_6934_11eb_b0e9_ac2b6e99df85row4_col6\" class=\"data row4 col6\" >0.7271</td>\n",
       "            </tr>\n",
       "            <tr>\n",
       "                        <th id=\"T_51a347bb_6934_11eb_b0e9_ac2b6e99df85level0_row5\" class=\"row_heading level0 row5\" >5</th>\n",
       "                        <td id=\"T_51a347bb_6934_11eb_b0e9_ac2b6e99df85row5_col0\" class=\"data row5 col0\" >0.8658</td>\n",
       "                        <td id=\"T_51a347bb_6934_11eb_b0e9_ac2b6e99df85row5_col1\" class=\"data row5 col1\" >0.9493</td>\n",
       "                        <td id=\"T_51a347bb_6934_11eb_b0e9_ac2b6e99df85row5_col2\" class=\"data row5 col2\" >0.6907</td>\n",
       "                        <td id=\"T_51a347bb_6934_11eb_b0e9_ac2b6e99df85row5_col3\" class=\"data row5 col3\" >0.8659</td>\n",
       "                        <td id=\"T_51a347bb_6934_11eb_b0e9_ac2b6e99df85row5_col4\" class=\"data row5 col4\" >0.8580</td>\n",
       "                        <td id=\"T_51a347bb_6934_11eb_b0e9_ac2b6e99df85row5_col5\" class=\"data row5 col5\" >0.7104</td>\n",
       "                        <td id=\"T_51a347bb_6934_11eb_b0e9_ac2b6e99df85row5_col6\" class=\"data row5 col6\" >0.7212</td>\n",
       "            </tr>\n",
       "            <tr>\n",
       "                        <th id=\"T_51a347bb_6934_11eb_b0e9_ac2b6e99df85level0_row6\" class=\"row_heading level0 row6\" >6</th>\n",
       "                        <td id=\"T_51a347bb_6934_11eb_b0e9_ac2b6e99df85row6_col0\" class=\"data row6 col0\" >0.8638</td>\n",
       "                        <td id=\"T_51a347bb_6934_11eb_b0e9_ac2b6e99df85row6_col1\" class=\"data row6 col1\" >0.9478</td>\n",
       "                        <td id=\"T_51a347bb_6934_11eb_b0e9_ac2b6e99df85row6_col2\" class=\"data row6 col2\" >0.6837</td>\n",
       "                        <td id=\"T_51a347bb_6934_11eb_b0e9_ac2b6e99df85row6_col3\" class=\"data row6 col3\" >0.8644</td>\n",
       "                        <td id=\"T_51a347bb_6934_11eb_b0e9_ac2b6e99df85row6_col4\" class=\"data row6 col4\" >0.8560</td>\n",
       "                        <td id=\"T_51a347bb_6934_11eb_b0e9_ac2b6e99df85row6_col5\" class=\"data row6 col5\" >0.7057</td>\n",
       "                        <td id=\"T_51a347bb_6934_11eb_b0e9_ac2b6e99df85row6_col6\" class=\"data row6 col6\" >0.7167</td>\n",
       "            </tr>\n",
       "            <tr>\n",
       "                        <th id=\"T_51a347bb_6934_11eb_b0e9_ac2b6e99df85level0_row7\" class=\"row_heading level0 row7\" >7</th>\n",
       "                        <td id=\"T_51a347bb_6934_11eb_b0e9_ac2b6e99df85row7_col0\" class=\"data row7 col0\" >0.8642</td>\n",
       "                        <td id=\"T_51a347bb_6934_11eb_b0e9_ac2b6e99df85row7_col1\" class=\"data row7 col1\" >0.9491</td>\n",
       "                        <td id=\"T_51a347bb_6934_11eb_b0e9_ac2b6e99df85row7_col2\" class=\"data row7 col2\" >0.6813</td>\n",
       "                        <td id=\"T_51a347bb_6934_11eb_b0e9_ac2b6e99df85row7_col3\" class=\"data row7 col3\" >0.8643</td>\n",
       "                        <td id=\"T_51a347bb_6934_11eb_b0e9_ac2b6e99df85row7_col4\" class=\"data row7 col4\" >0.8558</td>\n",
       "                        <td id=\"T_51a347bb_6934_11eb_b0e9_ac2b6e99df85row7_col5\" class=\"data row7 col5\" >0.7057</td>\n",
       "                        <td id=\"T_51a347bb_6934_11eb_b0e9_ac2b6e99df85row7_col6\" class=\"data row7 col6\" >0.7174</td>\n",
       "            </tr>\n",
       "            <tr>\n",
       "                        <th id=\"T_51a347bb_6934_11eb_b0e9_ac2b6e99df85level0_row8\" class=\"row_heading level0 row8\" >8</th>\n",
       "                        <td id=\"T_51a347bb_6934_11eb_b0e9_ac2b6e99df85row8_col0\" class=\"data row8 col0\" >0.8665</td>\n",
       "                        <td id=\"T_51a347bb_6934_11eb_b0e9_ac2b6e99df85row8_col1\" class=\"data row8 col1\" >0.9497</td>\n",
       "                        <td id=\"T_51a347bb_6934_11eb_b0e9_ac2b6e99df85row8_col2\" class=\"data row8 col2\" >0.6861</td>\n",
       "                        <td id=\"T_51a347bb_6934_11eb_b0e9_ac2b6e99df85row8_col3\" class=\"data row8 col3\" >0.8670</td>\n",
       "                        <td id=\"T_51a347bb_6934_11eb_b0e9_ac2b6e99df85row8_col4\" class=\"data row8 col4\" >0.8588</td>\n",
       "                        <td id=\"T_51a347bb_6934_11eb_b0e9_ac2b6e99df85row8_col5\" class=\"data row8 col5\" >0.7116</td>\n",
       "                        <td id=\"T_51a347bb_6934_11eb_b0e9_ac2b6e99df85row8_col6\" class=\"data row8 col6\" >0.7225</td>\n",
       "            </tr>\n",
       "            <tr>\n",
       "                        <th id=\"T_51a347bb_6934_11eb_b0e9_ac2b6e99df85level0_row9\" class=\"row_heading level0 row9\" >9</th>\n",
       "                        <td id=\"T_51a347bb_6934_11eb_b0e9_ac2b6e99df85row9_col0\" class=\"data row9 col0\" >0.8649</td>\n",
       "                        <td id=\"T_51a347bb_6934_11eb_b0e9_ac2b6e99df85row9_col1\" class=\"data row9 col1\" >0.9493</td>\n",
       "                        <td id=\"T_51a347bb_6934_11eb_b0e9_ac2b6e99df85row9_col2\" class=\"data row9 col2\" >0.6820</td>\n",
       "                        <td id=\"T_51a347bb_6934_11eb_b0e9_ac2b6e99df85row9_col3\" class=\"data row9 col3\" >0.8653</td>\n",
       "                        <td id=\"T_51a347bb_6934_11eb_b0e9_ac2b6e99df85row9_col4\" class=\"data row9 col4\" >0.8567</td>\n",
       "                        <td id=\"T_51a347bb_6934_11eb_b0e9_ac2b6e99df85row9_col5\" class=\"data row9 col5\" >0.7076</td>\n",
       "                        <td id=\"T_51a347bb_6934_11eb_b0e9_ac2b6e99df85row9_col6\" class=\"data row9 col6\" >0.7191</td>\n",
       "            </tr>\n",
       "            <tr>\n",
       "                        <th id=\"T_51a347bb_6934_11eb_b0e9_ac2b6e99df85level0_row10\" class=\"row_heading level0 row10\" >Mean</th>\n",
       "                        <td id=\"T_51a347bb_6934_11eb_b0e9_ac2b6e99df85row10_col0\" class=\"data row10 col0\" >0.8652</td>\n",
       "                        <td id=\"T_51a347bb_6934_11eb_b0e9_ac2b6e99df85row10_col1\" class=\"data row10 col1\" >0.9496</td>\n",
       "                        <td id=\"T_51a347bb_6934_11eb_b0e9_ac2b6e99df85row10_col2\" class=\"data row10 col2\" >0.6853</td>\n",
       "                        <td id=\"T_51a347bb_6934_11eb_b0e9_ac2b6e99df85row10_col3\" class=\"data row10 col3\" >0.8655</td>\n",
       "                        <td id=\"T_51a347bb_6934_11eb_b0e9_ac2b6e99df85row10_col4\" class=\"data row10 col4\" >0.8572</td>\n",
       "                        <td id=\"T_51a347bb_6934_11eb_b0e9_ac2b6e99df85row10_col5\" class=\"data row10 col5\" >0.7084</td>\n",
       "                        <td id=\"T_51a347bb_6934_11eb_b0e9_ac2b6e99df85row10_col6\" class=\"data row10 col6\" >0.7196</td>\n",
       "            </tr>\n",
       "            <tr>\n",
       "                        <th id=\"T_51a347bb_6934_11eb_b0e9_ac2b6e99df85level0_row11\" class=\"row_heading level0 row11\" >SD</th>\n",
       "                        <td id=\"T_51a347bb_6934_11eb_b0e9_ac2b6e99df85row11_col0\" class=\"data row11 col0\" >0.0018</td>\n",
       "                        <td id=\"T_51a347bb_6934_11eb_b0e9_ac2b6e99df85row11_col1\" class=\"data row11 col1\" >0.0009</td>\n",
       "                        <td id=\"T_51a347bb_6934_11eb_b0e9_ac2b6e99df85row11_col2\" class=\"data row11 col2\" >0.0059</td>\n",
       "                        <td id=\"T_51a347bb_6934_11eb_b0e9_ac2b6e99df85row11_col3\" class=\"data row11 col3\" >0.0021</td>\n",
       "                        <td id=\"T_51a347bb_6934_11eb_b0e9_ac2b6e99df85row11_col4\" class=\"data row11 col4\" >0.0019</td>\n",
       "                        <td id=\"T_51a347bb_6934_11eb_b0e9_ac2b6e99df85row11_col5\" class=\"data row11 col5\" >0.0039</td>\n",
       "                        <td id=\"T_51a347bb_6934_11eb_b0e9_ac2b6e99df85row11_col6\" class=\"data row11 col6\" >0.0039</td>\n",
       "            </tr>\n",
       "    </tbody></table>"
      ],
      "text/plain": [
       "<pandas.io.formats.style.Styler at 0x1ffd254bfa0>"
      ]
     },
     "metadata": {},
     "output_type": "display_data"
    }
   ],
   "source": [
    "#lgb = create_model(estimator = 'lightgbm')\n",
    "#0.8652\t0.9496\t0.6853\t0.8655\t0.8572\t0.7084\t0.7196"
   ]
  },
  {
   "cell_type": "code",
   "execution_count": null,
   "metadata": {
    "id": "guI6Z04YdgTO"
   },
   "outputs": [],
   "source": [
    "# lda = create_model(estimator = 'lda')"
   ]
  },
  {
   "cell_type": "code",
   "execution_count": null,
   "metadata": {
    "id": "v_vg-2L5f2Hp"
   },
   "outputs": [],
   "source": [
    "# catboost = create_model(estimator = 'catboost')"
   ]
  },
  {
   "cell_type": "code",
   "execution_count": null,
   "metadata": {
    "id": "IuQia2IGdgWX"
   },
   "outputs": [],
   "source": [
    "# tune_rf = tune_model(estimator = rf,  optimize = 'F1',verbose = True)"
   ]
  },
  {
   "cell_type": "code",
   "execution_count": 247,
   "metadata": {
    "id": "659fWbfPdgY0"
   },
   "outputs": [
    {
     "data": {
      "text/html": [
       "<style  type=\"text/css\" >\n",
       "#T_b158508b_6955_11eb_bc42_ac2b6e99df85row10_col0,#T_b158508b_6955_11eb_bc42_ac2b6e99df85row10_col1,#T_b158508b_6955_11eb_bc42_ac2b6e99df85row10_col2,#T_b158508b_6955_11eb_bc42_ac2b6e99df85row10_col3,#T_b158508b_6955_11eb_bc42_ac2b6e99df85row10_col4,#T_b158508b_6955_11eb_bc42_ac2b6e99df85row10_col5,#T_b158508b_6955_11eb_bc42_ac2b6e99df85row10_col6{\n",
       "            background:  yellow;\n",
       "        }</style><table id=\"T_b158508b_6955_11eb_bc42_ac2b6e99df85\" ><thead>    <tr>        <th class=\"blank level0\" ></th>        <th class=\"col_heading level0 col0\" >Accuracy</th>        <th class=\"col_heading level0 col1\" >AUC</th>        <th class=\"col_heading level0 col2\" >Recall</th>        <th class=\"col_heading level0 col3\" >Prec.</th>        <th class=\"col_heading level0 col4\" >F1</th>        <th class=\"col_heading level0 col5\" >Kappa</th>        <th class=\"col_heading level0 col6\" >MCC</th>    </tr></thead><tbody>\n",
       "                <tr>\n",
       "                        <th id=\"T_b158508b_6955_11eb_bc42_ac2b6e99df85level0_row0\" class=\"row_heading level0 row0\" >0</th>\n",
       "                        <td id=\"T_b158508b_6955_11eb_bc42_ac2b6e99df85row0_col0\" class=\"data row0 col0\" >0.7040</td>\n",
       "                        <td id=\"T_b158508b_6955_11eb_bc42_ac2b6e99df85row0_col1\" class=\"data row0 col1\" >0.7072</td>\n",
       "                        <td id=\"T_b158508b_6955_11eb_bc42_ac2b6e99df85row0_col2\" class=\"data row0 col2\" >0.2207</td>\n",
       "                        <td id=\"T_b158508b_6955_11eb_bc42_ac2b6e99df85row0_col3\" class=\"data row0 col3\" >0.5749</td>\n",
       "                        <td id=\"T_b158508b_6955_11eb_bc42_ac2b6e99df85row0_col4\" class=\"data row0 col4\" >0.6329</td>\n",
       "                        <td id=\"T_b158508b_6955_11eb_bc42_ac2b6e99df85row0_col5\" class=\"data row0 col5\" >0.2874</td>\n",
       "                        <td id=\"T_b158508b_6955_11eb_bc42_ac2b6e99df85row0_col6\" class=\"data row0 col6\" >0.3108</td>\n",
       "            </tr>\n",
       "            <tr>\n",
       "                        <th id=\"T_b158508b_6955_11eb_bc42_ac2b6e99df85level0_row1\" class=\"row_heading level0 row1\" >1</th>\n",
       "                        <td id=\"T_b158508b_6955_11eb_bc42_ac2b6e99df85row1_col0\" class=\"data row1 col0\" >0.7045</td>\n",
       "                        <td id=\"T_b158508b_6955_11eb_bc42_ac2b6e99df85row1_col1\" class=\"data row1 col1\" >0.7069</td>\n",
       "                        <td id=\"T_b158508b_6955_11eb_bc42_ac2b6e99df85row1_col2\" class=\"data row1 col2\" >0.2216</td>\n",
       "                        <td id=\"T_b158508b_6955_11eb_bc42_ac2b6e99df85row1_col3\" class=\"data row1 col3\" >0.5755</td>\n",
       "                        <td id=\"T_b158508b_6955_11eb_bc42_ac2b6e99df85row1_col4\" class=\"data row1 col4\" >0.6334</td>\n",
       "                        <td id=\"T_b158508b_6955_11eb_bc42_ac2b6e99df85row1_col5\" class=\"data row1 col5\" >0.2893</td>\n",
       "                        <td id=\"T_b158508b_6955_11eb_bc42_ac2b6e99df85row1_col6\" class=\"data row1 col6\" >0.3127</td>\n",
       "            </tr>\n",
       "            <tr>\n",
       "                        <th id=\"T_b158508b_6955_11eb_bc42_ac2b6e99df85level0_row2\" class=\"row_heading level0 row2\" >2</th>\n",
       "                        <td id=\"T_b158508b_6955_11eb_bc42_ac2b6e99df85row2_col0\" class=\"data row2 col0\" >0.7037</td>\n",
       "                        <td id=\"T_b158508b_6955_11eb_bc42_ac2b6e99df85row2_col1\" class=\"data row2 col1\" >0.7048</td>\n",
       "                        <td id=\"T_b158508b_6955_11eb_bc42_ac2b6e99df85row2_col2\" class=\"data row2 col2\" >0.2192</td>\n",
       "                        <td id=\"T_b158508b_6955_11eb_bc42_ac2b6e99df85row2_col3\" class=\"data row2 col3\" >0.5741</td>\n",
       "                        <td id=\"T_b158508b_6955_11eb_bc42_ac2b6e99df85row2_col4\" class=\"data row2 col4\" >0.6323</td>\n",
       "                        <td id=\"T_b158508b_6955_11eb_bc42_ac2b6e99df85row2_col5\" class=\"data row2 col5\" >0.2841</td>\n",
       "                        <td id=\"T_b158508b_6955_11eb_bc42_ac2b6e99df85row2_col6\" class=\"data row2 col6\" >0.3081</td>\n",
       "            </tr>\n",
       "            <tr>\n",
       "                        <th id=\"T_b158508b_6955_11eb_bc42_ac2b6e99df85level0_row3\" class=\"row_heading level0 row3\" >3</th>\n",
       "                        <td id=\"T_b158508b_6955_11eb_bc42_ac2b6e99df85row3_col0\" class=\"data row3 col0\" >0.7027</td>\n",
       "                        <td id=\"T_b158508b_6955_11eb_bc42_ac2b6e99df85row3_col1\" class=\"data row3 col1\" >0.7050</td>\n",
       "                        <td id=\"T_b158508b_6955_11eb_bc42_ac2b6e99df85row3_col2\" class=\"data row3 col2\" >0.2208</td>\n",
       "                        <td id=\"T_b158508b_6955_11eb_bc42_ac2b6e99df85row3_col3\" class=\"data row3 col3\" >0.5743</td>\n",
       "                        <td id=\"T_b158508b_6955_11eb_bc42_ac2b6e99df85row3_col4\" class=\"data row3 col4\" >0.6319</td>\n",
       "                        <td id=\"T_b158508b_6955_11eb_bc42_ac2b6e99df85row3_col5\" class=\"data row3 col5\" >0.2862</td>\n",
       "                        <td id=\"T_b158508b_6955_11eb_bc42_ac2b6e99df85row3_col6\" class=\"data row3 col6\" >0.3089</td>\n",
       "            </tr>\n",
       "            <tr>\n",
       "                        <th id=\"T_b158508b_6955_11eb_bc42_ac2b6e99df85level0_row4\" class=\"row_heading level0 row4\" >4</th>\n",
       "                        <td id=\"T_b158508b_6955_11eb_bc42_ac2b6e99df85row4_col0\" class=\"data row4 col0\" >0.7040</td>\n",
       "                        <td id=\"T_b158508b_6955_11eb_bc42_ac2b6e99df85row4_col1\" class=\"data row4 col1\" >0.7047</td>\n",
       "                        <td id=\"T_b158508b_6955_11eb_bc42_ac2b6e99df85row4_col2\" class=\"data row4 col2\" >0.2197</td>\n",
       "                        <td id=\"T_b158508b_6955_11eb_bc42_ac2b6e99df85row4_col3\" class=\"data row4 col3\" >0.5743</td>\n",
       "                        <td id=\"T_b158508b_6955_11eb_bc42_ac2b6e99df85row4_col4\" class=\"data row4 col4\" >0.6326</td>\n",
       "                        <td id=\"T_b158508b_6955_11eb_bc42_ac2b6e99df85row4_col5\" class=\"data row4 col5\" >0.2848</td>\n",
       "                        <td id=\"T_b158508b_6955_11eb_bc42_ac2b6e99df85row4_col6\" class=\"data row4 col6\" >0.3088</td>\n",
       "            </tr>\n",
       "            <tr>\n",
       "                        <th id=\"T_b158508b_6955_11eb_bc42_ac2b6e99df85level0_row5\" class=\"row_heading level0 row5\" >5</th>\n",
       "                        <td id=\"T_b158508b_6955_11eb_bc42_ac2b6e99df85row5_col0\" class=\"data row5 col0\" >0.7033</td>\n",
       "                        <td id=\"T_b158508b_6955_11eb_bc42_ac2b6e99df85row5_col1\" class=\"data row5 col1\" >0.7057</td>\n",
       "                        <td id=\"T_b158508b_6955_11eb_bc42_ac2b6e99df85row5_col2\" class=\"data row5 col2\" >0.2208</td>\n",
       "                        <td id=\"T_b158508b_6955_11eb_bc42_ac2b6e99df85row5_col3\" class=\"data row5 col3\" >0.5747</td>\n",
       "                        <td id=\"T_b158508b_6955_11eb_bc42_ac2b6e99df85row5_col4\" class=\"data row5 col4\" >0.6325</td>\n",
       "                        <td id=\"T_b158508b_6955_11eb_bc42_ac2b6e99df85row5_col5\" class=\"data row5 col5\" >0.2872</td>\n",
       "                        <td id=\"T_b158508b_6955_11eb_bc42_ac2b6e99df85row5_col6\" class=\"data row5 col6\" >0.3102</td>\n",
       "            </tr>\n",
       "            <tr>\n",
       "                        <th id=\"T_b158508b_6955_11eb_bc42_ac2b6e99df85level0_row6\" class=\"row_heading level0 row6\" >6</th>\n",
       "                        <td id=\"T_b158508b_6955_11eb_bc42_ac2b6e99df85row6_col0\" class=\"data row6 col0\" >0.7042</td>\n",
       "                        <td id=\"T_b158508b_6955_11eb_bc42_ac2b6e99df85row6_col1\" class=\"data row6 col1\" >0.7097</td>\n",
       "                        <td id=\"T_b158508b_6955_11eb_bc42_ac2b6e99df85row6_col2\" class=\"data row6 col2\" >0.2203</td>\n",
       "                        <td id=\"T_b158508b_6955_11eb_bc42_ac2b6e99df85row6_col3\" class=\"data row6 col3\" >0.5748</td>\n",
       "                        <td id=\"T_b158508b_6955_11eb_bc42_ac2b6e99df85row6_col4\" class=\"data row6 col4\" >0.6329</td>\n",
       "                        <td id=\"T_b158508b_6955_11eb_bc42_ac2b6e99df85row6_col5\" class=\"data row6 col5\" >0.2868</td>\n",
       "                        <td id=\"T_b158508b_6955_11eb_bc42_ac2b6e99df85row6_col6\" class=\"data row6 col6\" >0.3105</td>\n",
       "            </tr>\n",
       "            <tr>\n",
       "                        <th id=\"T_b158508b_6955_11eb_bc42_ac2b6e99df85level0_row7\" class=\"row_heading level0 row7\" >7</th>\n",
       "                        <td id=\"T_b158508b_6955_11eb_bc42_ac2b6e99df85row7_col0\" class=\"data row7 col0\" >0.7076</td>\n",
       "                        <td id=\"T_b158508b_6955_11eb_bc42_ac2b6e99df85row7_col1\" class=\"data row7 col1\" >0.7061</td>\n",
       "                        <td id=\"T_b158508b_6955_11eb_bc42_ac2b6e99df85row7_col2\" class=\"data row7 col2\" >0.2221</td>\n",
       "                        <td id=\"T_b158508b_6955_11eb_bc42_ac2b6e99df85row7_col3\" class=\"data row7 col3\" >0.5775</td>\n",
       "                        <td id=\"T_b158508b_6955_11eb_bc42_ac2b6e99df85row7_col4\" class=\"data row7 col4\" >0.6360</td>\n",
       "                        <td id=\"T_b158508b_6955_11eb_bc42_ac2b6e99df85row7_col5\" class=\"data row7 col5\" >0.2949</td>\n",
       "                        <td id=\"T_b158508b_6955_11eb_bc42_ac2b6e99df85row7_col6\" class=\"data row7 col6\" >0.3194</td>\n",
       "            </tr>\n",
       "            <tr>\n",
       "                        <th id=\"T_b158508b_6955_11eb_bc42_ac2b6e99df85level0_row8\" class=\"row_heading level0 row8\" >8</th>\n",
       "                        <td id=\"T_b158508b_6955_11eb_bc42_ac2b6e99df85row8_col0\" class=\"data row8 col0\" >0.7073</td>\n",
       "                        <td id=\"T_b158508b_6955_11eb_bc42_ac2b6e99df85row8_col1\" class=\"data row8 col1\" >0.7072</td>\n",
       "                        <td id=\"T_b158508b_6955_11eb_bc42_ac2b6e99df85row8_col2\" class=\"data row8 col2\" >0.2230</td>\n",
       "                        <td id=\"T_b158508b_6955_11eb_bc42_ac2b6e99df85row8_col3\" class=\"data row8 col3\" >0.5775</td>\n",
       "                        <td id=\"T_b158508b_6955_11eb_bc42_ac2b6e99df85row8_col4\" class=\"data row8 col4\" >0.6358</td>\n",
       "                        <td id=\"T_b158508b_6955_11eb_bc42_ac2b6e99df85row8_col5\" class=\"data row8 col5\" >0.2950</td>\n",
       "                        <td id=\"T_b158508b_6955_11eb_bc42_ac2b6e99df85row8_col6\" class=\"data row8 col6\" >0.3192</td>\n",
       "            </tr>\n",
       "            <tr>\n",
       "                        <th id=\"T_b158508b_6955_11eb_bc42_ac2b6e99df85level0_row9\" class=\"row_heading level0 row9\" >9</th>\n",
       "                        <td id=\"T_b158508b_6955_11eb_bc42_ac2b6e99df85row9_col0\" class=\"data row9 col0\" >0.7062</td>\n",
       "                        <td id=\"T_b158508b_6955_11eb_bc42_ac2b6e99df85row9_col1\" class=\"data row9 col1\" >0.7084</td>\n",
       "                        <td id=\"T_b158508b_6955_11eb_bc42_ac2b6e99df85row9_col2\" class=\"data row9 col2\" >0.2211</td>\n",
       "                        <td id=\"T_b158508b_6955_11eb_bc42_ac2b6e99df85row9_col3\" class=\"data row9 col3\" >0.5763</td>\n",
       "                        <td id=\"T_b158508b_6955_11eb_bc42_ac2b6e99df85row9_col4\" class=\"data row9 col4\" >0.6346</td>\n",
       "                        <td id=\"T_b158508b_6955_11eb_bc42_ac2b6e99df85row9_col5\" class=\"data row9 col5\" >0.2909</td>\n",
       "                        <td id=\"T_b158508b_6955_11eb_bc42_ac2b6e99df85row9_col6\" class=\"data row9 col6\" >0.3152</td>\n",
       "            </tr>\n",
       "            <tr>\n",
       "                        <th id=\"T_b158508b_6955_11eb_bc42_ac2b6e99df85level0_row10\" class=\"row_heading level0 row10\" >Mean</th>\n",
       "                        <td id=\"T_b158508b_6955_11eb_bc42_ac2b6e99df85row10_col0\" class=\"data row10 col0\" >0.7048</td>\n",
       "                        <td id=\"T_b158508b_6955_11eb_bc42_ac2b6e99df85row10_col1\" class=\"data row10 col1\" >0.7066</td>\n",
       "                        <td id=\"T_b158508b_6955_11eb_bc42_ac2b6e99df85row10_col2\" class=\"data row10 col2\" >0.2209</td>\n",
       "                        <td id=\"T_b158508b_6955_11eb_bc42_ac2b6e99df85row10_col3\" class=\"data row10 col3\" >0.5754</td>\n",
       "                        <td id=\"T_b158508b_6955_11eb_bc42_ac2b6e99df85row10_col4\" class=\"data row10 col4\" >0.6335</td>\n",
       "                        <td id=\"T_b158508b_6955_11eb_bc42_ac2b6e99df85row10_col5\" class=\"data row10 col5\" >0.2887</td>\n",
       "                        <td id=\"T_b158508b_6955_11eb_bc42_ac2b6e99df85row10_col6\" class=\"data row10 col6\" >0.3124</td>\n",
       "            </tr>\n",
       "            <tr>\n",
       "                        <th id=\"T_b158508b_6955_11eb_bc42_ac2b6e99df85level0_row11\" class=\"row_heading level0 row11\" >SD</th>\n",
       "                        <td id=\"T_b158508b_6955_11eb_bc42_ac2b6e99df85row11_col0\" class=\"data row11 col0\" >0.0016</td>\n",
       "                        <td id=\"T_b158508b_6955_11eb_bc42_ac2b6e99df85row11_col1\" class=\"data row11 col1\" >0.0016</td>\n",
       "                        <td id=\"T_b158508b_6955_11eb_bc42_ac2b6e99df85row11_col2\" class=\"data row11 col2\" >0.0010</td>\n",
       "                        <td id=\"T_b158508b_6955_11eb_bc42_ac2b6e99df85row11_col3\" class=\"data row11 col3\" >0.0012</td>\n",
       "                        <td id=\"T_b158508b_6955_11eb_bc42_ac2b6e99df85row11_col4\" class=\"data row11 col4\" >0.0014</td>\n",
       "                        <td id=\"T_b158508b_6955_11eb_bc42_ac2b6e99df85row11_col5\" class=\"data row11 col5\" >0.0037</td>\n",
       "                        <td id=\"T_b158508b_6955_11eb_bc42_ac2b6e99df85row11_col6\" class=\"data row11 col6\" >0.0040</td>\n",
       "            </tr>\n",
       "    </tbody></table>"
      ],
      "text/plain": [
       "<pandas.io.formats.style.Styler at 0x28a8450fbe0>"
      ]
     },
     "metadata": {},
     "output_type": "display_data"
    }
   ],
   "source": [
    "tune_dt = tune_model(estimator = dt,  optimize = 'F1',  verbose = True)"
   ]
  },
  {
   "cell_type": "code",
   "execution_count": null,
   "metadata": {
    "id": "xk1jqOkjdgbD"
   },
   "outputs": [],
   "source": [
    "# tune_lda = tune_model(estimator = 'lda',  optimize = 'F1',  verbose = True)\n"
   ]
  },
  {
   "cell_type": "code",
   "execution_count": null,
   "metadata": {
    "id": "wMKU9KBZfd88"
   },
   "outputs": [],
   "source": [
    "# tune_lgb = tune_model(estimator = 'lightgbm',  optimize = 'F1',  verbose = True)\n"
   ]
  },
  {
   "cell_type": "code",
   "execution_count": null,
   "metadata": {
    "id": "gjh7EooJfqrT"
   },
   "outputs": [],
   "source": [
    "# tune_ridge = tune_model(estimator = 'ridge',  optimize = 'F1',  verbose = True)\n"
   ]
  },
  {
   "cell_type": "code",
   "execution_count": null,
   "metadata": {
    "id": "JEsE1q4alkI5"
   },
   "outputs": [],
   "source": [
    "# tune_ridge = tune_model(estimator = 'catboost',  optimize = 'F1',  verbose = True)\n"
   ]
  },
  {
   "cell_type": "code",
   "execution_count": 164,
   "metadata": {
    "id": "PAbpOTpEm6a5"
   },
   "outputs": [],
   "source": [
    "# blend_models(estimator_list = 'All',  fold = 10,  round = 4,  choose_better = False, optimize = 'F1', method = 'hard',verbose = True)"
   ]
  },
  {
   "cell_type": "code",
   "execution_count": 165,
   "metadata": {
    "id": "znIiytGifquc"
   },
   "outputs": [],
   "source": [
    "# blend_specific_hard = blend_models(estimator_list = [tune_dt,tune_lgb], method = 'hard') "
   ]
  },
  {
   "cell_type": "code",
   "execution_count": null,
   "metadata": {
    "id": "czfMS8-Qfqwx"
   },
   "outputs": [],
   "source": [
    "# blend_specific_soft = blend_models(estimator_list = [tune_dt,tune_lgb], method = 'soft') #those who support predict prob "
   ]
  },
  {
   "cell_type": "code",
   "execution_count": 72,
   "metadata": {
    "id": "NO4-8BfZQnVU"
   },
   "outputs": [
    {
     "data": {
      "image/png": "[encoded data removed]",
      "text/plain": [
       "<Figure size 800x500 with 1 Axes>"
      ]
     },
     "metadata": {},
     "output_type": "display_data"
    }
   ],
   "source": [
    "plot_model(estimator=rf, plot='feature')"
   ]
  },
  {
   "cell_type": "code",
   "execution_count": 248,
   "metadata": {},
   "outputs": [
    {
     "data": {
      "image/png": "[encoded data removed]",
      "text/plain": [
       "<Figure size 800x500 with 1 Axes>"
      ]
     },
     "metadata": {},
     "output_type": "display_data"
    }
   ],
   "source": [
    "plot_model(estimator=tune_dt, plot='feature')"
   ]
  },
  {
   "cell_type": "code",
   "execution_count": 137,
   "metadata": {
    "id": "CSwHgIUSQoGl"
   },
   "outputs": [
    {
     "data": {
      "image/png": "[encoded data removed]",
      "text/plain": [
       "<Figure size 576x396 with 1 Axes>"
      ]
     },
     "metadata": {},
     "output_type": "display_data"
    }
   ],
   "source": [
    "plot_model(rf, plot = 'confusion_matrix')"
   ]
  },
  {
   "cell_type": "code",
   "execution_count": 250,
   "metadata": {},
   "outputs": [
    {
     "data": {
      "image/png": "[encoded data removed]",
      "text/plain": [
       "<Figure size 576x396 with 1 Axes>"
      ]
     },
     "metadata": {},
     "output_type": "display_data"
    }
   ],
   "source": [
    "plot_model(dt, plot = 'confusion_matrix')"
   ]
  },
  {
   "cell_type": "code",
   "execution_count": 73,
   "metadata": {
    "id": "BxtN_yLwQoJ4"
   },
   "outputs": [],
   "source": [
    "final_rf = finalize_model(rf)"
   ]
  },
  {
   "cell_type": "code",
   "execution_count": 251,
   "metadata": {},
   "outputs": [],
   "source": [
    "final_dt = finalize_model(dt)"
   ]
  },
  {
   "cell_type": "code",
   "execution_count": null,
   "metadata": {},
   "outputs": [],
   "source": [
    "model1 = create_model(estimator=)"
   ]
  },
  {
   "cell_type": "code",
   "execution_count": null,
   "metadata": {},
   "outputs": [
    {
     "data": {
      "application/vnd.jupyter.widget-view+json": {
       "model_id": "aafa42f516b4428c93d1cbe9c766d161",
       "version_major": 2,
       "version_minor": 0
      },
      "text/plain": [
       "IntProgress(value=0, description='Processing: ', max=6)"
      ]
     },
     "metadata": {},
     "output_type": "display_data"
    },
    {
     "data": {
      "text/html": [
       "<div>\n",
       "<style scoped>\n",
       "    .dataframe tbody tr th:only-of-type {\n",
       "        vertical-align: middle;\n",
       "    }\n",
       "\n",
       "    .dataframe tbody tr th {\n",
       "        vertical-align: top;\n",
       "    }\n",
       "\n",
       "    .dataframe thead th {\n",
       "        text-align: right;\n",
       "    }\n",
       "</style>\n",
       "<table border=\"1\" class=\"dataframe\">\n",
       "  <thead>\n",
       "    <tr style=\"text-align: right;\">\n",
       "      <th></th>\n",
       "      <th></th>\n",
       "      <th></th>\n",
       "    </tr>\n",
       "    <tr>\n",
       "      <th></th>\n",
       "      <th></th>\n",
       "      <th></th>\n",
       "    </tr>\n",
       "  </thead>\n",
       "  <tbody>\n",
       "    <tr>\n",
       "      <th>Initiated</th>\n",
       "      <td>. . . . . . . . . . . . . . . . . .</td>\n",
       "      <td>21:42:30</td>\n",
       "    </tr>\n",
       "    <tr>\n",
       "      <th>Status</th>\n",
       "      <td>. . . . . . . . . . . . . . . . . .</td>\n",
       "      <td>Finalizing Model</td>\n",
       "    </tr>\n",
       "    <tr>\n",
       "      <th>Estimator</th>\n",
       "      <td>. . . . . . . . . . . . . . . . . .</td>\n",
       "      <td>Decision Tree Classifier</td>\n",
       "    </tr>\n",
       "  </tbody>\n",
       "</table>\n",
       "</div>"
      ],
      "text/plain": [
       "                                                                        \n",
       "                                                                        \n",
       "Initiated  . . . . . . . . . . . . . . . . . .                  21:42:30\n",
       "Status     . . . . . . . . . . . . . . . . . .          Finalizing Model\n",
       "Estimator  . . . . . . . . . . . . . . . . . .  Decision Tree Classifier"
      ]
     },
     "metadata": {},
     "output_type": "display_data"
    },
    {
     "data": {
      "text/html": [
       "<div>\n",
       "<style scoped>\n",
       "    .dataframe tbody tr th:only-of-type {\n",
       "        vertical-align: middle;\n",
       "    }\n",
       "\n",
       "    .dataframe tbody tr th {\n",
       "        vertical-align: top;\n",
       "    }\n",
       "\n",
       "    .dataframe thead th {\n",
       "        text-align: right;\n",
       "    }\n",
       "</style>\n",
       "<table border=\"1\" class=\"dataframe\">\n",
       "  <thead>\n",
       "    <tr style=\"text-align: right;\">\n",
       "      <th></th>\n",
       "      <th>Accuracy</th>\n",
       "      <th>AUC</th>\n",
       "      <th>Recall</th>\n",
       "      <th>Prec.</th>\n",
       "      <th>F1</th>\n",
       "      <th>Kappa</th>\n",
       "      <th>MCC</th>\n",
       "    </tr>\n",
       "  </thead>\n",
       "  <tbody>\n",
       "  </tbody>\n",
       "</table>\n",
       "</div>"
      ],
      "text/plain": [
       "Empty DataFrame\n",
       "Columns: [Accuracy, AUC, Recall, Prec., F1, Kappa, MCC]\n",
       "Index: []"
      ]
     },
     "metadata": {},
     "output_type": "display_data"
    }
   ],
   "source": [
    "en = ensemble_model(dt, method = 'Bagging',  fold = 10, n_estimators = 10, round = 4,  choose_better = False, optimize = 'F1', verbose = True)"
   ]
  },
  {
   "cell_type": "code",
   "execution_count": null,
   "metadata": {},
   "outputs": [],
   "source": [
    "final_en= finalize_model(en)"
   ]
  },
  {
   "cell_type": "code",
   "execution_count": null,
   "metadata": {},
   "outputs": [],
   "source": [
    "pred_en = predict_model(estimator= final_en, data=final_df_test,verbose=True)"
   ]
  },
  {
   "cell_type": "code",
   "execution_count": 226,
   "metadata": {
    "id": "vZQyO3PXQoMa"
   },
   "outputs": [],
   "source": [
    "prediction_rf = predict_model(estimator= final_rf, data=final_df_test,verbose=True)"
   ]
  },
  {
   "cell_type": "code",
   "execution_count": 256,
   "metadata": {},
   "outputs": [],
   "source": [
    "pred_dt = predict_model(estimator= final_dt, data=final_df_test,verbose=True)"
   ]
  },
  {
   "cell_type": "code",
   "execution_count": 228,
   "metadata": {},
   "outputs": [
    {
     "data": {
      "text/html": [
       "<div>\n",
       "<style scoped>\n",
       "    .dataframe tbody tr th:only-of-type {\n",
       "        vertical-align: middle;\n",
       "    }\n",
       "\n",
       "    .dataframe tbody tr th {\n",
       "        vertical-align: top;\n",
       "    }\n",
       "\n",
       "    .dataframe thead th {\n",
       "        text-align: right;\n",
       "    }\n",
       "</style>\n",
       "<table border=\"1\" class=\"dataframe\">\n",
       "  <thead>\n",
       "    <tr style=\"text-align: right;\">\n",
       "      <th></th>\n",
       "      <th>ID</th>\n",
       "      <th>Tenure</th>\n",
       "      <th>AssetCost</th>\n",
       "      <th>AmountFinance</th>\n",
       "      <th>DisbursalAmount</th>\n",
       "      <th>EMI</th>\n",
       "      <th>AssetID</th>\n",
       "      <th>SupplierID</th>\n",
       "      <th>LTV</th>\n",
       "      <th>AGE</th>\n",
       "      <th>...</th>\n",
       "      <th>0.0_y</th>\n",
       "      <th>1.0_y</th>\n",
       "      <th>2.0_x</th>\n",
       "      <th>3.0_x</th>\n",
       "      <th>0.0</th>\n",
       "      <th>1.0</th>\n",
       "      <th>2.0_y</th>\n",
       "      <th>3.0_y</th>\n",
       "      <th>Label</th>\n",
       "      <th>Score</th>\n",
       "    </tr>\n",
       "  </thead>\n",
       "  <tbody>\n",
       "    <tr>\n",
       "      <th>0</th>\n",
       "      <td>4</td>\n",
       "      <td>46</td>\n",
       "      <td>480000</td>\n",
       "      <td>365000.0</td>\n",
       "      <td>365000.0</td>\n",
       "      <td>1000.0</td>\n",
       "      <td>3524747</td>\n",
       "      <td>22354</td>\n",
       "      <td>75.83</td>\n",
       "      <td>50.0</td>\n",
       "      <td>...</td>\n",
       "      <td>0.0</td>\n",
       "      <td>0.0</td>\n",
       "      <td>0.0</td>\n",
       "      <td>0.0</td>\n",
       "      <td>0.0</td>\n",
       "      <td>0.0</td>\n",
       "      <td>0.0</td>\n",
       "      <td>0.0</td>\n",
       "      <td>0</td>\n",
       "      <td>0.79</td>\n",
       "    </tr>\n",
       "    <tr>\n",
       "      <th>1</th>\n",
       "      <td>5</td>\n",
       "      <td>45</td>\n",
       "      <td>480000</td>\n",
       "      <td>285000.0</td>\n",
       "      <td>285000.0</td>\n",
       "      <td>9300.0</td>\n",
       "      <td>4985862</td>\n",
       "      <td>22354</td>\n",
       "      <td>57.44</td>\n",
       "      <td>35.0</td>\n",
       "      <td>...</td>\n",
       "      <td>0.0</td>\n",
       "      <td>0.0</td>\n",
       "      <td>0.0</td>\n",
       "      <td>0.0</td>\n",
       "      <td>0.0</td>\n",
       "      <td>0.0</td>\n",
       "      <td>0.0</td>\n",
       "      <td>0.0</td>\n",
       "      <td>0</td>\n",
       "      <td>0.87</td>\n",
       "    </tr>\n",
       "    <tr>\n",
       "      <th>2</th>\n",
       "      <td>6</td>\n",
       "      <td>48</td>\n",
       "      <td>580000</td>\n",
       "      <td>400000.0</td>\n",
       "      <td>400000.0</td>\n",
       "      <td>35800.0</td>\n",
       "      <td>12881783</td>\n",
       "      <td>65929</td>\n",
       "      <td>68.97</td>\n",
       "      <td>37.0</td>\n",
       "      <td>...</td>\n",
       "      <td>0.0</td>\n",
       "      <td>0.0</td>\n",
       "      <td>0.0</td>\n",
       "      <td>0.0</td>\n",
       "      <td>0.0</td>\n",
       "      <td>0.0</td>\n",
       "      <td>0.0</td>\n",
       "      <td>0.0</td>\n",
       "      <td>0</td>\n",
       "      <td>0.86</td>\n",
       "    </tr>\n",
       "    <tr>\n",
       "      <th>3</th>\n",
       "      <td>25</td>\n",
       "      <td>36</td>\n",
       "      <td>725000</td>\n",
       "      <td>500000.0</td>\n",
       "      <td>500000.0</td>\n",
       "      <td>52000.0</td>\n",
       "      <td>10613776</td>\n",
       "      <td>68597</td>\n",
       "      <td>61.79</td>\n",
       "      <td>55.0</td>\n",
       "      <td>...</td>\n",
       "      <td>0.0</td>\n",
       "      <td>0.0</td>\n",
       "      <td>0.0</td>\n",
       "      <td>0.0</td>\n",
       "      <td>0.0</td>\n",
       "      <td>0.0</td>\n",
       "      <td>0.0</td>\n",
       "      <td>0.0</td>\n",
       "      <td>0</td>\n",
       "      <td>0.80</td>\n",
       "    </tr>\n",
       "    <tr>\n",
       "      <th>4</th>\n",
       "      <td>119</td>\n",
       "      <td>48</td>\n",
       "      <td>617000</td>\n",
       "      <td>400000.0</td>\n",
       "      <td>400000.0</td>\n",
       "      <td>35400.0</td>\n",
       "      <td>7911110</td>\n",
       "      <td>38493</td>\n",
       "      <td>59.09</td>\n",
       "      <td>48.0</td>\n",
       "      <td>...</td>\n",
       "      <td>0.0</td>\n",
       "      <td>0.0</td>\n",
       "      <td>0.0</td>\n",
       "      <td>0.0</td>\n",
       "      <td>0.0</td>\n",
       "      <td>0.0</td>\n",
       "      <td>0.0</td>\n",
       "      <td>0.0</td>\n",
       "      <td>0</td>\n",
       "      <td>0.85</td>\n",
       "    </tr>\n",
       "    <tr>\n",
       "      <th>...</th>\n",
       "      <td>...</td>\n",
       "      <td>...</td>\n",
       "      <td>...</td>\n",
       "      <td>...</td>\n",
       "      <td>...</td>\n",
       "      <td>...</td>\n",
       "      <td>...</td>\n",
       "      <td>...</td>\n",
       "      <td>...</td>\n",
       "      <td>...</td>\n",
       "      <td>...</td>\n",
       "      <td>...</td>\n",
       "      <td>...</td>\n",
       "      <td>...</td>\n",
       "      <td>...</td>\n",
       "      <td>...</td>\n",
       "      <td>...</td>\n",
       "      <td>...</td>\n",
       "      <td>...</td>\n",
       "      <td>...</td>\n",
       "      <td>...</td>\n",
       "    </tr>\n",
       "    <tr>\n",
       "      <th>14740</th>\n",
       "      <td>143396</td>\n",
       "      <td>35</td>\n",
       "      <td>530016</td>\n",
       "      <td>419616.0</td>\n",
       "      <td>419616.0</td>\n",
       "      <td>14723.0</td>\n",
       "      <td>4276747</td>\n",
       "      <td>22094</td>\n",
       "      <td>79.17</td>\n",
       "      <td>37.0</td>\n",
       "      <td>...</td>\n",
       "      <td>0.0</td>\n",
       "      <td>0.0</td>\n",
       "      <td>0.0</td>\n",
       "      <td>0.0</td>\n",
       "      <td>0.0</td>\n",
       "      <td>0.0</td>\n",
       "      <td>0.0</td>\n",
       "      <td>0.0</td>\n",
       "      <td>0</td>\n",
       "      <td>0.78</td>\n",
       "    </tr>\n",
       "    <tr>\n",
       "      <th>14741</th>\n",
       "      <td>143397</td>\n",
       "      <td>36</td>\n",
       "      <td>595000</td>\n",
       "      <td>446500.0</td>\n",
       "      <td>446500.0</td>\n",
       "      <td>15491.0</td>\n",
       "      <td>4746586</td>\n",
       "      <td>61196</td>\n",
       "      <td>75.04</td>\n",
       "      <td>37.0</td>\n",
       "      <td>...</td>\n",
       "      <td>0.0</td>\n",
       "      <td>0.0</td>\n",
       "      <td>0.0</td>\n",
       "      <td>0.0</td>\n",
       "      <td>0.0</td>\n",
       "      <td>0.0</td>\n",
       "      <td>0.0</td>\n",
       "      <td>0.0</td>\n",
       "      <td>0</td>\n",
       "      <td>0.83</td>\n",
       "    </tr>\n",
       "    <tr>\n",
       "      <th>14742</th>\n",
       "      <td>143398</td>\n",
       "      <td>36</td>\n",
       "      <td>595000</td>\n",
       "      <td>446500.0</td>\n",
       "      <td>446500.0</td>\n",
       "      <td>15491.0</td>\n",
       "      <td>4746588</td>\n",
       "      <td>61196</td>\n",
       "      <td>75.04</td>\n",
       "      <td>37.0</td>\n",
       "      <td>...</td>\n",
       "      <td>0.0</td>\n",
       "      <td>0.0</td>\n",
       "      <td>0.0</td>\n",
       "      <td>0.0</td>\n",
       "      <td>0.0</td>\n",
       "      <td>0.0</td>\n",
       "      <td>0.0</td>\n",
       "      <td>0.0</td>\n",
       "      <td>0</td>\n",
       "      <td>0.83</td>\n",
       "    </tr>\n",
       "    <tr>\n",
       "      <th>14743</th>\n",
       "      <td>143399</td>\n",
       "      <td>12</td>\n",
       "      <td>400000</td>\n",
       "      <td>280000.0</td>\n",
       "      <td>280000.0</td>\n",
       "      <td>25350.0</td>\n",
       "      <td>11719081</td>\n",
       "      <td>63565</td>\n",
       "      <td>70.00</td>\n",
       "      <td>37.0</td>\n",
       "      <td>...</td>\n",
       "      <td>0.0</td>\n",
       "      <td>0.0</td>\n",
       "      <td>0.0</td>\n",
       "      <td>0.0</td>\n",
       "      <td>0.0</td>\n",
       "      <td>0.0</td>\n",
       "      <td>0.0</td>\n",
       "      <td>0.0</td>\n",
       "      <td>0</td>\n",
       "      <td>0.86</td>\n",
       "    </tr>\n",
       "    <tr>\n",
       "      <th>14744</th>\n",
       "      <td>143400</td>\n",
       "      <td>12</td>\n",
       "      <td>400000</td>\n",
       "      <td>280000.0</td>\n",
       "      <td>280000.0</td>\n",
       "      <td>25350.0</td>\n",
       "      <td>11719080</td>\n",
       "      <td>63565</td>\n",
       "      <td>70.00</td>\n",
       "      <td>37.0</td>\n",
       "      <td>...</td>\n",
       "      <td>0.0</td>\n",
       "      <td>0.0</td>\n",
       "      <td>0.0</td>\n",
       "      <td>0.0</td>\n",
       "      <td>0.0</td>\n",
       "      <td>0.0</td>\n",
       "      <td>0.0</td>\n",
       "      <td>0.0</td>\n",
       "      <td>0</td>\n",
       "      <td>0.86</td>\n",
       "    </tr>\n",
       "  </tbody>\n",
       "</table>\n",
       "<p>14745 rows × 83 columns</p>\n",
       "</div>"
      ],
      "text/plain": [
       "           ID  Tenure  AssetCost  AmountFinance  DisbursalAmount      EMI  \\\n",
       "0           4      46     480000       365000.0         365000.0   1000.0   \n",
       "1           5      45     480000       285000.0         285000.0   9300.0   \n",
       "2           6      48     580000       400000.0         400000.0  35800.0   \n",
       "3          25      36     725000       500000.0         500000.0  52000.0   \n",
       "4         119      48     617000       400000.0         400000.0  35400.0   \n",
       "...       ...     ...        ...            ...              ...      ...   \n",
       "14740  143396      35     530016       419616.0         419616.0  14723.0   \n",
       "14741  143397      36     595000       446500.0         446500.0  15491.0   \n",
       "14742  143398      36     595000       446500.0         446500.0  15491.0   \n",
       "14743  143399      12     400000       280000.0         280000.0  25350.0   \n",
       "14744  143400      12     400000       280000.0         280000.0  25350.0   \n",
       "\n",
       "        AssetID  SupplierID    LTV   AGE  ...  0.0_y  1.0_y  2.0_x  3.0_x  \\\n",
       "0       3524747       22354  75.83  50.0  ...    0.0    0.0    0.0    0.0   \n",
       "1       4985862       22354  57.44  35.0  ...    0.0    0.0    0.0    0.0   \n",
       "2      12881783       65929  68.97  37.0  ...    0.0    0.0    0.0    0.0   \n",
       "3      10613776       68597  61.79  55.0  ...    0.0    0.0    0.0    0.0   \n",
       "4       7911110       38493  59.09  48.0  ...    0.0    0.0    0.0    0.0   \n",
       "...         ...         ...    ...   ...  ...    ...    ...    ...    ...   \n",
       "14740   4276747       22094  79.17  37.0  ...    0.0    0.0    0.0    0.0   \n",
       "14741   4746586       61196  75.04  37.0  ...    0.0    0.0    0.0    0.0   \n",
       "14742   4746588       61196  75.04  37.0  ...    0.0    0.0    0.0    0.0   \n",
       "14743  11719081       63565  70.00  37.0  ...    0.0    0.0    0.0    0.0   \n",
       "14744  11719080       63565  70.00  37.0  ...    0.0    0.0    0.0    0.0   \n",
       "\n",
       "       0.0  1.0  2.0_y  3.0_y  Label  Score  \n",
       "0      0.0  0.0    0.0    0.0      0   0.79  \n",
       "1      0.0  0.0    0.0    0.0      0   0.87  \n",
       "2      0.0  0.0    0.0    0.0      0   0.86  \n",
       "3      0.0  0.0    0.0    0.0      0   0.80  \n",
       "4      0.0  0.0    0.0    0.0      0   0.85  \n",
       "...    ...  ...    ...    ...    ...    ...  \n",
       "14740  0.0  0.0    0.0    0.0      0   0.78  \n",
       "14741  0.0  0.0    0.0    0.0      0   0.83  \n",
       "14742  0.0  0.0    0.0    0.0      0   0.83  \n",
       "14743  0.0  0.0    0.0    0.0      0   0.86  \n",
       "14744  0.0  0.0    0.0    0.0      0   0.86  \n",
       "\n",
       "[14745 rows x 83 columns]"
      ]
     },
     "execution_count": 228,
     "metadata": {},
     "output_type": "execute_result"
    }
   ],
   "source": [
    "prediction_rf"
   ]
  },
  {
   "cell_type": "code",
   "execution_count": null,
   "metadata": {
    "id": "b4V04BN9Qywx"
   },
   "outputs": [],
   "source": [
    "sub = pd.read_csv('sample_submission_ejm25Dc.csv')"
   ]
  },
  {
   "cell_type": "code",
   "execution_count": null,
   "metadata": {
    "id": "Zv_JA7uGl417"
   },
   "outputs": [],
   "source": [
    "sub.head()"
   ]
  },
  {
   "cell_type": "code",
   "execution_count": null,
   "metadata": {},
   "outputs": [],
   "source": [
    "pred_en.Label.value_counts()"
   ]
  },
  {
   "cell_type": "code",
   "execution_count": null,
   "metadata": {
    "id": "j0PgvSNrl46Q"
   },
   "outputs": [],
   "source": [
    "sub['Top-up Month'] = pred_en.Label"
   ]
  },
  {
   "cell_type": "code",
   "execution_count": null,
   "metadata": {
    "id": "6kMV2b7Hl5A8"
   },
   "outputs": [],
   "source": [
    "rev_mapping_dict = {0:'No Top-up Service', 1:'12-18 Months',2:'18-24 Months', 3:'24-30 Months', \n",
    "                4:'30-36 Months',5:'36-48 Months',6:' > 48 Months'}"
   ]
  },
  {
   "cell_type": "code",
   "execution_count": null,
   "metadata": {
    "id": "g24TuL7Wl5GJ"
   },
   "outputs": [],
   "source": [
    "sub['Top-up Month'] = sub['Top-up Month'].replace(rev_mapping_dict) "
   ]
  },
  {
   "cell_type": "code",
   "execution_count": 266,
   "metadata": {},
   "outputs": [
    {
     "data": {
      "text/plain": [
       "ID      Top-up Month     \n",
       "143400  No Top-up Service    1\n",
       "63948   No Top-up Service    1\n",
       "63946   No Top-up Service    1\n",
       "63941   No Top-up Service    1\n",
       "63940   No Top-up Service    1\n",
       "                            ..\n",
       "102820   > 48 Months         1\n",
       "102808  No Top-up Service    1\n",
       "102777  No Top-up Service    1\n",
       "102773  No Top-up Service    1\n",
       "4       No Top-up Service    1\n",
       "Length: 14745, dtype: int64"
      ]
     },
     "execution_count": 266,
     "metadata": {},
     "output_type": "execute_result"
    }
   ],
   "source": []
  },
  {
   "cell_type": "code",
   "execution_count": null,
   "metadata": {
    "id": "1sZGX2h6nLdL"
   },
   "outputs": [],
   "source": [
    "sub.to_csv('en.csv', index =False)"
   ]
  },
  {
   "cell_type": "code",
   "execution_count": null,
   "metadata": {},
   "outputs": [],
   "source": []
  }
 ],
 "metadata": {
  "colab": {
   "collapsed_sections": [],
   "include_colab_link": true,
   "name": "Copy of FeatureEngineering.ipynb",
   "provenance": []
  },
  "kernelspec": {
   "display_name": "Python 3",
   "language": "python",
   "name": "python3"
  },
  "language_info": {
   "codemirror_mode": {
    "name": "ipython",
    "version": 3
   },
   "file_extension": ".py",
   "mimetype": "text/x-python",
   "name": "python",
   "nbconvert_exporter": "python",
   "pygments_lexer": "ipython3",
   "version": "3.8.3"
  },
  "widgets": {
   "application/vnd.jupyter.widget-state+json": {
    "1ca128d235d04f7dba69b97f27e40fdf": {
     "model_module": "@jupyter-widgets/controls",
     "model_name": "DescriptionStyleModel",
     "state": {
      "_model_module": "@jupyter-widgets/controls",
      "_model_module_version": "1.5.0",
      "_model_name": "DescriptionStyleModel",
      "_view_count": null,
      "_view_module": "@jupyter-widgets/base",
      "_view_module_version": "1.2.0",
      "_view_name": "StyleView",
      "description_width": ""
     }
    },
    "45310282386847718863a188b55204b5": {
     "model_module": "@jupyter-widgets/controls",
     "model_name": "IntProgressModel",
     "state": {
      "_dom_classes": [],
      "_model_module": "@jupyter-widgets/controls",
      "_model_module_version": "1.5.0",
      "_model_name": "IntProgressModel",
      "_view_count": null,
      "_view_module": "@jupyter-widgets/controls",
      "_view_module_version": "1.5.0",
      "_view_name": "ProgressView",
      "bar_style": "",
      "description": "Processing: ",
      "description_tooltip": null,
      "layout": "IPY_MODEL_7a2c95e038544618a75e0b7d944740ab",
      "max": 3,
      "min": 0,
      "orientation": "horizontal",
      "style": "IPY_MODEL_69cd85be6ca6473680514f20af30e69f",
      "value": 3
     }
    },
    "69cd85be6ca6473680514f20af30e69f": {
     "model_module": "@jupyter-widgets/controls",
     "model_name": "ProgressStyleModel",
     "state": {
      "_model_module": "@jupyter-widgets/controls",
      "_model_module_version": "1.5.0",
      "_model_name": "ProgressStyleModel",
      "_view_count": null,
      "_view_module": "@jupyter-widgets/base",
      "_view_module_version": "1.2.0",
      "_view_name": "StyleView",
      "bar_color": null,
      "description_width": ""
     }
    },
    "7a2c95e038544618a75e0b7d944740ab": {
     "model_module": "@jupyter-widgets/base",
     "model_name": "LayoutModel",
     "state": {
      "_model_module": "@jupyter-widgets/base",
      "_model_module_version": "1.2.0",
      "_model_name": "LayoutModel",
      "_view_count": null,
      "_view_module": "@jupyter-widgets/base",
      "_view_module_version": "1.2.0",
      "_view_name": "LayoutView",
      "align_content": null,
      "align_items": null,
      "align_self": null,
      "border": null,
      "bottom": null,
      "display": null,
      "flex": null,
      "flex_flow": null,
      "grid_area": null,
      "grid_auto_columns": null,
      "grid_auto_flow": null,
      "grid_auto_rows": null,
      "grid_column": null,
      "grid_gap": null,
      "grid_row": null,
      "grid_template_areas": null,
      "grid_template_columns": null,
      "grid_template_rows": null,
      "height": null,
      "justify_content": null,
      "justify_items": null,
      "left": null,
      "margin": null,
      "max_height": null,
      "max_width": null,
      "min_height": null,
      "min_width": null,
      "object_fit": null,
      "object_position": null,
      "order": null,
      "overflow": null,
      "overflow_x": null,
      "overflow_y": null,
      "padding": null,
      "right": null,
      "top": null,
      "visibility": null,
      "width": null
     }
    },
    "8cc70aac58594e10a4629fa8f4f6da22": {
     "model_module": "@jupyter-widgets/base",
     "model_name": "LayoutModel",
     "state": {
      "_model_module": "@jupyter-widgets/base",
      "_model_module_version": "1.2.0",
      "_model_name": "LayoutModel",
      "_view_count": null,
      "_view_module": "@jupyter-widgets/base",
      "_view_module_version": "1.2.0",
      "_view_name": "LayoutView",
      "align_content": null,
      "align_items": null,
      "align_self": null,
      "border": null,
      "bottom": null,
      "display": null,
      "flex": null,
      "flex_flow": null,
      "grid_area": null,
      "grid_auto_columns": null,
      "grid_auto_flow": null,
      "grid_auto_rows": null,
      "grid_column": null,
      "grid_gap": null,
      "grid_row": null,
      "grid_template_areas": null,
      "grid_template_columns": null,
      "grid_template_rows": null,
      "height": null,
      "justify_content": null,
      "justify_items": null,
      "left": null,
      "margin": null,
      "max_height": null,
      "max_width": null,
      "min_height": null,
      "min_width": null,
      "object_fit": null,
      "object_position": null,
      "order": null,
      "overflow": null,
      "overflow_x": null,
      "overflow_y": null,
      "padding": null,
      "right": null,
      "top": null,
      "visibility": null,
      "width": "100%"
     }
    },
    "dd1810cc2c01483383d65cb882e871fe": {
     "model_module": "@jupyter-widgets/controls",
     "model_name": "TextModel",
     "state": {
      "_dom_classes": [],
      "_model_module": "@jupyter-widgets/controls",
      "_model_module_version": "1.5.0",
      "_model_name": "TextModel",
      "_view_count": null,
      "_view_module": "@jupyter-widgets/controls",
      "_view_module_version": "1.5.0",
      "_view_name": "TextView",
      "continuous_update": true,
      "description": "",
      "description_tooltip": null,
      "disabled": false,
      "layout": "IPY_MODEL_8cc70aac58594e10a4629fa8f4f6da22",
      "placeholder": "​",
      "style": "IPY_MODEL_1ca128d235d04f7dba69b97f27e40fdf",
      "value": "Following data types have been inferred automatically, if they are correct press enter to continue or type 'quit' otherwise."
     }
    }
   }
  }
 },
 "nbformat": 4,
 "nbformat_minor": 1
}
